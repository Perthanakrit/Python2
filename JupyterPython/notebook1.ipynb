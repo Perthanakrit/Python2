{
 "cells": [
  {
   "cell_type": "code",
   "execution_count": null,
   "metadata": {},
   "outputs": [],
   "source": [
    "import matplotlib.pyplot as plt\n",
    "import numpy as np"
   ]
  },
  {
   "cell_type": "code",
   "execution_count": null,
   "metadata": {},
   "outputs": [],
   "source": [
    "x_data = [1.0, 1.8, 3.0, 4.1, 5.2, 6.0]\n",
    "y_data = [1, 1.3, 2.2, 2.5, 2.8, 3.6]\n",
    "\n",
    "x = np.array(x_data)\n",
    "y = np.array(y_data)"
   ]
  },
  {
   "cell_type": "code",
   "execution_count": null,
   "metadata": {},
   "outputs": [],
   "source": [
    "x"
   ]
  },
  {
   "cell_type": "code",
   "execution_count": null,
   "metadata": {},
   "outputs": [],
   "source": [
    "y"
   ]
  },
  {
   "cell_type": "markdown",
   "metadata": {},
   "source": [
    "Data Visualization"
   ]
  },
  {
   "cell_type": "code",
   "execution_count": null,
   "metadata": {},
   "outputs": [],
   "source": [
    "plt.scatter(x, y)\n",
    "plt.grid()\n",
    "plt.show()"
   ]
  },
  {
   "cell_type": "code",
   "execution_count": null,
   "metadata": {},
   "outputs": [],
   "source": [
    "x = x.reshape(-1, 1)\n",
    "x"
   ]
  },
  {
   "cell_type": "markdown",
   "metadata": {},
   "source": [
    "Model & Train"
   ]
  },
  {
   "cell_type": "code",
   "execution_count": null,
   "metadata": {},
   "outputs": [],
   "source": [
    "from sklearn.linear_model import LinearRegression"
   ]
  },
  {
   "cell_type": "code",
   "execution_count": null,
   "metadata": {},
   "outputs": [],
   "source": [
    "model = LinearRegression()\n",
    "model.fit(x, y)"
   ]
  },
  {
   "cell_type": "markdown",
   "metadata": {},
   "source": [
    "Predict"
   ]
  },
  {
   "cell_type": "code",
   "execution_count": null,
   "metadata": {},
   "outputs": [],
   "source": [
    "new_input = 2.5\n",
    "model.predict([[new_input]])"
   ]
  },
  {
   "cell_type": "markdown",
   "metadata": {},
   "source": []
  },
  {
   "cell_type": "code",
   "execution_count": null,
   "metadata": {},
   "outputs": [],
   "source": [
    "x_input = [[2.0],\n",
    "            [2.5],\n",
    "            [3],\n",
    "            [7.0]]\n",
    "y_predict = model.predict(x_input)\n",
    "y_predict"
   ]
  },
  {
   "cell_type": "code",
   "execution_count": null,
   "metadata": {},
   "outputs": [],
   "source": [
    "y_predict[0]"
   ]
  },
  {
   "cell_type": "code",
   "execution_count": null,
   "metadata": {},
   "outputs": [],
   "source": [
    "x_input = [2.0, 2.5, 3, 7.0]\n",
    "x_input = np.array(x_input)\n",
    "x_input = x_input.reshape(-1,1)\n",
    "\n",
    "print(x_input)\n",
    "\n",
    "y_predict = model.predict(x_input)\n",
    "y_predict"
   ]
  },
  {
   "cell_type": "code",
   "execution_count": null,
   "metadata": {},
   "outputs": [],
   "source": [
    "# for y in (y_predict):\n",
    "#     print(y)\n",
    "\n",
    "for i, y in enumerate(y_predict):\n",
    "    print(f\"x = {i}, y = {y}\")"
   ]
  },
  {
   "cell_type": "code",
   "execution_count": null,
   "metadata": {},
   "outputs": [],
   "source": [
    "prd = model.predict(x)\n",
    "\n",
    "plt.grid()\n",
    "plt.scatter(x_data, y_data, color = \"b\") #ข้อมูลจริง\n",
    "\n",
    "plt.plot(x_data, prd, linewidth =\"1\") #ทำนาย\n",
    "plt.scatter(x_data, prd, color = \"r\", marker = \"s\")\n",
    "\n",
    "plt.show()\n"
   ]
  },
  {
   "cell_type": "markdown",
   "metadata": {},
   "source": []
  },
  {
   "cell_type": "markdown",
   "metadata": {},
   "source": [
    "Save Model"
   ]
  },
  {
   "cell_type": "code",
   "execution_count": null,
   "metadata": {},
   "outputs": [],
   "source": [
    "import joblib\n",
    "joblib.dump(model, \"model_predictions.pk1\")"
   ]
  },
  {
   "cell_type": "code",
   "execution_count": null,
   "metadata": {},
   "outputs": [],
   "source": [
    "print(\"hello world\")"
   ]
  },
  {
   "cell_type": "markdown",
   "metadata": {},
   "source": [
    "Connect Database\n",
    "\n",
    "export AZURE_SQL_CONNECTIONSTRING=\"Driver={ODBC Driver 18 for SQL Server};Server=tcp:redmengoresst-db.database.windows.net,1433;Database=redmengoRest_db;UID=CloudSA3cd44491;PWD=kuler4869$;Encrypt=yes;TrustServerCertificate=no;Connection Timeout=30\""
   ]
  },
  {
   "cell_type": "code",
   "execution_count": null,
   "metadata": {},
   "outputs": [],
   "source": [
    "import os\n",
    "con = os.environ[\"AZURE_SQL_CONNECTIONSTRING\"]"
   ]
  },
  {
   "cell_type": "code",
   "execution_count": null,
   "metadata": {},
   "outputs": [],
   "source": [
    "import pyodbc\n",
    "server = 'redmengoresst-db.database.windows.net'\n",
    "database = 'redmengoRest_db'\n",
    "username = 'CloudSA3cd44491'\n",
    "password = ''\n",
    "connection_str =f\"Driver={{ODBC Driver 18 for SQL Server}};Server=tcp:{server},1433;Database={database};UID={username};PWD=kuler4869$;Encrypt=yes;TrustServerCertificate=no;Connection Timeout=30\"\n",
    "conn = pyodbc.connect(connection_str)\n",
    "#conn = pyodbc.connect(f\"DRIVER={driver};Server=tcp:{server},1433;Initial Catalog={database};Persist Security Info=False;User ID=CloudSA3cd44491;Password=kulercode4869$;MultipleActiveResultSets=False;Encrypt=True;TrustServerCertificate=False;Connection Timeout=30;\")\n"
   ]
  }
 ],
 "metadata": {
  "kernelspec": {
   "display_name": "Python 3 (ipykernel)",
   "language": "python",
   "name": "python3"
  },
  "language_info": {
   "codemirror_mode": {
    "name": "ipython",
    "version": 3
   },
   "file_extension": ".py",
   "mimetype": "text/x-python",
   "name": "python",
   "nbconvert_exporter": "python",
   "pygments_lexer": "ipython3",
   "version": "3.11.4"
  }
 },
 "nbformat": 4,
 "nbformat_minor": 2
}
