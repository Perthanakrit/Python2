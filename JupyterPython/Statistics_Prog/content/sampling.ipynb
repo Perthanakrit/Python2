{
  "cells": [
    {
      "cell_type": "markdown",
      "id": "18d84b68-fc77-4ed7-8871-342883090cfd",
      "metadata": {
        "id": "18d84b68-fc77-4ed7-8871-342883090cfd"
      },
      "source": [
        "## <font color='DE1509'>การสุ่มตัวอย่าง</font>"
      ]
    },
    {
      "cell_type": "markdown",
      "id": "3bd89c66-cf39-4993-9e90-39e243d15328",
      "metadata": {
        "id": "3bd89c66-cf39-4993-9e90-39e243d15328"
      },
      "source": [
        "ในบทนี้ชุดข้อมูลที่ใช้คือ \"titanic.csv\" ซึ่งเป็นข้อมูลของผู้โดยสารเรือไททานิคมีรายละเอียดของแต่ละคอลัมน์ดังนี้:"
      ]
    },
    {
      "cell_type": "markdown",
      "id": "a1083323-83c6-4c07-9a9a-b116e885e95f",
      "metadata": {
        "id": "a1083323-83c6-4c07-9a9a-b116e885e95f"
      },
      "source": [
        "PassengerId: ID ของผู้โดยสาร\n",
        "Survived: ผู้โดยสารรอด (1) หรือเสียชีวิต (0)  \n",
        "Pclass: ชนชั้นของผู้โดยสาร first class (1), second class (2), thrid class (3)  \n",
        "Name: ชื่อ-สกุล  \n",
        "Sex: เพศ    \n",
        "Age: อายุ  \n",
        "SibSp: จำนวนพี่น้อง (siblings) และคู่สมรส (spouse) ที่เดินทางมาด้วย    \n",
        "Parch:  จำนวนบิดา-มารดา (parent) และบุตร (child) ที่เดินทางมาด้วย  \n",
        "Ticket: รหัสตั๋วโดยสาร  \n",
        "Fare: ค่าตั๋วโดยสาร  \n",
        "Cabin: รหัสห้องผู้โดยสาร  \n",
        "Embarked: ท่าเรือต้นทาง Southampton (S), Cherbourg (C), และ Queenstown (Q)  \n"
      ]
    },
    {
      "cell_type": "markdown",
      "id": "a77d1e5a-4844-4eb3-8194-a7761f954c80",
      "metadata": {
        "id": "a77d1e5a-4844-4eb3-8194-a7761f954c80"
      },
      "source": [
        "\\*\\*วิธีการต่างๆที่แสดงในบทเรียนนี้เป็นเพียงแค่การยกตัวอย่างเท่านั้น ในการนำไปใช้จริงประชากรควรมีจำนวนมากกว่าชุดข้อมูลที่นำมาเป็นตัวอย่างนี้"
      ]
    },
    {
      "cell_type": "markdown",
      "id": "4e6f3ec3-da0a-4511-96ef-8dd49453f48f",
      "metadata": {
        "id": "4e6f3ec3-da0a-4511-96ef-8dd49453f48f"
      },
      "source": [
        "\\\n",
        "ทำการ import library ที่ต้องใช้:"
      ]
    },
    {
      "cell_type": "code",
      "execution_count": 1,
      "id": "b4695545-8a56-4365-9d91-8a51e4ad8772",
      "metadata": {
        "id": "b4695545-8a56-4365-9d91-8a51e4ad8772"
      },
      "outputs": [],
      "source": [
        "import numpy as np #สำหรับการจัดการข้อมูลที่เป็นตัวเลขต่างๆ\n",
        "import pandas as pd #สำหรับอ่านข้อมูลให้อยู่ในรูปแบบ dataframe\n",
        "import matplotlib.pyplot as plt #เพื่อใช้ควบคู่กับ seaborn ในการทำ data visualization\n",
        "import seaborn as sns #สำหรับการทำ data visualization"
      ]
    },
    {
      "cell_type": "markdown",
      "id": "03a651b4-3257-4a31-a839-fad04f2787b8",
      "metadata": {
        "id": "03a651b4-3257-4a31-a839-fad04f2787b8"
      },
      "source": [
        "\\\n",
        "อ่านข้อมูลจากไฟล์ให้อยู่ในรูปแบบ dataframe และแสดงข้อมูล 5 แถวแรก:"
      ]
    },
    {
      "cell_type": "code",
      "execution_count": 2,
      "id": "13269281-daff-423e-b5f7-03a2b2eda0af",
      "metadata": {
        "colab": {
          "base_uri": "https://localhost:8080/",
          "height": 206
        },
        "id": "13269281-daff-423e-b5f7-03a2b2eda0af",
        "outputId": "47d8058c-24f1-49f6-8c19-58212e4ed97e"
      },
      "outputs": [
        {
          "data": {
            "text/html": [
              "<div>\n",
              "<style scoped>\n",
              "    .dataframe tbody tr th:only-of-type {\n",
              "        vertical-align: middle;\n",
              "    }\n",
              "\n",
              "    .dataframe tbody tr th {\n",
              "        vertical-align: top;\n",
              "    }\n",
              "\n",
              "    .dataframe thead th {\n",
              "        text-align: right;\n",
              "    }\n",
              "</style>\n",
              "<table border=\"1\" class=\"dataframe\">\n",
              "  <thead>\n",
              "    <tr style=\"text-align: right;\">\n",
              "      <th></th>\n",
              "      <th>PassengerId</th>\n",
              "      <th>Survived</th>\n",
              "      <th>Pclass</th>\n",
              "      <th>Name</th>\n",
              "      <th>Sex</th>\n",
              "      <th>Age</th>\n",
              "      <th>SibSp</th>\n",
              "      <th>Parch</th>\n",
              "      <th>Ticket</th>\n",
              "      <th>Fare</th>\n",
              "      <th>Cabin</th>\n",
              "      <th>Embarked</th>\n",
              "    </tr>\n",
              "  </thead>\n",
              "  <tbody>\n",
              "    <tr>\n",
              "      <th>0</th>\n",
              "      <td>1</td>\n",
              "      <td>0</td>\n",
              "      <td>3</td>\n",
              "      <td>Braund, Mr. Owen Harris</td>\n",
              "      <td>male</td>\n",
              "      <td>22.0</td>\n",
              "      <td>1</td>\n",
              "      <td>0</td>\n",
              "      <td>A/5 21171</td>\n",
              "      <td>7.2500</td>\n",
              "      <td>NaN</td>\n",
              "      <td>S</td>\n",
              "    </tr>\n",
              "    <tr>\n",
              "      <th>1</th>\n",
              "      <td>2</td>\n",
              "      <td>1</td>\n",
              "      <td>1</td>\n",
              "      <td>Cumings, Mrs. John Bradley (Florence Briggs Th...</td>\n",
              "      <td>female</td>\n",
              "      <td>38.0</td>\n",
              "      <td>1</td>\n",
              "      <td>0</td>\n",
              "      <td>PC 17599</td>\n",
              "      <td>71.2833</td>\n",
              "      <td>C85</td>\n",
              "      <td>C</td>\n",
              "    </tr>\n",
              "    <tr>\n",
              "      <th>2</th>\n",
              "      <td>3</td>\n",
              "      <td>1</td>\n",
              "      <td>3</td>\n",
              "      <td>Heikkinen, Miss. Laina</td>\n",
              "      <td>female</td>\n",
              "      <td>26.0</td>\n",
              "      <td>0</td>\n",
              "      <td>0</td>\n",
              "      <td>STON/O2. 3101282</td>\n",
              "      <td>7.9250</td>\n",
              "      <td>NaN</td>\n",
              "      <td>S</td>\n",
              "    </tr>\n",
              "    <tr>\n",
              "      <th>3</th>\n",
              "      <td>4</td>\n",
              "      <td>1</td>\n",
              "      <td>1</td>\n",
              "      <td>Futrelle, Mrs. Jacques Heath (Lily May Peel)</td>\n",
              "      <td>female</td>\n",
              "      <td>35.0</td>\n",
              "      <td>1</td>\n",
              "      <td>0</td>\n",
              "      <td>113803</td>\n",
              "      <td>53.1000</td>\n",
              "      <td>C123</td>\n",
              "      <td>S</td>\n",
              "    </tr>\n",
              "    <tr>\n",
              "      <th>4</th>\n",
              "      <td>5</td>\n",
              "      <td>0</td>\n",
              "      <td>3</td>\n",
              "      <td>Allen, Mr. William Henry</td>\n",
              "      <td>male</td>\n",
              "      <td>35.0</td>\n",
              "      <td>0</td>\n",
              "      <td>0</td>\n",
              "      <td>373450</td>\n",
              "      <td>8.0500</td>\n",
              "      <td>NaN</td>\n",
              "      <td>S</td>\n",
              "    </tr>\n",
              "  </tbody>\n",
              "</table>\n",
              "</div>"
            ],
            "text/plain": [
              "   PassengerId  Survived  Pclass  \\\n",
              "0            1         0       3   \n",
              "1            2         1       1   \n",
              "2            3         1       3   \n",
              "3            4         1       1   \n",
              "4            5         0       3   \n",
              "\n",
              "                                                Name     Sex   Age  SibSp  \\\n",
              "0                            Braund, Mr. Owen Harris    male  22.0      1   \n",
              "1  Cumings, Mrs. John Bradley (Florence Briggs Th...  female  38.0      1   \n",
              "2                             Heikkinen, Miss. Laina  female  26.0      0   \n",
              "3       Futrelle, Mrs. Jacques Heath (Lily May Peel)  female  35.0      1   \n",
              "4                           Allen, Mr. William Henry    male  35.0      0   \n",
              "\n",
              "   Parch            Ticket     Fare Cabin Embarked  \n",
              "0      0         A/5 21171   7.2500   NaN        S  \n",
              "1      0          PC 17599  71.2833   C85        C  \n",
              "2      0  STON/O2. 3101282   7.9250   NaN        S  \n",
              "3      0            113803  53.1000  C123        S  \n",
              "4      0            373450   8.0500   NaN        S  "
            ]
          },
          "execution_count": 2,
          "metadata": {},
          "output_type": "execute_result"
        }
      ],
      "source": [
        "df = pd.read_csv(\"https://raw.githubusercontent.com/ThammakornS/ProgStat/main/dataset/titanic.csv\")\n",
        "df.head()"
      ]
    },
    {
      "cell_type": "markdown",
      "id": "1ba71f2a-c5c7-43a9-b1eb-abf429bcd09c",
      "metadata": {
        "id": "1ba71f2a-c5c7-43a9-b1eb-abf429bcd09c"
      },
      "source": [
        "\\\n",
        "ดูภาพรวมข้อมูลเบื้องต้น:"
      ]
    },
    {
      "cell_type": "code",
      "execution_count": 3,
      "id": "6bc16086-8170-4e5c-a93c-5825c06f6c6c",
      "metadata": {
        "colab": {
          "base_uri": "https://localhost:8080/"
        },
        "id": "6bc16086-8170-4e5c-a93c-5825c06f6c6c",
        "outputId": "9659c50a-4327-4e0d-badb-41f15a274e06"
      },
      "outputs": [
        {
          "name": "stdout",
          "output_type": "stream",
          "text": [
            "<class 'pandas.core.frame.DataFrame'>\n",
            "RangeIndex: 891 entries, 0 to 890\n",
            "Data columns (total 12 columns):\n",
            " #   Column       Non-Null Count  Dtype  \n",
            "---  ------       --------------  -----  \n",
            " 0   PassengerId  891 non-null    int64  \n",
            " 1   Survived     891 non-null    int64  \n",
            " 2   Pclass       891 non-null    int64  \n",
            " 3   Name         891 non-null    object \n",
            " 4   Sex          891 non-null    object \n",
            " 5   Age          714 non-null    float64\n",
            " 6   SibSp        891 non-null    int64  \n",
            " 7   Parch        891 non-null    int64  \n",
            " 8   Ticket       891 non-null    object \n",
            " 9   Fare         891 non-null    float64\n",
            " 10  Cabin        204 non-null    object \n",
            " 11  Embarked     889 non-null    object \n",
            "dtypes: float64(2), int64(5), object(5)\n",
            "memory usage: 83.7+ KB\n"
          ]
        }
      ],
      "source": [
        "df.info()"
      ]
    },
    {
      "cell_type": "markdown",
      "id": "13b2214d-c531-4c2e-8876-8597f160c324",
      "metadata": {
        "id": "13b2214d-c531-4c2e-8876-8597f160c324"
      },
      "source": [
        "\\\n",
        "เนื่องจากในบทนี้จะใช้ข้อมูลอายุเป็นหลัก จึงต้องกรองให้มีเฉพาะผู้โดยสารที่มีข้อมูลอายุเท่านั้น:"
      ]
    },
    {
      "cell_type": "code",
      "execution_count": 4,
      "id": "c0e7ec85-d77f-41f6-83ef-5e4a884d5d65",
      "metadata": {
        "colab": {
          "base_uri": "https://localhost:8080/"
        },
        "id": "c0e7ec85-d77f-41f6-83ef-5e4a884d5d65",
        "outputId": "e047fc46-aaf8-4a83-98ed-db2144333555"
      },
      "outputs": [
        {
          "name": "stdout",
          "output_type": "stream",
          "text": [
            "<class 'pandas.core.frame.DataFrame'>\n",
            "Int64Index: 714 entries, 0 to 890\n",
            "Data columns (total 12 columns):\n",
            " #   Column       Non-Null Count  Dtype  \n",
            "---  ------       --------------  -----  \n",
            " 0   PassengerId  714 non-null    int64  \n",
            " 1   Survived     714 non-null    int64  \n",
            " 2   Pclass       714 non-null    int64  \n",
            " 3   Name         714 non-null    object \n",
            " 4   Sex          714 non-null    object \n",
            " 5   Age          714 non-null    float64\n",
            " 6   SibSp        714 non-null    int64  \n",
            " 7   Parch        714 non-null    int64  \n",
            " 8   Ticket       714 non-null    object \n",
            " 9   Fare         714 non-null    float64\n",
            " 10  Cabin        185 non-null    object \n",
            " 11  Embarked     712 non-null    object \n",
            "dtypes: float64(2), int64(5), object(5)\n",
            "memory usage: 72.5+ KB\n"
          ]
        }
      ],
      "source": [
        "df = df[df.Age.notnull()]\n",
        "df.info()"
      ]
    },
    {
      "cell_type": "markdown",
      "id": "fbe0fa52-eb77-4da3-87c1-0226e8cdaacb",
      "metadata": {
        "id": "fbe0fa52-eb77-4da3-87c1-0226e8cdaacb"
      },
      "source": [
        "####   \n",
        "#### 1. เลือกตัวอย่างขนาด n = 100 โดยใช้การสุ่มตัวอย่างแบบง่าย (simple random sampling)"
      ]
    },
    {
      "cell_type": "code",
      "execution_count": 7,
      "id": "d559b256-b3ab-4048-b678-94fcdd6c2933",
      "metadata": {
        "colab": {
          "base_uri": "https://localhost:8080/",
          "height": 206
        },
        "id": "d559b256-b3ab-4048-b678-94fcdd6c2933",
        "outputId": "245c9dce-5f7c-40f5-8665-9762c09e57a4"
      },
      "outputs": [
        {
          "data": {
            "text/html": [
              "<div>\n",
              "<style scoped>\n",
              "    .dataframe tbody tr th:only-of-type {\n",
              "        vertical-align: middle;\n",
              "    }\n",
              "\n",
              "    .dataframe tbody tr th {\n",
              "        vertical-align: top;\n",
              "    }\n",
              "\n",
              "    .dataframe thead th {\n",
              "        text-align: right;\n",
              "    }\n",
              "</style>\n",
              "<table border=\"1\" class=\"dataframe\">\n",
              "  <thead>\n",
              "    <tr style=\"text-align: right;\">\n",
              "      <th></th>\n",
              "      <th>PassengerId</th>\n",
              "      <th>Survived</th>\n",
              "      <th>Pclass</th>\n",
              "      <th>Name</th>\n",
              "      <th>Sex</th>\n",
              "      <th>Age</th>\n",
              "      <th>SibSp</th>\n",
              "      <th>Parch</th>\n",
              "      <th>Ticket</th>\n",
              "      <th>Fare</th>\n",
              "      <th>Cabin</th>\n",
              "      <th>Embarked</th>\n",
              "    </tr>\n",
              "  </thead>\n",
              "  <tbody>\n",
              "    <tr>\n",
              "      <th>412</th>\n",
              "      <td>413</td>\n",
              "      <td>1</td>\n",
              "      <td>1</td>\n",
              "      <td>Minahan, Miss. Daisy E</td>\n",
              "      <td>female</td>\n",
              "      <td>33.0</td>\n",
              "      <td>1</td>\n",
              "      <td>0</td>\n",
              "      <td>19928</td>\n",
              "      <td>90.0000</td>\n",
              "      <td>C78</td>\n",
              "      <td>Q</td>\n",
              "    </tr>\n",
              "    <tr>\n",
              "      <th>177</th>\n",
              "      <td>178</td>\n",
              "      <td>0</td>\n",
              "      <td>1</td>\n",
              "      <td>Isham, Miss. Ann Elizabeth</td>\n",
              "      <td>female</td>\n",
              "      <td>50.0</td>\n",
              "      <td>0</td>\n",
              "      <td>0</td>\n",
              "      <td>PC 17595</td>\n",
              "      <td>28.7125</td>\n",
              "      <td>C49</td>\n",
              "      <td>C</td>\n",
              "    </tr>\n",
              "    <tr>\n",
              "      <th>1</th>\n",
              "      <td>2</td>\n",
              "      <td>1</td>\n",
              "      <td>1</td>\n",
              "      <td>Cumings, Mrs. John Bradley (Florence Briggs Th...</td>\n",
              "      <td>female</td>\n",
              "      <td>38.0</td>\n",
              "      <td>1</td>\n",
              "      <td>0</td>\n",
              "      <td>PC 17599</td>\n",
              "      <td>71.2833</td>\n",
              "      <td>C85</td>\n",
              "      <td>C</td>\n",
              "    </tr>\n",
              "    <tr>\n",
              "      <th>59</th>\n",
              "      <td>60</td>\n",
              "      <td>0</td>\n",
              "      <td>3</td>\n",
              "      <td>Goodwin, Master. William Frederick</td>\n",
              "      <td>male</td>\n",
              "      <td>11.0</td>\n",
              "      <td>5</td>\n",
              "      <td>2</td>\n",
              "      <td>CA 2144</td>\n",
              "      <td>46.9000</td>\n",
              "      <td>NaN</td>\n",
              "      <td>S</td>\n",
              "    </tr>\n",
              "    <tr>\n",
              "      <th>684</th>\n",
              "      <td>685</td>\n",
              "      <td>0</td>\n",
              "      <td>2</td>\n",
              "      <td>Brown, Mr. Thomas William Solomon</td>\n",
              "      <td>male</td>\n",
              "      <td>60.0</td>\n",
              "      <td>1</td>\n",
              "      <td>1</td>\n",
              "      <td>29750</td>\n",
              "      <td>39.0000</td>\n",
              "      <td>NaN</td>\n",
              "      <td>S</td>\n",
              "    </tr>\n",
              "  </tbody>\n",
              "</table>\n",
              "</div>"
            ],
            "text/plain": [
              "     PassengerId  Survived  Pclass  \\\n",
              "412          413         1       1   \n",
              "177          178         0       1   \n",
              "1              2         1       1   \n",
              "59            60         0       3   \n",
              "684          685         0       2   \n",
              "\n",
              "                                                  Name     Sex   Age  SibSp  \\\n",
              "412                             Minahan, Miss. Daisy E  female  33.0      1   \n",
              "177                         Isham, Miss. Ann Elizabeth  female  50.0      0   \n",
              "1    Cumings, Mrs. John Bradley (Florence Briggs Th...  female  38.0      1   \n",
              "59                  Goodwin, Master. William Frederick    male  11.0      5   \n",
              "684                  Brown, Mr. Thomas William Solomon    male  60.0      1   \n",
              "\n",
              "     Parch    Ticket     Fare Cabin Embarked  \n",
              "412      0     19928  90.0000   C78        Q  \n",
              "177      0  PC 17595  28.7125   C49        C  \n",
              "1        0  PC 17599  71.2833   C85        C  \n",
              "59       2   CA 2144  46.9000   NaN        S  \n",
              "684      1     29750  39.0000   NaN        S  "
            ]
          },
          "execution_count": 7,
          "metadata": {},
          "output_type": "execute_result"
        }
      ],
      "source": [
        "sample_simple_rand = df.sample(n=150)\n",
        "sample_simple_rand.head()"
      ]
    },
    {
      "cell_type": "markdown",
      "id": "659345b5-3069-4155-8b70-931343757b6a",
      "metadata": {
        "id": "659345b5-3069-4155-8b70-931343757b6a"
      },
      "source": [
        "\\\n",
        "หาค่าเฉลี่ยอายุจากตัวอย่างที่ได้:"
      ]
    },
    {
      "cell_type": "code",
      "execution_count": 11,
      "id": "0b717b0e-f3b7-4330-b532-594d42c3ccb8",
      "metadata": {
        "colab": {
          "base_uri": "https://localhost:8080/"
        },
        "id": "0b717b0e-f3b7-4330-b532-594d42c3ccb8",
        "outputId": "6ef4846b-a4dc-4277-ae55-9d3385e5801d"
      },
      "outputs": [
        {
          "name": "stdout",
          "output_type": "stream",
          "text": [
            "<class 'pandas.core.series.Series'>\n"
          ]
        },
        {
          "data": {
            "text/plain": [
              "30.823333333333334"
            ]
          },
          "execution_count": 11,
          "metadata": {},
          "output_type": "execute_result"
        }
      ],
      "source": [
        "print(type(sample_simple_rand['Age']))\n",
        "sample_simple_rand['Age'].mean()"
      ]
    },
    {
      "cell_type": "code",
      "execution_count": 10,
      "id": "ac766dfe-5221-4abf-98e5-50fd5038a192",
      "metadata": {
        "colab": {
          "base_uri": "https://localhost:8080/",
          "height": 35
        },
        "id": "ac766dfe-5221-4abf-98e5-50fd5038a192",
        "outputId": "bef88f50-befe-4bd7-bf83-f3622c298865"
      },
      "outputs": [
        {
          "data": {
            "text/plain": [
              "'ค่าเฉลี่ยอายุตัวอย่าง =  30.82 ±  14.64'"
            ]
          },
          "execution_count": 10,
          "metadata": {},
          "output_type": "execute_result"
        }
      ],
      "source": [
        "f\"ค่าเฉลี่ยอายุตัวอย่าง = {sample_simple_rand.Age.mean(): .2f} ± {sample_simple_rand.Age.std(): .2f}\""
      ]
    },
    {
      "cell_type": "markdown",
      "id": "9194cd0c-9afe-4958-a0c6-80e2f94f5e73",
      "metadata": {
        "id": "9194cd0c-9afe-4958-a0c6-80e2f94f5e73"
      },
      "source": [
        "\\\n",
        "ค่าเฉลี่ยอายุของประชากร:"
      ]
    },
    {
      "cell_type": "code",
      "execution_count": null,
      "id": "33124109-5160-492d-8fa6-b1016d447b44",
      "metadata": {
        "id": "33124109-5160-492d-8fa6-b1016d447b44"
      },
      "outputs": [],
      "source": [
        "df.Age.mean()"
      ]
    },
    {
      "cell_type": "code",
      "execution_count": null,
      "id": "900a47d2-6891-4f08-a9ee-3c5dd866d335",
      "metadata": {
        "colab": {
          "base_uri": "https://localhost:8080/",
          "height": 35
        },
        "id": "900a47d2-6891-4f08-a9ee-3c5dd866d335",
        "outputId": "9e2edc53-77a3-4346-f4c0-8ac4c4baaf10"
      },
      "outputs": [
        {
          "data": {
            "application/vnd.google.colaboratory.intrinsic+json": {
              "type": "string"
            },
            "text/plain": [
              "'ค่าเฉลี่ยอายุประชากร =  29.70 ±  14.53'"
            ]
          },
          "execution_count": 15,
          "metadata": {},
          "output_type": "execute_result"
        }
      ],
      "source": [
        "f\"ค่าเฉลี่ยอายุประชากร = {df.Age.mean(): .2f} ± {df.Age.std(): .2f}\""
      ]
    },
    {
      "cell_type": "markdown",
      "id": "af8782f5-de39-4b8c-9553-7be4445a2ef3",
      "metadata": {
        "id": "af8782f5-de39-4b8c-9553-7be4445a2ef3"
      },
      "source": [
        "\\\n",
        "การกำหนดเลขสุ่มเพื่อให้สามารถทำการทดลองซ้ำได้"
      ]
    },
    {
      "cell_type": "code",
      "execution_count": null,
      "id": "14e84744-71db-4581-8a45-24394ff10328",
      "metadata": {
        "id": "14e84744-71db-4581-8a45-24394ff10328"
      },
      "outputs": [],
      "source": [
        "sample_simple_rand = df.sample(n=100, random_state=123)"
      ]
    },
    {
      "cell_type": "code",
      "execution_count": null,
      "id": "415a7dd7-9ab6-4510-a398-8c896819bce7",
      "metadata": {
        "colab": {
          "base_uri": "https://localhost:8080/",
          "height": 206
        },
        "id": "415a7dd7-9ab6-4510-a398-8c896819bce7",
        "outputId": "7af18d6a-56e9-4b38-a315-6bb72afd8912"
      },
      "outputs": [
        {
          "data": {
            "text/html": [
              "\n",
              "  <div id=\"df-aeb8c132-97a9-4e2e-a47d-7467281fd594\" class=\"colab-df-container\">\n",
              "    <div>\n",
              "<style scoped>\n",
              "    .dataframe tbody tr th:only-of-type {\n",
              "        vertical-align: middle;\n",
              "    }\n",
              "\n",
              "    .dataframe tbody tr th {\n",
              "        vertical-align: top;\n",
              "    }\n",
              "\n",
              "    .dataframe thead th {\n",
              "        text-align: right;\n",
              "    }\n",
              "</style>\n",
              "<table border=\"1\" class=\"dataframe\">\n",
              "  <thead>\n",
              "    <tr style=\"text-align: right;\">\n",
              "      <th></th>\n",
              "      <th>PassengerId</th>\n",
              "      <th>Survived</th>\n",
              "      <th>Pclass</th>\n",
              "      <th>Name</th>\n",
              "      <th>Sex</th>\n",
              "      <th>Age</th>\n",
              "      <th>SibSp</th>\n",
              "      <th>Parch</th>\n",
              "      <th>Ticket</th>\n",
              "      <th>Fare</th>\n",
              "      <th>Cabin</th>\n",
              "      <th>Embarked</th>\n",
              "    </tr>\n",
              "  </thead>\n",
              "  <tbody>\n",
              "    <tr>\n",
              "      <th>651</th>\n",
              "      <td>652</td>\n",
              "      <td>1</td>\n",
              "      <td>2</td>\n",
              "      <td>Doling, Miss. Elsie</td>\n",
              "      <td>female</td>\n",
              "      <td>18.0</td>\n",
              "      <td>0</td>\n",
              "      <td>1</td>\n",
              "      <td>231919</td>\n",
              "      <td>23.0000</td>\n",
              "      <td>NaN</td>\n",
              "      <td>S</td>\n",
              "    </tr>\n",
              "    <tr>\n",
              "      <th>694</th>\n",
              "      <td>695</td>\n",
              "      <td>0</td>\n",
              "      <td>1</td>\n",
              "      <td>Weir, Col. John</td>\n",
              "      <td>male</td>\n",
              "      <td>60.0</td>\n",
              "      <td>0</td>\n",
              "      <td>0</td>\n",
              "      <td>113800</td>\n",
              "      <td>26.5500</td>\n",
              "      <td>NaN</td>\n",
              "      <td>S</td>\n",
              "    </tr>\n",
              "    <tr>\n",
              "      <th>797</th>\n",
              "      <td>798</td>\n",
              "      <td>1</td>\n",
              "      <td>3</td>\n",
              "      <td>Osman, Mrs. Mara</td>\n",
              "      <td>female</td>\n",
              "      <td>31.0</td>\n",
              "      <td>0</td>\n",
              "      <td>0</td>\n",
              "      <td>349244</td>\n",
              "      <td>8.6833</td>\n",
              "      <td>NaN</td>\n",
              "      <td>S</td>\n",
              "    </tr>\n",
              "    <tr>\n",
              "      <th>875</th>\n",
              "      <td>876</td>\n",
              "      <td>1</td>\n",
              "      <td>3</td>\n",
              "      <td>Najib, Miss. Adele Kiamie \"Jane\"</td>\n",
              "      <td>female</td>\n",
              "      <td>15.0</td>\n",
              "      <td>0</td>\n",
              "      <td>0</td>\n",
              "      <td>2667</td>\n",
              "      <td>7.2250</td>\n",
              "      <td>NaN</td>\n",
              "      <td>C</td>\n",
              "    </tr>\n",
              "    <tr>\n",
              "      <th>505</th>\n",
              "      <td>506</td>\n",
              "      <td>0</td>\n",
              "      <td>1</td>\n",
              "      <td>Penasco y Castellana, Mr. Victor de Satode</td>\n",
              "      <td>male</td>\n",
              "      <td>18.0</td>\n",
              "      <td>1</td>\n",
              "      <td>0</td>\n",
              "      <td>PC 17758</td>\n",
              "      <td>108.9000</td>\n",
              "      <td>C65</td>\n",
              "      <td>C</td>\n",
              "    </tr>\n",
              "  </tbody>\n",
              "</table>\n",
              "</div>\n",
              "    <div class=\"colab-df-buttons\">\n",
              "\n",
              "  <div class=\"colab-df-container\">\n",
              "    <button class=\"colab-df-convert\" onclick=\"convertToInteractive('df-aeb8c132-97a9-4e2e-a47d-7467281fd594')\"\n",
              "            title=\"Convert this dataframe to an interactive table.\"\n",
              "            style=\"display:none;\">\n",
              "\n",
              "  <svg xmlns=\"http://www.w3.org/2000/svg\" height=\"24px\" viewBox=\"0 -960 960 960\">\n",
              "    <path d=\"M120-120v-720h720v720H120Zm60-500h600v-160H180v160Zm220 220h160v-160H400v160Zm0 220h160v-160H400v160ZM180-400h160v-160H180v160Zm440 0h160v-160H620v160ZM180-180h160v-160H180v160Zm440 0h160v-160H620v160Z\"/>\n",
              "  </svg>\n",
              "    </button>\n",
              "\n",
              "  <style>\n",
              "    .colab-df-container {\n",
              "      display:flex;\n",
              "      gap: 12px;\n",
              "    }\n",
              "\n",
              "    .colab-df-convert {\n",
              "      background-color: #E8F0FE;\n",
              "      border: none;\n",
              "      border-radius: 50%;\n",
              "      cursor: pointer;\n",
              "      display: none;\n",
              "      fill: #1967D2;\n",
              "      height: 32px;\n",
              "      padding: 0 0 0 0;\n",
              "      width: 32px;\n",
              "    }\n",
              "\n",
              "    .colab-df-convert:hover {\n",
              "      background-color: #E2EBFA;\n",
              "      box-shadow: 0px 1px 2px rgba(60, 64, 67, 0.3), 0px 1px 3px 1px rgba(60, 64, 67, 0.15);\n",
              "      fill: #174EA6;\n",
              "    }\n",
              "\n",
              "    .colab-df-buttons div {\n",
              "      margin-bottom: 4px;\n",
              "    }\n",
              "\n",
              "    [theme=dark] .colab-df-convert {\n",
              "      background-color: #3B4455;\n",
              "      fill: #D2E3FC;\n",
              "    }\n",
              "\n",
              "    [theme=dark] .colab-df-convert:hover {\n",
              "      background-color: #434B5C;\n",
              "      box-shadow: 0px 1px 3px 1px rgba(0, 0, 0, 0.15);\n",
              "      filter: drop-shadow(0px 1px 2px rgba(0, 0, 0, 0.3));\n",
              "      fill: #FFFFFF;\n",
              "    }\n",
              "  </style>\n",
              "\n",
              "    <script>\n",
              "      const buttonEl =\n",
              "        document.querySelector('#df-aeb8c132-97a9-4e2e-a47d-7467281fd594 button.colab-df-convert');\n",
              "      buttonEl.style.display =\n",
              "        google.colab.kernel.accessAllowed ? 'block' : 'none';\n",
              "\n",
              "      async function convertToInteractive(key) {\n",
              "        const element = document.querySelector('#df-aeb8c132-97a9-4e2e-a47d-7467281fd594');\n",
              "        const dataTable =\n",
              "          await google.colab.kernel.invokeFunction('convertToInteractive',\n",
              "                                                    [key], {});\n",
              "        if (!dataTable) return;\n",
              "\n",
              "        const docLinkHtml = 'Like what you see? Visit the ' +\n",
              "          '<a target=\"_blank\" href=https://colab.research.google.com/notebooks/data_table.ipynb>data table notebook</a>'\n",
              "          + ' to learn more about interactive tables.';\n",
              "        element.innerHTML = '';\n",
              "        dataTable['output_type'] = 'display_data';\n",
              "        await google.colab.output.renderOutput(dataTable, element);\n",
              "        const docLink = document.createElement('div');\n",
              "        docLink.innerHTML = docLinkHtml;\n",
              "        element.appendChild(docLink);\n",
              "      }\n",
              "    </script>\n",
              "  </div>\n",
              "\n",
              "\n",
              "<div id=\"df-901b0eab-bbeb-4cda-b2f3-bc87e2899258\">\n",
              "  <button class=\"colab-df-quickchart\" onclick=\"quickchart('df-901b0eab-bbeb-4cda-b2f3-bc87e2899258')\"\n",
              "            title=\"Suggest charts\"\n",
              "            style=\"display:none;\">\n",
              "\n",
              "<svg xmlns=\"http://www.w3.org/2000/svg\" height=\"24px\"viewBox=\"0 0 24 24\"\n",
              "     width=\"24px\">\n",
              "    <g>\n",
              "        <path d=\"M19 3H5c-1.1 0-2 .9-2 2v14c0 1.1.9 2 2 2h14c1.1 0 2-.9 2-2V5c0-1.1-.9-2-2-2zM9 17H7v-7h2v7zm4 0h-2V7h2v10zm4 0h-2v-4h2v4z\"/>\n",
              "    </g>\n",
              "</svg>\n",
              "  </button>\n",
              "\n",
              "<style>\n",
              "  .colab-df-quickchart {\n",
              "      --bg-color: #E8F0FE;\n",
              "      --fill-color: #1967D2;\n",
              "      --hover-bg-color: #E2EBFA;\n",
              "      --hover-fill-color: #174EA6;\n",
              "      --disabled-fill-color: #AAA;\n",
              "      --disabled-bg-color: #DDD;\n",
              "  }\n",
              "\n",
              "  [theme=dark] .colab-df-quickchart {\n",
              "      --bg-color: #3B4455;\n",
              "      --fill-color: #D2E3FC;\n",
              "      --hover-bg-color: #434B5C;\n",
              "      --hover-fill-color: #FFFFFF;\n",
              "      --disabled-bg-color: #3B4455;\n",
              "      --disabled-fill-color: #666;\n",
              "  }\n",
              "\n",
              "  .colab-df-quickchart {\n",
              "    background-color: var(--bg-color);\n",
              "    border: none;\n",
              "    border-radius: 50%;\n",
              "    cursor: pointer;\n",
              "    display: none;\n",
              "    fill: var(--fill-color);\n",
              "    height: 32px;\n",
              "    padding: 0;\n",
              "    width: 32px;\n",
              "  }\n",
              "\n",
              "  .colab-df-quickchart:hover {\n",
              "    background-color: var(--hover-bg-color);\n",
              "    box-shadow: 0 1px 2px rgba(60, 64, 67, 0.3), 0 1px 3px 1px rgba(60, 64, 67, 0.15);\n",
              "    fill: var(--button-hover-fill-color);\n",
              "  }\n",
              "\n",
              "  .colab-df-quickchart-complete:disabled,\n",
              "  .colab-df-quickchart-complete:disabled:hover {\n",
              "    background-color: var(--disabled-bg-color);\n",
              "    fill: var(--disabled-fill-color);\n",
              "    box-shadow: none;\n",
              "  }\n",
              "\n",
              "  .colab-df-spinner {\n",
              "    border: 2px solid var(--fill-color);\n",
              "    border-color: transparent;\n",
              "    border-bottom-color: var(--fill-color);\n",
              "    animation:\n",
              "      spin 1s steps(1) infinite;\n",
              "  }\n",
              "\n",
              "  @keyframes spin {\n",
              "    0% {\n",
              "      border-color: transparent;\n",
              "      border-bottom-color: var(--fill-color);\n",
              "      border-left-color: var(--fill-color);\n",
              "    }\n",
              "    20% {\n",
              "      border-color: transparent;\n",
              "      border-left-color: var(--fill-color);\n",
              "      border-top-color: var(--fill-color);\n",
              "    }\n",
              "    30% {\n",
              "      border-color: transparent;\n",
              "      border-left-color: var(--fill-color);\n",
              "      border-top-color: var(--fill-color);\n",
              "      border-right-color: var(--fill-color);\n",
              "    }\n",
              "    40% {\n",
              "      border-color: transparent;\n",
              "      border-right-color: var(--fill-color);\n",
              "      border-top-color: var(--fill-color);\n",
              "    }\n",
              "    60% {\n",
              "      border-color: transparent;\n",
              "      border-right-color: var(--fill-color);\n",
              "    }\n",
              "    80% {\n",
              "      border-color: transparent;\n",
              "      border-right-color: var(--fill-color);\n",
              "      border-bottom-color: var(--fill-color);\n",
              "    }\n",
              "    90% {\n",
              "      border-color: transparent;\n",
              "      border-bottom-color: var(--fill-color);\n",
              "    }\n",
              "  }\n",
              "</style>\n",
              "\n",
              "  <script>\n",
              "    async function quickchart(key) {\n",
              "      const quickchartButtonEl =\n",
              "        document.querySelector('#' + key + ' button');\n",
              "      quickchartButtonEl.disabled = true;  // To prevent multiple clicks.\n",
              "      quickchartButtonEl.classList.add('colab-df-spinner');\n",
              "      try {\n",
              "        const charts = await google.colab.kernel.invokeFunction(\n",
              "            'suggestCharts', [key], {});\n",
              "      } catch (error) {\n",
              "        console.error('Error during call to suggestCharts:', error);\n",
              "      }\n",
              "      quickchartButtonEl.classList.remove('colab-df-spinner');\n",
              "      quickchartButtonEl.classList.add('colab-df-quickchart-complete');\n",
              "    }\n",
              "    (() => {\n",
              "      let quickchartButtonEl =\n",
              "        document.querySelector('#df-901b0eab-bbeb-4cda-b2f3-bc87e2899258 button');\n",
              "      quickchartButtonEl.style.display =\n",
              "        google.colab.kernel.accessAllowed ? 'block' : 'none';\n",
              "    })();\n",
              "  </script>\n",
              "</div>\n",
              "    </div>\n",
              "  </div>\n"
            ],
            "text/plain": [
              "     PassengerId  Survived  Pclass  \\\n",
              "651          652         1       2   \n",
              "694          695         0       1   \n",
              "797          798         1       3   \n",
              "875          876         1       3   \n",
              "505          506         0       1   \n",
              "\n",
              "                                           Name     Sex   Age  SibSp  Parch  \\\n",
              "651                         Doling, Miss. Elsie  female  18.0      0      1   \n",
              "694                             Weir, Col. John    male  60.0      0      0   \n",
              "797                            Osman, Mrs. Mara  female  31.0      0      0   \n",
              "875            Najib, Miss. Adele Kiamie \"Jane\"  female  15.0      0      0   \n",
              "505  Penasco y Castellana, Mr. Victor de Satode    male  18.0      1      0   \n",
              "\n",
              "       Ticket      Fare Cabin Embarked  \n",
              "651    231919   23.0000   NaN        S  \n",
              "694    113800   26.5500   NaN        S  \n",
              "797    349244    8.6833   NaN        S  \n",
              "875      2667    7.2250   NaN        C  \n",
              "505  PC 17758  108.9000   C65        C  "
            ]
          },
          "execution_count": 19,
          "metadata": {},
          "output_type": "execute_result"
        }
      ],
      "source": [
        "sample_simple_rand.head()"
      ]
    },
    {
      "cell_type": "markdown",
      "id": "643afc86-b478-448e-9399-41b090a64c08",
      "metadata": {
        "id": "643afc86-b478-448e-9399-41b090a64c08"
      },
      "source": [
        "####  \n",
        "#### 2. เลือกตัวอย่างขนาด n = 100 โดยใช้การสุ่มตัวอย่างแบบมีระบบ (systematic sampling)"
      ]
    },
    {
      "cell_type": "markdown",
      "id": "74285c81-21b7-4e88-bce1-e9de9c30512b",
      "metadata": {
        "id": "74285c81-21b7-4e88-bce1-e9de9c30512b"
      },
      "source": [
        "\\\n",
        "หาขนาดช่วงการสุ่ม I:"
      ]
    },
    {
      "cell_type": "code",
      "execution_count": null,
      "id": "7aca08fe-8463-432a-89db-7361b9d15d97",
      "metadata": {
        "colab": {
          "base_uri": "https://localhost:8080/"
        },
        "id": "7aca08fe-8463-432a-89db-7361b9d15d97",
        "outputId": "cd8ca266-7299-4819-bd45-474ec0d7c2cc"
      },
      "outputs": [
        {
          "data": {
            "text/plain": [
              "7.14"
            ]
          },
          "execution_count": 20,
          "metadata": {},
          "output_type": "execute_result"
        }
      ],
      "source": [
        "I = df.shape[0]/100\n",
        "I"
      ]
    },
    {
      "cell_type": "markdown",
      "id": "be8b21bb-d890-4b5d-bc38-607924224fe1",
      "metadata": {
        "id": "be8b21bb-d890-4b5d-bc38-607924224fe1"
      },
      "source": [
        "\\\n",
        "index ของแถวที่เลือกเป็นช่วงตามค่า I โดยใช้ค่า r = 1 (index แรก = 0):"
      ]
    },
    {
      "cell_type": "code",
      "execution_count": null,
      "id": "01df20e8-ccff-454e-815f-0a67b532f1b4",
      "metadata": {
        "colab": {
          "base_uri": "https://localhost:8080/"
        },
        "id": "01df20e8-ccff-454e-815f-0a67b532f1b4",
        "outputId": "3fe4c1c8-6e34-42ec-d39b-49674ab9e7a3"
      },
      "outputs": [
        {
          "data": {
            "text/plain": [
              "array([  0,   7,  14,  21,  28,  35,  42,  49,  56,  63,  70,  77,  84,\n",
              "        91,  98, 105, 112, 119, 126, 133, 140, 147, 154, 161, 168, 175,\n",
              "       182, 189, 196, 203, 210, 217, 224, 231, 238, 245, 252, 259, 266,\n",
              "       273, 280, 287, 294, 301, 308, 315, 322, 329, 336, 343, 350, 357,\n",
              "       364, 371, 378, 385, 392, 399, 406, 413, 420, 427, 434, 441, 448,\n",
              "       455, 462, 469, 476, 483, 490, 497, 504, 511, 518, 525, 532, 539,\n",
              "       546, 553, 560, 567, 574, 581, 588, 595, 602, 609, 616, 623, 630,\n",
              "       637, 644, 651, 658, 665, 672, 679, 686, 693, 700, 707])"
            ]
          },
          "execution_count": 21,
          "metadata": {},
          "output_type": "execute_result"
        }
      ],
      "source": [
        "sel_idx = np.arange(start=0, stop=df.shape[0], step=(int)(I))\n",
        "sel_idx"
      ]
    },
    {
      "cell_type": "markdown",
      "id": "41e03024-7daf-4c73-beb9-e69aa1e1d776",
      "metadata": {
        "id": "41e03024-7daf-4c73-beb9-e69aa1e1d776"
      },
      "source": [
        "\\\n",
        "ตรวจสอบจำนวนตัวอย่างที่ได้:"
      ]
    },
    {
      "cell_type": "code",
      "execution_count": null,
      "id": "1026d1de-f256-496c-b8c7-3c074631016a",
      "metadata": {
        "colab": {
          "base_uri": "https://localhost:8080/"
        },
        "id": "1026d1de-f256-496c-b8c7-3c074631016a",
        "outputId": "4a448273-6fae-4ae0-c5e4-27372022ca88"
      },
      "outputs": [
        {
          "data": {
            "text/plain": [
              "102"
            ]
          },
          "execution_count": 22,
          "metadata": {},
          "output_type": "execute_result"
        }
      ],
      "source": [
        "len(sel_idx)"
      ]
    },
    {
      "cell_type": "markdown",
      "id": "45f1dc4b-e838-4232-84f1-b880ef8d6048",
      "metadata": {
        "id": "45f1dc4b-e838-4232-84f1-b880ef8d6048"
      },
      "source": [
        "\\\n",
        "เนื่องจากจำนวนตัวอย่างเกินมา 2 จะตัดให้เหลือ 100 เท่านั้น:"
      ]
    },
    {
      "cell_type": "code",
      "execution_count": null,
      "id": "3e250b77-c916-4465-b98f-10d76dd08e9b",
      "metadata": {
        "colab": {
          "base_uri": "https://localhost:8080/"
        },
        "id": "3e250b77-c916-4465-b98f-10d76dd08e9b",
        "outputId": "5cc50908-be72-4065-8dae-4029db0c5d97"
      },
      "outputs": [
        {
          "data": {
            "text/plain": [
              "100"
            ]
          },
          "execution_count": 23,
          "metadata": {},
          "output_type": "execute_result"
        }
      ],
      "source": [
        "sel_idx = sel_idx[0:100]\n",
        "len(sel_idx)"
      ]
    },
    {
      "cell_type": "markdown",
      "id": "6c4199d1-4f25-49bf-ac10-fe7e5ff0fafa",
      "metadata": {
        "id": "6c4199d1-4f25-49bf-ac10-fe7e5ff0fafa"
      },
      "source": [
        "\\\n",
        "เลือกตัวอย่าง:"
      ]
    },
    {
      "cell_type": "code",
      "execution_count": null,
      "id": "b4b65aee-b5a4-44f5-aa73-2f06f8a44285",
      "metadata": {
        "colab": {
          "base_uri": "https://localhost:8080/",
          "height": 206
        },
        "id": "b4b65aee-b5a4-44f5-aa73-2f06f8a44285",
        "outputId": "2e059671-5efb-4fa1-8e5c-c37919791a2a"
      },
      "outputs": [
        {
          "data": {
            "text/html": [
              "\n",
              "  <div id=\"df-bfd87976-8db4-4efd-86ff-97482a5fb015\" class=\"colab-df-container\">\n",
              "    <div>\n",
              "<style scoped>\n",
              "    .dataframe tbody tr th:only-of-type {\n",
              "        vertical-align: middle;\n",
              "    }\n",
              "\n",
              "    .dataframe tbody tr th {\n",
              "        vertical-align: top;\n",
              "    }\n",
              "\n",
              "    .dataframe thead th {\n",
              "        text-align: right;\n",
              "    }\n",
              "</style>\n",
              "<table border=\"1\" class=\"dataframe\">\n",
              "  <thead>\n",
              "    <tr style=\"text-align: right;\">\n",
              "      <th></th>\n",
              "      <th>PassengerId</th>\n",
              "      <th>Survived</th>\n",
              "      <th>Pclass</th>\n",
              "      <th>Name</th>\n",
              "      <th>Sex</th>\n",
              "      <th>Age</th>\n",
              "      <th>SibSp</th>\n",
              "      <th>Parch</th>\n",
              "      <th>Ticket</th>\n",
              "      <th>Fare</th>\n",
              "      <th>Cabin</th>\n",
              "      <th>Embarked</th>\n",
              "    </tr>\n",
              "  </thead>\n",
              "  <tbody>\n",
              "    <tr>\n",
              "      <th>0</th>\n",
              "      <td>1</td>\n",
              "      <td>0</td>\n",
              "      <td>3</td>\n",
              "      <td>Braund, Mr. Owen Harris</td>\n",
              "      <td>male</td>\n",
              "      <td>22.0</td>\n",
              "      <td>1</td>\n",
              "      <td>0</td>\n",
              "      <td>A/5 21171</td>\n",
              "      <td>7.2500</td>\n",
              "      <td>NaN</td>\n",
              "      <td>S</td>\n",
              "    </tr>\n",
              "    <tr>\n",
              "      <th>8</th>\n",
              "      <td>9</td>\n",
              "      <td>1</td>\n",
              "      <td>3</td>\n",
              "      <td>Johnson, Mrs. Oscar W (Elisabeth Vilhelmina Berg)</td>\n",
              "      <td>female</td>\n",
              "      <td>27.0</td>\n",
              "      <td>0</td>\n",
              "      <td>2</td>\n",
              "      <td>347742</td>\n",
              "      <td>11.1333</td>\n",
              "      <td>NaN</td>\n",
              "      <td>S</td>\n",
              "    </tr>\n",
              "    <tr>\n",
              "      <th>15</th>\n",
              "      <td>16</td>\n",
              "      <td>1</td>\n",
              "      <td>2</td>\n",
              "      <td>Hewlett, Mrs. (Mary D Kingcome)</td>\n",
              "      <td>female</td>\n",
              "      <td>55.0</td>\n",
              "      <td>0</td>\n",
              "      <td>0</td>\n",
              "      <td>248706</td>\n",
              "      <td>16.0000</td>\n",
              "      <td>NaN</td>\n",
              "      <td>S</td>\n",
              "    </tr>\n",
              "    <tr>\n",
              "      <th>24</th>\n",
              "      <td>25</td>\n",
              "      <td>0</td>\n",
              "      <td>3</td>\n",
              "      <td>Palsson, Miss. Torborg Danira</td>\n",
              "      <td>female</td>\n",
              "      <td>8.0</td>\n",
              "      <td>3</td>\n",
              "      <td>1</td>\n",
              "      <td>349909</td>\n",
              "      <td>21.0750</td>\n",
              "      <td>NaN</td>\n",
              "      <td>S</td>\n",
              "    </tr>\n",
              "    <tr>\n",
              "      <th>37</th>\n",
              "      <td>38</td>\n",
              "      <td>0</td>\n",
              "      <td>3</td>\n",
              "      <td>Cann, Mr. Ernest Charles</td>\n",
              "      <td>male</td>\n",
              "      <td>21.0</td>\n",
              "      <td>0</td>\n",
              "      <td>0</td>\n",
              "      <td>A./5. 2152</td>\n",
              "      <td>8.0500</td>\n",
              "      <td>NaN</td>\n",
              "      <td>S</td>\n",
              "    </tr>\n",
              "  </tbody>\n",
              "</table>\n",
              "</div>\n",
              "    <div class=\"colab-df-buttons\">\n",
              "\n",
              "  <div class=\"colab-df-container\">\n",
              "    <button class=\"colab-df-convert\" onclick=\"convertToInteractive('df-bfd87976-8db4-4efd-86ff-97482a5fb015')\"\n",
              "            title=\"Convert this dataframe to an interactive table.\"\n",
              "            style=\"display:none;\">\n",
              "\n",
              "  <svg xmlns=\"http://www.w3.org/2000/svg\" height=\"24px\" viewBox=\"0 -960 960 960\">\n",
              "    <path d=\"M120-120v-720h720v720H120Zm60-500h600v-160H180v160Zm220 220h160v-160H400v160Zm0 220h160v-160H400v160ZM180-400h160v-160H180v160Zm440 0h160v-160H620v160ZM180-180h160v-160H180v160Zm440 0h160v-160H620v160Z\"/>\n",
              "  </svg>\n",
              "    </button>\n",
              "\n",
              "  <style>\n",
              "    .colab-df-container {\n",
              "      display:flex;\n",
              "      gap: 12px;\n",
              "    }\n",
              "\n",
              "    .colab-df-convert {\n",
              "      background-color: #E8F0FE;\n",
              "      border: none;\n",
              "      border-radius: 50%;\n",
              "      cursor: pointer;\n",
              "      display: none;\n",
              "      fill: #1967D2;\n",
              "      height: 32px;\n",
              "      padding: 0 0 0 0;\n",
              "      width: 32px;\n",
              "    }\n",
              "\n",
              "    .colab-df-convert:hover {\n",
              "      background-color: #E2EBFA;\n",
              "      box-shadow: 0px 1px 2px rgba(60, 64, 67, 0.3), 0px 1px 3px 1px rgba(60, 64, 67, 0.15);\n",
              "      fill: #174EA6;\n",
              "    }\n",
              "\n",
              "    .colab-df-buttons div {\n",
              "      margin-bottom: 4px;\n",
              "    }\n",
              "\n",
              "    [theme=dark] .colab-df-convert {\n",
              "      background-color: #3B4455;\n",
              "      fill: #D2E3FC;\n",
              "    }\n",
              "\n",
              "    [theme=dark] .colab-df-convert:hover {\n",
              "      background-color: #434B5C;\n",
              "      box-shadow: 0px 1px 3px 1px rgba(0, 0, 0, 0.15);\n",
              "      filter: drop-shadow(0px 1px 2px rgba(0, 0, 0, 0.3));\n",
              "      fill: #FFFFFF;\n",
              "    }\n",
              "  </style>\n",
              "\n",
              "    <script>\n",
              "      const buttonEl =\n",
              "        document.querySelector('#df-bfd87976-8db4-4efd-86ff-97482a5fb015 button.colab-df-convert');\n",
              "      buttonEl.style.display =\n",
              "        google.colab.kernel.accessAllowed ? 'block' : 'none';\n",
              "\n",
              "      async function convertToInteractive(key) {\n",
              "        const element = document.querySelector('#df-bfd87976-8db4-4efd-86ff-97482a5fb015');\n",
              "        const dataTable =\n",
              "          await google.colab.kernel.invokeFunction('convertToInteractive',\n",
              "                                                    [key], {});\n",
              "        if (!dataTable) return;\n",
              "\n",
              "        const docLinkHtml = 'Like what you see? Visit the ' +\n",
              "          '<a target=\"_blank\" href=https://colab.research.google.com/notebooks/data_table.ipynb>data table notebook</a>'\n",
              "          + ' to learn more about interactive tables.';\n",
              "        element.innerHTML = '';\n",
              "        dataTable['output_type'] = 'display_data';\n",
              "        await google.colab.output.renderOutput(dataTable, element);\n",
              "        const docLink = document.createElement('div');\n",
              "        docLink.innerHTML = docLinkHtml;\n",
              "        element.appendChild(docLink);\n",
              "      }\n",
              "    </script>\n",
              "  </div>\n",
              "\n",
              "\n",
              "<div id=\"df-ff46904e-ab0d-467a-94bd-bd712e49b747\">\n",
              "  <button class=\"colab-df-quickchart\" onclick=\"quickchart('df-ff46904e-ab0d-467a-94bd-bd712e49b747')\"\n",
              "            title=\"Suggest charts\"\n",
              "            style=\"display:none;\">\n",
              "\n",
              "<svg xmlns=\"http://www.w3.org/2000/svg\" height=\"24px\"viewBox=\"0 0 24 24\"\n",
              "     width=\"24px\">\n",
              "    <g>\n",
              "        <path d=\"M19 3H5c-1.1 0-2 .9-2 2v14c0 1.1.9 2 2 2h14c1.1 0 2-.9 2-2V5c0-1.1-.9-2-2-2zM9 17H7v-7h2v7zm4 0h-2V7h2v10zm4 0h-2v-4h2v4z\"/>\n",
              "    </g>\n",
              "</svg>\n",
              "  </button>\n",
              "\n",
              "<style>\n",
              "  .colab-df-quickchart {\n",
              "      --bg-color: #E8F0FE;\n",
              "      --fill-color: #1967D2;\n",
              "      --hover-bg-color: #E2EBFA;\n",
              "      --hover-fill-color: #174EA6;\n",
              "      --disabled-fill-color: #AAA;\n",
              "      --disabled-bg-color: #DDD;\n",
              "  }\n",
              "\n",
              "  [theme=dark] .colab-df-quickchart {\n",
              "      --bg-color: #3B4455;\n",
              "      --fill-color: #D2E3FC;\n",
              "      --hover-bg-color: #434B5C;\n",
              "      --hover-fill-color: #FFFFFF;\n",
              "      --disabled-bg-color: #3B4455;\n",
              "      --disabled-fill-color: #666;\n",
              "  }\n",
              "\n",
              "  .colab-df-quickchart {\n",
              "    background-color: var(--bg-color);\n",
              "    border: none;\n",
              "    border-radius: 50%;\n",
              "    cursor: pointer;\n",
              "    display: none;\n",
              "    fill: var(--fill-color);\n",
              "    height: 32px;\n",
              "    padding: 0;\n",
              "    width: 32px;\n",
              "  }\n",
              "\n",
              "  .colab-df-quickchart:hover {\n",
              "    background-color: var(--hover-bg-color);\n",
              "    box-shadow: 0 1px 2px rgba(60, 64, 67, 0.3), 0 1px 3px 1px rgba(60, 64, 67, 0.15);\n",
              "    fill: var(--button-hover-fill-color);\n",
              "  }\n",
              "\n",
              "  .colab-df-quickchart-complete:disabled,\n",
              "  .colab-df-quickchart-complete:disabled:hover {\n",
              "    background-color: var(--disabled-bg-color);\n",
              "    fill: var(--disabled-fill-color);\n",
              "    box-shadow: none;\n",
              "  }\n",
              "\n",
              "  .colab-df-spinner {\n",
              "    border: 2px solid var(--fill-color);\n",
              "    border-color: transparent;\n",
              "    border-bottom-color: var(--fill-color);\n",
              "    animation:\n",
              "      spin 1s steps(1) infinite;\n",
              "  }\n",
              "\n",
              "  @keyframes spin {\n",
              "    0% {\n",
              "      border-color: transparent;\n",
              "      border-bottom-color: var(--fill-color);\n",
              "      border-left-color: var(--fill-color);\n",
              "    }\n",
              "    20% {\n",
              "      border-color: transparent;\n",
              "      border-left-color: var(--fill-color);\n",
              "      border-top-color: var(--fill-color);\n",
              "    }\n",
              "    30% {\n",
              "      border-color: transparent;\n",
              "      border-left-color: var(--fill-color);\n",
              "      border-top-color: var(--fill-color);\n",
              "      border-right-color: var(--fill-color);\n",
              "    }\n",
              "    40% {\n",
              "      border-color: transparent;\n",
              "      border-right-color: var(--fill-color);\n",
              "      border-top-color: var(--fill-color);\n",
              "    }\n",
              "    60% {\n",
              "      border-color: transparent;\n",
              "      border-right-color: var(--fill-color);\n",
              "    }\n",
              "    80% {\n",
              "      border-color: transparent;\n",
              "      border-right-color: var(--fill-color);\n",
              "      border-bottom-color: var(--fill-color);\n",
              "    }\n",
              "    90% {\n",
              "      border-color: transparent;\n",
              "      border-bottom-color: var(--fill-color);\n",
              "    }\n",
              "  }\n",
              "</style>\n",
              "\n",
              "  <script>\n",
              "    async function quickchart(key) {\n",
              "      const quickchartButtonEl =\n",
              "        document.querySelector('#' + key + ' button');\n",
              "      quickchartButtonEl.disabled = true;  // To prevent multiple clicks.\n",
              "      quickchartButtonEl.classList.add('colab-df-spinner');\n",
              "      try {\n",
              "        const charts = await google.colab.kernel.invokeFunction(\n",
              "            'suggestCharts', [key], {});\n",
              "      } catch (error) {\n",
              "        console.error('Error during call to suggestCharts:', error);\n",
              "      }\n",
              "      quickchartButtonEl.classList.remove('colab-df-spinner');\n",
              "      quickchartButtonEl.classList.add('colab-df-quickchart-complete');\n",
              "    }\n",
              "    (() => {\n",
              "      let quickchartButtonEl =\n",
              "        document.querySelector('#df-ff46904e-ab0d-467a-94bd-bd712e49b747 button');\n",
              "      quickchartButtonEl.style.display =\n",
              "        google.colab.kernel.accessAllowed ? 'block' : 'none';\n",
              "    })();\n",
              "  </script>\n",
              "</div>\n",
              "    </div>\n",
              "  </div>\n"
            ],
            "text/plain": [
              "    PassengerId  Survived  Pclass  \\\n",
              "0             1         0       3   \n",
              "8             9         1       3   \n",
              "15           16         1       2   \n",
              "24           25         0       3   \n",
              "37           38         0       3   \n",
              "\n",
              "                                                 Name     Sex   Age  SibSp  \\\n",
              "0                             Braund, Mr. Owen Harris    male  22.0      1   \n",
              "8   Johnson, Mrs. Oscar W (Elisabeth Vilhelmina Berg)  female  27.0      0   \n",
              "15                   Hewlett, Mrs. (Mary D Kingcome)   female  55.0      0   \n",
              "24                      Palsson, Miss. Torborg Danira  female   8.0      3   \n",
              "37                           Cann, Mr. Ernest Charles    male  21.0      0   \n",
              "\n",
              "    Parch      Ticket     Fare Cabin Embarked  \n",
              "0       0   A/5 21171   7.2500   NaN        S  \n",
              "8       2      347742  11.1333   NaN        S  \n",
              "15      0      248706  16.0000   NaN        S  \n",
              "24      1      349909  21.0750   NaN        S  \n",
              "37      0  A./5. 2152   8.0500   NaN        S  "
            ]
          },
          "execution_count": 24,
          "metadata": {},
          "output_type": "execute_result"
        }
      ],
      "source": [
        "sample_sys_rand = df.iloc[sel_idx,]\n",
        "sample_sys_rand.head()"
      ]
    },
    {
      "cell_type": "markdown",
      "id": "fa78f669-75a6-4125-89d2-6bd005a82c7a",
      "metadata": {
        "id": "fa78f669-75a6-4125-89d2-6bd005a82c7a"
      },
      "source": [
        "\\\n",
        "หาค่าเฉลี่ยอายุจากตัวอย่างที่ได้:"
      ]
    },
    {
      "cell_type": "code",
      "execution_count": null,
      "id": "7588306e-4de4-4228-95da-e3966bf3b46d",
      "metadata": {
        "colab": {
          "base_uri": "https://localhost:8080/"
        },
        "id": "7588306e-4de4-4228-95da-e3966bf3b46d",
        "outputId": "f4fbc1bd-d9a3-495e-e0bf-b3bf48becd1a"
      },
      "outputs": [
        {
          "data": {
            "text/plain": [
              "29.596700000000002"
            ]
          },
          "execution_count": 27,
          "metadata": {},
          "output_type": "execute_result"
        }
      ],
      "source": [
        "sample_sys_rand.Age.mean()"
      ]
    },
    {
      "cell_type": "code",
      "execution_count": null,
      "id": "ff892731-effd-4589-8bdf-368eb9b157d6",
      "metadata": {
        "colab": {
          "base_uri": "https://localhost:8080/"
        },
        "id": "ff892731-effd-4589-8bdf-368eb9b157d6",
        "outputId": "b0234764-0033-4a27-ab97-64ca136d5b80"
      },
      "outputs": [
        {
          "name": "stdout",
          "output_type": "stream",
          "text": [
            "ค่าเฉลี่ยอายุตัวอย่าง =  29.60 ±  15.33\n",
            "ค่าเฉลี่ยอายุประชากร =  29.70 ±  14.53\n"
          ]
        }
      ],
      "source": [
        "print(f\"ค่าเฉลี่ยอายุตัวอย่าง = {sample_sys_rand.Age.mean(): .2f} ± {sample_sys_rand.Age.std(): .2f}\")\n",
        "print(f\"ค่าเฉลี่ยอายุประชากร = {df.Age.mean(): .2f} ± {df.Age.std(): .2f}\")"
      ]
    },
    {
      "cell_type": "markdown",
      "id": "e6e552c3-264d-479d-8ad3-e9110b468304",
      "metadata": {
        "id": "e6e552c3-264d-479d-8ad3-e9110b468304"
      },
      "source": [
        "####   \n",
        "#### 3. เลือกตัวอย่างขนาด n = 100 โดยใช้การสุ่มตัวอย่างแบบชั้นภูมิ (stratified sampling)"
      ]
    },
    {
      "cell_type": "markdown",
      "id": "682cdd6a-e9b8-401b-9789-ad3660fbd33f",
      "metadata": {
        "id": "682cdd6a-e9b8-401b-9789-ad3660fbd33f"
      },
      "source": [
        "ในที่นี้จะแบ่งชั้นภูมิตามคอลัมน์ Pclass ดังนั้นจะแบ่งได้ 3 ชั้นภูมิ  \n",
        "เบื้องต้นหาจำนวนผู้โดยสารของแต่ละชั้นภูมิ:  "
      ]
    },
    {
      "cell_type": "code",
      "execution_count": null,
      "id": "fc16faa3-4d06-4180-a126-f62e82925c00",
      "metadata": {
        "colab": {
          "base_uri": "https://localhost:8080/"
        },
        "id": "fc16faa3-4d06-4180-a126-f62e82925c00",
        "outputId": "225624fb-1f06-49f0-9efa-03031b895072"
      },
      "outputs": [
        {
          "data": {
            "text/plain": [
              "3    355\n",
              "1    186\n",
              "2    173\n",
              "Name: Pclass, dtype: int64"
            ]
          },
          "execution_count": 26,
          "metadata": {},
          "output_type": "execute_result"
        }
      ],
      "source": [
        "df.Pclass.value_counts()"
      ]
    },
    {
      "cell_type": "markdown",
      "id": "624de606-7edb-418d-aa2a-8e67d6fae227",
      "metadata": {
        "id": "624de606-7edb-418d-aa2a-8e67d6fae227"
      },
      "source": [
        "จะเห็นได้ว่าผู้โดยสาร Pclass=3 มีจำนวนมากกว่า 1 และ 2  \n",
        "หากคิดเป็นร้อยละของจำนวนตัวอย่างในแต่ละ Pclass จะได้ว่า:  "
      ]
    },
    {
      "cell_type": "code",
      "execution_count": null,
      "id": "12ff9b5f-d027-4206-87c5-8f02e4d2d841",
      "metadata": {
        "colab": {
          "base_uri": "https://localhost:8080/"
        },
        "id": "12ff9b5f-d027-4206-87c5-8f02e4d2d841",
        "outputId": "203a3b91-ca1d-4360-fe44-4619c53dda34"
      },
      "outputs": [
        {
          "data": {
            "text/plain": [
              "3    50.0\n",
              "1    26.0\n",
              "2    24.0\n",
              "Name: Pclass, dtype: float64"
            ]
          },
          "execution_count": 27,
          "metadata": {},
          "output_type": "execute_result"
        }
      ],
      "source": [
        "np.round(df.Pclass.value_counts()/df.shape[0] * 100)"
      ]
    },
    {
      "cell_type": "markdown",
      "id": "9382006d-dbaa-47ce-be87-8e8a27795ae9",
      "metadata": {
        "id": "9382006d-dbaa-47ce-be87-8e8a27795ae9"
      },
      "source": [
        "\\\n",
        "เนื่องจากเป้าหมายต้องการตัวอย่างขนาด n = 100 จะต้องทำการสุ่มเลือกหน่วยตัวอย่างจาก Pclass 1, 2 และ 3 จำนวน 24, 21 และ 55 หน่วยตัวอย่างตามลำดับ:  "
      ]
    },
    {
      "cell_type": "code",
      "execution_count": null,
      "id": "8011bb46-b949-4799-9983-0ba7db2c88f7",
      "metadata": {
        "colab": {
          "base_uri": "https://localhost:8080/"
        },
        "id": "8011bb46-b949-4799-9983-0ba7db2c88f7",
        "outputId": "f012496e-71f7-4a16-c8d8-83aaeb22859c"
      },
      "outputs": [
        {
          "name": "stdout",
          "output_type": "stream",
          "text": [
            "<class 'pandas.core.frame.DataFrame'>\n",
            "Int64Index: 100 entries, 724 to 729\n",
            "Data columns (total 12 columns):\n",
            " #   Column       Non-Null Count  Dtype  \n",
            "---  ------       --------------  -----  \n",
            " 0   PassengerId  100 non-null    int64  \n",
            " 1   Survived     100 non-null    int64  \n",
            " 2   Pclass       100 non-null    int64  \n",
            " 3   Name         100 non-null    object \n",
            " 4   Sex          100 non-null    object \n",
            " 5   Age          100 non-null    float64\n",
            " 6   SibSp        100 non-null    int64  \n",
            " 7   Parch        100 non-null    int64  \n",
            " 8   Ticket       100 non-null    object \n",
            " 9   Fare         100 non-null    float64\n",
            " 10  Cabin        22 non-null     object \n",
            " 11  Embarked     100 non-null    object \n",
            "dtypes: float64(2), int64(5), object(5)\n",
            "memory usage: 10.2+ KB\n"
          ]
        }
      ],
      "source": [
        "sample_strat_pclass = pd.concat([\n",
        "    df[df['Pclass']==1].sample(n=26),\n",
        "    df[df['Pclass']==2].sample(n=24),\n",
        "    df[df['Pclass']==3].sample(n=50)\n",
        "])\n",
        "sample_strat_pclass.info()"
      ]
    },
    {
      "cell_type": "markdown",
      "id": "7eb05258-33ec-4c8c-9b52-f76115086d45",
      "metadata": {
        "id": "7eb05258-33ec-4c8c-9b52-f76115086d45"
      },
      "source": [
        "\\\n",
        "หาค่าเฉลี่ยอายุจากตัวอย่างที่ได้:"
      ]
    },
    {
      "cell_type": "code",
      "execution_count": null,
      "id": "6f8998a1-22fb-4634-a1a7-1f05e221d2d4",
      "metadata": {
        "id": "6f8998a1-22fb-4634-a1a7-1f05e221d2d4"
      },
      "outputs": [],
      "source": [
        "sample_strat_pclass.Age.mean()"
      ]
    },
    {
      "cell_type": "code",
      "execution_count": null,
      "id": "f175ea26-9fcd-48f6-acb2-98a16ab73d16",
      "metadata": {
        "colab": {
          "base_uri": "https://localhost:8080/"
        },
        "id": "f175ea26-9fcd-48f6-acb2-98a16ab73d16",
        "outputId": "33bbe688-2051-4917-9e84-a1b399a815dc"
      },
      "outputs": [
        {
          "name": "stdout",
          "output_type": "stream",
          "text": [
            "ค่าเฉลี่ยอายุตัวอย่าง =  31.37 ±  15.33\n",
            "ค่าเฉลี่ยอายุประชากร =  29.70 ±  14.53\n"
          ]
        }
      ],
      "source": [
        "print(f\"ค่าเฉลี่ยอายุตัวอย่าง = {sample_strat_pclass.Age.mean(): .2f} ± {sample_sys_rand.Age.std(): .2f}\")\n",
        "print(f\"ค่าเฉลี่ยอายุประชากร = {df.Age.mean(): .2f} ± {df.Age.std(): .2f}\")"
      ]
    },
    {
      "cell_type": "markdown",
      "id": "a1e769c9-6249-412c-9801-534738c7f23e",
      "metadata": {
        "id": "a1e769c9-6249-412c-9801-534738c7f23e"
      },
      "source": [
        "####   \n",
        "#### 4. เลือกตัวอย่างโดยใช้การสุ่มตัวอย่างแบบกลุ่ม (cluster sampling)"
      ]
    },
    {
      "cell_type": "markdown",
      "id": "d55a7745-1049-451d-9303-ba103445ac4a",
      "metadata": {
        "id": "d55a7745-1049-451d-9303-ba103445ac4a"
      },
      "source": [
        "การเลือกแบบนี้จะทำการกำหนดขนาด n ไม่ได้เนื่องจากต้องเลือกทั้งกลุ่ม\n",
        "ในที่นี้จะแบ่งกลุ่มตามคอลัมน์ Pclass ดังนั้นจะแบ่งได้ 3 กลุ่ม  \n",
        "และเลือกกลุ่ม Pclass 1, 2 หรือ 3 ทั้งกลุ่ม:"
      ]
    },
    {
      "cell_type": "code",
      "execution_count": null,
      "id": "10196489-4dda-400d-9257-d7a7bc241d54",
      "metadata": {
        "colab": {
          "base_uri": "https://localhost:8080/"
        },
        "id": "10196489-4dda-400d-9257-d7a7bc241d54",
        "outputId": "692c60a8-153e-406a-f594-7215046f51d7"
      },
      "outputs": [
        {
          "data": {
            "text/plain": [
              "3    355\n",
              "1    186\n",
              "2    173\n",
              "Name: Pclass, dtype: int64"
            ]
          },
          "execution_count": 33,
          "metadata": {},
          "output_type": "execute_result"
        }
      ],
      "source": [
        "df.Pclass.value_counts()"
      ]
    },
    {
      "cell_type": "markdown",
      "id": "0ecd5138-9731-4d2a-8a3f-c80819d32697",
      "metadata": {
        "id": "0ecd5138-9731-4d2a-8a3f-c80819d32697"
      },
      "source": [
        "ทำการสุ่มมา 1 กลุ่มแล้วเลือกตัวอย่างทั้งกลุ่มจากที่สุ่มมา"
      ]
    },
    {
      "cell_type": "code",
      "execution_count": null,
      "id": "97d7f818-a9e2-4dc2-ad61-b77410822820",
      "metadata": {
        "colab": {
          "base_uri": "https://localhost:8080/"
        },
        "id": "97d7f818-a9e2-4dc2-ad61-b77410822820",
        "outputId": "3e89d4e1-79f9-470e-eef7-be32973937ab"
      },
      "outputs": [
        {
          "name": "stdout",
          "output_type": "stream",
          "text": [
            "3\n"
          ]
        }
      ],
      "source": [
        "import random\n",
        "sel_pclass = random.randint(1,3)\n",
        "print(sel_pclass)"
      ]
    },
    {
      "cell_type": "code",
      "execution_count": null,
      "id": "9d71aaac-2421-44c1-b9fd-a535791a0d6f",
      "metadata": {
        "id": "9d71aaac-2421-44c1-b9fd-a535791a0d6f"
      },
      "outputs": [],
      "source": [
        "sample_cluster = df[df.Pclass==sel_pclass]"
      ]
    },
    {
      "cell_type": "markdown",
      "id": "10cb02e1-bfd4-43b8-88e5-57240fe52057",
      "metadata": {
        "id": "10cb02e1-bfd4-43b8-88e5-57240fe52057"
      },
      "source": [
        "\\\n",
        "หาค่าเฉลี่ยอายุจากตัวอย่างที่ได้:"
      ]
    },
    {
      "cell_type": "code",
      "execution_count": null,
      "id": "0aae778f-767e-47f3-bf1b-9872ec639756",
      "metadata": {
        "colab": {
          "base_uri": "https://localhost:8080/"
        },
        "id": "0aae778f-767e-47f3-bf1b-9872ec639756",
        "outputId": "03f5682e-5d84-4244-adad-609cdb2a767f"
      },
      "outputs": [
        {
          "name": "stdout",
          "output_type": "stream",
          "text": [
            "ค่าเฉลี่ยอายุตัวอย่าง =  25.14 ±  12.50\n",
            "ค่าเฉลี่ยอายุประชากร =  29.70 ±  14.53\n"
          ]
        }
      ],
      "source": [
        "print(f\"ค่าเฉลี่ยอายุตัวอย่าง = {sample_cluster.Age.mean(): .2f} ± {sample_cluster.Age.std(): .2f}\")\n",
        "print(f\"ค่าเฉลี่ยอายุประชากร = {df.Age.mean(): .2f} ± {df.Age.std(): .2f}\")"
      ]
    },
    {
      "cell_type": "markdown",
      "id": "9515d6d1-46a5-411b-b3f0-4aa3c37a3c77",
      "metadata": {
        "id": "9515d6d1-46a5-411b-b3f0-4aa3c37a3c77"
      },
      "source": [
        "\\\n",
        "หากสุ่มได้ Pclass=3:"
      ]
    },
    {
      "cell_type": "code",
      "execution_count": null,
      "id": "a9c9c3a5-fbc7-4c10-bfdc-f67c498e2b1d",
      "metadata": {
        "colab": {
          "base_uri": "https://localhost:8080/"
        },
        "id": "a9c9c3a5-fbc7-4c10-bfdc-f67c498e2b1d",
        "outputId": "4b595aaf-d366-4ab5-9a2a-8b4d1e8ee7c8"
      },
      "outputs": [
        {
          "name": "stdout",
          "output_type": "stream",
          "text": [
            "ค่าเฉลี่ยอายุตัวอย่าง =  25.14 ±  12.50\n",
            "ค่าเฉลี่ยอายุประชากร =  29.70 ±  14.53\n"
          ]
        }
      ],
      "source": [
        "sample_cluster_pclass3 = df[df.Pclass==3]\n",
        "print(f\"ค่าเฉลี่ยอายุตัวอย่าง = {sample_cluster_pclass3.Age.mean(): .2f} ± {sample_cluster_pclass3.Age.std(): .2f}\")\n",
        "print(f\"ค่าเฉลี่ยอายุประชากร = {df.Age.mean(): .2f} ± {df.Age.std(): .2f}\")"
      ]
    },
    {
      "cell_type": "markdown",
      "id": "99ee6e8b-56ec-4e1f-9a96-976be6c721f9",
      "metadata": {
        "id": "99ee6e8b-56ec-4e1f-9a96-976be6c721f9"
      },
      "source": [
        "\\\n",
        "หากสุ่มได้ Pclass=1:"
      ]
    },
    {
      "cell_type": "code",
      "execution_count": null,
      "id": "d6bf9a5c-8502-45d7-99ed-53c10d1bf6b3",
      "metadata": {
        "colab": {
          "base_uri": "https://localhost:8080/"
        },
        "id": "d6bf9a5c-8502-45d7-99ed-53c10d1bf6b3",
        "outputId": "36ed6c26-5959-4a90-cdff-a1a8344991df"
      },
      "outputs": [
        {
          "name": "stdout",
          "output_type": "stream",
          "text": [
            "ค่าเฉลี่ยอายุตัวอย่าง =  38.23 ±  14.80\n",
            "ค่าเฉลี่ยอายุประชากร =  29.70 ±  14.53\n"
          ]
        }
      ],
      "source": [
        "sample_cluster_pclass1 = df[df.Pclass==1]\n",
        "print(f\"ค่าเฉลี่ยอายุตัวอย่าง = {sample_cluster_pclass1.Age.mean(): .2f} ± {sample_cluster_pclass1.Age.std(): .2f}\")\n",
        "print(f\"ค่าเฉลี่ยอายุประชากร = {df.Age.mean(): .2f} ± {df.Age.std(): .2f}\")"
      ]
    },
    {
      "cell_type": "markdown",
      "id": "73321b44-0a63-4eaa-9ede-475c655fbfd9",
      "metadata": {
        "id": "73321b44-0a63-4eaa-9ede-475c655fbfd9"
      },
      "source": [
        "\\\n",
        "จะเห็นได้ว่าการเลือก Pclass=1 และ 3 ค่าเฉลี่ยอายุจะมีความคลาดเคลื่อนจากประชากรค่อนข้างมาก"
      ]
    },
    {
      "cell_type": "code",
      "execution_count": null,
      "id": "7427b067-c15d-4de2-b263-9a8e91ce23f1",
      "metadata": {
        "id": "7427b067-c15d-4de2-b263-9a8e91ce23f1"
      },
      "outputs": [],
      "source": []
    }
  ],
  "metadata": {
    "colab": {
      "provenance": []
    },
    "kernelspec": {
      "display_name": "Python 3 (ipykernel)",
      "language": "python",
      "name": "python3"
    },
    "language_info": {
      "codemirror_mode": {
        "name": "ipython",
        "version": 3
      },
      "file_extension": ".py",
      "mimetype": "text/x-python",
      "name": "python",
      "nbconvert_exporter": "python",
      "pygments_lexer": "ipython3",
      "version": "3.11.4"
    }
  },
  "nbformat": 4,
  "nbformat_minor": 5
}
