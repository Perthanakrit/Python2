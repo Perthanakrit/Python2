{
  "cells": [
    {
      "cell_type": "markdown",
      "id": "2c39f2d8-7886-423f-a4f4-7f5c504b7ee8",
      "metadata": {
        "id": "2c39f2d8-7886-423f-a4f4-7f5c504b7ee8"
      },
      "source": [
        "# <font color='DE1509'>**การวิเคราะห์ข้อมูลเบื้องต้น**</font>"
      ]
    },
    {
      "cell_type": "markdown",
      "id": "67f31959-a73a-408f-bdf4-cfe8fb02fe5a",
      "metadata": {
        "id": "67f31959-a73a-408f-bdf4-cfe8fb02fe5a"
      },
      "source": [
        "---"
      ]
    },
    {
      "cell_type": "code",
      "execution_count": 1,
      "id": "01caccc8-b244-46c8-a4de-a5037a644ce8",
      "metadata": {
        "id": "01caccc8-b244-46c8-a4de-a5037a644ce8"
      },
      "outputs": [],
      "source": [
        "import numpy as np\n",
        "import pandas as pd\n",
        "import statistics"
      ]
    },
    {
      "cell_type": "markdown",
      "id": "d82a6214-ac93-4612-9e78-41811dadc608",
      "metadata": {
        "id": "d82a6214-ac93-4612-9e78-41811dadc608",
        "tags": []
      },
      "source": [
        "####   \n",
        "#### 4.1 ได้ทำการสุ่มตัวอย่างผู้ป่วยในแผนกหนึ่งจำนวน 10 คนและวัดส่วนสูง ได้ค่าดัง heights จงหาค่าเฉลี่ยส่วนสูง"
      ]
    },
    {
      "cell_type": "code",
      "execution_count": null,
      "id": "ae649729-ce66-470d-bce0-e42f64ded1c3",
      "metadata": {
        "id": "ae649729-ce66-470d-bce0-e42f64ded1c3"
      },
      "outputs": [],
      "source": [
        "heights = [172, 154, 165, 159, 173, 177, 180, 169, 158, 175]"
      ]
    },
    {
      "cell_type": "markdown",
      "id": "25ef94a3-a079-42ee-bbda-a43b4e198a28",
      "metadata": {
        "id": "25ef94a3-a079-42ee-bbda-a43b4e198a28"
      },
      "source": [
        "\\\n",
        "ใช้ built-in function"
      ]
    },
    {
      "cell_type": "code",
      "execution_count": null,
      "id": "5dc5fdb4-23b3-4dfc-9e76-d2c9b63d0e47",
      "metadata": {
        "id": "5dc5fdb4-23b3-4dfc-9e76-d2c9b63d0e47"
      },
      "outputs": [],
      "source": [
        "sum(heights)/len(heights)"
      ]
    },
    {
      "cell_type": "markdown",
      "id": "f02ba188-37ff-4179-9b6c-4cb15bfc57aa",
      "metadata": {
        "id": "f02ba188-37ff-4179-9b6c-4cb15bfc57aa"
      },
      "source": [
        "\n",
        "- arithmeti mean :\n",
        "\n",
        "ใช้ numpy.mean()"
      ]
    },
    {
      "cell_type": "code",
      "execution_count": null,
      "id": "DCsCLs1Ic-MW",
      "metadata": {
        "colab": {
          "base_uri": "https://localhost:8080/"
        },
        "id": "DCsCLs1Ic-MW",
        "outputId": "66eae16a-9abc-4c0e-b9ee-90f0781c48f3"
      },
      "outputs": [
        {
          "data": {
            "text/plain": [
              "168.2"
            ]
          },
          "execution_count": 7,
          "metadata": {},
          "output_type": "execute_result"
        }
      ],
      "source": [
        "np.mean(heights)"
      ]
    },
    {
      "cell_type": "markdown",
      "id": "18903778-539f-4e6b-97d7-f856f66b5e58",
      "metadata": {
        "id": "18903778-539f-4e6b-97d7-f856f66b5e58"
      },
      "source": [
        "\n",
        "ใช้ statistics.mean() (built in funciton)"
      ]
    },
    {
      "cell_type": "code",
      "execution_count": null,
      "id": "661c228d-2608-4fb0-b150-45454d372556",
      "metadata": {
        "colab": {
          "base_uri": "https://localhost:8080/"
        },
        "id": "661c228d-2608-4fb0-b150-45454d372556",
        "outputId": "d3c6a647-0d9f-40b1-9def-804e778927e9"
      },
      "outputs": [
        {
          "data": {
            "text/plain": [
              "168.2"
            ]
          },
          "execution_count": 8,
          "metadata": {},
          "output_type": "execute_result"
        }
      ],
      "source": [
        "statistics.mean(heights)"
      ]
    },
    {
      "cell_type": "markdown",
      "id": "fd32bcf5-315a-43bb-af22-018937924805",
      "metadata": {
        "id": "fd32bcf5-315a-43bb-af22-018937924805",
        "tags": []
      },
      "source": [
        "#### ตารางแจกแจงความถี่\n",
        "####    \n",
        "#### 4.2 ตารางแจกแจงความถี่แสดงเวลาที่รถยนต์ซึ่งถูกสุ่มเป็นตัวอย่างจำนวน 40 คันใช้ในการรอสัญญาณไฟจราจร ก่อนที่จะผ่านสี่แยกหลักสี่ มีข้อมูลดังปรากฏในไฟล์ 'ex3_2_traffic.csv' จงหาเวลาเฉลี่ยที่รถยนต์ 40 คันใช้ในการรอสัญญาณไฟจราจร"
      ]
    },
    {
      "cell_type": "code",
      "execution_count": null,
      "id": "97afd342-af9e-4d28-9422-fe3aa59befc6",
      "metadata": {
        "colab": {
          "base_uri": "https://localhost:8080/",
          "height": 238
        },
        "id": "97afd342-af9e-4d28-9422-fe3aa59befc6",
        "outputId": "3df75c44-4976-433f-fa9d-127914dbf8fd"
      },
      "outputs": [
        {
          "data": {
            "text/html": [
              "\n",
              "  <div id=\"df-37d65c2e-7722-42ec-9c04-a901d7f29345\" class=\"colab-df-container\">\n",
              "    <div>\n",
              "<style scoped>\n",
              "    .dataframe tbody tr th:only-of-type {\n",
              "        vertical-align: middle;\n",
              "    }\n",
              "\n",
              "    .dataframe tbody tr th {\n",
              "        vertical-align: top;\n",
              "    }\n",
              "\n",
              "    .dataframe thead th {\n",
              "        text-align: right;\n",
              "    }\n",
              "</style>\n",
              "<table border=\"1\" class=\"dataframe\">\n",
              "  <thead>\n",
              "    <tr style=\"text-align: right;\">\n",
              "      <th></th>\n",
              "      <th>เวลาที่รอ (นาที)</th>\n",
              "      <th>ความถี่ (f)</th>\n",
              "    </tr>\n",
              "  </thead>\n",
              "  <tbody>\n",
              "    <tr>\n",
              "      <th>0</th>\n",
              "      <td>11-15</td>\n",
              "      <td>5</td>\n",
              "    </tr>\n",
              "    <tr>\n",
              "      <th>1</th>\n",
              "      <td>16-20</td>\n",
              "      <td>4</td>\n",
              "    </tr>\n",
              "    <tr>\n",
              "      <th>2</th>\n",
              "      <td>21-25</td>\n",
              "      <td>10</td>\n",
              "    </tr>\n",
              "    <tr>\n",
              "      <th>3</th>\n",
              "      <td>26-30</td>\n",
              "      <td>8</td>\n",
              "    </tr>\n",
              "    <tr>\n",
              "      <th>4</th>\n",
              "      <td>31-35</td>\n",
              "      <td>6</td>\n",
              "    </tr>\n",
              "    <tr>\n",
              "      <th>5</th>\n",
              "      <td>36-40</td>\n",
              "      <td>7</td>\n",
              "    </tr>\n",
              "  </tbody>\n",
              "</table>\n",
              "</div>\n",
              "    <div class=\"colab-df-buttons\">\n",
              "\n",
              "  <div class=\"colab-df-container\">\n",
              "    <button class=\"colab-df-convert\" onclick=\"convertToInteractive('df-37d65c2e-7722-42ec-9c04-a901d7f29345')\"\n",
              "            title=\"Convert this dataframe to an interactive table.\"\n",
              "            style=\"display:none;\">\n",
              "\n",
              "  <svg xmlns=\"http://www.w3.org/2000/svg\" height=\"24px\" viewBox=\"0 -960 960 960\">\n",
              "    <path d=\"M120-120v-720h720v720H120Zm60-500h600v-160H180v160Zm220 220h160v-160H400v160Zm0 220h160v-160H400v160ZM180-400h160v-160H180v160Zm440 0h160v-160H620v160ZM180-180h160v-160H180v160Zm440 0h160v-160H620v160Z\"/>\n",
              "  </svg>\n",
              "    </button>\n",
              "\n",
              "  <style>\n",
              "    .colab-df-container {\n",
              "      display:flex;\n",
              "      gap: 12px;\n",
              "    }\n",
              "\n",
              "    .colab-df-convert {\n",
              "      background-color: #E8F0FE;\n",
              "      border: none;\n",
              "      border-radius: 50%;\n",
              "      cursor: pointer;\n",
              "      display: none;\n",
              "      fill: #1967D2;\n",
              "      height: 32px;\n",
              "      padding: 0 0 0 0;\n",
              "      width: 32px;\n",
              "    }\n",
              "\n",
              "    .colab-df-convert:hover {\n",
              "      background-color: #E2EBFA;\n",
              "      box-shadow: 0px 1px 2px rgba(60, 64, 67, 0.3), 0px 1px 3px 1px rgba(60, 64, 67, 0.15);\n",
              "      fill: #174EA6;\n",
              "    }\n",
              "\n",
              "    .colab-df-buttons div {\n",
              "      margin-bottom: 4px;\n",
              "    }\n",
              "\n",
              "    [theme=dark] .colab-df-convert {\n",
              "      background-color: #3B4455;\n",
              "      fill: #D2E3FC;\n",
              "    }\n",
              "\n",
              "    [theme=dark] .colab-df-convert:hover {\n",
              "      background-color: #434B5C;\n",
              "      box-shadow: 0px 1px 3px 1px rgba(0, 0, 0, 0.15);\n",
              "      filter: drop-shadow(0px 1px 2px rgba(0, 0, 0, 0.3));\n",
              "      fill: #FFFFFF;\n",
              "    }\n",
              "  </style>\n",
              "\n",
              "    <script>\n",
              "      const buttonEl =\n",
              "        document.querySelector('#df-37d65c2e-7722-42ec-9c04-a901d7f29345 button.colab-df-convert');\n",
              "      buttonEl.style.display =\n",
              "        google.colab.kernel.accessAllowed ? 'block' : 'none';\n",
              "\n",
              "      async function convertToInteractive(key) {\n",
              "        const element = document.querySelector('#df-37d65c2e-7722-42ec-9c04-a901d7f29345');\n",
              "        const dataTable =\n",
              "          await google.colab.kernel.invokeFunction('convertToInteractive',\n",
              "                                                    [key], {});\n",
              "        if (!dataTable) return;\n",
              "\n",
              "        const docLinkHtml = 'Like what you see? Visit the ' +\n",
              "          '<a target=\"_blank\" href=https://colab.research.google.com/notebooks/data_table.ipynb>data table notebook</a>'\n",
              "          + ' to learn more about interactive tables.';\n",
              "        element.innerHTML = '';\n",
              "        dataTable['output_type'] = 'display_data';\n",
              "        await google.colab.output.renderOutput(dataTable, element);\n",
              "        const docLink = document.createElement('div');\n",
              "        docLink.innerHTML = docLinkHtml;\n",
              "        element.appendChild(docLink);\n",
              "      }\n",
              "    </script>\n",
              "  </div>\n",
              "\n",
              "\n",
              "<div id=\"df-bbf453c3-7770-492c-88d1-fa7d7b8680d6\">\n",
              "  <button class=\"colab-df-quickchart\" onclick=\"quickchart('df-bbf453c3-7770-492c-88d1-fa7d7b8680d6')\"\n",
              "            title=\"Suggest charts\"\n",
              "            style=\"display:none;\">\n",
              "\n",
              "<svg xmlns=\"http://www.w3.org/2000/svg\" height=\"24px\"viewBox=\"0 0 24 24\"\n",
              "     width=\"24px\">\n",
              "    <g>\n",
              "        <path d=\"M19 3H5c-1.1 0-2 .9-2 2v14c0 1.1.9 2 2 2h14c1.1 0 2-.9 2-2V5c0-1.1-.9-2-2-2zM9 17H7v-7h2v7zm4 0h-2V7h2v10zm4 0h-2v-4h2v4z\"/>\n",
              "    </g>\n",
              "</svg>\n",
              "  </button>\n",
              "\n",
              "<style>\n",
              "  .colab-df-quickchart {\n",
              "      --bg-color: #E8F0FE;\n",
              "      --fill-color: #1967D2;\n",
              "      --hover-bg-color: #E2EBFA;\n",
              "      --hover-fill-color: #174EA6;\n",
              "      --disabled-fill-color: #AAA;\n",
              "      --disabled-bg-color: #DDD;\n",
              "  }\n",
              "\n",
              "  [theme=dark] .colab-df-quickchart {\n",
              "      --bg-color: #3B4455;\n",
              "      --fill-color: #D2E3FC;\n",
              "      --hover-bg-color: #434B5C;\n",
              "      --hover-fill-color: #FFFFFF;\n",
              "      --disabled-bg-color: #3B4455;\n",
              "      --disabled-fill-color: #666;\n",
              "  }\n",
              "\n",
              "  .colab-df-quickchart {\n",
              "    background-color: var(--bg-color);\n",
              "    border: none;\n",
              "    border-radius: 50%;\n",
              "    cursor: pointer;\n",
              "    display: none;\n",
              "    fill: var(--fill-color);\n",
              "    height: 32px;\n",
              "    padding: 0;\n",
              "    width: 32px;\n",
              "  }\n",
              "\n",
              "  .colab-df-quickchart:hover {\n",
              "    background-color: var(--hover-bg-color);\n",
              "    box-shadow: 0 1px 2px rgba(60, 64, 67, 0.3), 0 1px 3px 1px rgba(60, 64, 67, 0.15);\n",
              "    fill: var(--button-hover-fill-color);\n",
              "  }\n",
              "\n",
              "  .colab-df-quickchart-complete:disabled,\n",
              "  .colab-df-quickchart-complete:disabled:hover {\n",
              "    background-color: var(--disabled-bg-color);\n",
              "    fill: var(--disabled-fill-color);\n",
              "    box-shadow: none;\n",
              "  }\n",
              "\n",
              "  .colab-df-spinner {\n",
              "    border: 2px solid var(--fill-color);\n",
              "    border-color: transparent;\n",
              "    border-bottom-color: var(--fill-color);\n",
              "    animation:\n",
              "      spin 1s steps(1) infinite;\n",
              "  }\n",
              "\n",
              "  @keyframes spin {\n",
              "    0% {\n",
              "      border-color: transparent;\n",
              "      border-bottom-color: var(--fill-color);\n",
              "      border-left-color: var(--fill-color);\n",
              "    }\n",
              "    20% {\n",
              "      border-color: transparent;\n",
              "      border-left-color: var(--fill-color);\n",
              "      border-top-color: var(--fill-color);\n",
              "    }\n",
              "    30% {\n",
              "      border-color: transparent;\n",
              "      border-left-color: var(--fill-color);\n",
              "      border-top-color: var(--fill-color);\n",
              "      border-right-color: var(--fill-color);\n",
              "    }\n",
              "    40% {\n",
              "      border-color: transparent;\n",
              "      border-right-color: var(--fill-color);\n",
              "      border-top-color: var(--fill-color);\n",
              "    }\n",
              "    60% {\n",
              "      border-color: transparent;\n",
              "      border-right-color: var(--fill-color);\n",
              "    }\n",
              "    80% {\n",
              "      border-color: transparent;\n",
              "      border-right-color: var(--fill-color);\n",
              "      border-bottom-color: var(--fill-color);\n",
              "    }\n",
              "    90% {\n",
              "      border-color: transparent;\n",
              "      border-bottom-color: var(--fill-color);\n",
              "    }\n",
              "  }\n",
              "</style>\n",
              "\n",
              "  <script>\n",
              "    async function quickchart(key) {\n",
              "      const quickchartButtonEl =\n",
              "        document.querySelector('#' + key + ' button');\n",
              "      quickchartButtonEl.disabled = true;  // To prevent multiple clicks.\n",
              "      quickchartButtonEl.classList.add('colab-df-spinner');\n",
              "      try {\n",
              "        const charts = await google.colab.kernel.invokeFunction(\n",
              "            'suggestCharts', [key], {});\n",
              "      } catch (error) {\n",
              "        console.error('Error during call to suggestCharts:', error);\n",
              "      }\n",
              "      quickchartButtonEl.classList.remove('colab-df-spinner');\n",
              "      quickchartButtonEl.classList.add('colab-df-quickchart-complete');\n",
              "    }\n",
              "    (() => {\n",
              "      let quickchartButtonEl =\n",
              "        document.querySelector('#df-bbf453c3-7770-492c-88d1-fa7d7b8680d6 button');\n",
              "      quickchartButtonEl.style.display =\n",
              "        google.colab.kernel.accessAllowed ? 'block' : 'none';\n",
              "    })();\n",
              "  </script>\n",
              "</div>\n",
              "    </div>\n",
              "  </div>\n"
            ],
            "text/plain": [
              "  เวลาที่รอ (นาที)  ความถี่ (f)\n",
              "0            11-15            5\n",
              "1            16-20            4\n",
              "2            21-25           10\n",
              "3            26-30            8\n",
              "4            31-35            6\n",
              "5            36-40            7"
            ]
          },
          "execution_count": 5,
          "metadata": {},
          "output_type": "execute_result"
        }
      ],
      "source": [
        "df_traffic = pd.read_csv('https://raw.githubusercontent.com/ThammakornS/ProgStat/main/dataset/ex4_2_traffic.csv')\n",
        "df_traffic"
      ]
    },
    {
      "cell_type": "markdown",
      "id": "6bb5720f-6331-4a58-8c36-dcba04bee08b",
      "metadata": {
        "id": "6bb5720f-6331-4a58-8c36-dcba04bee08b"
      },
      "source": [
        "แต่คอลัมน์ช่วงเวลายังเป็น String ของช่วงเวลา เราต้องทำการแยก ขอบเขตบนและขอบเขตล่าง และแปลงค่าให้เป็น int/double"
      ]
    },
    {
      "cell_type": "markdown",
      "id": "e9f48f9e-c0c2-4d2c-8d46-5c16bae3e634",
      "metadata": {
        "id": "e9f48f9e-c0c2-4d2c-8d46-5c16bae3e634"
      },
      "source": [
        "\\\n",
        "ก่อนอื่นต้องหาค่ากึ่งกลาง ของแต่ละช่วงเวลาที่รอ เพื่อให้สะดวกในการแสดงผลเราจะแสดงค่ากึ่งกลางเป็นคอลัมน์ใหม่"
      ]
    },
    {
      "cell_type": "code",
      "execution_count": null,
      "id": "d994f928-98c9-4f82-8f58-a9bf00ae04f1",
      "metadata": {
        "colab": {
          "base_uri": "https://localhost:8080/",
          "height": 238
        },
        "id": "d994f928-98c9-4f82-8f58-a9bf00ae04f1",
        "outputId": "c733f8c8-b1e4-4844-f816-76b6b5ac4e5e"
      },
      "outputs": [
        {
          "data": {
            "text/html": [
              "\n",
              "  <div id=\"df-5fbbae78-3834-4ca0-9bcf-a2dfdb1d11e3\" class=\"colab-df-container\">\n",
              "    <div>\n",
              "<style scoped>\n",
              "    .dataframe tbody tr th:only-of-type {\n",
              "        vertical-align: middle;\n",
              "    }\n",
              "\n",
              "    .dataframe tbody tr th {\n",
              "        vertical-align: top;\n",
              "    }\n",
              "\n",
              "    .dataframe thead th {\n",
              "        text-align: right;\n",
              "    }\n",
              "</style>\n",
              "<table border=\"1\" class=\"dataframe\">\n",
              "  <thead>\n",
              "    <tr style=\"text-align: right;\">\n",
              "      <th></th>\n",
              "      <th>0</th>\n",
              "      <th>1</th>\n",
              "    </tr>\n",
              "  </thead>\n",
              "  <tbody>\n",
              "    <tr>\n",
              "      <th>0</th>\n",
              "      <td>11</td>\n",
              "      <td>15</td>\n",
              "    </tr>\n",
              "    <tr>\n",
              "      <th>1</th>\n",
              "      <td>16</td>\n",
              "      <td>20</td>\n",
              "    </tr>\n",
              "    <tr>\n",
              "      <th>2</th>\n",
              "      <td>21</td>\n",
              "      <td>25</td>\n",
              "    </tr>\n",
              "    <tr>\n",
              "      <th>3</th>\n",
              "      <td>26</td>\n",
              "      <td>30</td>\n",
              "    </tr>\n",
              "    <tr>\n",
              "      <th>4</th>\n",
              "      <td>31</td>\n",
              "      <td>35</td>\n",
              "    </tr>\n",
              "    <tr>\n",
              "      <th>5</th>\n",
              "      <td>36</td>\n",
              "      <td>40</td>\n",
              "    </tr>\n",
              "  </tbody>\n",
              "</table>\n",
              "</div>\n",
              "    <div class=\"colab-df-buttons\">\n",
              "\n",
              "  <div class=\"colab-df-container\">\n",
              "    <button class=\"colab-df-convert\" onclick=\"convertToInteractive('df-5fbbae78-3834-4ca0-9bcf-a2dfdb1d11e3')\"\n",
              "            title=\"Convert this dataframe to an interactive table.\"\n",
              "            style=\"display:none;\">\n",
              "\n",
              "  <svg xmlns=\"http://www.w3.org/2000/svg\" height=\"24px\" viewBox=\"0 -960 960 960\">\n",
              "    <path d=\"M120-120v-720h720v720H120Zm60-500h600v-160H180v160Zm220 220h160v-160H400v160Zm0 220h160v-160H400v160ZM180-400h160v-160H180v160Zm440 0h160v-160H620v160ZM180-180h160v-160H180v160Zm440 0h160v-160H620v160Z\"/>\n",
              "  </svg>\n",
              "    </button>\n",
              "\n",
              "  <style>\n",
              "    .colab-df-container {\n",
              "      display:flex;\n",
              "      gap: 12px;\n",
              "    }\n",
              "\n",
              "    .colab-df-convert {\n",
              "      background-color: #E8F0FE;\n",
              "      border: none;\n",
              "      border-radius: 50%;\n",
              "      cursor: pointer;\n",
              "      display: none;\n",
              "      fill: #1967D2;\n",
              "      height: 32px;\n",
              "      padding: 0 0 0 0;\n",
              "      width: 32px;\n",
              "    }\n",
              "\n",
              "    .colab-df-convert:hover {\n",
              "      background-color: #E2EBFA;\n",
              "      box-shadow: 0px 1px 2px rgba(60, 64, 67, 0.3), 0px 1px 3px 1px rgba(60, 64, 67, 0.15);\n",
              "      fill: #174EA6;\n",
              "    }\n",
              "\n",
              "    .colab-df-buttons div {\n",
              "      margin-bottom: 4px;\n",
              "    }\n",
              "\n",
              "    [theme=dark] .colab-df-convert {\n",
              "      background-color: #3B4455;\n",
              "      fill: #D2E3FC;\n",
              "    }\n",
              "\n",
              "    [theme=dark] .colab-df-convert:hover {\n",
              "      background-color: #434B5C;\n",
              "      box-shadow: 0px 1px 3px 1px rgba(0, 0, 0, 0.15);\n",
              "      filter: drop-shadow(0px 1px 2px rgba(0, 0, 0, 0.3));\n",
              "      fill: #FFFFFF;\n",
              "    }\n",
              "  </style>\n",
              "\n",
              "    <script>\n",
              "      const buttonEl =\n",
              "        document.querySelector('#df-5fbbae78-3834-4ca0-9bcf-a2dfdb1d11e3 button.colab-df-convert');\n",
              "      buttonEl.style.display =\n",
              "        google.colab.kernel.accessAllowed ? 'block' : 'none';\n",
              "\n",
              "      async function convertToInteractive(key) {\n",
              "        const element = document.querySelector('#df-5fbbae78-3834-4ca0-9bcf-a2dfdb1d11e3');\n",
              "        const dataTable =\n",
              "          await google.colab.kernel.invokeFunction('convertToInteractive',\n",
              "                                                    [key], {});\n",
              "        if (!dataTable) return;\n",
              "\n",
              "        const docLinkHtml = 'Like what you see? Visit the ' +\n",
              "          '<a target=\"_blank\" href=https://colab.research.google.com/notebooks/data_table.ipynb>data table notebook</a>'\n",
              "          + ' to learn more about interactive tables.';\n",
              "        element.innerHTML = '';\n",
              "        dataTable['output_type'] = 'display_data';\n",
              "        await google.colab.output.renderOutput(dataTable, element);\n",
              "        const docLink = document.createElement('div');\n",
              "        docLink.innerHTML = docLinkHtml;\n",
              "        element.appendChild(docLink);\n",
              "      }\n",
              "    </script>\n",
              "  </div>\n",
              "\n",
              "\n",
              "<div id=\"df-904933ff-a5dc-4795-b6ac-9c9bd5bb1ded\">\n",
              "  <button class=\"colab-df-quickchart\" onclick=\"quickchart('df-904933ff-a5dc-4795-b6ac-9c9bd5bb1ded')\"\n",
              "            title=\"Suggest charts\"\n",
              "            style=\"display:none;\">\n",
              "\n",
              "<svg xmlns=\"http://www.w3.org/2000/svg\" height=\"24px\"viewBox=\"0 0 24 24\"\n",
              "     width=\"24px\">\n",
              "    <g>\n",
              "        <path d=\"M19 3H5c-1.1 0-2 .9-2 2v14c0 1.1.9 2 2 2h14c1.1 0 2-.9 2-2V5c0-1.1-.9-2-2-2zM9 17H7v-7h2v7zm4 0h-2V7h2v10zm4 0h-2v-4h2v4z\"/>\n",
              "    </g>\n",
              "</svg>\n",
              "  </button>\n",
              "\n",
              "<style>\n",
              "  .colab-df-quickchart {\n",
              "      --bg-color: #E8F0FE;\n",
              "      --fill-color: #1967D2;\n",
              "      --hover-bg-color: #E2EBFA;\n",
              "      --hover-fill-color: #174EA6;\n",
              "      --disabled-fill-color: #AAA;\n",
              "      --disabled-bg-color: #DDD;\n",
              "  }\n",
              "\n",
              "  [theme=dark] .colab-df-quickchart {\n",
              "      --bg-color: #3B4455;\n",
              "      --fill-color: #D2E3FC;\n",
              "      --hover-bg-color: #434B5C;\n",
              "      --hover-fill-color: #FFFFFF;\n",
              "      --disabled-bg-color: #3B4455;\n",
              "      --disabled-fill-color: #666;\n",
              "  }\n",
              "\n",
              "  .colab-df-quickchart {\n",
              "    background-color: var(--bg-color);\n",
              "    border: none;\n",
              "    border-radius: 50%;\n",
              "    cursor: pointer;\n",
              "    display: none;\n",
              "    fill: var(--fill-color);\n",
              "    height: 32px;\n",
              "    padding: 0;\n",
              "    width: 32px;\n",
              "  }\n",
              "\n",
              "  .colab-df-quickchart:hover {\n",
              "    background-color: var(--hover-bg-color);\n",
              "    box-shadow: 0 1px 2px rgba(60, 64, 67, 0.3), 0 1px 3px 1px rgba(60, 64, 67, 0.15);\n",
              "    fill: var(--button-hover-fill-color);\n",
              "  }\n",
              "\n",
              "  .colab-df-quickchart-complete:disabled,\n",
              "  .colab-df-quickchart-complete:disabled:hover {\n",
              "    background-color: var(--disabled-bg-color);\n",
              "    fill: var(--disabled-fill-color);\n",
              "    box-shadow: none;\n",
              "  }\n",
              "\n",
              "  .colab-df-spinner {\n",
              "    border: 2px solid var(--fill-color);\n",
              "    border-color: transparent;\n",
              "    border-bottom-color: var(--fill-color);\n",
              "    animation:\n",
              "      spin 1s steps(1) infinite;\n",
              "  }\n",
              "\n",
              "  @keyframes spin {\n",
              "    0% {\n",
              "      border-color: transparent;\n",
              "      border-bottom-color: var(--fill-color);\n",
              "      border-left-color: var(--fill-color);\n",
              "    }\n",
              "    20% {\n",
              "      border-color: transparent;\n",
              "      border-left-color: var(--fill-color);\n",
              "      border-top-color: var(--fill-color);\n",
              "    }\n",
              "    30% {\n",
              "      border-color: transparent;\n",
              "      border-left-color: var(--fill-color);\n",
              "      border-top-color: var(--fill-color);\n",
              "      border-right-color: var(--fill-color);\n",
              "    }\n",
              "    40% {\n",
              "      border-color: transparent;\n",
              "      border-right-color: var(--fill-color);\n",
              "      border-top-color: var(--fill-color);\n",
              "    }\n",
              "    60% {\n",
              "      border-color: transparent;\n",
              "      border-right-color: var(--fill-color);\n",
              "    }\n",
              "    80% {\n",
              "      border-color: transparent;\n",
              "      border-right-color: var(--fill-color);\n",
              "      border-bottom-color: var(--fill-color);\n",
              "    }\n",
              "    90% {\n",
              "      border-color: transparent;\n",
              "      border-bottom-color: var(--fill-color);\n",
              "    }\n",
              "  }\n",
              "</style>\n",
              "\n",
              "  <script>\n",
              "    async function quickchart(key) {\n",
              "      const quickchartButtonEl =\n",
              "        document.querySelector('#' + key + ' button');\n",
              "      quickchartButtonEl.disabled = true;  // To prevent multiple clicks.\n",
              "      quickchartButtonEl.classList.add('colab-df-spinner');\n",
              "      try {\n",
              "        const charts = await google.colab.kernel.invokeFunction(\n",
              "            'suggestCharts', [key], {});\n",
              "      } catch (error) {\n",
              "        console.error('Error during call to suggestCharts:', error);\n",
              "      }\n",
              "      quickchartButtonEl.classList.remove('colab-df-spinner');\n",
              "      quickchartButtonEl.classList.add('colab-df-quickchart-complete');\n",
              "    }\n",
              "    (() => {\n",
              "      let quickchartButtonEl =\n",
              "        document.querySelector('#df-904933ff-a5dc-4795-b6ac-9c9bd5bb1ded button');\n",
              "      quickchartButtonEl.style.display =\n",
              "        google.colab.kernel.accessAllowed ? 'block' : 'none';\n",
              "    })();\n",
              "  </script>\n",
              "</div>\n",
              "    </div>\n",
              "  </div>\n"
            ],
            "text/plain": [
              "    0   1\n",
              "0  11  15\n",
              "1  16  20\n",
              "2  21  25\n",
              "3  26  30\n",
              "4  31  35\n",
              "5  36  40"
            ]
          },
          "execution_count": 12,
          "metadata": {},
          "output_type": "execute_result"
        }
      ],
      "source": [
        "boundary = df_traffic['เวลาที่รอ (นาที)'].str.split('-', expand=True).astype(int) # expand=True ->  Be displaied data frame\n",
        "boundary"
      ]
    },
    {
      "cell_type": "code",
      "execution_count": null,
      "id": "543fb827-36aa-4823-a8b8-dce262b16e3b",
      "metadata": {
        "colab": {
          "base_uri": "https://localhost:8080/",
          "height": 238
        },
        "id": "543fb827-36aa-4823-a8b8-dce262b16e3b",
        "outputId": "ba2c313b-3449-4bac-bfb0-95bd78cff4c3"
      },
      "outputs": [
        {
          "data": {
            "text/html": [
              "\n",
              "  <div id=\"df-d1adb081-edcb-4573-8fa0-754dde7aeac3\" class=\"colab-df-container\">\n",
              "    <div>\n",
              "<style scoped>\n",
              "    .dataframe tbody tr th:only-of-type {\n",
              "        vertical-align: middle;\n",
              "    }\n",
              "\n",
              "    .dataframe tbody tr th {\n",
              "        vertical-align: top;\n",
              "    }\n",
              "\n",
              "    .dataframe thead th {\n",
              "        text-align: right;\n",
              "    }\n",
              "</style>\n",
              "<table border=\"1\" class=\"dataframe\">\n",
              "  <thead>\n",
              "    <tr style=\"text-align: right;\">\n",
              "      <th></th>\n",
              "      <th>เวลาที่รอ (นาที)</th>\n",
              "      <th>ความถี่ (f)</th>\n",
              "      <th>ค่ากึ่งกลาง (x)</th>\n",
              "    </tr>\n",
              "  </thead>\n",
              "  <tbody>\n",
              "    <tr>\n",
              "      <th>0</th>\n",
              "      <td>11-15</td>\n",
              "      <td>5</td>\n",
              "      <td>13</td>\n",
              "    </tr>\n",
              "    <tr>\n",
              "      <th>1</th>\n",
              "      <td>16-20</td>\n",
              "      <td>4</td>\n",
              "      <td>18</td>\n",
              "    </tr>\n",
              "    <tr>\n",
              "      <th>2</th>\n",
              "      <td>21-25</td>\n",
              "      <td>10</td>\n",
              "      <td>23</td>\n",
              "    </tr>\n",
              "    <tr>\n",
              "      <th>3</th>\n",
              "      <td>26-30</td>\n",
              "      <td>8</td>\n",
              "      <td>28</td>\n",
              "    </tr>\n",
              "    <tr>\n",
              "      <th>4</th>\n",
              "      <td>31-35</td>\n",
              "      <td>6</td>\n",
              "      <td>33</td>\n",
              "    </tr>\n",
              "    <tr>\n",
              "      <th>5</th>\n",
              "      <td>36-40</td>\n",
              "      <td>7</td>\n",
              "      <td>38</td>\n",
              "    </tr>\n",
              "  </tbody>\n",
              "</table>\n",
              "</div>\n",
              "    <div class=\"colab-df-buttons\">\n",
              "\n",
              "  <div class=\"colab-df-container\">\n",
              "    <button class=\"colab-df-convert\" onclick=\"convertToInteractive('df-d1adb081-edcb-4573-8fa0-754dde7aeac3')\"\n",
              "            title=\"Convert this dataframe to an interactive table.\"\n",
              "            style=\"display:none;\">\n",
              "\n",
              "  <svg xmlns=\"http://www.w3.org/2000/svg\" height=\"24px\" viewBox=\"0 -960 960 960\">\n",
              "    <path d=\"M120-120v-720h720v720H120Zm60-500h600v-160H180v160Zm220 220h160v-160H400v160Zm0 220h160v-160H400v160ZM180-400h160v-160H180v160Zm440 0h160v-160H620v160ZM180-180h160v-160H180v160Zm440 0h160v-160H620v160Z\"/>\n",
              "  </svg>\n",
              "    </button>\n",
              "\n",
              "  <style>\n",
              "    .colab-df-container {\n",
              "      display:flex;\n",
              "      gap: 12px;\n",
              "    }\n",
              "\n",
              "    .colab-df-convert {\n",
              "      background-color: #E8F0FE;\n",
              "      border: none;\n",
              "      border-radius: 50%;\n",
              "      cursor: pointer;\n",
              "      display: none;\n",
              "      fill: #1967D2;\n",
              "      height: 32px;\n",
              "      padding: 0 0 0 0;\n",
              "      width: 32px;\n",
              "    }\n",
              "\n",
              "    .colab-df-convert:hover {\n",
              "      background-color: #E2EBFA;\n",
              "      box-shadow: 0px 1px 2px rgba(60, 64, 67, 0.3), 0px 1px 3px 1px rgba(60, 64, 67, 0.15);\n",
              "      fill: #174EA6;\n",
              "    }\n",
              "\n",
              "    .colab-df-buttons div {\n",
              "      margin-bottom: 4px;\n",
              "    }\n",
              "\n",
              "    [theme=dark] .colab-df-convert {\n",
              "      background-color: #3B4455;\n",
              "      fill: #D2E3FC;\n",
              "    }\n",
              "\n",
              "    [theme=dark] .colab-df-convert:hover {\n",
              "      background-color: #434B5C;\n",
              "      box-shadow: 0px 1px 3px 1px rgba(0, 0, 0, 0.15);\n",
              "      filter: drop-shadow(0px 1px 2px rgba(0, 0, 0, 0.3));\n",
              "      fill: #FFFFFF;\n",
              "    }\n",
              "  </style>\n",
              "\n",
              "    <script>\n",
              "      const buttonEl =\n",
              "        document.querySelector('#df-d1adb081-edcb-4573-8fa0-754dde7aeac3 button.colab-df-convert');\n",
              "      buttonEl.style.display =\n",
              "        google.colab.kernel.accessAllowed ? 'block' : 'none';\n",
              "\n",
              "      async function convertToInteractive(key) {\n",
              "        const element = document.querySelector('#df-d1adb081-edcb-4573-8fa0-754dde7aeac3');\n",
              "        const dataTable =\n",
              "          await google.colab.kernel.invokeFunction('convertToInteractive',\n",
              "                                                    [key], {});\n",
              "        if (!dataTable) return;\n",
              "\n",
              "        const docLinkHtml = 'Like what you see? Visit the ' +\n",
              "          '<a target=\"_blank\" href=https://colab.research.google.com/notebooks/data_table.ipynb>data table notebook</a>'\n",
              "          + ' to learn more about interactive tables.';\n",
              "        element.innerHTML = '';\n",
              "        dataTable['output_type'] = 'display_data';\n",
              "        await google.colab.output.renderOutput(dataTable, element);\n",
              "        const docLink = document.createElement('div');\n",
              "        docLink.innerHTML = docLinkHtml;\n",
              "        element.appendChild(docLink);\n",
              "      }\n",
              "    </script>\n",
              "  </div>\n",
              "\n",
              "\n",
              "<div id=\"df-31c7c4e4-bfe4-45f0-be66-d68f4b41fe2e\">\n",
              "  <button class=\"colab-df-quickchart\" onclick=\"quickchart('df-31c7c4e4-bfe4-45f0-be66-d68f4b41fe2e')\"\n",
              "            title=\"Suggest charts\"\n",
              "            style=\"display:none;\">\n",
              "\n",
              "<svg xmlns=\"http://www.w3.org/2000/svg\" height=\"24px\"viewBox=\"0 0 24 24\"\n",
              "     width=\"24px\">\n",
              "    <g>\n",
              "        <path d=\"M19 3H5c-1.1 0-2 .9-2 2v14c0 1.1.9 2 2 2h14c1.1 0 2-.9 2-2V5c0-1.1-.9-2-2-2zM9 17H7v-7h2v7zm4 0h-2V7h2v10zm4 0h-2v-4h2v4z\"/>\n",
              "    </g>\n",
              "</svg>\n",
              "  </button>\n",
              "\n",
              "<style>\n",
              "  .colab-df-quickchart {\n",
              "      --bg-color: #E8F0FE;\n",
              "      --fill-color: #1967D2;\n",
              "      --hover-bg-color: #E2EBFA;\n",
              "      --hover-fill-color: #174EA6;\n",
              "      --disabled-fill-color: #AAA;\n",
              "      --disabled-bg-color: #DDD;\n",
              "  }\n",
              "\n",
              "  [theme=dark] .colab-df-quickchart {\n",
              "      --bg-color: #3B4455;\n",
              "      --fill-color: #D2E3FC;\n",
              "      --hover-bg-color: #434B5C;\n",
              "      --hover-fill-color: #FFFFFF;\n",
              "      --disabled-bg-color: #3B4455;\n",
              "      --disabled-fill-color: #666;\n",
              "  }\n",
              "\n",
              "  .colab-df-quickchart {\n",
              "    background-color: var(--bg-color);\n",
              "    border: none;\n",
              "    border-radius: 50%;\n",
              "    cursor: pointer;\n",
              "    display: none;\n",
              "    fill: var(--fill-color);\n",
              "    height: 32px;\n",
              "    padding: 0;\n",
              "    width: 32px;\n",
              "  }\n",
              "\n",
              "  .colab-df-quickchart:hover {\n",
              "    background-color: var(--hover-bg-color);\n",
              "    box-shadow: 0 1px 2px rgba(60, 64, 67, 0.3), 0 1px 3px 1px rgba(60, 64, 67, 0.15);\n",
              "    fill: var(--button-hover-fill-color);\n",
              "  }\n",
              "\n",
              "  .colab-df-quickchart-complete:disabled,\n",
              "  .colab-df-quickchart-complete:disabled:hover {\n",
              "    background-color: var(--disabled-bg-color);\n",
              "    fill: var(--disabled-fill-color);\n",
              "    box-shadow: none;\n",
              "  }\n",
              "\n",
              "  .colab-df-spinner {\n",
              "    border: 2px solid var(--fill-color);\n",
              "    border-color: transparent;\n",
              "    border-bottom-color: var(--fill-color);\n",
              "    animation:\n",
              "      spin 1s steps(1) infinite;\n",
              "  }\n",
              "\n",
              "  @keyframes spin {\n",
              "    0% {\n",
              "      border-color: transparent;\n",
              "      border-bottom-color: var(--fill-color);\n",
              "      border-left-color: var(--fill-color);\n",
              "    }\n",
              "    20% {\n",
              "      border-color: transparent;\n",
              "      border-left-color: var(--fill-color);\n",
              "      border-top-color: var(--fill-color);\n",
              "    }\n",
              "    30% {\n",
              "      border-color: transparent;\n",
              "      border-left-color: var(--fill-color);\n",
              "      border-top-color: var(--fill-color);\n",
              "      border-right-color: var(--fill-color);\n",
              "    }\n",
              "    40% {\n",
              "      border-color: transparent;\n",
              "      border-right-color: var(--fill-color);\n",
              "      border-top-color: var(--fill-color);\n",
              "    }\n",
              "    60% {\n",
              "      border-color: transparent;\n",
              "      border-right-color: var(--fill-color);\n",
              "    }\n",
              "    80% {\n",
              "      border-color: transparent;\n",
              "      border-right-color: var(--fill-color);\n",
              "      border-bottom-color: var(--fill-color);\n",
              "    }\n",
              "    90% {\n",
              "      border-color: transparent;\n",
              "      border-bottom-color: var(--fill-color);\n",
              "    }\n",
              "  }\n",
              "</style>\n",
              "\n",
              "  <script>\n",
              "    async function quickchart(key) {\n",
              "      const quickchartButtonEl =\n",
              "        document.querySelector('#' + key + ' button');\n",
              "      quickchartButtonEl.disabled = true;  // To prevent multiple clicks.\n",
              "      quickchartButtonEl.classList.add('colab-df-spinner');\n",
              "      try {\n",
              "        const charts = await google.colab.kernel.invokeFunction(\n",
              "            'suggestCharts', [key], {});\n",
              "      } catch (error) {\n",
              "        console.error('Error during call to suggestCharts:', error);\n",
              "      }\n",
              "      quickchartButtonEl.classList.remove('colab-df-spinner');\n",
              "      quickchartButtonEl.classList.add('colab-df-quickchart-complete');\n",
              "    }\n",
              "    (() => {\n",
              "      let quickchartButtonEl =\n",
              "        document.querySelector('#df-31c7c4e4-bfe4-45f0-be66-d68f4b41fe2e button');\n",
              "      quickchartButtonEl.style.display =\n",
              "        google.colab.kernel.accessAllowed ? 'block' : 'none';\n",
              "    })();\n",
              "  </script>\n",
              "</div>\n",
              "    </div>\n",
              "  </div>\n"
            ],
            "text/plain": [
              "  เวลาที่รอ (นาที)  ความถี่ (f)  ค่ากึ่งกลาง (x)\n",
              "0            11-15            5               13\n",
              "1            16-20            4               18\n",
              "2            21-25           10               23\n",
              "3            26-30            8               28\n",
              "4            31-35            6               33\n",
              "5            36-40            7               38"
            ]
          },
          "execution_count": 13,
          "metadata": {},
          "output_type": "execute_result"
        }
      ],
      "source": [
        "df_traffic['ค่ากึ่งกลาง (x)'] = np.arange(13,38+1,5)#(boundary[0]+boundary[1])/2\n",
        "# หรือ df_traffic['ค่ากึ่งกลาง (x)'] = np.arange(13,38+5,5)\n",
        "df_traffic"
      ]
    },
    {
      "cell_type": "markdown",
      "id": "9c0bd5f6-bb03-4efc-a947-2a3c6ef4b0d3",
      "metadata": {
        "id": "9c0bd5f6-bb03-4efc-a947-2a3c6ef4b0d3"
      },
      "source": [
        "\\\n",
        "คำนวณค่ากึ่งกลางคูณด้วยความถี่ (fx)"
      ]
    },
    {
      "cell_type": "code",
      "execution_count": null,
      "id": "05f52475-8f43-48ca-ab8f-f43e5e0be1df",
      "metadata": {
        "colab": {
          "base_uri": "https://localhost:8080/",
          "height": 238
        },
        "id": "05f52475-8f43-48ca-ab8f-f43e5e0be1df",
        "outputId": "41c7a26f-3c90-4f07-8fcf-1e80faad2ddf"
      },
      "outputs": [
        {
          "data": {
            "text/html": [
              "\n",
              "  <div id=\"df-63080298-404d-4f87-9f12-e0ac7160200c\" class=\"colab-df-container\">\n",
              "    <div>\n",
              "<style scoped>\n",
              "    .dataframe tbody tr th:only-of-type {\n",
              "        vertical-align: middle;\n",
              "    }\n",
              "\n",
              "    .dataframe tbody tr th {\n",
              "        vertical-align: top;\n",
              "    }\n",
              "\n",
              "    .dataframe thead th {\n",
              "        text-align: right;\n",
              "    }\n",
              "</style>\n",
              "<table border=\"1\" class=\"dataframe\">\n",
              "  <thead>\n",
              "    <tr style=\"text-align: right;\">\n",
              "      <th></th>\n",
              "      <th>เวลาที่รอ (นาที)</th>\n",
              "      <th>ความถี่ (f)</th>\n",
              "      <th>ค่ากึ่งกลาง (x)</th>\n",
              "      <th>fx</th>\n",
              "    </tr>\n",
              "  </thead>\n",
              "  <tbody>\n",
              "    <tr>\n",
              "      <th>0</th>\n",
              "      <td>11-15</td>\n",
              "      <td>5</td>\n",
              "      <td>13</td>\n",
              "      <td>65</td>\n",
              "    </tr>\n",
              "    <tr>\n",
              "      <th>1</th>\n",
              "      <td>16-20</td>\n",
              "      <td>4</td>\n",
              "      <td>18</td>\n",
              "      <td>72</td>\n",
              "    </tr>\n",
              "    <tr>\n",
              "      <th>2</th>\n",
              "      <td>21-25</td>\n",
              "      <td>10</td>\n",
              "      <td>23</td>\n",
              "      <td>230</td>\n",
              "    </tr>\n",
              "    <tr>\n",
              "      <th>3</th>\n",
              "      <td>26-30</td>\n",
              "      <td>8</td>\n",
              "      <td>28</td>\n",
              "      <td>224</td>\n",
              "    </tr>\n",
              "    <tr>\n",
              "      <th>4</th>\n",
              "      <td>31-35</td>\n",
              "      <td>6</td>\n",
              "      <td>33</td>\n",
              "      <td>198</td>\n",
              "    </tr>\n",
              "    <tr>\n",
              "      <th>5</th>\n",
              "      <td>36-40</td>\n",
              "      <td>7</td>\n",
              "      <td>38</td>\n",
              "      <td>266</td>\n",
              "    </tr>\n",
              "  </tbody>\n",
              "</table>\n",
              "</div>\n",
              "    <div class=\"colab-df-buttons\">\n",
              "\n",
              "  <div class=\"colab-df-container\">\n",
              "    <button class=\"colab-df-convert\" onclick=\"convertToInteractive('df-63080298-404d-4f87-9f12-e0ac7160200c')\"\n",
              "            title=\"Convert this dataframe to an interactive table.\"\n",
              "            style=\"display:none;\">\n",
              "\n",
              "  <svg xmlns=\"http://www.w3.org/2000/svg\" height=\"24px\" viewBox=\"0 -960 960 960\">\n",
              "    <path d=\"M120-120v-720h720v720H120Zm60-500h600v-160H180v160Zm220 220h160v-160H400v160Zm0 220h160v-160H400v160ZM180-400h160v-160H180v160Zm440 0h160v-160H620v160ZM180-180h160v-160H180v160Zm440 0h160v-160H620v160Z\"/>\n",
              "  </svg>\n",
              "    </button>\n",
              "\n",
              "  <style>\n",
              "    .colab-df-container {\n",
              "      display:flex;\n",
              "      gap: 12px;\n",
              "    }\n",
              "\n",
              "    .colab-df-convert {\n",
              "      background-color: #E8F0FE;\n",
              "      border: none;\n",
              "      border-radius: 50%;\n",
              "      cursor: pointer;\n",
              "      display: none;\n",
              "      fill: #1967D2;\n",
              "      height: 32px;\n",
              "      padding: 0 0 0 0;\n",
              "      width: 32px;\n",
              "    }\n",
              "\n",
              "    .colab-df-convert:hover {\n",
              "      background-color: #E2EBFA;\n",
              "      box-shadow: 0px 1px 2px rgba(60, 64, 67, 0.3), 0px 1px 3px 1px rgba(60, 64, 67, 0.15);\n",
              "      fill: #174EA6;\n",
              "    }\n",
              "\n",
              "    .colab-df-buttons div {\n",
              "      margin-bottom: 4px;\n",
              "    }\n",
              "\n",
              "    [theme=dark] .colab-df-convert {\n",
              "      background-color: #3B4455;\n",
              "      fill: #D2E3FC;\n",
              "    }\n",
              "\n",
              "    [theme=dark] .colab-df-convert:hover {\n",
              "      background-color: #434B5C;\n",
              "      box-shadow: 0px 1px 3px 1px rgba(0, 0, 0, 0.15);\n",
              "      filter: drop-shadow(0px 1px 2px rgba(0, 0, 0, 0.3));\n",
              "      fill: #FFFFFF;\n",
              "    }\n",
              "  </style>\n",
              "\n",
              "    <script>\n",
              "      const buttonEl =\n",
              "        document.querySelector('#df-63080298-404d-4f87-9f12-e0ac7160200c button.colab-df-convert');\n",
              "      buttonEl.style.display =\n",
              "        google.colab.kernel.accessAllowed ? 'block' : 'none';\n",
              "\n",
              "      async function convertToInteractive(key) {\n",
              "        const element = document.querySelector('#df-63080298-404d-4f87-9f12-e0ac7160200c');\n",
              "        const dataTable =\n",
              "          await google.colab.kernel.invokeFunction('convertToInteractive',\n",
              "                                                    [key], {});\n",
              "        if (!dataTable) return;\n",
              "\n",
              "        const docLinkHtml = 'Like what you see? Visit the ' +\n",
              "          '<a target=\"_blank\" href=https://colab.research.google.com/notebooks/data_table.ipynb>data table notebook</a>'\n",
              "          + ' to learn more about interactive tables.';\n",
              "        element.innerHTML = '';\n",
              "        dataTable['output_type'] = 'display_data';\n",
              "        await google.colab.output.renderOutput(dataTable, element);\n",
              "        const docLink = document.createElement('div');\n",
              "        docLink.innerHTML = docLinkHtml;\n",
              "        element.appendChild(docLink);\n",
              "      }\n",
              "    </script>\n",
              "  </div>\n",
              "\n",
              "\n",
              "<div id=\"df-ade79649-a67b-4f53-9ea6-0aeeeb55c59c\">\n",
              "  <button class=\"colab-df-quickchart\" onclick=\"quickchart('df-ade79649-a67b-4f53-9ea6-0aeeeb55c59c')\"\n",
              "            title=\"Suggest charts\"\n",
              "            style=\"display:none;\">\n",
              "\n",
              "<svg xmlns=\"http://www.w3.org/2000/svg\" height=\"24px\"viewBox=\"0 0 24 24\"\n",
              "     width=\"24px\">\n",
              "    <g>\n",
              "        <path d=\"M19 3H5c-1.1 0-2 .9-2 2v14c0 1.1.9 2 2 2h14c1.1 0 2-.9 2-2V5c0-1.1-.9-2-2-2zM9 17H7v-7h2v7zm4 0h-2V7h2v10zm4 0h-2v-4h2v4z\"/>\n",
              "    </g>\n",
              "</svg>\n",
              "  </button>\n",
              "\n",
              "<style>\n",
              "  .colab-df-quickchart {\n",
              "      --bg-color: #E8F0FE;\n",
              "      --fill-color: #1967D2;\n",
              "      --hover-bg-color: #E2EBFA;\n",
              "      --hover-fill-color: #174EA6;\n",
              "      --disabled-fill-color: #AAA;\n",
              "      --disabled-bg-color: #DDD;\n",
              "  }\n",
              "\n",
              "  [theme=dark] .colab-df-quickchart {\n",
              "      --bg-color: #3B4455;\n",
              "      --fill-color: #D2E3FC;\n",
              "      --hover-bg-color: #434B5C;\n",
              "      --hover-fill-color: #FFFFFF;\n",
              "      --disabled-bg-color: #3B4455;\n",
              "      --disabled-fill-color: #666;\n",
              "  }\n",
              "\n",
              "  .colab-df-quickchart {\n",
              "    background-color: var(--bg-color);\n",
              "    border: none;\n",
              "    border-radius: 50%;\n",
              "    cursor: pointer;\n",
              "    display: none;\n",
              "    fill: var(--fill-color);\n",
              "    height: 32px;\n",
              "    padding: 0;\n",
              "    width: 32px;\n",
              "  }\n",
              "\n",
              "  .colab-df-quickchart:hover {\n",
              "    background-color: var(--hover-bg-color);\n",
              "    box-shadow: 0 1px 2px rgba(60, 64, 67, 0.3), 0 1px 3px 1px rgba(60, 64, 67, 0.15);\n",
              "    fill: var(--button-hover-fill-color);\n",
              "  }\n",
              "\n",
              "  .colab-df-quickchart-complete:disabled,\n",
              "  .colab-df-quickchart-complete:disabled:hover {\n",
              "    background-color: var(--disabled-bg-color);\n",
              "    fill: var(--disabled-fill-color);\n",
              "    box-shadow: none;\n",
              "  }\n",
              "\n",
              "  .colab-df-spinner {\n",
              "    border: 2px solid var(--fill-color);\n",
              "    border-color: transparent;\n",
              "    border-bottom-color: var(--fill-color);\n",
              "    animation:\n",
              "      spin 1s steps(1) infinite;\n",
              "  }\n",
              "\n",
              "  @keyframes spin {\n",
              "    0% {\n",
              "      border-color: transparent;\n",
              "      border-bottom-color: var(--fill-color);\n",
              "      border-left-color: var(--fill-color);\n",
              "    }\n",
              "    20% {\n",
              "      border-color: transparent;\n",
              "      border-left-color: var(--fill-color);\n",
              "      border-top-color: var(--fill-color);\n",
              "    }\n",
              "    30% {\n",
              "      border-color: transparent;\n",
              "      border-left-color: var(--fill-color);\n",
              "      border-top-color: var(--fill-color);\n",
              "      border-right-color: var(--fill-color);\n",
              "    }\n",
              "    40% {\n",
              "      border-color: transparent;\n",
              "      border-right-color: var(--fill-color);\n",
              "      border-top-color: var(--fill-color);\n",
              "    }\n",
              "    60% {\n",
              "      border-color: transparent;\n",
              "      border-right-color: var(--fill-color);\n",
              "    }\n",
              "    80% {\n",
              "      border-color: transparent;\n",
              "      border-right-color: var(--fill-color);\n",
              "      border-bottom-color: var(--fill-color);\n",
              "    }\n",
              "    90% {\n",
              "      border-color: transparent;\n",
              "      border-bottom-color: var(--fill-color);\n",
              "    }\n",
              "  }\n",
              "</style>\n",
              "\n",
              "  <script>\n",
              "    async function quickchart(key) {\n",
              "      const quickchartButtonEl =\n",
              "        document.querySelector('#' + key + ' button');\n",
              "      quickchartButtonEl.disabled = true;  // To prevent multiple clicks.\n",
              "      quickchartButtonEl.classList.add('colab-df-spinner');\n",
              "      try {\n",
              "        const charts = await google.colab.kernel.invokeFunction(\n",
              "            'suggestCharts', [key], {});\n",
              "      } catch (error) {\n",
              "        console.error('Error during call to suggestCharts:', error);\n",
              "      }\n",
              "      quickchartButtonEl.classList.remove('colab-df-spinner');\n",
              "      quickchartButtonEl.classList.add('colab-df-quickchart-complete');\n",
              "    }\n",
              "    (() => {\n",
              "      let quickchartButtonEl =\n",
              "        document.querySelector('#df-ade79649-a67b-4f53-9ea6-0aeeeb55c59c button');\n",
              "      quickchartButtonEl.style.display =\n",
              "        google.colab.kernel.accessAllowed ? 'block' : 'none';\n",
              "    })();\n",
              "  </script>\n",
              "</div>\n",
              "    </div>\n",
              "  </div>\n"
            ],
            "text/plain": [
              "  เวลาที่รอ (นาที)  ความถี่ (f)  ค่ากึ่งกลาง (x)   fx\n",
              "0            11-15            5               13   65\n",
              "1            16-20            4               18   72\n",
              "2            21-25           10               23  230\n",
              "3            26-30            8               28  224\n",
              "4            31-35            6               33  198\n",
              "5            36-40            7               38  266"
            ]
          },
          "execution_count": 14,
          "metadata": {},
          "output_type": "execute_result"
        }
      ],
      "source": [
        "df_traffic['fx'] = df_traffic['ความถี่ (f)']*df_traffic['ค่ากึ่งกลาง (x)']\n",
        "df_traffic"
      ]
    },
    {
      "cell_type": "markdown",
      "id": "0cd31e3f-2242-47d6-ae85-817fa8e0a189",
      "metadata": {
        "id": "0cd31e3f-2242-47d6-ae85-817fa8e0a189"
      },
      "source": [
        "\\\n",
        "คำนวณเวลาเฉลี่ยที่รถยนต์ 40 คันใช้ในการรอสัญญาณไฟจราจร"
      ]
    },
    {
      "cell_type": "code",
      "execution_count": null,
      "id": "d2ca154b-3d26-4c69-a628-dfe2170c5e88",
      "metadata": {
        "colab": {
          "base_uri": "https://localhost:8080/"
        },
        "id": "d2ca154b-3d26-4c69-a628-dfe2170c5e88",
        "outputId": "38e306d1-1d1f-4e97-a763-a617aed40316"
      },
      "outputs": [
        {
          "data": {
            "text/plain": [
              "26.375"
            ]
          },
          "execution_count": 14,
          "metadata": {},
          "output_type": "execute_result"
        }
      ],
      "source": [
        "df_traffic['fx'].sum() / df_traffic['ความถี่ (f)'].sum()   #หรือ df_traffic['fx'].sum() / 40 โจทย์บอกตั้งแต่แรกมี n=40"
      ]
    },
    {
      "cell_type": "markdown",
      "id": "088446a1-a19c-4630-8e7d-86c2786a939f",
      "metadata": {
        "id": "088446a1-a19c-4630-8e7d-86c2786a939f",
        "tags": []
      },
      "source": [
        "####   \n",
        "#### 4.3 ในการสอบวิชาการเขียนโปรแกรมครั้งหนึ่งมีนักศึกษาเข้าสอบ 3 กลุ่ม โดยที่ <br>กลุ่ม 1 มีนิสิตเข้าสอบ 50 คน มีคะแนนเฉลี่ย 58 คะแนน<br>กลุ่ม 2 มีนิสิตเข้าสอบ 40 คน มีคะแนนเฉลี่ย 70 คะแนน<br>กลุ่ม 3 มีนิสิตเข้าสอบ 60 คน มีคะแนนเฉลี่ย 52 คะแนน<br>จงหาค่าเฉลี่ยรวมของคะแนนสอบของนิสิตที่เรียนวิชาการเขียนโปรแกรม  \n",
        "x = sum(n*av) / sum(n)"
      ]
    },
    {
      "cell_type": "code",
      "execution_count": null,
      "id": "4867a424-f43e-451a-b025-aa347eb07a2e",
      "metadata": {
        "colab": {
          "base_uri": "https://localhost:8080/",
          "height": 143
        },
        "id": "4867a424-f43e-451a-b025-aa347eb07a2e",
        "outputId": "c1aa477a-5f41-4173-b0ce-96e8bc72a058"
      },
      "outputs": [
        {
          "data": {
            "text/html": [
              "\n",
              "  <div id=\"df-82495fde-aec4-4d5e-a5fa-d102adca6483\" class=\"colab-df-container\">\n",
              "    <div>\n",
              "<style scoped>\n",
              "    .dataframe tbody tr th:only-of-type {\n",
              "        vertical-align: middle;\n",
              "    }\n",
              "\n",
              "    .dataframe tbody tr th {\n",
              "        vertical-align: top;\n",
              "    }\n",
              "\n",
              "    .dataframe thead th {\n",
              "        text-align: right;\n",
              "    }\n",
              "</style>\n",
              "<table border=\"1\" class=\"dataframe\">\n",
              "  <thead>\n",
              "    <tr style=\"text-align: right;\">\n",
              "      <th></th>\n",
              "      <th>section</th>\n",
              "      <th>num_student</th>\n",
              "      <th>avg_score</th>\n",
              "    </tr>\n",
              "  </thead>\n",
              "  <tbody>\n",
              "    <tr>\n",
              "      <th>0</th>\n",
              "      <td>1</td>\n",
              "      <td>50</td>\n",
              "      <td>58</td>\n",
              "    </tr>\n",
              "    <tr>\n",
              "      <th>1</th>\n",
              "      <td>2</td>\n",
              "      <td>40</td>\n",
              "      <td>70</td>\n",
              "    </tr>\n",
              "    <tr>\n",
              "      <th>2</th>\n",
              "      <td>3</td>\n",
              "      <td>60</td>\n",
              "      <td>52</td>\n",
              "    </tr>\n",
              "  </tbody>\n",
              "</table>\n",
              "</div>\n",
              "    <div class=\"colab-df-buttons\">\n",
              "\n",
              "  <div class=\"colab-df-container\">\n",
              "    <button class=\"colab-df-convert\" onclick=\"convertToInteractive('df-82495fde-aec4-4d5e-a5fa-d102adca6483')\"\n",
              "            title=\"Convert this dataframe to an interactive table.\"\n",
              "            style=\"display:none;\">\n",
              "\n",
              "  <svg xmlns=\"http://www.w3.org/2000/svg\" height=\"24px\" viewBox=\"0 -960 960 960\">\n",
              "    <path d=\"M120-120v-720h720v720H120Zm60-500h600v-160H180v160Zm220 220h160v-160H400v160Zm0 220h160v-160H400v160ZM180-400h160v-160H180v160Zm440 0h160v-160H620v160ZM180-180h160v-160H180v160Zm440 0h160v-160H620v160Z\"/>\n",
              "  </svg>\n",
              "    </button>\n",
              "\n",
              "  <style>\n",
              "    .colab-df-container {\n",
              "      display:flex;\n",
              "      gap: 12px;\n",
              "    }\n",
              "\n",
              "    .colab-df-convert {\n",
              "      background-color: #E8F0FE;\n",
              "      border: none;\n",
              "      border-radius: 50%;\n",
              "      cursor: pointer;\n",
              "      display: none;\n",
              "      fill: #1967D2;\n",
              "      height: 32px;\n",
              "      padding: 0 0 0 0;\n",
              "      width: 32px;\n",
              "    }\n",
              "\n",
              "    .colab-df-convert:hover {\n",
              "      background-color: #E2EBFA;\n",
              "      box-shadow: 0px 1px 2px rgba(60, 64, 67, 0.3), 0px 1px 3px 1px rgba(60, 64, 67, 0.15);\n",
              "      fill: #174EA6;\n",
              "    }\n",
              "\n",
              "    .colab-df-buttons div {\n",
              "      margin-bottom: 4px;\n",
              "    }\n",
              "\n",
              "    [theme=dark] .colab-df-convert {\n",
              "      background-color: #3B4455;\n",
              "      fill: #D2E3FC;\n",
              "    }\n",
              "\n",
              "    [theme=dark] .colab-df-convert:hover {\n",
              "      background-color: #434B5C;\n",
              "      box-shadow: 0px 1px 3px 1px rgba(0, 0, 0, 0.15);\n",
              "      filter: drop-shadow(0px 1px 2px rgba(0, 0, 0, 0.3));\n",
              "      fill: #FFFFFF;\n",
              "    }\n",
              "  </style>\n",
              "\n",
              "    <script>\n",
              "      const buttonEl =\n",
              "        document.querySelector('#df-82495fde-aec4-4d5e-a5fa-d102adca6483 button.colab-df-convert');\n",
              "      buttonEl.style.display =\n",
              "        google.colab.kernel.accessAllowed ? 'block' : 'none';\n",
              "\n",
              "      async function convertToInteractive(key) {\n",
              "        const element = document.querySelector('#df-82495fde-aec4-4d5e-a5fa-d102adca6483');\n",
              "        const dataTable =\n",
              "          await google.colab.kernel.invokeFunction('convertToInteractive',\n",
              "                                                    [key], {});\n",
              "        if (!dataTable) return;\n",
              "\n",
              "        const docLinkHtml = 'Like what you see? Visit the ' +\n",
              "          '<a target=\"_blank\" href=https://colab.research.google.com/notebooks/data_table.ipynb>data table notebook</a>'\n",
              "          + ' to learn more about interactive tables.';\n",
              "        element.innerHTML = '';\n",
              "        dataTable['output_type'] = 'display_data';\n",
              "        await google.colab.output.renderOutput(dataTable, element);\n",
              "        const docLink = document.createElement('div');\n",
              "        docLink.innerHTML = docLinkHtml;\n",
              "        element.appendChild(docLink);\n",
              "      }\n",
              "    </script>\n",
              "  </div>\n",
              "\n",
              "\n",
              "<div id=\"df-272d1f2f-ddff-4314-8721-fb7158160853\">\n",
              "  <button class=\"colab-df-quickchart\" onclick=\"quickchart('df-272d1f2f-ddff-4314-8721-fb7158160853')\"\n",
              "            title=\"Suggest charts\"\n",
              "            style=\"display:none;\">\n",
              "\n",
              "<svg xmlns=\"http://www.w3.org/2000/svg\" height=\"24px\"viewBox=\"0 0 24 24\"\n",
              "     width=\"24px\">\n",
              "    <g>\n",
              "        <path d=\"M19 3H5c-1.1 0-2 .9-2 2v14c0 1.1.9 2 2 2h14c1.1 0 2-.9 2-2V5c0-1.1-.9-2-2-2zM9 17H7v-7h2v7zm4 0h-2V7h2v10zm4 0h-2v-4h2v4z\"/>\n",
              "    </g>\n",
              "</svg>\n",
              "  </button>\n",
              "\n",
              "<style>\n",
              "  .colab-df-quickchart {\n",
              "      --bg-color: #E8F0FE;\n",
              "      --fill-color: #1967D2;\n",
              "      --hover-bg-color: #E2EBFA;\n",
              "      --hover-fill-color: #174EA6;\n",
              "      --disabled-fill-color: #AAA;\n",
              "      --disabled-bg-color: #DDD;\n",
              "  }\n",
              "\n",
              "  [theme=dark] .colab-df-quickchart {\n",
              "      --bg-color: #3B4455;\n",
              "      --fill-color: #D2E3FC;\n",
              "      --hover-bg-color: #434B5C;\n",
              "      --hover-fill-color: #FFFFFF;\n",
              "      --disabled-bg-color: #3B4455;\n",
              "      --disabled-fill-color: #666;\n",
              "  }\n",
              "\n",
              "  .colab-df-quickchart {\n",
              "    background-color: var(--bg-color);\n",
              "    border: none;\n",
              "    border-radius: 50%;\n",
              "    cursor: pointer;\n",
              "    display: none;\n",
              "    fill: var(--fill-color);\n",
              "    height: 32px;\n",
              "    padding: 0;\n",
              "    width: 32px;\n",
              "  }\n",
              "\n",
              "  .colab-df-quickchart:hover {\n",
              "    background-color: var(--hover-bg-color);\n",
              "    box-shadow: 0 1px 2px rgba(60, 64, 67, 0.3), 0 1px 3px 1px rgba(60, 64, 67, 0.15);\n",
              "    fill: var(--button-hover-fill-color);\n",
              "  }\n",
              "\n",
              "  .colab-df-quickchart-complete:disabled,\n",
              "  .colab-df-quickchart-complete:disabled:hover {\n",
              "    background-color: var(--disabled-bg-color);\n",
              "    fill: var(--disabled-fill-color);\n",
              "    box-shadow: none;\n",
              "  }\n",
              "\n",
              "  .colab-df-spinner {\n",
              "    border: 2px solid var(--fill-color);\n",
              "    border-color: transparent;\n",
              "    border-bottom-color: var(--fill-color);\n",
              "    animation:\n",
              "      spin 1s steps(1) infinite;\n",
              "  }\n",
              "\n",
              "  @keyframes spin {\n",
              "    0% {\n",
              "      border-color: transparent;\n",
              "      border-bottom-color: var(--fill-color);\n",
              "      border-left-color: var(--fill-color);\n",
              "    }\n",
              "    20% {\n",
              "      border-color: transparent;\n",
              "      border-left-color: var(--fill-color);\n",
              "      border-top-color: var(--fill-color);\n",
              "    }\n",
              "    30% {\n",
              "      border-color: transparent;\n",
              "      border-left-color: var(--fill-color);\n",
              "      border-top-color: var(--fill-color);\n",
              "      border-right-color: var(--fill-color);\n",
              "    }\n",
              "    40% {\n",
              "      border-color: transparent;\n",
              "      border-right-color: var(--fill-color);\n",
              "      border-top-color: var(--fill-color);\n",
              "    }\n",
              "    60% {\n",
              "      border-color: transparent;\n",
              "      border-right-color: var(--fill-color);\n",
              "    }\n",
              "    80% {\n",
              "      border-color: transparent;\n",
              "      border-right-color: var(--fill-color);\n",
              "      border-bottom-color: var(--fill-color);\n",
              "    }\n",
              "    90% {\n",
              "      border-color: transparent;\n",
              "      border-bottom-color: var(--fill-color);\n",
              "    }\n",
              "  }\n",
              "</style>\n",
              "\n",
              "  <script>\n",
              "    async function quickchart(key) {\n",
              "      const quickchartButtonEl =\n",
              "        document.querySelector('#' + key + ' button');\n",
              "      quickchartButtonEl.disabled = true;  // To prevent multiple clicks.\n",
              "      quickchartButtonEl.classList.add('colab-df-spinner');\n",
              "      try {\n",
              "        const charts = await google.colab.kernel.invokeFunction(\n",
              "            'suggestCharts', [key], {});\n",
              "      } catch (error) {\n",
              "        console.error('Error during call to suggestCharts:', error);\n",
              "      }\n",
              "      quickchartButtonEl.classList.remove('colab-df-spinner');\n",
              "      quickchartButtonEl.classList.add('colab-df-quickchart-complete');\n",
              "    }\n",
              "    (() => {\n",
              "      let quickchartButtonEl =\n",
              "        document.querySelector('#df-272d1f2f-ddff-4314-8721-fb7158160853 button');\n",
              "      quickchartButtonEl.style.display =\n",
              "        google.colab.kernel.accessAllowed ? 'block' : 'none';\n",
              "    })();\n",
              "  </script>\n",
              "</div>\n",
              "    </div>\n",
              "  </div>\n"
            ],
            "text/plain": [
              "   section  num_student  avg_score\n",
              "0        1           50         58\n",
              "1        2           40         70\n",
              "2        3           60         52"
            ]
          },
          "execution_count": 15,
          "metadata": {},
          "output_type": "execute_result"
        }
      ],
      "source": [
        "df_prog = pd.read_csv(\"https://raw.githubusercontent.com/ThammakornS/ProgStat/main/dataset/ex4_3_programming.csv\")\n",
        "df_prog"
      ]
    },
    {
      "cell_type": "markdown",
      "id": "6f388d95-822b-4f32-b1c8-f54ee43b9286",
      "metadata": {
        "id": "6f388d95-822b-4f32-b1c8-f54ee43b9286"
      },
      "source": [
        "หาค่าเฉลี่ยรวมของคะแนนสอบของนิสิตที่เรียนวิชาการเขียนโปรแกรม"
      ]
    },
    {
      "cell_type": "code",
      "execution_count": null,
      "id": "3c49dceb-bb84-4458-a391-d7fcdd5364b3",
      "metadata": {
        "colab": {
          "base_uri": "https://localhost:8080/"
        },
        "id": "3c49dceb-bb84-4458-a391-d7fcdd5364b3",
        "outputId": "7a0452a0-ee3c-41fc-df0a-df24b5d5a7e3"
      },
      "outputs": [
        {
          "data": {
            "text/plain": [
              "58.8"
            ]
          },
          "execution_count": 16,
          "metadata": {},
          "output_type": "execute_result"
        }
      ],
      "source": [
        "sum(df_prog.num_student*df_prog.avg_score)/df_prog.num_student.sum()"
      ]
    },
    {
      "cell_type": "markdown",
      "id": "2fd01e27-9e42-4f31-b9c9-a7e29fe89f31",
      "metadata": {
        "id": "2fd01e27-9e42-4f31-b9c9-a7e29fe89f31"
      },
      "source": [
        "####    \n",
        "#### 4.4 ทำการสำรวจรายได้ของผู้ที่มาใช้บริการธนาคารแห่งหนึ่งจำนวน 11 คน ได้ข้อมูลดังนี้"
      ]
    },
    {
      "cell_type": "code",
      "execution_count": null,
      "id": "657f017f-4e8c-4e7c-8888-852042a6b61c",
      "metadata": {
        "id": "657f017f-4e8c-4e7c-8888-852042a6b61c"
      },
      "outputs": [],
      "source": [
        "income = [25000, 32000, 45000, 22000, 18000, 34000, 27000, 90000, 97000, 38000, 75000, 100000]"
      ]
    },
    {
      "cell_type": "code",
      "execution_count": null,
      "id": "4547afd7-9afa-4fb6-9ae3-5d0a93aac151",
      "metadata": {
        "colab": {
          "base_uri": "https://localhost:8080/"
        },
        "id": "4547afd7-9afa-4fb6-9ae3-5d0a93aac151",
        "outputId": "87c19955-ff44-4037-acfb-ff58fdd08cdc"
      },
      "outputs": [
        {
          "data": {
            "text/plain": [
              "11"
            ]
          },
          "execution_count": 18,
          "metadata": {},
          "output_type": "execute_result"
        }
      ],
      "source": [
        "len(income)"
      ]
    },
    {
      "cell_type": "markdown",
      "id": "30202243-f1d9-4943-aab0-ce8073f90b47",
      "metadata": {
        "id": "30202243-f1d9-4943-aab0-ce8073f90b47"
      },
      "source": [
        "\\\n",
        "ลองเรียงลำดับข้อมูล"
      ]
    },
    {
      "cell_type": "code",
      "execution_count": null,
      "id": "cb37ff50-7c6b-4687-8e20-60ed1b24d917",
      "metadata": {
        "colab": {
          "base_uri": "https://localhost:8080/"
        },
        "id": "cb37ff50-7c6b-4687-8e20-60ed1b24d917",
        "outputId": "0a3ae9d2-d330-4035-ef1c-4609557ae9a5"
      },
      "outputs": [
        {
          "data": {
            "text/plain": [
              "[18000,\n",
              " 22000,\n",
              " 25000,\n",
              " 27000,\n",
              " 32000,\n",
              " 34000,\n",
              " 38000,\n",
              " 45000,\n",
              " 75000,\n",
              " 90000,\n",
              " 97000,\n",
              " 100000]"
            ]
          },
          "execution_count": 33,
          "metadata": {},
          "output_type": "execute_result"
        }
      ],
      "source": [
        "sorted(income)"
      ]
    },
    {
      "cell_type": "markdown",
      "id": "ab60ced5-9d52-403a-8b8a-656b4c460684",
      "metadata": {
        "id": "ab60ced5-9d52-403a-8b8a-656b4c460684"
      },
      "source": [
        "\\\n",
        "หาค่า median : ในกรณีที่จ้อมูลกระจายามากที่ผิดปกติ ใช้ median ดีกว่า"
      ]
    },
    {
      "cell_type": "code",
      "execution_count": null,
      "id": "5dd03994-140f-4e3a-b46d-7d03290eca8e",
      "metadata": {
        "colab": {
          "base_uri": "https://localhost:8080/"
        },
        "id": "5dd03994-140f-4e3a-b46d-7d03290eca8e",
        "outputId": "af2a23bf-cbdd-41b0-97bd-b4b16a1d6c85"
      },
      "outputs": [
        {
          "data": {
            "text/plain": [
              "34000"
            ]
          },
          "execution_count": 22,
          "metadata": {},
          "output_type": "execute_result"
        }
      ],
      "source": [
        "median_pos = len(income)\n",
        "sorted(income)[(int)((len(income)+1)/2)-1]"
      ]
    },
    {
      "cell_type": "code",
      "execution_count": null,
      "id": "67fb652f-fdc1-4043-998c-465991283b94",
      "metadata": {
        "colab": {
          "base_uri": "https://localhost:8080/"
        },
        "id": "67fb652f-fdc1-4043-998c-465991283b94",
        "outputId": "1ef266b5-5562-4c7b-9f51-c9e12e45ab75"
      },
      "outputs": [
        {
          "data": {
            "text/plain": [
              "36000.0"
            ]
          },
          "execution_count": 34,
          "metadata": {},
          "output_type": "execute_result"
        }
      ],
      "source": [
        "sorted(income)\n",
        "np.median(income)"
      ]
    },
    {
      "cell_type": "code",
      "execution_count": null,
      "id": "c5cdc8b8-212c-4cea-baea-ba0da34231de",
      "metadata": {
        "colab": {
          "base_uri": "https://localhost:8080/"
        },
        "id": "c5cdc8b8-212c-4cea-baea-ba0da34231de",
        "outputId": "39cb6d44-4bd7-4d12-be12-2a05244abf24"
      },
      "outputs": [
        {
          "data": {
            "text/plain": [
              "36000.0"
            ]
          },
          "execution_count": 35,
          "metadata": {},
          "output_type": "execute_result"
        }
      ],
      "source": [
        "statistics.median(income)"
      ]
    },
    {
      "cell_type": "markdown",
      "id": "43541885-2a1c-4377-8819-a7dd55060819",
      "metadata": {
        "id": "43541885-2a1c-4377-8819-a7dd55060819"
      },
      "source": [
        "\\\n",
        "หาค่า mean"
      ]
    },
    {
      "cell_type": "code",
      "execution_count": null,
      "id": "9jnBCOV4kECg",
      "metadata": {
        "colab": {
          "base_uri": "https://localhost:8080/"
        },
        "id": "9jnBCOV4kECg",
        "outputId": "c68af2db-8656-4710-b406-6d21d6ab9eff"
      },
      "outputs": [
        {
          "data": {
            "text/plain": [
              "50250.0"
            ]
          },
          "execution_count": 37,
          "metadata": {},
          "output_type": "execute_result"
        }
      ],
      "source": [
        "avg = sum(income) / len(income)\n",
        "avg"
      ]
    },
    {
      "cell_type": "code",
      "execution_count": null,
      "id": "810921d7-ff9f-4255-a2d5-4fe6b9507784",
      "metadata": {
        "colab": {
          "base_uri": "https://localhost:8080/"
        },
        "id": "810921d7-ff9f-4255-a2d5-4fe6b9507784",
        "outputId": "8edcdb40-c7a2-493f-d65e-7ffd0f70dcd9"
      },
      "outputs": [
        {
          "data": {
            "text/plain": [
              "50250.0"
            ]
          },
          "execution_count": 36,
          "metadata": {},
          "output_type": "execute_result"
        }
      ],
      "source": [
        "np.mean(income) # arithmetic"
      ]
    },
    {
      "cell_type": "markdown",
      "id": "5b9a77b0-c7f4-40a2-b283-34e33be83aa2",
      "metadata": {
        "id": "5b9a77b0-c7f4-40a2-b283-34e33be83aa2"
      },
      "source": [
        "####    \n",
        "#### 4.5 สุ่มนิสิตมา 10 คน พบว่ามี GPA ดังนี้  3.5, 2.4, 3.3, 2.7, 3.6, 3.9, 3.0, 2.8, 3.1, 2.9<br>มัธยฐาน GPA ของตัวอย่างมีค่าเท่าใด?"
      ]
    },
    {
      "cell_type": "code",
      "execution_count": null,
      "id": "bf9a3efc-6d97-4a68-a092-12b04e43d6e0",
      "metadata": {
        "id": "bf9a3efc-6d97-4a68-a092-12b04e43d6e0"
      },
      "outputs": [],
      "source": [
        "gpa = [3.5, 2.4, 3.3, 2.7, 3.6, 3.9, 3.0, 2.8, 3.1, 2.9]"
      ]
    },
    {
      "cell_type": "code",
      "execution_count": null,
      "id": "d856a388-937c-4283-b743-d4b47b8bc532",
      "metadata": {
        "colab": {
          "base_uri": "https://localhost:8080/"
        },
        "id": "d856a388-937c-4283-b743-d4b47b8bc532",
        "outputId": "2a6f386b-4559-4104-b330-85c92c2c866d"
      },
      "outputs": [
        {
          "data": {
            "text/plain": [
              "3.05"
            ]
          },
          "execution_count": 39,
          "metadata": {},
          "output_type": "execute_result"
        }
      ],
      "source": [
        "np.median(gpa)"
      ]
    },
    {
      "cell_type": "markdown",
      "id": "2b1168f2-6b80-48a3-b66d-fa6621df08af",
      "metadata": {
        "id": "2b1168f2-6b80-48a3-b66d-fa6621df08af"
      },
      "source": [
        "####    \n",
        "#### 4.6 ตาราง \"ex4_6_visitor.csv\" แสดงระยะเวลา (หน่วย: วัน) ที่นักท่องเที่ยวชาวต่างประเทศที่ถูกสุ่มเป็นตัวอย่างจำนวน 36 คน ใช้เวลาท่องเที่ยวในประเทศไทยในช่วง 1 ปี มีดังตาราง จงหามัธยฐานของระยะเวลาที่นักท่องเที่ยวชาวต่างประเทศใช้ท่องเที่ยวในประเทศไทย\n",
        "\n"
      ]
    },
    {
      "cell_type": "code",
      "execution_count": null,
      "id": "02a3e42e-52b9-4f4c-b26a-c2c59606607a",
      "metadata": {
        "colab": {
          "base_uri": "https://localhost:8080/",
          "height": 269
        },
        "id": "02a3e42e-52b9-4f4c-b26a-c2c59606607a",
        "outputId": "c60f7a64-3a13-4e46-9ffe-c1824fecf058"
      },
      "outputs": [
        {
          "data": {
            "text/html": [
              "\n",
              "  <div id=\"df-863b6aa8-6b24-4225-8489-371038c42d49\" class=\"colab-df-container\">\n",
              "    <div>\n",
              "<style scoped>\n",
              "    .dataframe tbody tr th:only-of-type {\n",
              "        vertical-align: middle;\n",
              "    }\n",
              "\n",
              "    .dataframe tbody tr th {\n",
              "        vertical-align: top;\n",
              "    }\n",
              "\n",
              "    .dataframe thead th {\n",
              "        text-align: right;\n",
              "    }\n",
              "</style>\n",
              "<table border=\"1\" class=\"dataframe\">\n",
              "  <thead>\n",
              "    <tr style=\"text-align: right;\">\n",
              "      <th></th>\n",
              "      <th>duration</th>\n",
              "      <th>num_visitor</th>\n",
              "    </tr>\n",
              "  </thead>\n",
              "  <tbody>\n",
              "    <tr>\n",
              "      <th>0</th>\n",
              "      <td>1-7</td>\n",
              "      <td>4</td>\n",
              "    </tr>\n",
              "    <tr>\n",
              "      <th>1</th>\n",
              "      <td>8-14</td>\n",
              "      <td>6</td>\n",
              "    </tr>\n",
              "    <tr>\n",
              "      <th>2</th>\n",
              "      <td>15-21</td>\n",
              "      <td>5</td>\n",
              "    </tr>\n",
              "    <tr>\n",
              "      <th>3</th>\n",
              "      <td>22-28</td>\n",
              "      <td>10</td>\n",
              "    </tr>\n",
              "    <tr>\n",
              "      <th>4</th>\n",
              "      <td>29-35</td>\n",
              "      <td>6</td>\n",
              "    </tr>\n",
              "    <tr>\n",
              "      <th>5</th>\n",
              "      <td>36-42</td>\n",
              "      <td>4</td>\n",
              "    </tr>\n",
              "    <tr>\n",
              "      <th>6</th>\n",
              "      <td>43-49</td>\n",
              "      <td>1</td>\n",
              "    </tr>\n",
              "  </tbody>\n",
              "</table>\n",
              "</div>\n",
              "    <div class=\"colab-df-buttons\">\n",
              "\n",
              "  <div class=\"colab-df-container\">\n",
              "    <button class=\"colab-df-convert\" onclick=\"convertToInteractive('df-863b6aa8-6b24-4225-8489-371038c42d49')\"\n",
              "            title=\"Convert this dataframe to an interactive table.\"\n",
              "            style=\"display:none;\">\n",
              "\n",
              "  <svg xmlns=\"http://www.w3.org/2000/svg\" height=\"24px\" viewBox=\"0 -960 960 960\">\n",
              "    <path d=\"M120-120v-720h720v720H120Zm60-500h600v-160H180v160Zm220 220h160v-160H400v160Zm0 220h160v-160H400v160ZM180-400h160v-160H180v160Zm440 0h160v-160H620v160ZM180-180h160v-160H180v160Zm440 0h160v-160H620v160Z\"/>\n",
              "  </svg>\n",
              "    </button>\n",
              "\n",
              "  <style>\n",
              "    .colab-df-container {\n",
              "      display:flex;\n",
              "      gap: 12px;\n",
              "    }\n",
              "\n",
              "    .colab-df-convert {\n",
              "      background-color: #E8F0FE;\n",
              "      border: none;\n",
              "      border-radius: 50%;\n",
              "      cursor: pointer;\n",
              "      display: none;\n",
              "      fill: #1967D2;\n",
              "      height: 32px;\n",
              "      padding: 0 0 0 0;\n",
              "      width: 32px;\n",
              "    }\n",
              "\n",
              "    .colab-df-convert:hover {\n",
              "      background-color: #E2EBFA;\n",
              "      box-shadow: 0px 1px 2px rgba(60, 64, 67, 0.3), 0px 1px 3px 1px rgba(60, 64, 67, 0.15);\n",
              "      fill: #174EA6;\n",
              "    }\n",
              "\n",
              "    .colab-df-buttons div {\n",
              "      margin-bottom: 4px;\n",
              "    }\n",
              "\n",
              "    [theme=dark] .colab-df-convert {\n",
              "      background-color: #3B4455;\n",
              "      fill: #D2E3FC;\n",
              "    }\n",
              "\n",
              "    [theme=dark] .colab-df-convert:hover {\n",
              "      background-color: #434B5C;\n",
              "      box-shadow: 0px 1px 3px 1px rgba(0, 0, 0, 0.15);\n",
              "      filter: drop-shadow(0px 1px 2px rgba(0, 0, 0, 0.3));\n",
              "      fill: #FFFFFF;\n",
              "    }\n",
              "  </style>\n",
              "\n",
              "    <script>\n",
              "      const buttonEl =\n",
              "        document.querySelector('#df-863b6aa8-6b24-4225-8489-371038c42d49 button.colab-df-convert');\n",
              "      buttonEl.style.display =\n",
              "        google.colab.kernel.accessAllowed ? 'block' : 'none';\n",
              "\n",
              "      async function convertToInteractive(key) {\n",
              "        const element = document.querySelector('#df-863b6aa8-6b24-4225-8489-371038c42d49');\n",
              "        const dataTable =\n",
              "          await google.colab.kernel.invokeFunction('convertToInteractive',\n",
              "                                                    [key], {});\n",
              "        if (!dataTable) return;\n",
              "\n",
              "        const docLinkHtml = 'Like what you see? Visit the ' +\n",
              "          '<a target=\"_blank\" href=https://colab.research.google.com/notebooks/data_table.ipynb>data table notebook</a>'\n",
              "          + ' to learn more about interactive tables.';\n",
              "        element.innerHTML = '';\n",
              "        dataTable['output_type'] = 'display_data';\n",
              "        await google.colab.output.renderOutput(dataTable, element);\n",
              "        const docLink = document.createElement('div');\n",
              "        docLink.innerHTML = docLinkHtml;\n",
              "        element.appendChild(docLink);\n",
              "      }\n",
              "    </script>\n",
              "  </div>\n",
              "\n",
              "\n",
              "<div id=\"df-63b392a2-1963-41f2-801e-9a3a2023e12f\">\n",
              "  <button class=\"colab-df-quickchart\" onclick=\"quickchart('df-63b392a2-1963-41f2-801e-9a3a2023e12f')\"\n",
              "            title=\"Suggest charts\"\n",
              "            style=\"display:none;\">\n",
              "\n",
              "<svg xmlns=\"http://www.w3.org/2000/svg\" height=\"24px\"viewBox=\"0 0 24 24\"\n",
              "     width=\"24px\">\n",
              "    <g>\n",
              "        <path d=\"M19 3H5c-1.1 0-2 .9-2 2v14c0 1.1.9 2 2 2h14c1.1 0 2-.9 2-2V5c0-1.1-.9-2-2-2zM9 17H7v-7h2v7zm4 0h-2V7h2v10zm4 0h-2v-4h2v4z\"/>\n",
              "    </g>\n",
              "</svg>\n",
              "  </button>\n",
              "\n",
              "<style>\n",
              "  .colab-df-quickchart {\n",
              "      --bg-color: #E8F0FE;\n",
              "      --fill-color: #1967D2;\n",
              "      --hover-bg-color: #E2EBFA;\n",
              "      --hover-fill-color: #174EA6;\n",
              "      --disabled-fill-color: #AAA;\n",
              "      --disabled-bg-color: #DDD;\n",
              "  }\n",
              "\n",
              "  [theme=dark] .colab-df-quickchart {\n",
              "      --bg-color: #3B4455;\n",
              "      --fill-color: #D2E3FC;\n",
              "      --hover-bg-color: #434B5C;\n",
              "      --hover-fill-color: #FFFFFF;\n",
              "      --disabled-bg-color: #3B4455;\n",
              "      --disabled-fill-color: #666;\n",
              "  }\n",
              "\n",
              "  .colab-df-quickchart {\n",
              "    background-color: var(--bg-color);\n",
              "    border: none;\n",
              "    border-radius: 50%;\n",
              "    cursor: pointer;\n",
              "    display: none;\n",
              "    fill: var(--fill-color);\n",
              "    height: 32px;\n",
              "    padding: 0;\n",
              "    width: 32px;\n",
              "  }\n",
              "\n",
              "  .colab-df-quickchart:hover {\n",
              "    background-color: var(--hover-bg-color);\n",
              "    box-shadow: 0 1px 2px rgba(60, 64, 67, 0.3), 0 1px 3px 1px rgba(60, 64, 67, 0.15);\n",
              "    fill: var(--button-hover-fill-color);\n",
              "  }\n",
              "\n",
              "  .colab-df-quickchart-complete:disabled,\n",
              "  .colab-df-quickchart-complete:disabled:hover {\n",
              "    background-color: var(--disabled-bg-color);\n",
              "    fill: var(--disabled-fill-color);\n",
              "    box-shadow: none;\n",
              "  }\n",
              "\n",
              "  .colab-df-spinner {\n",
              "    border: 2px solid var(--fill-color);\n",
              "    border-color: transparent;\n",
              "    border-bottom-color: var(--fill-color);\n",
              "    animation:\n",
              "      spin 1s steps(1) infinite;\n",
              "  }\n",
              "\n",
              "  @keyframes spin {\n",
              "    0% {\n",
              "      border-color: transparent;\n",
              "      border-bottom-color: var(--fill-color);\n",
              "      border-left-color: var(--fill-color);\n",
              "    }\n",
              "    20% {\n",
              "      border-color: transparent;\n",
              "      border-left-color: var(--fill-color);\n",
              "      border-top-color: var(--fill-color);\n",
              "    }\n",
              "    30% {\n",
              "      border-color: transparent;\n",
              "      border-left-color: var(--fill-color);\n",
              "      border-top-color: var(--fill-color);\n",
              "      border-right-color: var(--fill-color);\n",
              "    }\n",
              "    40% {\n",
              "      border-color: transparent;\n",
              "      border-right-color: var(--fill-color);\n",
              "      border-top-color: var(--fill-color);\n",
              "    }\n",
              "    60% {\n",
              "      border-color: transparent;\n",
              "      border-right-color: var(--fill-color);\n",
              "    }\n",
              "    80% {\n",
              "      border-color: transparent;\n",
              "      border-right-color: var(--fill-color);\n",
              "      border-bottom-color: var(--fill-color);\n",
              "    }\n",
              "    90% {\n",
              "      border-color: transparent;\n",
              "      border-bottom-color: var(--fill-color);\n",
              "    }\n",
              "  }\n",
              "</style>\n",
              "\n",
              "  <script>\n",
              "    async function quickchart(key) {\n",
              "      const quickchartButtonEl =\n",
              "        document.querySelector('#' + key + ' button');\n",
              "      quickchartButtonEl.disabled = true;  // To prevent multiple clicks.\n",
              "      quickchartButtonEl.classList.add('colab-df-spinner');\n",
              "      try {\n",
              "        const charts = await google.colab.kernel.invokeFunction(\n",
              "            'suggestCharts', [key], {});\n",
              "      } catch (error) {\n",
              "        console.error('Error during call to suggestCharts:', error);\n",
              "      }\n",
              "      quickchartButtonEl.classList.remove('colab-df-spinner');\n",
              "      quickchartButtonEl.classList.add('colab-df-quickchart-complete');\n",
              "    }\n",
              "    (() => {\n",
              "      let quickchartButtonEl =\n",
              "        document.querySelector('#df-63b392a2-1963-41f2-801e-9a3a2023e12f button');\n",
              "      quickchartButtonEl.style.display =\n",
              "        google.colab.kernel.accessAllowed ? 'block' : 'none';\n",
              "    })();\n",
              "  </script>\n",
              "</div>\n",
              "    </div>\n",
              "  </div>\n"
            ],
            "text/plain": [
              "  duration  num_visitor\n",
              "0      1-7            4\n",
              "1     8-14            6\n",
              "2    15-21            5\n",
              "3    22-28           10\n",
              "4    29-35            6\n",
              "5    36-42            4\n",
              "6    43-49            1"
            ]
          },
          "execution_count": 40,
          "metadata": {},
          "output_type": "execute_result"
        }
      ],
      "source": [
        "df_visit = pd.read_csv(\"https://raw.githubusercontent.com/ThammakornS/ProgStat/main/dataset/ex4_6_visitor.csv\")\n",
        "df_visit"
      ]
    },
    {
      "cell_type": "markdown",
      "id": "89b0c3da-8d66-4c20-95c3-ad66d47ceb45",
      "metadata": {
        "id": "89b0c3da-8d66-4c20-95c3-ad66d47ceb45"
      },
      "source": [
        "\\\n",
        "แปลง duration ให้เป็น 2 columns เพื่อให้สามารถนำตัวเลขไปใช้คำนวณได้"
      ]
    },
    {
      "cell_type": "code",
      "execution_count": null,
      "id": "199efb24-2983-4346-97e2-c832990f32c7",
      "metadata": {
        "colab": {
          "base_uri": "https://localhost:8080/",
          "height": 269
        },
        "id": "199efb24-2983-4346-97e2-c832990f32c7",
        "outputId": "757b20de-0a6f-4aac-d3b8-421989ac0ae8"
      },
      "outputs": [
        {
          "data": {
            "text/html": [
              "\n",
              "  <div id=\"df-4eb2fe0e-94c4-450b-9d3a-f48933a6c3de\" class=\"colab-df-container\">\n",
              "    <div>\n",
              "<style scoped>\n",
              "    .dataframe tbody tr th:only-of-type {\n",
              "        vertical-align: middle;\n",
              "    }\n",
              "\n",
              "    .dataframe tbody tr th {\n",
              "        vertical-align: top;\n",
              "    }\n",
              "\n",
              "    .dataframe thead th {\n",
              "        text-align: right;\n",
              "    }\n",
              "</style>\n",
              "<table border=\"1\" class=\"dataframe\">\n",
              "  <thead>\n",
              "    <tr style=\"text-align: right;\">\n",
              "      <th></th>\n",
              "      <th>duration</th>\n",
              "      <th>num_visitor</th>\n",
              "      <th>du_from</th>\n",
              "      <th>du_to</th>\n",
              "    </tr>\n",
              "  </thead>\n",
              "  <tbody>\n",
              "    <tr>\n",
              "      <th>0</th>\n",
              "      <td>1-7</td>\n",
              "      <td>4</td>\n",
              "      <td>1</td>\n",
              "      <td>7</td>\n",
              "    </tr>\n",
              "    <tr>\n",
              "      <th>1</th>\n",
              "      <td>8-14</td>\n",
              "      <td>6</td>\n",
              "      <td>8</td>\n",
              "      <td>14</td>\n",
              "    </tr>\n",
              "    <tr>\n",
              "      <th>2</th>\n",
              "      <td>15-21</td>\n",
              "      <td>5</td>\n",
              "      <td>15</td>\n",
              "      <td>21</td>\n",
              "    </tr>\n",
              "    <tr>\n",
              "      <th>3</th>\n",
              "      <td>22-28</td>\n",
              "      <td>10</td>\n",
              "      <td>22</td>\n",
              "      <td>28</td>\n",
              "    </tr>\n",
              "    <tr>\n",
              "      <th>4</th>\n",
              "      <td>29-35</td>\n",
              "      <td>6</td>\n",
              "      <td>29</td>\n",
              "      <td>35</td>\n",
              "    </tr>\n",
              "    <tr>\n",
              "      <th>5</th>\n",
              "      <td>36-42</td>\n",
              "      <td>4</td>\n",
              "      <td>36</td>\n",
              "      <td>42</td>\n",
              "    </tr>\n",
              "    <tr>\n",
              "      <th>6</th>\n",
              "      <td>43-49</td>\n",
              "      <td>1</td>\n",
              "      <td>43</td>\n",
              "      <td>49</td>\n",
              "    </tr>\n",
              "  </tbody>\n",
              "</table>\n",
              "</div>\n",
              "    <div class=\"colab-df-buttons\">\n",
              "\n",
              "  <div class=\"colab-df-container\">\n",
              "    <button class=\"colab-df-convert\" onclick=\"convertToInteractive('df-4eb2fe0e-94c4-450b-9d3a-f48933a6c3de')\"\n",
              "            title=\"Convert this dataframe to an interactive table.\"\n",
              "            style=\"display:none;\">\n",
              "\n",
              "  <svg xmlns=\"http://www.w3.org/2000/svg\" height=\"24px\" viewBox=\"0 -960 960 960\">\n",
              "    <path d=\"M120-120v-720h720v720H120Zm60-500h600v-160H180v160Zm220 220h160v-160H400v160Zm0 220h160v-160H400v160ZM180-400h160v-160H180v160Zm440 0h160v-160H620v160ZM180-180h160v-160H180v160Zm440 0h160v-160H620v160Z\"/>\n",
              "  </svg>\n",
              "    </button>\n",
              "\n",
              "  <style>\n",
              "    .colab-df-container {\n",
              "      display:flex;\n",
              "      gap: 12px;\n",
              "    }\n",
              "\n",
              "    .colab-df-convert {\n",
              "      background-color: #E8F0FE;\n",
              "      border: none;\n",
              "      border-radius: 50%;\n",
              "      cursor: pointer;\n",
              "      display: none;\n",
              "      fill: #1967D2;\n",
              "      height: 32px;\n",
              "      padding: 0 0 0 0;\n",
              "      width: 32px;\n",
              "    }\n",
              "\n",
              "    .colab-df-convert:hover {\n",
              "      background-color: #E2EBFA;\n",
              "      box-shadow: 0px 1px 2px rgba(60, 64, 67, 0.3), 0px 1px 3px 1px rgba(60, 64, 67, 0.15);\n",
              "      fill: #174EA6;\n",
              "    }\n",
              "\n",
              "    .colab-df-buttons div {\n",
              "      margin-bottom: 4px;\n",
              "    }\n",
              "\n",
              "    [theme=dark] .colab-df-convert {\n",
              "      background-color: #3B4455;\n",
              "      fill: #D2E3FC;\n",
              "    }\n",
              "\n",
              "    [theme=dark] .colab-df-convert:hover {\n",
              "      background-color: #434B5C;\n",
              "      box-shadow: 0px 1px 3px 1px rgba(0, 0, 0, 0.15);\n",
              "      filter: drop-shadow(0px 1px 2px rgba(0, 0, 0, 0.3));\n",
              "      fill: #FFFFFF;\n",
              "    }\n",
              "  </style>\n",
              "\n",
              "    <script>\n",
              "      const buttonEl =\n",
              "        document.querySelector('#df-4eb2fe0e-94c4-450b-9d3a-f48933a6c3de button.colab-df-convert');\n",
              "      buttonEl.style.display =\n",
              "        google.colab.kernel.accessAllowed ? 'block' : 'none';\n",
              "\n",
              "      async function convertToInteractive(key) {\n",
              "        const element = document.querySelector('#df-4eb2fe0e-94c4-450b-9d3a-f48933a6c3de');\n",
              "        const dataTable =\n",
              "          await google.colab.kernel.invokeFunction('convertToInteractive',\n",
              "                                                    [key], {});\n",
              "        if (!dataTable) return;\n",
              "\n",
              "        const docLinkHtml = 'Like what you see? Visit the ' +\n",
              "          '<a target=\"_blank\" href=https://colab.research.google.com/notebooks/data_table.ipynb>data table notebook</a>'\n",
              "          + ' to learn more about interactive tables.';\n",
              "        element.innerHTML = '';\n",
              "        dataTable['output_type'] = 'display_data';\n",
              "        await google.colab.output.renderOutput(dataTable, element);\n",
              "        const docLink = document.createElement('div');\n",
              "        docLink.innerHTML = docLinkHtml;\n",
              "        element.appendChild(docLink);\n",
              "      }\n",
              "    </script>\n",
              "  </div>\n",
              "\n",
              "\n",
              "<div id=\"df-59123971-d52f-4d52-9031-4df59beaf26b\">\n",
              "  <button class=\"colab-df-quickchart\" onclick=\"quickchart('df-59123971-d52f-4d52-9031-4df59beaf26b')\"\n",
              "            title=\"Suggest charts\"\n",
              "            style=\"display:none;\">\n",
              "\n",
              "<svg xmlns=\"http://www.w3.org/2000/svg\" height=\"24px\"viewBox=\"0 0 24 24\"\n",
              "     width=\"24px\">\n",
              "    <g>\n",
              "        <path d=\"M19 3H5c-1.1 0-2 .9-2 2v14c0 1.1.9 2 2 2h14c1.1 0 2-.9 2-2V5c0-1.1-.9-2-2-2zM9 17H7v-7h2v7zm4 0h-2V7h2v10zm4 0h-2v-4h2v4z\"/>\n",
              "    </g>\n",
              "</svg>\n",
              "  </button>\n",
              "\n",
              "<style>\n",
              "  .colab-df-quickchart {\n",
              "      --bg-color: #E8F0FE;\n",
              "      --fill-color: #1967D2;\n",
              "      --hover-bg-color: #E2EBFA;\n",
              "      --hover-fill-color: #174EA6;\n",
              "      --disabled-fill-color: #AAA;\n",
              "      --disabled-bg-color: #DDD;\n",
              "  }\n",
              "\n",
              "  [theme=dark] .colab-df-quickchart {\n",
              "      --bg-color: #3B4455;\n",
              "      --fill-color: #D2E3FC;\n",
              "      --hover-bg-color: #434B5C;\n",
              "      --hover-fill-color: #FFFFFF;\n",
              "      --disabled-bg-color: #3B4455;\n",
              "      --disabled-fill-color: #666;\n",
              "  }\n",
              "\n",
              "  .colab-df-quickchart {\n",
              "    background-color: var(--bg-color);\n",
              "    border: none;\n",
              "    border-radius: 50%;\n",
              "    cursor: pointer;\n",
              "    display: none;\n",
              "    fill: var(--fill-color);\n",
              "    height: 32px;\n",
              "    padding: 0;\n",
              "    width: 32px;\n",
              "  }\n",
              "\n",
              "  .colab-df-quickchart:hover {\n",
              "    background-color: var(--hover-bg-color);\n",
              "    box-shadow: 0 1px 2px rgba(60, 64, 67, 0.3), 0 1px 3px 1px rgba(60, 64, 67, 0.15);\n",
              "    fill: var(--button-hover-fill-color);\n",
              "  }\n",
              "\n",
              "  .colab-df-quickchart-complete:disabled,\n",
              "  .colab-df-quickchart-complete:disabled:hover {\n",
              "    background-color: var(--disabled-bg-color);\n",
              "    fill: var(--disabled-fill-color);\n",
              "    box-shadow: none;\n",
              "  }\n",
              "\n",
              "  .colab-df-spinner {\n",
              "    border: 2px solid var(--fill-color);\n",
              "    border-color: transparent;\n",
              "    border-bottom-color: var(--fill-color);\n",
              "    animation:\n",
              "      spin 1s steps(1) infinite;\n",
              "  }\n",
              "\n",
              "  @keyframes spin {\n",
              "    0% {\n",
              "      border-color: transparent;\n",
              "      border-bottom-color: var(--fill-color);\n",
              "      border-left-color: var(--fill-color);\n",
              "    }\n",
              "    20% {\n",
              "      border-color: transparent;\n",
              "      border-left-color: var(--fill-color);\n",
              "      border-top-color: var(--fill-color);\n",
              "    }\n",
              "    30% {\n",
              "      border-color: transparent;\n",
              "      border-left-color: var(--fill-color);\n",
              "      border-top-color: var(--fill-color);\n",
              "      border-right-color: var(--fill-color);\n",
              "    }\n",
              "    40% {\n",
              "      border-color: transparent;\n",
              "      border-right-color: var(--fill-color);\n",
              "      border-top-color: var(--fill-color);\n",
              "    }\n",
              "    60% {\n",
              "      border-color: transparent;\n",
              "      border-right-color: var(--fill-color);\n",
              "    }\n",
              "    80% {\n",
              "      border-color: transparent;\n",
              "      border-right-color: var(--fill-color);\n",
              "      border-bottom-color: var(--fill-color);\n",
              "    }\n",
              "    90% {\n",
              "      border-color: transparent;\n",
              "      border-bottom-color: var(--fill-color);\n",
              "    }\n",
              "  }\n",
              "</style>\n",
              "\n",
              "  <script>\n",
              "    async function quickchart(key) {\n",
              "      const quickchartButtonEl =\n",
              "        document.querySelector('#' + key + ' button');\n",
              "      quickchartButtonEl.disabled = true;  // To prevent multiple clicks.\n",
              "      quickchartButtonEl.classList.add('colab-df-spinner');\n",
              "      try {\n",
              "        const charts = await google.colab.kernel.invokeFunction(\n",
              "            'suggestCharts', [key], {});\n",
              "      } catch (error) {\n",
              "        console.error('Error during call to suggestCharts:', error);\n",
              "      }\n",
              "      quickchartButtonEl.classList.remove('colab-df-spinner');\n",
              "      quickchartButtonEl.classList.add('colab-df-quickchart-complete');\n",
              "    }\n",
              "    (() => {\n",
              "      let quickchartButtonEl =\n",
              "        document.querySelector('#df-59123971-d52f-4d52-9031-4df59beaf26b button');\n",
              "      quickchartButtonEl.style.display =\n",
              "        google.colab.kernel.accessAllowed ? 'block' : 'none';\n",
              "    })();\n",
              "  </script>\n",
              "</div>\n",
              "    </div>\n",
              "  </div>\n"
            ],
            "text/plain": [
              "  duration  num_visitor  du_from  du_to\n",
              "0      1-7            4        1      7\n",
              "1     8-14            6        8     14\n",
              "2    15-21            5       15     21\n",
              "3    22-28           10       22     28\n",
              "4    29-35            6       29     35\n",
              "5    36-42            4       36     42\n",
              "6    43-49            1       43     49"
            ]
          },
          "execution_count": 41,
          "metadata": {},
          "output_type": "execute_result"
        }
      ],
      "source": [
        "df_visit[['du_from', 'du_to']] = df_visit.duration.str.split('-', expand=True).astype(int)\n",
        "df_visit"
      ]
    },
    {
      "cell_type": "markdown",
      "id": "e1ffcc76-63f8-4159-9e11-9897c551b8dc",
      "metadata": {
        "id": "e1ffcc76-63f8-4159-9e11-9897c551b8dc"
      },
      "source": [
        "\\\n",
        "สร้าง column ความถี่สะสมของจำนวนนักท่องเที่ยว"
      ]
    },
    {
      "cell_type": "code",
      "execution_count": null,
      "id": "44b4eba2-8224-4fbd-99c8-b330b0978232",
      "metadata": {
        "colab": {
          "base_uri": "https://localhost:8080/",
          "height": 269
        },
        "id": "44b4eba2-8224-4fbd-99c8-b330b0978232",
        "outputId": "fb4fe38e-ae55-4197-f829-63453c695f61"
      },
      "outputs": [
        {
          "data": {
            "text/html": [
              "\n",
              "  <div id=\"df-69101537-be67-4a85-b36f-2d8ee3253b73\" class=\"colab-df-container\">\n",
              "    <div>\n",
              "<style scoped>\n",
              "    .dataframe tbody tr th:only-of-type {\n",
              "        vertical-align: middle;\n",
              "    }\n",
              "\n",
              "    .dataframe tbody tr th {\n",
              "        vertical-align: top;\n",
              "    }\n",
              "\n",
              "    .dataframe thead th {\n",
              "        text-align: right;\n",
              "    }\n",
              "</style>\n",
              "<table border=\"1\" class=\"dataframe\">\n",
              "  <thead>\n",
              "    <tr style=\"text-align: right;\">\n",
              "      <th></th>\n",
              "      <th>duration</th>\n",
              "      <th>num_visitor</th>\n",
              "      <th>du_from</th>\n",
              "      <th>du_to</th>\n",
              "      <th>num_visitor_cum</th>\n",
              "    </tr>\n",
              "  </thead>\n",
              "  <tbody>\n",
              "    <tr>\n",
              "      <th>0</th>\n",
              "      <td>1-7</td>\n",
              "      <td>4</td>\n",
              "      <td>1</td>\n",
              "      <td>7</td>\n",
              "      <td>4</td>\n",
              "    </tr>\n",
              "    <tr>\n",
              "      <th>1</th>\n",
              "      <td>8-14</td>\n",
              "      <td>6</td>\n",
              "      <td>8</td>\n",
              "      <td>14</td>\n",
              "      <td>10</td>\n",
              "    </tr>\n",
              "    <tr>\n",
              "      <th>2</th>\n",
              "      <td>15-21</td>\n",
              "      <td>5</td>\n",
              "      <td>15</td>\n",
              "      <td>21</td>\n",
              "      <td>15</td>\n",
              "    </tr>\n",
              "    <tr>\n",
              "      <th>3</th>\n",
              "      <td>22-28</td>\n",
              "      <td>10</td>\n",
              "      <td>22</td>\n",
              "      <td>28</td>\n",
              "      <td>25</td>\n",
              "    </tr>\n",
              "    <tr>\n",
              "      <th>4</th>\n",
              "      <td>29-35</td>\n",
              "      <td>6</td>\n",
              "      <td>29</td>\n",
              "      <td>35</td>\n",
              "      <td>31</td>\n",
              "    </tr>\n",
              "    <tr>\n",
              "      <th>5</th>\n",
              "      <td>36-42</td>\n",
              "      <td>4</td>\n",
              "      <td>36</td>\n",
              "      <td>42</td>\n",
              "      <td>35</td>\n",
              "    </tr>\n",
              "    <tr>\n",
              "      <th>6</th>\n",
              "      <td>43-49</td>\n",
              "      <td>1</td>\n",
              "      <td>43</td>\n",
              "      <td>49</td>\n",
              "      <td>36</td>\n",
              "    </tr>\n",
              "  </tbody>\n",
              "</table>\n",
              "</div>\n",
              "    <div class=\"colab-df-buttons\">\n",
              "\n",
              "  <div class=\"colab-df-container\">\n",
              "    <button class=\"colab-df-convert\" onclick=\"convertToInteractive('df-69101537-be67-4a85-b36f-2d8ee3253b73')\"\n",
              "            title=\"Convert this dataframe to an interactive table.\"\n",
              "            style=\"display:none;\">\n",
              "\n",
              "  <svg xmlns=\"http://www.w3.org/2000/svg\" height=\"24px\" viewBox=\"0 -960 960 960\">\n",
              "    <path d=\"M120-120v-720h720v720H120Zm60-500h600v-160H180v160Zm220 220h160v-160H400v160Zm0 220h160v-160H400v160ZM180-400h160v-160H180v160Zm440 0h160v-160H620v160ZM180-180h160v-160H180v160Zm440 0h160v-160H620v160Z\"/>\n",
              "  </svg>\n",
              "    </button>\n",
              "\n",
              "  <style>\n",
              "    .colab-df-container {\n",
              "      display:flex;\n",
              "      gap: 12px;\n",
              "    }\n",
              "\n",
              "    .colab-df-convert {\n",
              "      background-color: #E8F0FE;\n",
              "      border: none;\n",
              "      border-radius: 50%;\n",
              "      cursor: pointer;\n",
              "      display: none;\n",
              "      fill: #1967D2;\n",
              "      height: 32px;\n",
              "      padding: 0 0 0 0;\n",
              "      width: 32px;\n",
              "    }\n",
              "\n",
              "    .colab-df-convert:hover {\n",
              "      background-color: #E2EBFA;\n",
              "      box-shadow: 0px 1px 2px rgba(60, 64, 67, 0.3), 0px 1px 3px 1px rgba(60, 64, 67, 0.15);\n",
              "      fill: #174EA6;\n",
              "    }\n",
              "\n",
              "    .colab-df-buttons div {\n",
              "      margin-bottom: 4px;\n",
              "    }\n",
              "\n",
              "    [theme=dark] .colab-df-convert {\n",
              "      background-color: #3B4455;\n",
              "      fill: #D2E3FC;\n",
              "    }\n",
              "\n",
              "    [theme=dark] .colab-df-convert:hover {\n",
              "      background-color: #434B5C;\n",
              "      box-shadow: 0px 1px 3px 1px rgba(0, 0, 0, 0.15);\n",
              "      filter: drop-shadow(0px 1px 2px rgba(0, 0, 0, 0.3));\n",
              "      fill: #FFFFFF;\n",
              "    }\n",
              "  </style>\n",
              "\n",
              "    <script>\n",
              "      const buttonEl =\n",
              "        document.querySelector('#df-69101537-be67-4a85-b36f-2d8ee3253b73 button.colab-df-convert');\n",
              "      buttonEl.style.display =\n",
              "        google.colab.kernel.accessAllowed ? 'block' : 'none';\n",
              "\n",
              "      async function convertToInteractive(key) {\n",
              "        const element = document.querySelector('#df-69101537-be67-4a85-b36f-2d8ee3253b73');\n",
              "        const dataTable =\n",
              "          await google.colab.kernel.invokeFunction('convertToInteractive',\n",
              "                                                    [key], {});\n",
              "        if (!dataTable) return;\n",
              "\n",
              "        const docLinkHtml = 'Like what you see? Visit the ' +\n",
              "          '<a target=\"_blank\" href=https://colab.research.google.com/notebooks/data_table.ipynb>data table notebook</a>'\n",
              "          + ' to learn more about interactive tables.';\n",
              "        element.innerHTML = '';\n",
              "        dataTable['output_type'] = 'display_data';\n",
              "        await google.colab.output.renderOutput(dataTable, element);\n",
              "        const docLink = document.createElement('div');\n",
              "        docLink.innerHTML = docLinkHtml;\n",
              "        element.appendChild(docLink);\n",
              "      }\n",
              "    </script>\n",
              "  </div>\n",
              "\n",
              "\n",
              "<div id=\"df-1f17e04d-7a53-4a1a-86b1-08f491559ed1\">\n",
              "  <button class=\"colab-df-quickchart\" onclick=\"quickchart('df-1f17e04d-7a53-4a1a-86b1-08f491559ed1')\"\n",
              "            title=\"Suggest charts\"\n",
              "            style=\"display:none;\">\n",
              "\n",
              "<svg xmlns=\"http://www.w3.org/2000/svg\" height=\"24px\"viewBox=\"0 0 24 24\"\n",
              "     width=\"24px\">\n",
              "    <g>\n",
              "        <path d=\"M19 3H5c-1.1 0-2 .9-2 2v14c0 1.1.9 2 2 2h14c1.1 0 2-.9 2-2V5c0-1.1-.9-2-2-2zM9 17H7v-7h2v7zm4 0h-2V7h2v10zm4 0h-2v-4h2v4z\"/>\n",
              "    </g>\n",
              "</svg>\n",
              "  </button>\n",
              "\n",
              "<style>\n",
              "  .colab-df-quickchart {\n",
              "      --bg-color: #E8F0FE;\n",
              "      --fill-color: #1967D2;\n",
              "      --hover-bg-color: #E2EBFA;\n",
              "      --hover-fill-color: #174EA6;\n",
              "      --disabled-fill-color: #AAA;\n",
              "      --disabled-bg-color: #DDD;\n",
              "  }\n",
              "\n",
              "  [theme=dark] .colab-df-quickchart {\n",
              "      --bg-color: #3B4455;\n",
              "      --fill-color: #D2E3FC;\n",
              "      --hover-bg-color: #434B5C;\n",
              "      --hover-fill-color: #FFFFFF;\n",
              "      --disabled-bg-color: #3B4455;\n",
              "      --disabled-fill-color: #666;\n",
              "  }\n",
              "\n",
              "  .colab-df-quickchart {\n",
              "    background-color: var(--bg-color);\n",
              "    border: none;\n",
              "    border-radius: 50%;\n",
              "    cursor: pointer;\n",
              "    display: none;\n",
              "    fill: var(--fill-color);\n",
              "    height: 32px;\n",
              "    padding: 0;\n",
              "    width: 32px;\n",
              "  }\n",
              "\n",
              "  .colab-df-quickchart:hover {\n",
              "    background-color: var(--hover-bg-color);\n",
              "    box-shadow: 0 1px 2px rgba(60, 64, 67, 0.3), 0 1px 3px 1px rgba(60, 64, 67, 0.15);\n",
              "    fill: var(--button-hover-fill-color);\n",
              "  }\n",
              "\n",
              "  .colab-df-quickchart-complete:disabled,\n",
              "  .colab-df-quickchart-complete:disabled:hover {\n",
              "    background-color: var(--disabled-bg-color);\n",
              "    fill: var(--disabled-fill-color);\n",
              "    box-shadow: none;\n",
              "  }\n",
              "\n",
              "  .colab-df-spinner {\n",
              "    border: 2px solid var(--fill-color);\n",
              "    border-color: transparent;\n",
              "    border-bottom-color: var(--fill-color);\n",
              "    animation:\n",
              "      spin 1s steps(1) infinite;\n",
              "  }\n",
              "\n",
              "  @keyframes spin {\n",
              "    0% {\n",
              "      border-color: transparent;\n",
              "      border-bottom-color: var(--fill-color);\n",
              "      border-left-color: var(--fill-color);\n",
              "    }\n",
              "    20% {\n",
              "      border-color: transparent;\n",
              "      border-left-color: var(--fill-color);\n",
              "      border-top-color: var(--fill-color);\n",
              "    }\n",
              "    30% {\n",
              "      border-color: transparent;\n",
              "      border-left-color: var(--fill-color);\n",
              "      border-top-color: var(--fill-color);\n",
              "      border-right-color: var(--fill-color);\n",
              "    }\n",
              "    40% {\n",
              "      border-color: transparent;\n",
              "      border-right-color: var(--fill-color);\n",
              "      border-top-color: var(--fill-color);\n",
              "    }\n",
              "    60% {\n",
              "      border-color: transparent;\n",
              "      border-right-color: var(--fill-color);\n",
              "    }\n",
              "    80% {\n",
              "      border-color: transparent;\n",
              "      border-right-color: var(--fill-color);\n",
              "      border-bottom-color: var(--fill-color);\n",
              "    }\n",
              "    90% {\n",
              "      border-color: transparent;\n",
              "      border-bottom-color: var(--fill-color);\n",
              "    }\n",
              "  }\n",
              "</style>\n",
              "\n",
              "  <script>\n",
              "    async function quickchart(key) {\n",
              "      const quickchartButtonEl =\n",
              "        document.querySelector('#' + key + ' button');\n",
              "      quickchartButtonEl.disabled = true;  // To prevent multiple clicks.\n",
              "      quickchartButtonEl.classList.add('colab-df-spinner');\n",
              "      try {\n",
              "        const charts = await google.colab.kernel.invokeFunction(\n",
              "            'suggestCharts', [key], {});\n",
              "      } catch (error) {\n",
              "        console.error('Error during call to suggestCharts:', error);\n",
              "      }\n",
              "      quickchartButtonEl.classList.remove('colab-df-spinner');\n",
              "      quickchartButtonEl.classList.add('colab-df-quickchart-complete');\n",
              "    }\n",
              "    (() => {\n",
              "      let quickchartButtonEl =\n",
              "        document.querySelector('#df-1f17e04d-7a53-4a1a-86b1-08f491559ed1 button');\n",
              "      quickchartButtonEl.style.display =\n",
              "        google.colab.kernel.accessAllowed ? 'block' : 'none';\n",
              "    })();\n",
              "  </script>\n",
              "</div>\n",
              "    </div>\n",
              "  </div>\n"
            ],
            "text/plain": [
              "  duration  num_visitor  du_from  du_to  num_visitor_cum\n",
              "0      1-7            4        1      7                4\n",
              "1     8-14            6        8     14               10\n",
              "2    15-21            5       15     21               15\n",
              "3    22-28           10       22     28               25\n",
              "4    29-35            6       29     35               31\n",
              "5    36-42            4       36     42               35\n",
              "6    43-49            1       43     49               36"
            ]
          },
          "execution_count": 44,
          "metadata": {},
          "output_type": "execute_result"
        }
      ],
      "source": [
        "df_visit['num_visitor_cum'] = df_visit.num_visitor.cumsum() # .cumsum : คล้าย += เรื่อยๆจยจบ\n",
        "df_visit"
      ]
    },
    {
      "cell_type": "markdown",
      "id": "af80073f-7855-4f44-b64a-cd1fc6923b0d",
      "metadata": {
        "id": "af80073f-7855-4f44-b64a-cd1fc6923b0d"
      },
      "source": [
        "\\\n",
        "หาตำแหน่งของ median"
      ]
    },
    {
      "cell_type": "code",
      "execution_count": null,
      "id": "fee7bd89-4beb-4a1a-bc40-5ce80511556a",
      "metadata": {
        "colab": {
          "base_uri": "https://localhost:8080/"
        },
        "id": "fee7bd89-4beb-4a1a-bc40-5ce80511556a",
        "outputId": "463b475d-7946-4217-896f-8857a84366d3"
      },
      "outputs": [
        {
          "data": {
            "text/plain": [
              "18.0"
            ]
          },
          "execution_count": 42,
          "metadata": {},
          "output_type": "execute_result"
        }
      ],
      "source": [
        "med_pos = df_visit.num_visitor.sum()/2\n",
        "med_pos"
      ]
    },
    {
      "cell_type": "markdown",
      "id": "88773aa8-4503-4722-af91-ab15c9cafc9c",
      "metadata": {
        "id": "88773aa8-4503-4722-af91-ab15c9cafc9c"
      },
      "source": [
        "\\\n",
        "หาชั้นที่ตำแหน่ง median อยู่ (ใช้ตาดูเอาก็ได้)"
      ]
    },
    {
      "cell_type": "code",
      "execution_count": null,
      "id": "48f5e0f4-59d9-416f-ad78-95b92b62c640",
      "metadata": {
        "colab": {
          "base_uri": "https://localhost:8080/"
        },
        "id": "48f5e0f4-59d9-416f-ad78-95b92b62c640",
        "outputId": "743aae65-bc09-45a6-a262-43d6d4295d50"
      },
      "outputs": [
        {
          "data": {
            "text/plain": [
              "3"
            ]
          },
          "execution_count": 45,
          "metadata": {},
          "output_type": "execute_result"
        }
      ],
      "source": [
        "for i in df_visit.index:\n",
        "    if df_visit.num_visitor_cum[i] >= med_pos:\n",
        "        e=i\n",
        "        break\n",
        "e"
      ]
    },
    {
      "cell_type": "markdown",
      "id": "00ba46c4-15c5-4015-a6be-fcdb45068ca0",
      "metadata": {
        "id": "00ba46c4-15c5-4015-a6be-fcdb45068ca0"
      },
      "source": [
        "\n",
        "ซึ่งจะอยู่ในชั้นที่ 4 (index 3) มีระยะเวลา 22-28  \n",
        "หาขอบเขตล่าง (ดูจากตารางแล้วคำนวณในใจก็ได้, (21+22)/2 )"
      ]
    },
    {
      "cell_type": "code",
      "execution_count": null,
      "id": "28b443d3-95df-4555-8be3-a0d76edf9a19",
      "metadata": {
        "colab": {
          "base_uri": "https://localhost:8080/"
        },
        "id": "28b443d3-95df-4555-8be3-a0d76edf9a19",
        "outputId": "691849af-ab88-4632-841e-d8e4904e38e8"
      },
      "outputs": [
        {
          "data": {
            "text/plain": [
              "21.5"
            ]
          },
          "execution_count": 46,
          "metadata": {},
          "output_type": "execute_result"
        }
      ],
      "source": [
        "lower = (df_visit.du_from[e]+df_visit.du_to[e-1])/2\n",
        "lower"
      ]
    },
    {
      "cell_type": "markdown",
      "id": "4ceb5df6-b603-457c-af76-6412cfdeec0e",
      "metadata": {
        "id": "4ceb5df6-b603-457c-af76-6412cfdeec0e"
      },
      "source": [
        "หาค่า median\n",
        "\n"
      ]
    },
    {
      "cell_type": "code",
      "execution_count": null,
      "id": "79a95901-3f8a-477c-92bf-5b1304b2087b",
      "metadata": {
        "id": "79a95901-3f8a-477c-92bf-5b1304b2087b"
      },
      "outputs": [],
      "source": [
        "# 21.5 (ขอบล่าง) + ()\n",
        "lower+( (med_pos - df_visit.num_visitor_cum[e-1]) / df_visit.num_visitor[e])*7"
      ]
    },
    {
      "cell_type": "markdown",
      "id": "j--Khc4Po0Ns",
      "metadata": {
        "id": "j--Khc4Po0Ns"
      },
      "source": [
        "Ex."
      ]
    },
    {
      "cell_type": "code",
      "execution_count": null,
      "id": "ZfIV83oipXVz",
      "metadata": {
        "id": "ZfIV83oipXVz"
      },
      "outputs": [],
      "source": [
        "from google.colab import drive\n",
        "drive.mount('/content/drive')"
      ]
    },
    {
      "cell_type": "code",
      "execution_count": null,
      "id": "R8_CseBKozqG",
      "metadata": {
        "id": "R8_CseBKozqG"
      },
      "outputs": [],
      "source": []
    },
    {
      "cell_type": "markdown",
      "id": "57647078-ff4f-45f9-80f5-527c46403b98",
      "metadata": {
        "id": "57647078-ff4f-45f9-80f5-527c46403b98"
      },
      "source": [
        "####   \n",
        "#### 4.7 หาฐานนิยมของข้อมูลแต่ละชุดต่อไปนี้\n",
        "&emsp;**1) 9, 2, 3, 5, 7, 2, 1, 5, 2**"
      ]
    },
    {
      "cell_type": "code",
      "execution_count": null,
      "id": "209b0905-b369-4070-b8bb-2a72f5fe3c91",
      "metadata": {
        "colab": {
          "base_uri": "https://localhost:8080/"
        },
        "id": "209b0905-b369-4070-b8bb-2a72f5fe3c91",
        "outputId": "9dfa6a23-e543-4924-87fd-25f246e074f4"
      },
      "outputs": [
        {
          "data": {
            "text/plain": [
              "[2]"
            ]
          },
          "execution_count": 28,
          "metadata": {},
          "output_type": "execute_result"
        }
      ],
      "source": [
        "data = [9, 2, 3, 5, 7, 2, 1, 5, 2]\n",
        "#statistics.mode(data)\n",
        "statistics.multimode(data)"
      ]
    },
    {
      "cell_type": "markdown",
      "id": "d1e80ae5-8c05-45ab-b1ec-5dfa6bc52381",
      "metadata": {
        "id": "d1e80ae5-8c05-45ab-b1ec-5dfa6bc52381"
      },
      "source": [
        "&emsp;**2) 3, 5, 5, 8, 7, 3, 2**"
      ]
    },
    {
      "cell_type": "code",
      "execution_count": null,
      "id": "9a411ad0-7086-49fe-84df-84dc345830c4",
      "metadata": {
        "colab": {
          "base_uri": "https://localhost:8080/"
        },
        "id": "9a411ad0-7086-49fe-84df-84dc345830c4",
        "outputId": "ed0b6c8d-75e3-44f3-ebb0-746f1f413ce8"
      },
      "outputs": [
        {
          "data": {
            "text/plain": [
              "3"
            ]
          },
          "execution_count": 26,
          "metadata": {},
          "output_type": "execute_result"
        }
      ],
      "source": [
        "data = [3, 5, 5, 8, 7, 3, 2]\n",
        "statistics.mode(data)"
      ]
    },
    {
      "cell_type": "markdown",
      "id": "baa6c3a0-eb22-40b8-8930-aecb96f9ef2a",
      "metadata": {
        "id": "baa6c3a0-eb22-40b8-8930-aecb96f9ef2a"
      },
      "source": [
        "ผลที่แสดงขาด 5 ไป ต้องใช้ multimode"
      ]
    },
    {
      "cell_type": "code",
      "execution_count": null,
      "id": "c362f5c9-a0cb-4d20-be44-4d697e2e6753",
      "metadata": {
        "colab": {
          "base_uri": "https://localhost:8080/"
        },
        "id": "c362f5c9-a0cb-4d20-be44-4d697e2e6753",
        "outputId": "27644f8d-8a7c-45a1-ec55-484643c90597",
        "tags": []
      },
      "outputs": [
        {
          "data": {
            "text/plain": [
              "[3, 5]"
            ]
          },
          "execution_count": 27,
          "metadata": {},
          "output_type": "execute_result"
        }
      ],
      "source": [
        "statistics.multimode(data)"
      ]
    },
    {
      "cell_type": "markdown",
      "id": "67d7660c-11dc-4312-8fc2-7168412f06da",
      "metadata": {
        "id": "67d7660c-11dc-4312-8fc2-7168412f06da"
      },
      "source": [
        "&emsp;**3) 1, 2, 3, 4, 5**"
      ]
    },
    {
      "cell_type": "code",
      "execution_count": null,
      "id": "e407cb53-46b7-433a-99b0-5abdef685ce9",
      "metadata": {
        "colab": {
          "base_uri": "https://localhost:8080/"
        },
        "id": "e407cb53-46b7-433a-99b0-5abdef685ce9",
        "outputId": "948e4086-038c-4dc3-aa66-770f010fce67"
      },
      "outputs": [
        {
          "data": {
            "text/plain": [
              "1"
            ]
          },
          "execution_count": 22,
          "metadata": {},
          "output_type": "execute_result"
        }
      ],
      "source": [
        "data = [1, 2, 3, 4, 5]\n",
        "statistics.mode(data)"
      ]
    },
    {
      "cell_type": "code",
      "execution_count": null,
      "id": "d1194af9-f21c-45a5-94c9-f276b9ae6308",
      "metadata": {
        "colab": {
          "base_uri": "https://localhost:8080/"
        },
        "id": "d1194af9-f21c-45a5-94c9-f276b9ae6308",
        "outputId": "9ed5790d-74e4-4ea4-f2a1-6eac8c387e4c"
      },
      "outputs": [
        {
          "data": {
            "text/plain": [
              "[1, 2, 3, 4, 5]"
            ]
          },
          "execution_count": 23,
          "metadata": {},
          "output_type": "execute_result"
        }
      ],
      "source": [
        "statistics.multimode(data)"
      ]
    },
    {
      "cell_type": "markdown",
      "id": "e0732bd3-b384-4fed-8809-865455fb2dff",
      "metadata": {
        "id": "e0732bd3-b384-4fed-8809-865455fb2dff"
      },
      "source": [
        "การใช้ทั้ง mode() และ multimode() จึงต้องระวัง วิธีการหนึ่งคือตรวจสอบว่าจำนวนของข้อมูลเริ่มต้นและข้อมูลที่ตัดข้อมูลซ้ำออกไปแล้วเท่ากันหรือไม่ หากเท่ากันแสดงว่าข้อมูลนั้นไม่มี mode"
      ]
    },
    {
      "cell_type": "code",
      "execution_count": null,
      "id": "58a94599-e33b-450b-b993-da55633fcf29",
      "metadata": {
        "colab": {
          "base_uri": "https://localhost:8080/"
        },
        "id": "58a94599-e33b-450b-b993-da55633fcf29",
        "outputId": "c3adbbcf-b0fd-499f-9c35-92007603694e"
      },
      "outputs": [
        {
          "data": {
            "text/plain": [
              "True"
            ]
          },
          "execution_count": 24,
          "metadata": {},
          "output_type": "execute_result"
        }
      ],
      "source": [
        "len(data) == len(np.unique(data))"
      ]
    },
    {
      "cell_type": "markdown",
      "id": "6f9db1c1-1a30-4f78-9911-d3201eb68d1e",
      "metadata": {
        "id": "6f9db1c1-1a30-4f78-9911-d3201eb68d1e"
      },
      "source": [
        "&emsp;**4) ข้อมูลได้จากการสำรวจความชอบอาหารชนิดหนึ่ง (ชอบ เฉยๆ ไม่ชอบ):**  \n",
        "&emsp;**ชอบ ไม่ชอบ ชอบ ชอบ ไม่ชอบ เฉยๆ ชอบ**"
      ]
    },
    {
      "cell_type": "code",
      "execution_count": null,
      "id": "3263adf3-f743-49c2-af48-3dadfbb86938",
      "metadata": {
        "colab": {
          "base_uri": "https://localhost:8080/",
          "height": 35
        },
        "id": "3263adf3-f743-49c2-af48-3dadfbb86938",
        "outputId": "94934806-5370-42a1-a11a-c8b79a42aa0d"
      },
      "outputs": [
        {
          "data": {
            "application/vnd.google.colaboratory.intrinsic+json": {
              "type": "string"
            },
            "text/plain": [
              "'ชอบ'"
            ]
          },
          "execution_count": 25,
          "metadata": {},
          "output_type": "execute_result"
        }
      ],
      "source": [
        "data = ['ชอบ', 'ไม่ชอบ', 'ชอบ', 'ชอบ', 'ไม่ชอบ', 'เฉยๆ', 'ชอบ']\n",
        "statistics.mode(data)"
      ]
    },
    {
      "cell_type": "markdown",
      "id": "5a810657-4758-466b-ab9c-4cdab59a25ea",
      "metadata": {
        "id": "5a810657-4758-466b-ab9c-4cdab59a25ea",
        "tags": []
      },
      "source": [
        "####   \n",
        "#### 4.8 ตาราง \"ex4_6_visitor.csv\" แสดงระยะเวลา (หน่วย: วัน) ที่นักท่องเที่ยวชาวต่างประเทศที่ถูกสุ่มเป็นตัวอย่างจำนวน 36 คน ใช้เวลาท่องเที่ยวในประเทศไทยในช่วง 1 ปี มีดังตาราง จงหาฐานนิยมของระยะเวลาที่นักท่องเที่ยวชาวต่างประเทศใช้ท่องเที่ยวในประเทศไทย"
      ]
    },
    {
      "cell_type": "code",
      "execution_count": null,
      "id": "fda702d6-76b4-4dbd-b3dc-80e91b688d9b",
      "metadata": {
        "colab": {
          "base_uri": "https://localhost:8080/",
          "height": 269
        },
        "id": "fda702d6-76b4-4dbd-b3dc-80e91b688d9b",
        "outputId": "76486f55-202a-46e4-ddf9-0d801412f581"
      },
      "outputs": [
        {
          "data": {
            "text/html": [
              "\n",
              "  <div id=\"df-45087d72-779a-4168-ac4f-058940f7d573\" class=\"colab-df-container\">\n",
              "    <div>\n",
              "<style scoped>\n",
              "    .dataframe tbody tr th:only-of-type {\n",
              "        vertical-align: middle;\n",
              "    }\n",
              "\n",
              "    .dataframe tbody tr th {\n",
              "        vertical-align: top;\n",
              "    }\n",
              "\n",
              "    .dataframe thead th {\n",
              "        text-align: right;\n",
              "    }\n",
              "</style>\n",
              "<table border=\"1\" class=\"dataframe\">\n",
              "  <thead>\n",
              "    <tr style=\"text-align: right;\">\n",
              "      <th></th>\n",
              "      <th>duration</th>\n",
              "      <th>num_visitor</th>\n",
              "    </tr>\n",
              "  </thead>\n",
              "  <tbody>\n",
              "    <tr>\n",
              "      <th>0</th>\n",
              "      <td>1-7</td>\n",
              "      <td>4</td>\n",
              "    </tr>\n",
              "    <tr>\n",
              "      <th>1</th>\n",
              "      <td>8-14</td>\n",
              "      <td>6</td>\n",
              "    </tr>\n",
              "    <tr>\n",
              "      <th>2</th>\n",
              "      <td>15-21</td>\n",
              "      <td>5</td>\n",
              "    </tr>\n",
              "    <tr>\n",
              "      <th>3</th>\n",
              "      <td>22-28</td>\n",
              "      <td>10</td>\n",
              "    </tr>\n",
              "    <tr>\n",
              "      <th>4</th>\n",
              "      <td>29-35</td>\n",
              "      <td>6</td>\n",
              "    </tr>\n",
              "    <tr>\n",
              "      <th>5</th>\n",
              "      <td>36-42</td>\n",
              "      <td>4</td>\n",
              "    </tr>\n",
              "    <tr>\n",
              "      <th>6</th>\n",
              "      <td>43-49</td>\n",
              "      <td>1</td>\n",
              "    </tr>\n",
              "  </tbody>\n",
              "</table>\n",
              "</div>\n",
              "    <div class=\"colab-df-buttons\">\n",
              "\n",
              "  <div class=\"colab-df-container\">\n",
              "    <button class=\"colab-df-convert\" onclick=\"convertToInteractive('df-45087d72-779a-4168-ac4f-058940f7d573')\"\n",
              "            title=\"Convert this dataframe to an interactive table.\"\n",
              "            style=\"display:none;\">\n",
              "\n",
              "  <svg xmlns=\"http://www.w3.org/2000/svg\" height=\"24px\" viewBox=\"0 -960 960 960\">\n",
              "    <path d=\"M120-120v-720h720v720H120Zm60-500h600v-160H180v160Zm220 220h160v-160H400v160Zm0 220h160v-160H400v160ZM180-400h160v-160H180v160Zm440 0h160v-160H620v160ZM180-180h160v-160H180v160Zm440 0h160v-160H620v160Z\"/>\n",
              "  </svg>\n",
              "    </button>\n",
              "\n",
              "  <style>\n",
              "    .colab-df-container {\n",
              "      display:flex;\n",
              "      gap: 12px;\n",
              "    }\n",
              "\n",
              "    .colab-df-convert {\n",
              "      background-color: #E8F0FE;\n",
              "      border: none;\n",
              "      border-radius: 50%;\n",
              "      cursor: pointer;\n",
              "      display: none;\n",
              "      fill: #1967D2;\n",
              "      height: 32px;\n",
              "      padding: 0 0 0 0;\n",
              "      width: 32px;\n",
              "    }\n",
              "\n",
              "    .colab-df-convert:hover {\n",
              "      background-color: #E2EBFA;\n",
              "      box-shadow: 0px 1px 2px rgba(60, 64, 67, 0.3), 0px 1px 3px 1px rgba(60, 64, 67, 0.15);\n",
              "      fill: #174EA6;\n",
              "    }\n",
              "\n",
              "    .colab-df-buttons div {\n",
              "      margin-bottom: 4px;\n",
              "    }\n",
              "\n",
              "    [theme=dark] .colab-df-convert {\n",
              "      background-color: #3B4455;\n",
              "      fill: #D2E3FC;\n",
              "    }\n",
              "\n",
              "    [theme=dark] .colab-df-convert:hover {\n",
              "      background-color: #434B5C;\n",
              "      box-shadow: 0px 1px 3px 1px rgba(0, 0, 0, 0.15);\n",
              "      filter: drop-shadow(0px 1px 2px rgba(0, 0, 0, 0.3));\n",
              "      fill: #FFFFFF;\n",
              "    }\n",
              "  </style>\n",
              "\n",
              "    <script>\n",
              "      const buttonEl =\n",
              "        document.querySelector('#df-45087d72-779a-4168-ac4f-058940f7d573 button.colab-df-convert');\n",
              "      buttonEl.style.display =\n",
              "        google.colab.kernel.accessAllowed ? 'block' : 'none';\n",
              "\n",
              "      async function convertToInteractive(key) {\n",
              "        const element = document.querySelector('#df-45087d72-779a-4168-ac4f-058940f7d573');\n",
              "        const dataTable =\n",
              "          await google.colab.kernel.invokeFunction('convertToInteractive',\n",
              "                                                    [key], {});\n",
              "        if (!dataTable) return;\n",
              "\n",
              "        const docLinkHtml = 'Like what you see? Visit the ' +\n",
              "          '<a target=\"_blank\" href=https://colab.research.google.com/notebooks/data_table.ipynb>data table notebook</a>'\n",
              "          + ' to learn more about interactive tables.';\n",
              "        element.innerHTML = '';\n",
              "        dataTable['output_type'] = 'display_data';\n",
              "        await google.colab.output.renderOutput(dataTable, element);\n",
              "        const docLink = document.createElement('div');\n",
              "        docLink.innerHTML = docLinkHtml;\n",
              "        element.appendChild(docLink);\n",
              "      }\n",
              "    </script>\n",
              "  </div>\n",
              "\n",
              "\n",
              "<div id=\"df-17026ce2-a2d7-4a00-b412-722db5588c47\">\n",
              "  <button class=\"colab-df-quickchart\" onclick=\"quickchart('df-17026ce2-a2d7-4a00-b412-722db5588c47')\"\n",
              "            title=\"Suggest charts\"\n",
              "            style=\"display:none;\">\n",
              "\n",
              "<svg xmlns=\"http://www.w3.org/2000/svg\" height=\"24px\"viewBox=\"0 0 24 24\"\n",
              "     width=\"24px\">\n",
              "    <g>\n",
              "        <path d=\"M19 3H5c-1.1 0-2 .9-2 2v14c0 1.1.9 2 2 2h14c1.1 0 2-.9 2-2V5c0-1.1-.9-2-2-2zM9 17H7v-7h2v7zm4 0h-2V7h2v10zm4 0h-2v-4h2v4z\"/>\n",
              "    </g>\n",
              "</svg>\n",
              "  </button>\n",
              "\n",
              "<style>\n",
              "  .colab-df-quickchart {\n",
              "      --bg-color: #E8F0FE;\n",
              "      --fill-color: #1967D2;\n",
              "      --hover-bg-color: #E2EBFA;\n",
              "      --hover-fill-color: #174EA6;\n",
              "      --disabled-fill-color: #AAA;\n",
              "      --disabled-bg-color: #DDD;\n",
              "  }\n",
              "\n",
              "  [theme=dark] .colab-df-quickchart {\n",
              "      --bg-color: #3B4455;\n",
              "      --fill-color: #D2E3FC;\n",
              "      --hover-bg-color: #434B5C;\n",
              "      --hover-fill-color: #FFFFFF;\n",
              "      --disabled-bg-color: #3B4455;\n",
              "      --disabled-fill-color: #666;\n",
              "  }\n",
              "\n",
              "  .colab-df-quickchart {\n",
              "    background-color: var(--bg-color);\n",
              "    border: none;\n",
              "    border-radius: 50%;\n",
              "    cursor: pointer;\n",
              "    display: none;\n",
              "    fill: var(--fill-color);\n",
              "    height: 32px;\n",
              "    padding: 0;\n",
              "    width: 32px;\n",
              "  }\n",
              "\n",
              "  .colab-df-quickchart:hover {\n",
              "    background-color: var(--hover-bg-color);\n",
              "    box-shadow: 0 1px 2px rgba(60, 64, 67, 0.3), 0 1px 3px 1px rgba(60, 64, 67, 0.15);\n",
              "    fill: var(--button-hover-fill-color);\n",
              "  }\n",
              "\n",
              "  .colab-df-quickchart-complete:disabled,\n",
              "  .colab-df-quickchart-complete:disabled:hover {\n",
              "    background-color: var(--disabled-bg-color);\n",
              "    fill: var(--disabled-fill-color);\n",
              "    box-shadow: none;\n",
              "  }\n",
              "\n",
              "  .colab-df-spinner {\n",
              "    border: 2px solid var(--fill-color);\n",
              "    border-color: transparent;\n",
              "    border-bottom-color: var(--fill-color);\n",
              "    animation:\n",
              "      spin 1s steps(1) infinite;\n",
              "  }\n",
              "\n",
              "  @keyframes spin {\n",
              "    0% {\n",
              "      border-color: transparent;\n",
              "      border-bottom-color: var(--fill-color);\n",
              "      border-left-color: var(--fill-color);\n",
              "    }\n",
              "    20% {\n",
              "      border-color: transparent;\n",
              "      border-left-color: var(--fill-color);\n",
              "      border-top-color: var(--fill-color);\n",
              "    }\n",
              "    30% {\n",
              "      border-color: transparent;\n",
              "      border-left-color: var(--fill-color);\n",
              "      border-top-color: var(--fill-color);\n",
              "      border-right-color: var(--fill-color);\n",
              "    }\n",
              "    40% {\n",
              "      border-color: transparent;\n",
              "      border-right-color: var(--fill-color);\n",
              "      border-top-color: var(--fill-color);\n",
              "    }\n",
              "    60% {\n",
              "      border-color: transparent;\n",
              "      border-right-color: var(--fill-color);\n",
              "    }\n",
              "    80% {\n",
              "      border-color: transparent;\n",
              "      border-right-color: var(--fill-color);\n",
              "      border-bottom-color: var(--fill-color);\n",
              "    }\n",
              "    90% {\n",
              "      border-color: transparent;\n",
              "      border-bottom-color: var(--fill-color);\n",
              "    }\n",
              "  }\n",
              "</style>\n",
              "\n",
              "  <script>\n",
              "    async function quickchart(key) {\n",
              "      const quickchartButtonEl =\n",
              "        document.querySelector('#' + key + ' button');\n",
              "      quickchartButtonEl.disabled = true;  // To prevent multiple clicks.\n",
              "      quickchartButtonEl.classList.add('colab-df-spinner');\n",
              "      try {\n",
              "        const charts = await google.colab.kernel.invokeFunction(\n",
              "            'suggestCharts', [key], {});\n",
              "      } catch (error) {\n",
              "        console.error('Error during call to suggestCharts:', error);\n",
              "      }\n",
              "      quickchartButtonEl.classList.remove('colab-df-spinner');\n",
              "      quickchartButtonEl.classList.add('colab-df-quickchart-complete');\n",
              "    }\n",
              "    (() => {\n",
              "      let quickchartButtonEl =\n",
              "        document.querySelector('#df-17026ce2-a2d7-4a00-b412-722db5588c47 button');\n",
              "      quickchartButtonEl.style.display =\n",
              "        google.colab.kernel.accessAllowed ? 'block' : 'none';\n",
              "    })();\n",
              "  </script>\n",
              "</div>\n",
              "    </div>\n",
              "  </div>\n"
            ],
            "text/plain": [
              "  duration  num_visitor\n",
              "0      1-7            4\n",
              "1     8-14            6\n",
              "2    15-21            5\n",
              "3    22-28           10\n",
              "4    29-35            6\n",
              "5    36-42            4\n",
              "6    43-49            1"
            ]
          },
          "execution_count": 6,
          "metadata": {},
          "output_type": "execute_result"
        }
      ],
      "source": [
        "df_visit = pd.read_csv(\"https://raw.githubusercontent.com/ThammakornS/ProgStat/main/dataset/ex4_6_visitor.csv\")\n",
        "df_visit"
      ]
    },
    {
      "cell_type": "markdown",
      "id": "f8bb9d3e-eb8b-405f-8da0-544052b767e5",
      "metadata": {
        "id": "f8bb9d3e-eb8b-405f-8da0-544052b767e5"
      },
      "source": [
        "\\\n",
        "แปลง duration ให้เป็น 2 columns เพื่อให้สามารถนำตัวเลขไปใช้คำนวณได้"
      ]
    },
    {
      "cell_type": "code",
      "execution_count": null,
      "id": "ae404ff6-a611-4701-8d98-9cf0197aade7",
      "metadata": {
        "colab": {
          "base_uri": "https://localhost:8080/",
          "height": 269
        },
        "id": "ae404ff6-a611-4701-8d98-9cf0197aade7",
        "outputId": "d66625db-96c0-491e-d51f-01f4db29fd57"
      },
      "outputs": [
        {
          "data": {
            "text/html": [
              "\n",
              "  <div id=\"df-93f05e2e-99ae-44d2-8d39-35ec50d3ceba\" class=\"colab-df-container\">\n",
              "    <div>\n",
              "<style scoped>\n",
              "    .dataframe tbody tr th:only-of-type {\n",
              "        vertical-align: middle;\n",
              "    }\n",
              "\n",
              "    .dataframe tbody tr th {\n",
              "        vertical-align: top;\n",
              "    }\n",
              "\n",
              "    .dataframe thead th {\n",
              "        text-align: right;\n",
              "    }\n",
              "</style>\n",
              "<table border=\"1\" class=\"dataframe\">\n",
              "  <thead>\n",
              "    <tr style=\"text-align: right;\">\n",
              "      <th></th>\n",
              "      <th>duration</th>\n",
              "      <th>num_visitor</th>\n",
              "      <th>du_from</th>\n",
              "      <th>du_to</th>\n",
              "    </tr>\n",
              "  </thead>\n",
              "  <tbody>\n",
              "    <tr>\n",
              "      <th>0</th>\n",
              "      <td>1-7</td>\n",
              "      <td>4</td>\n",
              "      <td>1</td>\n",
              "      <td>7</td>\n",
              "    </tr>\n",
              "    <tr>\n",
              "      <th>1</th>\n",
              "      <td>8-14</td>\n",
              "      <td>6</td>\n",
              "      <td>8</td>\n",
              "      <td>14</td>\n",
              "    </tr>\n",
              "    <tr>\n",
              "      <th>2</th>\n",
              "      <td>15-21</td>\n",
              "      <td>5</td>\n",
              "      <td>15</td>\n",
              "      <td>21</td>\n",
              "    </tr>\n",
              "    <tr>\n",
              "      <th>3</th>\n",
              "      <td>22-28</td>\n",
              "      <td>10</td>\n",
              "      <td>22</td>\n",
              "      <td>28</td>\n",
              "    </tr>\n",
              "    <tr>\n",
              "      <th>4</th>\n",
              "      <td>29-35</td>\n",
              "      <td>6</td>\n",
              "      <td>29</td>\n",
              "      <td>35</td>\n",
              "    </tr>\n",
              "    <tr>\n",
              "      <th>5</th>\n",
              "      <td>36-42</td>\n",
              "      <td>4</td>\n",
              "      <td>36</td>\n",
              "      <td>42</td>\n",
              "    </tr>\n",
              "    <tr>\n",
              "      <th>6</th>\n",
              "      <td>43-49</td>\n",
              "      <td>1</td>\n",
              "      <td>43</td>\n",
              "      <td>49</td>\n",
              "    </tr>\n",
              "  </tbody>\n",
              "</table>\n",
              "</div>\n",
              "    <div class=\"colab-df-buttons\">\n",
              "\n",
              "  <div class=\"colab-df-container\">\n",
              "    <button class=\"colab-df-convert\" onclick=\"convertToInteractive('df-93f05e2e-99ae-44d2-8d39-35ec50d3ceba')\"\n",
              "            title=\"Convert this dataframe to an interactive table.\"\n",
              "            style=\"display:none;\">\n",
              "\n",
              "  <svg xmlns=\"http://www.w3.org/2000/svg\" height=\"24px\" viewBox=\"0 -960 960 960\">\n",
              "    <path d=\"M120-120v-720h720v720H120Zm60-500h600v-160H180v160Zm220 220h160v-160H400v160Zm0 220h160v-160H400v160ZM180-400h160v-160H180v160Zm440 0h160v-160H620v160ZM180-180h160v-160H180v160Zm440 0h160v-160H620v160Z\"/>\n",
              "  </svg>\n",
              "    </button>\n",
              "\n",
              "  <style>\n",
              "    .colab-df-container {\n",
              "      display:flex;\n",
              "      gap: 12px;\n",
              "    }\n",
              "\n",
              "    .colab-df-convert {\n",
              "      background-color: #E8F0FE;\n",
              "      border: none;\n",
              "      border-radius: 50%;\n",
              "      cursor: pointer;\n",
              "      display: none;\n",
              "      fill: #1967D2;\n",
              "      height: 32px;\n",
              "      padding: 0 0 0 0;\n",
              "      width: 32px;\n",
              "    }\n",
              "\n",
              "    .colab-df-convert:hover {\n",
              "      background-color: #E2EBFA;\n",
              "      box-shadow: 0px 1px 2px rgba(60, 64, 67, 0.3), 0px 1px 3px 1px rgba(60, 64, 67, 0.15);\n",
              "      fill: #174EA6;\n",
              "    }\n",
              "\n",
              "    .colab-df-buttons div {\n",
              "      margin-bottom: 4px;\n",
              "    }\n",
              "\n",
              "    [theme=dark] .colab-df-convert {\n",
              "      background-color: #3B4455;\n",
              "      fill: #D2E3FC;\n",
              "    }\n",
              "\n",
              "    [theme=dark] .colab-df-convert:hover {\n",
              "      background-color: #434B5C;\n",
              "      box-shadow: 0px 1px 3px 1px rgba(0, 0, 0, 0.15);\n",
              "      filter: drop-shadow(0px 1px 2px rgba(0, 0, 0, 0.3));\n",
              "      fill: #FFFFFF;\n",
              "    }\n",
              "  </style>\n",
              "\n",
              "    <script>\n",
              "      const buttonEl =\n",
              "        document.querySelector('#df-93f05e2e-99ae-44d2-8d39-35ec50d3ceba button.colab-df-convert');\n",
              "      buttonEl.style.display =\n",
              "        google.colab.kernel.accessAllowed ? 'block' : 'none';\n",
              "\n",
              "      async function convertToInteractive(key) {\n",
              "        const element = document.querySelector('#df-93f05e2e-99ae-44d2-8d39-35ec50d3ceba');\n",
              "        const dataTable =\n",
              "          await google.colab.kernel.invokeFunction('convertToInteractive',\n",
              "                                                    [key], {});\n",
              "        if (!dataTable) return;\n",
              "\n",
              "        const docLinkHtml = 'Like what you see? Visit the ' +\n",
              "          '<a target=\"_blank\" href=https://colab.research.google.com/notebooks/data_table.ipynb>data table notebook</a>'\n",
              "          + ' to learn more about interactive tables.';\n",
              "        element.innerHTML = '';\n",
              "        dataTable['output_type'] = 'display_data';\n",
              "        await google.colab.output.renderOutput(dataTable, element);\n",
              "        const docLink = document.createElement('div');\n",
              "        docLink.innerHTML = docLinkHtml;\n",
              "        element.appendChild(docLink);\n",
              "      }\n",
              "    </script>\n",
              "  </div>\n",
              "\n",
              "\n",
              "<div id=\"df-6dde331b-0c5e-426a-b999-ea2d7712f74c\">\n",
              "  <button class=\"colab-df-quickchart\" onclick=\"quickchart('df-6dde331b-0c5e-426a-b999-ea2d7712f74c')\"\n",
              "            title=\"Suggest charts\"\n",
              "            style=\"display:none;\">\n",
              "\n",
              "<svg xmlns=\"http://www.w3.org/2000/svg\" height=\"24px\"viewBox=\"0 0 24 24\"\n",
              "     width=\"24px\">\n",
              "    <g>\n",
              "        <path d=\"M19 3H5c-1.1 0-2 .9-2 2v14c0 1.1.9 2 2 2h14c1.1 0 2-.9 2-2V5c0-1.1-.9-2-2-2zM9 17H7v-7h2v7zm4 0h-2V7h2v10zm4 0h-2v-4h2v4z\"/>\n",
              "    </g>\n",
              "</svg>\n",
              "  </button>\n",
              "\n",
              "<style>\n",
              "  .colab-df-quickchart {\n",
              "      --bg-color: #E8F0FE;\n",
              "      --fill-color: #1967D2;\n",
              "      --hover-bg-color: #E2EBFA;\n",
              "      --hover-fill-color: #174EA6;\n",
              "      --disabled-fill-color: #AAA;\n",
              "      --disabled-bg-color: #DDD;\n",
              "  }\n",
              "\n",
              "  [theme=dark] .colab-df-quickchart {\n",
              "      --bg-color: #3B4455;\n",
              "      --fill-color: #D2E3FC;\n",
              "      --hover-bg-color: #434B5C;\n",
              "      --hover-fill-color: #FFFFFF;\n",
              "      --disabled-bg-color: #3B4455;\n",
              "      --disabled-fill-color: #666;\n",
              "  }\n",
              "\n",
              "  .colab-df-quickchart {\n",
              "    background-color: var(--bg-color);\n",
              "    border: none;\n",
              "    border-radius: 50%;\n",
              "    cursor: pointer;\n",
              "    display: none;\n",
              "    fill: var(--fill-color);\n",
              "    height: 32px;\n",
              "    padding: 0;\n",
              "    width: 32px;\n",
              "  }\n",
              "\n",
              "  .colab-df-quickchart:hover {\n",
              "    background-color: var(--hover-bg-color);\n",
              "    box-shadow: 0 1px 2px rgba(60, 64, 67, 0.3), 0 1px 3px 1px rgba(60, 64, 67, 0.15);\n",
              "    fill: var(--button-hover-fill-color);\n",
              "  }\n",
              "\n",
              "  .colab-df-quickchart-complete:disabled,\n",
              "  .colab-df-quickchart-complete:disabled:hover {\n",
              "    background-color: var(--disabled-bg-color);\n",
              "    fill: var(--disabled-fill-color);\n",
              "    box-shadow: none;\n",
              "  }\n",
              "\n",
              "  .colab-df-spinner {\n",
              "    border: 2px solid var(--fill-color);\n",
              "    border-color: transparent;\n",
              "    border-bottom-color: var(--fill-color);\n",
              "    animation:\n",
              "      spin 1s steps(1) infinite;\n",
              "  }\n",
              "\n",
              "  @keyframes spin {\n",
              "    0% {\n",
              "      border-color: transparent;\n",
              "      border-bottom-color: var(--fill-color);\n",
              "      border-left-color: var(--fill-color);\n",
              "    }\n",
              "    20% {\n",
              "      border-color: transparent;\n",
              "      border-left-color: var(--fill-color);\n",
              "      border-top-color: var(--fill-color);\n",
              "    }\n",
              "    30% {\n",
              "      border-color: transparent;\n",
              "      border-left-color: var(--fill-color);\n",
              "      border-top-color: var(--fill-color);\n",
              "      border-right-color: var(--fill-color);\n",
              "    }\n",
              "    40% {\n",
              "      border-color: transparent;\n",
              "      border-right-color: var(--fill-color);\n",
              "      border-top-color: var(--fill-color);\n",
              "    }\n",
              "    60% {\n",
              "      border-color: transparent;\n",
              "      border-right-color: var(--fill-color);\n",
              "    }\n",
              "    80% {\n",
              "      border-color: transparent;\n",
              "      border-right-color: var(--fill-color);\n",
              "      border-bottom-color: var(--fill-color);\n",
              "    }\n",
              "    90% {\n",
              "      border-color: transparent;\n",
              "      border-bottom-color: var(--fill-color);\n",
              "    }\n",
              "  }\n",
              "</style>\n",
              "\n",
              "  <script>\n",
              "    async function quickchart(key) {\n",
              "      const quickchartButtonEl =\n",
              "        document.querySelector('#' + key + ' button');\n",
              "      quickchartButtonEl.disabled = true;  // To prevent multiple clicks.\n",
              "      quickchartButtonEl.classList.add('colab-df-spinner');\n",
              "      try {\n",
              "        const charts = await google.colab.kernel.invokeFunction(\n",
              "            'suggestCharts', [key], {});\n",
              "      } catch (error) {\n",
              "        console.error('Error during call to suggestCharts:', error);\n",
              "      }\n",
              "      quickchartButtonEl.classList.remove('colab-df-spinner');\n",
              "      quickchartButtonEl.classList.add('colab-df-quickchart-complete');\n",
              "    }\n",
              "    (() => {\n",
              "      let quickchartButtonEl =\n",
              "        document.querySelector('#df-6dde331b-0c5e-426a-b999-ea2d7712f74c button');\n",
              "      quickchartButtonEl.style.display =\n",
              "        google.colab.kernel.accessAllowed ? 'block' : 'none';\n",
              "    })();\n",
              "  </script>\n",
              "</div>\n",
              "    </div>\n",
              "  </div>\n"
            ],
            "text/plain": [
              "  duration  num_visitor  du_from  du_to\n",
              "0      1-7            4        1      7\n",
              "1     8-14            6        8     14\n",
              "2    15-21            5       15     21\n",
              "3    22-28           10       22     28\n",
              "4    29-35            6       29     35\n",
              "5    36-42            4       36     42\n",
              "6    43-49            1       43     49"
            ]
          },
          "execution_count": 31,
          "metadata": {},
          "output_type": "execute_result"
        }
      ],
      "source": [
        "df_visit[['du_from', 'du_to']] = df_visit.duration.str.split('-', expand=True).astype(int)\n",
        "df_visit"
      ]
    },
    {
      "cell_type": "markdown",
      "id": "e7b4964d-9b28-42a1-85f6-d8d2f9319857",
      "metadata": {
        "id": "e7b4964d-9b28-42a1-85f6-d8d2f9319857"
      },
      "source": [
        "\\\n",
        "หาชั้นที่ mode อยู่"
      ]
    },
    {
      "cell_type": "code",
      "execution_count": null,
      "id": "c463283d-e542-4b26-b261-c93299af51b3",
      "metadata": {
        "colab": {
          "base_uri": "https://localhost:8080/"
        },
        "id": "c463283d-e542-4b26-b261-c93299af51b3",
        "outputId": "3f124892-69db-4f52-d78e-48d831b64311"
      },
      "outputs": [
        {
          "data": {
            "text/plain": [
              "3"
            ]
          },
          "execution_count": 32,
          "metadata": {},
          "output_type": "execute_result"
        }
      ],
      "source": [
        "e = np.argmax(df_visit.num_visitor)\n",
        "e"
      ]
    },
    {
      "cell_type": "markdown",
      "id": "17aa181a-c040-4e9d-8d65-af1af16722fb",
      "metadata": {
        "id": "17aa181a-c040-4e9d-8d65-af1af16722fb"
      },
      "source": [
        "\\\n",
        "ซึ่งจะอยู่ในชั้นที่ 4 (index 3) มีระยะเวลา 22-28  \n",
        "หาขอบเขตล่าง"
      ]
    },
    {
      "cell_type": "code",
      "execution_count": null,
      "id": "761d3683-6ca1-48d6-9be2-969484c4bb63",
      "metadata": {
        "colab": {
          "base_uri": "https://localhost:8080/"
        },
        "id": "761d3683-6ca1-48d6-9be2-969484c4bb63",
        "outputId": "5d652b3e-29d0-4096-9401-aea8ea764635"
      },
      "outputs": [
        {
          "data": {
            "text/plain": [
              "21.5"
            ]
          },
          "execution_count": 33,
          "metadata": {},
          "output_type": "execute_result"
        }
      ],
      "source": [
        "lower = (df_visit.du_from[e]+df_visit.du_to[e-1])/2\n",
        "lower"
      ]
    },
    {
      "cell_type": "code",
      "execution_count": null,
      "id": "NSVT6jTyy_Pq",
      "metadata": {
        "colab": {
          "base_uri": "https://localhost:8080/"
        },
        "id": "NSVT6jTyy_Pq",
        "outputId": "810952cc-0d67-4b6d-c8ae-6afcf8ac02fa"
      },
      "outputs": [
        {
          "data": {
            "text/plain": [
              "4"
            ]
          },
          "execution_count": 35,
          "metadata": {},
          "output_type": "execute_result"
        }
      ],
      "source": [
        "de_plus1 = np.abs(df_visit.num_visitor[e] - df_visit.num_visitor[e+1])\n",
        "de_plus1"
      ]
    },
    {
      "cell_type": "code",
      "execution_count": null,
      "id": "WX7emBdHynf0",
      "metadata": {
        "colab": {
          "base_uri": "https://localhost:8080/",
          "height": 217
        },
        "id": "WX7emBdHynf0",
        "outputId": "120e171a-ac3a-45f6-c8e0-c7303d844211"
      },
      "outputs": [
        {
          "ename": "NameError",
          "evalue": "ignored",
          "output_type": "error",
          "traceback": [
            "\u001b[0;31m---------------------------------------------------------------------------\u001b[0m",
            "\u001b[0;31mNameError\u001b[0m                                 Traceback (most recent call last)",
            "\u001b[0;32m<ipython-input-1-b30ca50a62b2>\u001b[0m in \u001b[0;36m<cell line: 2>\u001b[0;34m()\u001b[0m\n\u001b[1;32m      1\u001b[0m \u001b[0;31m# I (ความห่างของแต่ละชั้น)\u001b[0m\u001b[0;34m\u001b[0m\u001b[0;34m\u001b[0m\u001b[0m\n\u001b[0;32m----> 2\u001b[0;31m \u001b[0mde_minus1\u001b[0m \u001b[0;34m=\u001b[0m \u001b[0mnp\u001b[0m\u001b[0;34m.\u001b[0m\u001b[0mabs\u001b[0m\u001b[0;34m(\u001b[0m\u001b[0mdf_visit\u001b[0m\u001b[0;34m.\u001b[0m\u001b[0mnum_visitor\u001b[0m\u001b[0;34m[\u001b[0m\u001b[0me\u001b[0m\u001b[0;34m]\u001b[0m \u001b[0;34m-\u001b[0m \u001b[0mdf_visit\u001b[0m\u001b[0;34m.\u001b[0m\u001b[0mnum_visitor\u001b[0m\u001b[0;34m[\u001b[0m\u001b[0me\u001b[0m\u001b[0;34m-\u001b[0m\u001b[0;36m1\u001b[0m\u001b[0;34m]\u001b[0m\u001b[0;34m)\u001b[0m\u001b[0;34m\u001b[0m\u001b[0;34m\u001b[0m\u001b[0m\n\u001b[0m\u001b[1;32m      3\u001b[0m \u001b[0mde_minus1\u001b[0m\u001b[0;34m\u001b[0m\u001b[0;34m\u001b[0m\u001b[0m\n",
            "\u001b[0;31mNameError\u001b[0m: name 'np' is not defined"
          ]
        }
      ],
      "source": [
        "# I (ความห่างของแต่ละชั้น)\n",
        "de_minus1 = np.abs(df_visit.num_visitor[e] - df_visit.num_visitor[e-1])\n",
        "de_minus1"
      ]
    },
    {
      "cell_type": "markdown",
      "id": "97af088d-c56d-4953-beb5-2abaab890f58",
      "metadata": {
        "id": "97af088d-c56d-4953-beb5-2abaab890f58"
      },
      "source": [
        "\\\n",
        "หาค่า mode"
      ]
    },
    {
      "cell_type": "code",
      "execution_count": null,
      "id": "3bac0aaf-2be7-4155-b2a4-6dc7d4223d26",
      "metadata": {
        "colab": {
          "base_uri": "https://localhost:8080/"
        },
        "id": "3bac0aaf-2be7-4155-b2a4-6dc7d4223d26",
        "outputId": "da66061a-1803-4203-89ff-50637ce29e38"
      },
      "outputs": [
        {
          "data": {
            "text/plain": [
              "25.38888888888889"
            ]
          },
          "execution_count": 36,
          "metadata": {},
          "output_type": "execute_result"
        }
      ],
      "source": [
        "lower + ( de_minus1/(de_minus1+de_plus1) )*7"
      ]
    },
    {
      "cell_type": "markdown",
      "id": "Xh29R0AS1eT8",
      "metadata": {
        "id": "Xh29R0AS1eT8"
      },
      "source": [
        "#-"
      ]
    },
    {
      "cell_type": "markdown",
      "id": "e8931b0e-1fad-41f0-800b-146639355fb0",
      "metadata": {
        "id": "e8931b0e-1fad-41f0-800b-146639355fb0"
      },
      "source": [
        "#### 4.9 สุ่มตัวอย่างนิสิตจำนวน 10 คน และสอบถามถึงจำนวนครั้งในการไปใช้บริการร้านสะดวกซื้อในหนึ่งสัปดาห์ ได้ข้อมูลมาดังนี้ 10, 5, 3, 9, 17, 15, 9, 2, 7, 8   จงคำนวณค่า Q<sub>1</sub> และ D<sub>7</sub>"
      ]
    },
    {
      "cell_type": "code",
      "execution_count": null,
      "id": "c03edcae-0cca-486c-81bd-38a02fa10c4a",
      "metadata": {
        "id": "c03edcae-0cca-486c-81bd-38a02fa10c4a"
      },
      "outputs": [],
      "source": [
        "conv = [10, 5, 3, 9, 17, 15, 9, 2, 7, 8]"
      ]
    },
    {
      "cell_type": "code",
      "execution_count": null,
      "id": "0b4438b2-78bb-4af5-b733-cc6a974e9dad",
      "metadata": {
        "id": "0b4438b2-78bb-4af5-b733-cc6a974e9dad"
      },
      "outputs": [],
      "source": [
        "np.percentile(conv,25, method='weibull')"
      ]
    },
    {
      "cell_type": "code",
      "execution_count": null,
      "id": "204f3385-4032-457c-9d64-04bf242e65c6",
      "metadata": {
        "id": "204f3385-4032-457c-9d64-04bf242e65c6"
      },
      "outputs": [],
      "source": [
        "np.percentile(conv,70, method='weibull')"
      ]
    },
    {
      "cell_type": "markdown",
      "id": "da1910b0-aae5-4251-b500-2961387cbece",
      "metadata": {
        "id": "da1910b0-aae5-4251-b500-2961387cbece"
      },
      "source": [
        "#### 4.10 จงคำนวณค่าของ Q<sub>3</sub>, D<sub>3</sub> และ P<sub>60</sub> จากตารางแสดงระยะเวลาที่ครบกำหนดของการลงทุนระยะสั้นที่บริษัทต่างๆ จำนวน 40 บริษัทกำหนดไว้ดังตาราง 'ex3_10_investment.csv'\n"
      ]
    },
    {
      "cell_type": "code",
      "execution_count": null,
      "id": "4494db17-0c7b-4dff-a7c5-82872aba411a",
      "metadata": {
        "colab": {
          "base_uri": "https://localhost:8080/",
          "height": 269
        },
        "id": "4494db17-0c7b-4dff-a7c5-82872aba411a",
        "outputId": "08156264-6ee2-49ab-9560-265f83ec5ee1",
        "tags": []
      },
      "outputs": [
        {
          "data": {
            "text/html": [
              "\n",
              "  <div id=\"df-50b2a273-0ae3-419a-99f2-e836f81a194f\" class=\"colab-df-container\">\n",
              "    <div>\n",
              "<style scoped>\n",
              "    .dataframe tbody tr th:only-of-type {\n",
              "        vertical-align: middle;\n",
              "    }\n",
              "\n",
              "    .dataframe tbody tr th {\n",
              "        vertical-align: top;\n",
              "    }\n",
              "\n",
              "    .dataframe thead th {\n",
              "        text-align: right;\n",
              "    }\n",
              "</style>\n",
              "<table border=\"1\" class=\"dataframe\">\n",
              "  <thead>\n",
              "    <tr style=\"text-align: right;\">\n",
              "      <th></th>\n",
              "      <th>duration</th>\n",
              "      <th>num_company</th>\n",
              "    </tr>\n",
              "  </thead>\n",
              "  <tbody>\n",
              "    <tr>\n",
              "      <th>0</th>\n",
              "      <td>30-39</td>\n",
              "      <td>3</td>\n",
              "    </tr>\n",
              "    <tr>\n",
              "      <th>1</th>\n",
              "      <td>40-49</td>\n",
              "      <td>1</td>\n",
              "    </tr>\n",
              "    <tr>\n",
              "      <th>2</th>\n",
              "      <td>50-59</td>\n",
              "      <td>8</td>\n",
              "    </tr>\n",
              "    <tr>\n",
              "      <th>3</th>\n",
              "      <td>60-69</td>\n",
              "      <td>10</td>\n",
              "    </tr>\n",
              "    <tr>\n",
              "      <th>4</th>\n",
              "      <td>70-79</td>\n",
              "      <td>7</td>\n",
              "    </tr>\n",
              "    <tr>\n",
              "      <th>5</th>\n",
              "      <td>80-89</td>\n",
              "      <td>7</td>\n",
              "    </tr>\n",
              "    <tr>\n",
              "      <th>6</th>\n",
              "      <td>90-99</td>\n",
              "      <td>4</td>\n",
              "    </tr>\n",
              "  </tbody>\n",
              "</table>\n",
              "</div>\n",
              "    <div class=\"colab-df-buttons\">\n",
              "\n",
              "  <div class=\"colab-df-container\">\n",
              "    <button class=\"colab-df-convert\" onclick=\"convertToInteractive('df-50b2a273-0ae3-419a-99f2-e836f81a194f')\"\n",
              "            title=\"Convert this dataframe to an interactive table.\"\n",
              "            style=\"display:none;\">\n",
              "\n",
              "  <svg xmlns=\"http://www.w3.org/2000/svg\" height=\"24px\" viewBox=\"0 -960 960 960\">\n",
              "    <path d=\"M120-120v-720h720v720H120Zm60-500h600v-160H180v160Zm220 220h160v-160H400v160Zm0 220h160v-160H400v160ZM180-400h160v-160H180v160Zm440 0h160v-160H620v160ZM180-180h160v-160H180v160Zm440 0h160v-160H620v160Z\"/>\n",
              "  </svg>\n",
              "    </button>\n",
              "\n",
              "  <style>\n",
              "    .colab-df-container {\n",
              "      display:flex;\n",
              "      gap: 12px;\n",
              "    }\n",
              "\n",
              "    .colab-df-convert {\n",
              "      background-color: #E8F0FE;\n",
              "      border: none;\n",
              "      border-radius: 50%;\n",
              "      cursor: pointer;\n",
              "      display: none;\n",
              "      fill: #1967D2;\n",
              "      height: 32px;\n",
              "      padding: 0 0 0 0;\n",
              "      width: 32px;\n",
              "    }\n",
              "\n",
              "    .colab-df-convert:hover {\n",
              "      background-color: #E2EBFA;\n",
              "      box-shadow: 0px 1px 2px rgba(60, 64, 67, 0.3), 0px 1px 3px 1px rgba(60, 64, 67, 0.15);\n",
              "      fill: #174EA6;\n",
              "    }\n",
              "\n",
              "    .colab-df-buttons div {\n",
              "      margin-bottom: 4px;\n",
              "    }\n",
              "\n",
              "    [theme=dark] .colab-df-convert {\n",
              "      background-color: #3B4455;\n",
              "      fill: #D2E3FC;\n",
              "    }\n",
              "\n",
              "    [theme=dark] .colab-df-convert:hover {\n",
              "      background-color: #434B5C;\n",
              "      box-shadow: 0px 1px 3px 1px rgba(0, 0, 0, 0.15);\n",
              "      filter: drop-shadow(0px 1px 2px rgba(0, 0, 0, 0.3));\n",
              "      fill: #FFFFFF;\n",
              "    }\n",
              "  </style>\n",
              "\n",
              "    <script>\n",
              "      const buttonEl =\n",
              "        document.querySelector('#df-50b2a273-0ae3-419a-99f2-e836f81a194f button.colab-df-convert');\n",
              "      buttonEl.style.display =\n",
              "        google.colab.kernel.accessAllowed ? 'block' : 'none';\n",
              "\n",
              "      async function convertToInteractive(key) {\n",
              "        const element = document.querySelector('#df-50b2a273-0ae3-419a-99f2-e836f81a194f');\n",
              "        const dataTable =\n",
              "          await google.colab.kernel.invokeFunction('convertToInteractive',\n",
              "                                                    [key], {});\n",
              "        if (!dataTable) return;\n",
              "\n",
              "        const docLinkHtml = 'Like what you see? Visit the ' +\n",
              "          '<a target=\"_blank\" href=https://colab.research.google.com/notebooks/data_table.ipynb>data table notebook</a>'\n",
              "          + ' to learn more about interactive tables.';\n",
              "        element.innerHTML = '';\n",
              "        dataTable['output_type'] = 'display_data';\n",
              "        await google.colab.output.renderOutput(dataTable, element);\n",
              "        const docLink = document.createElement('div');\n",
              "        docLink.innerHTML = docLinkHtml;\n",
              "        element.appendChild(docLink);\n",
              "      }\n",
              "    </script>\n",
              "  </div>\n",
              "\n",
              "\n",
              "<div id=\"df-477913b0-af24-4f18-bf2a-d87a0bdbb045\">\n",
              "  <button class=\"colab-df-quickchart\" onclick=\"quickchart('df-477913b0-af24-4f18-bf2a-d87a0bdbb045')\"\n",
              "            title=\"Suggest charts\"\n",
              "            style=\"display:none;\">\n",
              "\n",
              "<svg xmlns=\"http://www.w3.org/2000/svg\" height=\"24px\"viewBox=\"0 0 24 24\"\n",
              "     width=\"24px\">\n",
              "    <g>\n",
              "        <path d=\"M19 3H5c-1.1 0-2 .9-2 2v14c0 1.1.9 2 2 2h14c1.1 0 2-.9 2-2V5c0-1.1-.9-2-2-2zM9 17H7v-7h2v7zm4 0h-2V7h2v10zm4 0h-2v-4h2v4z\"/>\n",
              "    </g>\n",
              "</svg>\n",
              "  </button>\n",
              "\n",
              "<style>\n",
              "  .colab-df-quickchart {\n",
              "      --bg-color: #E8F0FE;\n",
              "      --fill-color: #1967D2;\n",
              "      --hover-bg-color: #E2EBFA;\n",
              "      --hover-fill-color: #174EA6;\n",
              "      --disabled-fill-color: #AAA;\n",
              "      --disabled-bg-color: #DDD;\n",
              "  }\n",
              "\n",
              "  [theme=dark] .colab-df-quickchart {\n",
              "      --bg-color: #3B4455;\n",
              "      --fill-color: #D2E3FC;\n",
              "      --hover-bg-color: #434B5C;\n",
              "      --hover-fill-color: #FFFFFF;\n",
              "      --disabled-bg-color: #3B4455;\n",
              "      --disabled-fill-color: #666;\n",
              "  }\n",
              "\n",
              "  .colab-df-quickchart {\n",
              "    background-color: var(--bg-color);\n",
              "    border: none;\n",
              "    border-radius: 50%;\n",
              "    cursor: pointer;\n",
              "    display: none;\n",
              "    fill: var(--fill-color);\n",
              "    height: 32px;\n",
              "    padding: 0;\n",
              "    width: 32px;\n",
              "  }\n",
              "\n",
              "  .colab-df-quickchart:hover {\n",
              "    background-color: var(--hover-bg-color);\n",
              "    box-shadow: 0 1px 2px rgba(60, 64, 67, 0.3), 0 1px 3px 1px rgba(60, 64, 67, 0.15);\n",
              "    fill: var(--button-hover-fill-color);\n",
              "  }\n",
              "\n",
              "  .colab-df-quickchart-complete:disabled,\n",
              "  .colab-df-quickchart-complete:disabled:hover {\n",
              "    background-color: var(--disabled-bg-color);\n",
              "    fill: var(--disabled-fill-color);\n",
              "    box-shadow: none;\n",
              "  }\n",
              "\n",
              "  .colab-df-spinner {\n",
              "    border: 2px solid var(--fill-color);\n",
              "    border-color: transparent;\n",
              "    border-bottom-color: var(--fill-color);\n",
              "    animation:\n",
              "      spin 1s steps(1) infinite;\n",
              "  }\n",
              "\n",
              "  @keyframes spin {\n",
              "    0% {\n",
              "      border-color: transparent;\n",
              "      border-bottom-color: var(--fill-color);\n",
              "      border-left-color: var(--fill-color);\n",
              "    }\n",
              "    20% {\n",
              "      border-color: transparent;\n",
              "      border-left-color: var(--fill-color);\n",
              "      border-top-color: var(--fill-color);\n",
              "    }\n",
              "    30% {\n",
              "      border-color: transparent;\n",
              "      border-left-color: var(--fill-color);\n",
              "      border-top-color: var(--fill-color);\n",
              "      border-right-color: var(--fill-color);\n",
              "    }\n",
              "    40% {\n",
              "      border-color: transparent;\n",
              "      border-right-color: var(--fill-color);\n",
              "      border-top-color: var(--fill-color);\n",
              "    }\n",
              "    60% {\n",
              "      border-color: transparent;\n",
              "      border-right-color: var(--fill-color);\n",
              "    }\n",
              "    80% {\n",
              "      border-color: transparent;\n",
              "      border-right-color: var(--fill-color);\n",
              "      border-bottom-color: var(--fill-color);\n",
              "    }\n",
              "    90% {\n",
              "      border-color: transparent;\n",
              "      border-bottom-color: var(--fill-color);\n",
              "    }\n",
              "  }\n",
              "</style>\n",
              "\n",
              "  <script>\n",
              "    async function quickchart(key) {\n",
              "      const quickchartButtonEl =\n",
              "        document.querySelector('#' + key + ' button');\n",
              "      quickchartButtonEl.disabled = true;  // To prevent multiple clicks.\n",
              "      quickchartButtonEl.classList.add('colab-df-spinner');\n",
              "      try {\n",
              "        const charts = await google.colab.kernel.invokeFunction(\n",
              "            'suggestCharts', [key], {});\n",
              "      } catch (error) {\n",
              "        console.error('Error during call to suggestCharts:', error);\n",
              "      }\n",
              "      quickchartButtonEl.classList.remove('colab-df-spinner');\n",
              "      quickchartButtonEl.classList.add('colab-df-quickchart-complete');\n",
              "    }\n",
              "    (() => {\n",
              "      let quickchartButtonEl =\n",
              "        document.querySelector('#df-477913b0-af24-4f18-bf2a-d87a0bdbb045 button');\n",
              "      quickchartButtonEl.style.display =\n",
              "        google.colab.kernel.accessAllowed ? 'block' : 'none';\n",
              "    })();\n",
              "  </script>\n",
              "</div>\n",
              "    </div>\n",
              "  </div>\n"
            ],
            "text/plain": [
              "  duration  num_company\n",
              "0    30-39            3\n",
              "1    40-49            1\n",
              "2    50-59            8\n",
              "3    60-69           10\n",
              "4    70-79            7\n",
              "5    80-89            7\n",
              "6    90-99            4"
            ]
          },
          "execution_count": 29,
          "metadata": {},
          "output_type": "execute_result"
        }
      ],
      "source": [
        "df_invest = pd.read_csv(\"https://raw.githubusercontent.com/ThammakornS/ProgStat/main/dataset/ex4_10_investment.csv\")\n",
        "df_invest"
      ]
    },
    {
      "cell_type": "markdown",
      "id": "ca45e778-9d11-4791-b8ee-a2ba03a3c46d",
      "metadata": {
        "id": "ca45e778-9d11-4791-b8ee-a2ba03a3c46d"
      },
      "source": [
        "\\\n",
        "สร้าง column ความถี่สะสมของจำนวนบริษัท"
      ]
    },
    {
      "cell_type": "code",
      "execution_count": null,
      "id": "fdf7aabf-7813-4ec3-b34e-756eae268dea",
      "metadata": {
        "colab": {
          "base_uri": "https://localhost:8080/",
          "height": 269
        },
        "id": "fdf7aabf-7813-4ec3-b34e-756eae268dea",
        "outputId": "ea309098-ce14-4779-c671-eef01f59d165"
      },
      "outputs": [
        {
          "data": {
            "text/html": [
              "\n",
              "  <div id=\"df-d2c45d72-1fc3-45c3-bd94-b1e141061086\" class=\"colab-df-container\">\n",
              "    <div>\n",
              "<style scoped>\n",
              "    .dataframe tbody tr th:only-of-type {\n",
              "        vertical-align: middle;\n",
              "    }\n",
              "\n",
              "    .dataframe tbody tr th {\n",
              "        vertical-align: top;\n",
              "    }\n",
              "\n",
              "    .dataframe thead th {\n",
              "        text-align: right;\n",
              "    }\n",
              "</style>\n",
              "<table border=\"1\" class=\"dataframe\">\n",
              "  <thead>\n",
              "    <tr style=\"text-align: right;\">\n",
              "      <th></th>\n",
              "      <th>duration</th>\n",
              "      <th>num_company</th>\n",
              "      <th>num_company_cum</th>\n",
              "    </tr>\n",
              "  </thead>\n",
              "  <tbody>\n",
              "    <tr>\n",
              "      <th>0</th>\n",
              "      <td>30-39</td>\n",
              "      <td>3</td>\n",
              "      <td>3</td>\n",
              "    </tr>\n",
              "    <tr>\n",
              "      <th>1</th>\n",
              "      <td>40-49</td>\n",
              "      <td>1</td>\n",
              "      <td>4</td>\n",
              "    </tr>\n",
              "    <tr>\n",
              "      <th>2</th>\n",
              "      <td>50-59</td>\n",
              "      <td>8</td>\n",
              "      <td>12</td>\n",
              "    </tr>\n",
              "    <tr>\n",
              "      <th>3</th>\n",
              "      <td>60-69</td>\n",
              "      <td>10</td>\n",
              "      <td>22</td>\n",
              "    </tr>\n",
              "    <tr>\n",
              "      <th>4</th>\n",
              "      <td>70-79</td>\n",
              "      <td>7</td>\n",
              "      <td>29</td>\n",
              "    </tr>\n",
              "    <tr>\n",
              "      <th>5</th>\n",
              "      <td>80-89</td>\n",
              "      <td>7</td>\n",
              "      <td>36</td>\n",
              "    </tr>\n",
              "    <tr>\n",
              "      <th>6</th>\n",
              "      <td>90-99</td>\n",
              "      <td>4</td>\n",
              "      <td>40</td>\n",
              "    </tr>\n",
              "  </tbody>\n",
              "</table>\n",
              "</div>\n",
              "    <div class=\"colab-df-buttons\">\n",
              "\n",
              "  <div class=\"colab-df-container\">\n",
              "    <button class=\"colab-df-convert\" onclick=\"convertToInteractive('df-d2c45d72-1fc3-45c3-bd94-b1e141061086')\"\n",
              "            title=\"Convert this dataframe to an interactive table.\"\n",
              "            style=\"display:none;\">\n",
              "\n",
              "  <svg xmlns=\"http://www.w3.org/2000/svg\" height=\"24px\" viewBox=\"0 -960 960 960\">\n",
              "    <path d=\"M120-120v-720h720v720H120Zm60-500h600v-160H180v160Zm220 220h160v-160H400v160Zm0 220h160v-160H400v160ZM180-400h160v-160H180v160Zm440 0h160v-160H620v160ZM180-180h160v-160H180v160Zm440 0h160v-160H620v160Z\"/>\n",
              "  </svg>\n",
              "    </button>\n",
              "\n",
              "  <style>\n",
              "    .colab-df-container {\n",
              "      display:flex;\n",
              "      gap: 12px;\n",
              "    }\n",
              "\n",
              "    .colab-df-convert {\n",
              "      background-color: #E8F0FE;\n",
              "      border: none;\n",
              "      border-radius: 50%;\n",
              "      cursor: pointer;\n",
              "      display: none;\n",
              "      fill: #1967D2;\n",
              "      height: 32px;\n",
              "      padding: 0 0 0 0;\n",
              "      width: 32px;\n",
              "    }\n",
              "\n",
              "    .colab-df-convert:hover {\n",
              "      background-color: #E2EBFA;\n",
              "      box-shadow: 0px 1px 2px rgba(60, 64, 67, 0.3), 0px 1px 3px 1px rgba(60, 64, 67, 0.15);\n",
              "      fill: #174EA6;\n",
              "    }\n",
              "\n",
              "    .colab-df-buttons div {\n",
              "      margin-bottom: 4px;\n",
              "    }\n",
              "\n",
              "    [theme=dark] .colab-df-convert {\n",
              "      background-color: #3B4455;\n",
              "      fill: #D2E3FC;\n",
              "    }\n",
              "\n",
              "    [theme=dark] .colab-df-convert:hover {\n",
              "      background-color: #434B5C;\n",
              "      box-shadow: 0px 1px 3px 1px rgba(0, 0, 0, 0.15);\n",
              "      filter: drop-shadow(0px 1px 2px rgba(0, 0, 0, 0.3));\n",
              "      fill: #FFFFFF;\n",
              "    }\n",
              "  </style>\n",
              "\n",
              "    <script>\n",
              "      const buttonEl =\n",
              "        document.querySelector('#df-d2c45d72-1fc3-45c3-bd94-b1e141061086 button.colab-df-convert');\n",
              "      buttonEl.style.display =\n",
              "        google.colab.kernel.accessAllowed ? 'block' : 'none';\n",
              "\n",
              "      async function convertToInteractive(key) {\n",
              "        const element = document.querySelector('#df-d2c45d72-1fc3-45c3-bd94-b1e141061086');\n",
              "        const dataTable =\n",
              "          await google.colab.kernel.invokeFunction('convertToInteractive',\n",
              "                                                    [key], {});\n",
              "        if (!dataTable) return;\n",
              "\n",
              "        const docLinkHtml = 'Like what you see? Visit the ' +\n",
              "          '<a target=\"_blank\" href=https://colab.research.google.com/notebooks/data_table.ipynb>data table notebook</a>'\n",
              "          + ' to learn more about interactive tables.';\n",
              "        element.innerHTML = '';\n",
              "        dataTable['output_type'] = 'display_data';\n",
              "        await google.colab.output.renderOutput(dataTable, element);\n",
              "        const docLink = document.createElement('div');\n",
              "        docLink.innerHTML = docLinkHtml;\n",
              "        element.appendChild(docLink);\n",
              "      }\n",
              "    </script>\n",
              "  </div>\n",
              "\n",
              "\n",
              "<div id=\"df-1d31c081-a402-4cba-a09e-fae6def4ee84\">\n",
              "  <button class=\"colab-df-quickchart\" onclick=\"quickchart('df-1d31c081-a402-4cba-a09e-fae6def4ee84')\"\n",
              "            title=\"Suggest charts\"\n",
              "            style=\"display:none;\">\n",
              "\n",
              "<svg xmlns=\"http://www.w3.org/2000/svg\" height=\"24px\"viewBox=\"0 0 24 24\"\n",
              "     width=\"24px\">\n",
              "    <g>\n",
              "        <path d=\"M19 3H5c-1.1 0-2 .9-2 2v14c0 1.1.9 2 2 2h14c1.1 0 2-.9 2-2V5c0-1.1-.9-2-2-2zM9 17H7v-7h2v7zm4 0h-2V7h2v10zm4 0h-2v-4h2v4z\"/>\n",
              "    </g>\n",
              "</svg>\n",
              "  </button>\n",
              "\n",
              "<style>\n",
              "  .colab-df-quickchart {\n",
              "      --bg-color: #E8F0FE;\n",
              "      --fill-color: #1967D2;\n",
              "      --hover-bg-color: #E2EBFA;\n",
              "      --hover-fill-color: #174EA6;\n",
              "      --disabled-fill-color: #AAA;\n",
              "      --disabled-bg-color: #DDD;\n",
              "  }\n",
              "\n",
              "  [theme=dark] .colab-df-quickchart {\n",
              "      --bg-color: #3B4455;\n",
              "      --fill-color: #D2E3FC;\n",
              "      --hover-bg-color: #434B5C;\n",
              "      --hover-fill-color: #FFFFFF;\n",
              "      --disabled-bg-color: #3B4455;\n",
              "      --disabled-fill-color: #666;\n",
              "  }\n",
              "\n",
              "  .colab-df-quickchart {\n",
              "    background-color: var(--bg-color);\n",
              "    border: none;\n",
              "    border-radius: 50%;\n",
              "    cursor: pointer;\n",
              "    display: none;\n",
              "    fill: var(--fill-color);\n",
              "    height: 32px;\n",
              "    padding: 0;\n",
              "    width: 32px;\n",
              "  }\n",
              "\n",
              "  .colab-df-quickchart:hover {\n",
              "    background-color: var(--hover-bg-color);\n",
              "    box-shadow: 0 1px 2px rgba(60, 64, 67, 0.3), 0 1px 3px 1px rgba(60, 64, 67, 0.15);\n",
              "    fill: var(--button-hover-fill-color);\n",
              "  }\n",
              "\n",
              "  .colab-df-quickchart-complete:disabled,\n",
              "  .colab-df-quickchart-complete:disabled:hover {\n",
              "    background-color: var(--disabled-bg-color);\n",
              "    fill: var(--disabled-fill-color);\n",
              "    box-shadow: none;\n",
              "  }\n",
              "\n",
              "  .colab-df-spinner {\n",
              "    border: 2px solid var(--fill-color);\n",
              "    border-color: transparent;\n",
              "    border-bottom-color: var(--fill-color);\n",
              "    animation:\n",
              "      spin 1s steps(1) infinite;\n",
              "  }\n",
              "\n",
              "  @keyframes spin {\n",
              "    0% {\n",
              "      border-color: transparent;\n",
              "      border-bottom-color: var(--fill-color);\n",
              "      border-left-color: var(--fill-color);\n",
              "    }\n",
              "    20% {\n",
              "      border-color: transparent;\n",
              "      border-left-color: var(--fill-color);\n",
              "      border-top-color: var(--fill-color);\n",
              "    }\n",
              "    30% {\n",
              "      border-color: transparent;\n",
              "      border-left-color: var(--fill-color);\n",
              "      border-top-color: var(--fill-color);\n",
              "      border-right-color: var(--fill-color);\n",
              "    }\n",
              "    40% {\n",
              "      border-color: transparent;\n",
              "      border-right-color: var(--fill-color);\n",
              "      border-top-color: var(--fill-color);\n",
              "    }\n",
              "    60% {\n",
              "      border-color: transparent;\n",
              "      border-right-color: var(--fill-color);\n",
              "    }\n",
              "    80% {\n",
              "      border-color: transparent;\n",
              "      border-right-color: var(--fill-color);\n",
              "      border-bottom-color: var(--fill-color);\n",
              "    }\n",
              "    90% {\n",
              "      border-color: transparent;\n",
              "      border-bottom-color: var(--fill-color);\n",
              "    }\n",
              "  }\n",
              "</style>\n",
              "\n",
              "  <script>\n",
              "    async function quickchart(key) {\n",
              "      const quickchartButtonEl =\n",
              "        document.querySelector('#' + key + ' button');\n",
              "      quickchartButtonEl.disabled = true;  // To prevent multiple clicks.\n",
              "      quickchartButtonEl.classList.add('colab-df-spinner');\n",
              "      try {\n",
              "        const charts = await google.colab.kernel.invokeFunction(\n",
              "            'suggestCharts', [key], {});\n",
              "      } catch (error) {\n",
              "        console.error('Error during call to suggestCharts:', error);\n",
              "      }\n",
              "      quickchartButtonEl.classList.remove('colab-df-spinner');\n",
              "      quickchartButtonEl.classList.add('colab-df-quickchart-complete');\n",
              "    }\n",
              "    (() => {\n",
              "      let quickchartButtonEl =\n",
              "        document.querySelector('#df-1d31c081-a402-4cba-a09e-fae6def4ee84 button');\n",
              "      quickchartButtonEl.style.display =\n",
              "        google.colab.kernel.accessAllowed ? 'block' : 'none';\n",
              "    })();\n",
              "  </script>\n",
              "</div>\n",
              "    </div>\n",
              "  </div>\n"
            ],
            "text/plain": [
              "  duration  num_company  num_company_cum\n",
              "0    30-39            3                3\n",
              "1    40-49            1                4\n",
              "2    50-59            8               12\n",
              "3    60-69           10               22\n",
              "4    70-79            7               29\n",
              "5    80-89            7               36\n",
              "6    90-99            4               40"
            ]
          },
          "execution_count": 37,
          "metadata": {},
          "output_type": "execute_result"
        }
      ],
      "source": [
        "df_invest['num_company_cum'] = df_invest.num_company.cumsum()\n",
        "df_invest"
      ]
    },
    {
      "cell_type": "markdown",
      "id": "71b700b1-6ca0-4dc5-b428-e9d2457bc60f",
      "metadata": {
        "id": "71b700b1-6ca0-4dc5-b428-e9d2457bc60f"
      },
      "source": [
        "\\\n",
        "แปลง duration ให้เป็น 2 columns เพื่อให้สามารถนำตัวเลขไปใช้คำนวณได้"
      ]
    },
    {
      "cell_type": "code",
      "execution_count": null,
      "id": "04cc8d33-e92b-4cca-b90c-262dc380e161",
      "metadata": {
        "colab": {
          "base_uri": "https://localhost:8080/",
          "height": 199
        },
        "id": "04cc8d33-e92b-4cca-b90c-262dc380e161",
        "outputId": "a48b6cb3-05bd-4013-c399-b27768941633"
      },
      "outputs": [
        {
          "ename": "NameError",
          "evalue": "ignored",
          "output_type": "error",
          "traceback": [
            "\u001b[0;31m---------------------------------------------------------------------------\u001b[0m",
            "\u001b[0;31mNameError\u001b[0m                                 Traceback (most recent call last)",
            "\u001b[0;32m<ipython-input-2-36889dde55f5>\u001b[0m in \u001b[0;36m<cell line: 1>\u001b[0;34m()\u001b[0m\n\u001b[0;32m----> 1\u001b[0;31m \u001b[0mdf_invest\u001b[0m\u001b[0;34m[\u001b[0m\u001b[0;34m[\u001b[0m\u001b[0;34m'du_from'\u001b[0m\u001b[0;34m,\u001b[0m \u001b[0;34m'du_to'\u001b[0m\u001b[0;34m]\u001b[0m\u001b[0;34m]\u001b[0m \u001b[0;34m=\u001b[0m \u001b[0mdf_invest\u001b[0m\u001b[0;34m.\u001b[0m\u001b[0mduration\u001b[0m\u001b[0;34m.\u001b[0m\u001b[0mstr\u001b[0m\u001b[0;34m.\u001b[0m\u001b[0msplit\u001b[0m\u001b[0;34m(\u001b[0m\u001b[0;34m'-'\u001b[0m\u001b[0;34m,\u001b[0m \u001b[0mexpand\u001b[0m\u001b[0;34m=\u001b[0m\u001b[0;32mTrue\u001b[0m\u001b[0;34m)\u001b[0m\u001b[0;34m.\u001b[0m\u001b[0mastype\u001b[0m\u001b[0;34m(\u001b[0m\u001b[0mint\u001b[0m\u001b[0;34m)\u001b[0m\u001b[0;34m\u001b[0m\u001b[0;34m\u001b[0m\u001b[0m\n\u001b[0m\u001b[1;32m      2\u001b[0m \u001b[0mdf_invest\u001b[0m\u001b[0;34m\u001b[0m\u001b[0;34m\u001b[0m\u001b[0m\n",
            "\u001b[0;31mNameError\u001b[0m: name 'df_invest' is not defined"
          ]
        }
      ],
      "source": [
        "df_invest[['du_from', 'du_to']] = df_invest.duration.str.split('-', expand=True).astype(int)\n",
        "df_invest"
      ]
    },
    {
      "cell_type": "markdown",
      "id": "a09f0e62-b173-438f-a4c4-d09937befb9e",
      "metadata": {
        "id": "a09f0e62-b173-438f-a4c4-d09937befb9e"
      },
      "source": [
        "&emsp;**1) Q<sub>3</sub>**"
      ]
    },
    {
      "cell_type": "markdown",
      "id": "5df61489-5e4e-495b-8042-317a523cdad6",
      "metadata": {
        "id": "5df61489-5e4e-495b-8042-317a523cdad6"
      },
      "source": [
        "หาชั้นที่ Q<sub>3</sub> อยู่"
      ]
    },
    {
      "cell_type": "code",
      "execution_count": null,
      "id": "fb0ec2d5-dbfa-4718-83a4-67034e124d34",
      "metadata": {
        "id": "fb0ec2d5-dbfa-4718-83a4-67034e124d34"
      },
      "outputs": [],
      "source": [
        "n = 40"
      ]
    },
    {
      "cell_type": "code",
      "execution_count": null,
      "id": "1675bf8b-7936-4349-aa0f-335acc733542",
      "metadata": {
        "colab": {
          "base_uri": "https://localhost:8080/"
        },
        "id": "1675bf8b-7936-4349-aa0f-335acc733542",
        "outputId": "f934028e-f554-47ce-e7d0-239d1ed3cf42"
      },
      "outputs": [
        {
          "data": {
            "text/plain": [
              "30.0"
            ]
          },
          "execution_count": 8,
          "metadata": {},
          "output_type": "execute_result"
        }
      ],
      "source": [
        "q3_pos = n*3/4\n",
        "q3_pos"
      ]
    },
    {
      "cell_type": "markdown",
      "id": "cc007fc6-04b4-4716-be9e-fad957d3c151",
      "metadata": {
        "id": "cc007fc6-04b4-4716-be9e-fad957d3c151"
      },
      "source": [
        "ดังนั้นอยู่ชั้นที่ 6 (index 5) e=5  \n",
        "หาค่าขอบเขตล่าง L  "
      ]
    },
    {
      "cell_type": "code",
      "execution_count": null,
      "id": "abf99fb1-b3fd-4301-b9ac-688aae3973b5",
      "metadata": {
        "id": "abf99fb1-b3fd-4301-b9ac-688aae3973b5"
      },
      "outputs": [],
      "source": [
        "e = 5\n",
        "lower = (df_invest.du_to[e-1]+df_invest.du_from[e]) / 2\n",
        "lower"
      ]
    },
    {
      "cell_type": "markdown",
      "id": "154ec464-6e44-43c9-a2ab-089fbdc70e87",
      "metadata": {
        "id": "154ec464-6e44-43c9-a2ab-089fbdc70e87"
      },
      "source": [
        "หาค่า Q<sub>3</sub>  "
      ]
    },
    {
      "cell_type": "code",
      "execution_count": null,
      "id": "d0b47c5a-9c55-4c63-91d2-d82c7d01884a",
      "metadata": {
        "id": "d0b47c5a-9c55-4c63-91d2-d82c7d01884a"
      },
      "outputs": [],
      "source": [
        "lower+( (q3_pos-df_invest.num_company_cum[e-1])/df_invest.num_company[e] )*10"
      ]
    },
    {
      "cell_type": "markdown",
      "id": "908f1bda-f2f5-4428-bad5-2f11c6bd7670",
      "metadata": {
        "id": "908f1bda-f2f5-4428-bad5-2f11c6bd7670"
      },
      "source": [
        "&emsp;**2) D<sub>3</sub>**"
      ]
    },
    {
      "cell_type": "code",
      "execution_count": null,
      "id": "c782ad08-8beb-47ff-ada5-5068fa025f88",
      "metadata": {
        "id": "c782ad08-8beb-47ff-ada5-5068fa025f88"
      },
      "outputs": [],
      "source": [
        "D3_pos = n*3/10\n",
        "D3_pos"
      ]
    },
    {
      "cell_type": "markdown",
      "id": "9bd534d9-63ba-4ec4-9ffd-4c9538c455b1",
      "metadata": {
        "id": "9bd534d9-63ba-4ec4-9ffd-4c9538c455b1"
      },
      "source": [
        "ดังนั้นอยู่ชั้นที่ 3 (index 2) e=2  \n",
        "หาค่าขอบเขตล่าง L  "
      ]
    },
    {
      "cell_type": "code",
      "execution_count": null,
      "id": "bfd979db-192b-4d91-a539-fe577790829f",
      "metadata": {
        "id": "bfd979db-192b-4d91-a539-fe577790829f"
      },
      "outputs": [],
      "source": [
        "e = 2\n",
        "lower = (df_invest.du_to[e-1]+df_invest.du_from[e]) / 2\n",
        "lower"
      ]
    },
    {
      "cell_type": "markdown",
      "id": "b6a44baa-5ae6-4038-b472-4102e9070ef5",
      "metadata": {
        "id": "b6a44baa-5ae6-4038-b472-4102e9070ef5"
      },
      "source": [
        "หาค่า D<sub>3</sub>  "
      ]
    },
    {
      "cell_type": "code",
      "execution_count": null,
      "id": "40ebdbe7-111c-4c8e-a357-a9848bdca604",
      "metadata": {
        "id": "40ebdbe7-111c-4c8e-a357-a9848bdca604"
      },
      "outputs": [],
      "source": [
        "lower+( (D3_pos-df_invest.num_company_cum[e-1])/df_invest.num_company[e] )*10"
      ]
    },
    {
      "cell_type": "markdown",
      "id": "eb2eb4d3-4c93-4ee4-8a35-b534429d6534",
      "metadata": {
        "id": "eb2eb4d3-4c93-4ee4-8a35-b534429d6534"
      },
      "source": [
        "&emsp;**3) P<sub>60</sub>**"
      ]
    },
    {
      "cell_type": "code",
      "execution_count": null,
      "id": "a61777c7-fe63-4ad6-b7e7-0c1ae3c89998",
      "metadata": {
        "id": "a61777c7-fe63-4ad6-b7e7-0c1ae3c89998"
      },
      "outputs": [],
      "source": [
        "P60_pos = n*60/100\n",
        "P60_pos"
      ]
    },
    {
      "cell_type": "markdown",
      "id": "de027ba9-d061-4b17-baa4-f613c53fc92f",
      "metadata": {
        "id": "de027ba9-d061-4b17-baa4-f613c53fc92f"
      },
      "source": [
        "ดังนั้นอยู่ชั้นที่ 5 (index 2) e=4  \n",
        "หาค่าขอบเขตล่าง L  "
      ]
    },
    {
      "cell_type": "code",
      "execution_count": null,
      "id": "9903b37a-11e3-4071-adb6-a590e7c5f083",
      "metadata": {
        "id": "9903b37a-11e3-4071-adb6-a590e7c5f083"
      },
      "outputs": [],
      "source": [
        "e = 4\n",
        "lower = (df_invest.du_to[e-1]+df_invest.du_from[e]) / 2\n",
        "lower"
      ]
    },
    {
      "cell_type": "markdown",
      "id": "d3786ed7-ba07-43b8-ac97-4c5be7496aee",
      "metadata": {
        "id": "d3786ed7-ba07-43b8-ac97-4c5be7496aee"
      },
      "source": [
        "หาค่า P<sub>60</sub>  "
      ]
    },
    {
      "cell_type": "code",
      "execution_count": null,
      "id": "43178608-ec45-47b4-9146-9943956815d8",
      "metadata": {
        "id": "43178608-ec45-47b4-9146-9943956815d8"
      },
      "outputs": [],
      "source": [
        "lower+( (P60_pos-df_invest.num_company_cum[e-1])/df_invest.num_company[e] )*10"
      ]
    },
    {
      "cell_type": "markdown",
      "id": "70940e88-15ac-401c-bd50-2c69003375f8",
      "metadata": {
        "id": "70940e88-15ac-401c-bd50-2c69003375f8"
      },
      "source": [
        "#### 4.11 ทำการสุ่มเลือกนิสิต 7 คน ซึ่งเรียนในหลักสูตรของภาควิชาวิทยาการคอมพิวเตอร์แล้วทำการสอบถามค่าใช้จ่ายที่ใช้ในแต่ละวันได้ผลดังนี้ 300, 250, 150, 120, 240, 180, 250 จงคำนวณค่าพิสัย"
      ]
    },
    {
      "cell_type": "code",
      "execution_count": null,
      "id": "750fd1d5-308b-44e8-922f-f5d663ebbfef",
      "metadata": {
        "id": "750fd1d5-308b-44e8-922f-f5d663ebbfef"
      },
      "outputs": [],
      "source": [
        "expense = [300, 250, 150, 120, 240, 180, 250]"
      ]
    },
    {
      "cell_type": "markdown",
      "id": "be854c37-f58b-4e6a-ac09-12cabe8c45db",
      "metadata": {
        "id": "be854c37-f58b-4e6a-ac09-12cabe8c45db"
      },
      "source": [
        "หาพิสัย"
      ]
    },
    {
      "cell_type": "code",
      "execution_count": null,
      "id": "e48be8e2-36f2-4b78-ba30-5f5297311b94",
      "metadata": {
        "id": "e48be8e2-36f2-4b78-ba30-5f5297311b94"
      },
      "outputs": [],
      "source": [
        "max(expense) - min(expense)"
      ]
    },
    {
      "cell_type": "markdown",
      "id": "e8684833-02d7-4d13-ba8b-df114b9d50ce",
      "metadata": {
        "id": "e8684833-02d7-4d13-ba8b-df114b9d50ce"
      },
      "source": [
        "#### 4.12 สุ่มตัวอย่างนิสิตจำนวน 10 คน และสอบถามถึงจำนวนครั้งในการไปใช้บริการร้านสะดวกซื้อในหนึ่งสัปดาห์ ได้ข้อมูลมาดังนี้ 10, 5, 3, 9, 17, 15, 9, 2, 7, 8   จงคำนวณค่า Q1 และ D7ทำการสุ่มเลือกนิสิต 7 คน ซึ่งเรียนในหลักสูตรของภาควิชาวิทยาการคอมพิวเตอร์แล้วทำการสอบถามค่าใช้จ่ายที่ใช้ในแต่ละวันได้ผลดังนี้ 300, 250, 150, 120, 240, 180, 250 จงคำนวณค่าส่วนเบี่ยงเบนมาตรฐานและความแปรปรวน"
      ]
    },
    {
      "cell_type": "code",
      "execution_count": 7,
      "id": "b82f7941-55f9-4a3f-a0af-1a344a68f2c6",
      "metadata": {
        "id": "b82f7941-55f9-4a3f-a0af-1a344a68f2c6"
      },
      "outputs": [
        {
          "data": {
            "text/plain": [
              "[120, 150, 180, 240, 250, 250, 300]"
            ]
          },
          "execution_count": 7,
          "metadata": {},
          "output_type": "execute_result"
        }
      ],
      "source": [
        "cost = [300, 250, 150, 120, 240, 180, 250]\n",
        "cost.sort(reverse=False)\n",
        "cost"
      ]
    },
    {
      "cell_type": "markdown",
      "id": "242e2e85",
      "metadata": {},
      "source": [
        "หาตำแหน่งข้อมูล"
      ]
    },
    {
      "cell_type": "code",
      "execution_count": 11,
      "id": "06e222e4",
      "metadata": {},
      "outputs": [
        {
          "data": {
            "text/plain": [
              "240.0"
            ]
          },
          "execution_count": 11,
          "metadata": {},
          "output_type": "execute_result"
        }
      ],
      "source": [
        "# D5 = P50\n",
        "np.percentile(cost, 50, method='weibull')"
      ]
    },
    {
      "cell_type": "markdown",
      "id": "97ba73ed-3f1e-4624-81b6-cd3cd0ccd06e",
      "metadata": {
        "id": "97ba73ed-3f1e-4624-81b6-cd3cd0ccd06e"
      },
      "source": [
        "\\\n",
        "หาค่าส่วนเบี่ยงเบนมาตรฐาน"
      ]
    },
    {
      "cell_type": "code",
      "execution_count": null,
      "id": "ce3c7d1b-26d9-4a7b-a88e-97cc74e0f16c",
      "metadata": {
        "id": "ce3c7d1b-26d9-4a7b-a88e-97cc74e0f16c"
      },
      "outputs": [],
      "source": [
        "np.std(cost, ddof=1)"
      ]
    },
    {
      "cell_type": "markdown",
      "id": "c996870f-bed8-489d-af9a-b0e6ffa1ad68",
      "metadata": {
        "id": "c996870f-bed8-489d-af9a-b0e6ffa1ad68"
      },
      "source": [
        "***Note:***  \n",
        "การใช้ ddof = 1 จะหมายถึงตามสูตรหารด้วย n-1 (degree of freedom ของตัวอย่าง)  \n",
        "หากไม่กำหนดค่า default คือ 0 จะหมายถึงตามสูตรหารด้วย n (degree of freedom ของประชากร)"
      ]
    },
    {
      "cell_type": "markdown",
      "id": "2a3f26a8-2146-4968-bf0c-d25dd67dce9a",
      "metadata": {
        "id": "2a3f26a8-2146-4968-bf0c-d25dd67dce9a"
      },
      "source": [
        "\\\n",
        "หาค่าความแปรปรวน"
      ]
    },
    {
      "cell_type": "code",
      "execution_count": null,
      "id": "97e7c401-5687-415e-90e7-23fccd4e1a0b",
      "metadata": {
        "id": "97e7c401-5687-415e-90e7-23fccd4e1a0b"
      },
      "outputs": [],
      "source": [
        "np.var(cost, ddof=1)"
      ]
    },
    {
      "cell_type": "markdown",
      "id": "fba5583c-15e5-4a7e-a16d-0b6ead5fec7f",
      "metadata": {
        "id": "fba5583c-15e5-4a7e-a16d-0b6ead5fec7f"
      },
      "source": [
        "#### 4.13 ทำการสุ่มเลือกนิสิต 20 คน ซึ่งเรียนในหลักสูตรของภาควิชาวิทยาการคอมพิวเตอร์แล้วทำการสอบถามค่าใช้จ่ายที่ใช้ในแต่ละวันได้ผลดังตาราง 'ex3_13_expense.csv'  จงคำนวณส่วนเบี่ยงเบนมาตรฐานของค่าใช้จ่ายต่อวัน"
      ]
    },
    {
      "cell_type": "code",
      "execution_count": null,
      "id": "2905a98e-0054-4c54-8f42-02c25525cec4",
      "metadata": {
        "id": "2905a98e-0054-4c54-8f42-02c25525cec4"
      },
      "outputs": [],
      "source": [
        "df_expense = pd.read_csv(\"https://raw.githubusercontent.com/ThammakornS/ProgStat/main/dataset/ex4_13_expense.csv\")\n",
        "df_expense"
      ]
    },
    {
      "cell_type": "markdown",
      "id": "e8724b3e-93f5-42e4-bb96-84512e908db0",
      "metadata": {
        "id": "e8724b3e-93f5-42e4-bb96-84512e908db0"
      },
      "source": [
        "\\\n",
        "แปลง expense ให้เป็น 2 columns เพื่อให้สามารถนำตัวเลขไปใช้คำนวณได้"
      ]
    },
    {
      "cell_type": "code",
      "execution_count": null,
      "id": "b92a6c54-a30b-455c-a3b0-8b41ba4e82f4",
      "metadata": {
        "id": "b92a6c54-a30b-455c-a3b0-8b41ba4e82f4"
      },
      "outputs": [],
      "source": [
        "df_expense[['du_from', 'du_to']] = df_expense.expense.str.split('-', expand=True).astype(int)\n",
        "df_expense"
      ]
    },
    {
      "cell_type": "markdown",
      "id": "8cb8a3ad-a68d-477d-9ec8-fda40716e020",
      "metadata": {
        "id": "8cb8a3ad-a68d-477d-9ec8-fda40716e020"
      },
      "source": [
        "\\\n",
        "หาค่าเฉลี่ย"
      ]
    },
    {
      "cell_type": "code",
      "execution_count": null,
      "id": "ce6c4a6b-c98e-4e0c-80bf-b3aca72ab87b",
      "metadata": {
        "id": "ce6c4a6b-c98e-4e0c-80bf-b3aca72ab87b"
      },
      "outputs": [],
      "source": [
        "x_bar = sum((df_expense.du_from+df_expense.du_to)/2  * df_expense.num_student) / df_expense.num_student.sum()\n",
        "x_bar"
      ]
    },
    {
      "cell_type": "markdown",
      "id": "d5ebb0c6-d46a-4b24-8cac-10438b236b40",
      "metadata": {
        "id": "d5ebb0c6-d46a-4b24-8cac-10438b236b40"
      },
      "source": [
        "\\\n",
        "หาค่าส่วนเบี่ยงเบนมาตรฐาน"
      ]
    },
    {
      "cell_type": "code",
      "execution_count": null,
      "id": "7923634f-380b-496c-9dd3-09e3745da8f3",
      "metadata": {
        "id": "7923634f-380b-496c-9dd3-09e3745da8f3"
      },
      "outputs": [],
      "source": [
        "n =  20"
      ]
    },
    {
      "cell_type": "code",
      "execution_count": null,
      "id": "c14863fc-ba3b-40f0-99db-21146530e34a",
      "metadata": {
        "id": "c14863fc-ba3b-40f0-99db-21146530e34a"
      },
      "outputs": [],
      "source": [
        "sum_fx2 = sum( ((df_expense.du_from+df_expense.du_to)/2)**2  * df_expense.num_student)\n",
        "np.sqrt((sum_fx2 - n*x_bar**2) / (n-1))"
      ]
    },
    {
      "cell_type": "markdown",
      "id": "8a257ee8-811f-4ae5-8bfe-02e756714a6b",
      "metadata": {
        "id": "8a257ee8-811f-4ae5-8bfe-02e756714a6b"
      },
      "source": [
        "#### 4.14 โรงงานผลิตยาแห่งหนึ่งมีเครื่องจักรที่ใช้ผลิตยา 2 เครื่อง โดยกำหนดให้เครื่องที่ 1 ผลิตยาขนาด 250 มิลลิกรัม ปรากฏว่ายาที่ผลิตได้มีน้ำหนักเฉลี่ย 252 มิลลิกรัมค่าเบี่ยงเบนมาตรฐาน 2.4 มิลลิกรัม ส่วนเครื่องที่ 2 กำหนดให้ผลิตยาขนาด 500 มิลลิกรัม ปรากฏว่ายาที่ผลิตได้มีน้ำหนักเฉลี่ย 496 มิลลิกรัม ค่าเบี่ยงเบนมาตรฐาน 3.6 มิลลิกรัม จงเปรียบเทียบว่าเครื่องจักรใดผลิตยาได้ถูกต้องมากกว่า เพราะเหตุใด"
      ]
    },
    {
      "cell_type": "markdown",
      "id": "63861b51-5d60-415b-9f95-9e83fe36139a",
      "metadata": {
        "id": "63861b51-5d60-415b-9f95-9e83fe36139a"
      },
      "source": [
        "เครื่องจักรที่ 1:"
      ]
    },
    {
      "cell_type": "code",
      "execution_count": null,
      "id": "fee37ebe-129d-4678-a92e-3ab768f03ecb",
      "metadata": {
        "id": "fee37ebe-129d-4678-a92e-3ab768f03ecb"
      },
      "outputs": [],
      "source": [
        "cv1 = 2.4*100/252\n",
        "cv1"
      ]
    },
    {
      "cell_type": "markdown",
      "id": "f379bc21-cb17-4fb8-969a-074475f0785f",
      "metadata": {
        "id": "f379bc21-cb17-4fb8-969a-074475f0785f"
      },
      "source": [
        "\\\n",
        "เครื่องจักรที่ 2:"
      ]
    },
    {
      "cell_type": "code",
      "execution_count": null,
      "id": "c320ebcc-e83d-4c25-a09f-64aeab671de7",
      "metadata": {
        "id": "c320ebcc-e83d-4c25-a09f-64aeab671de7"
      },
      "outputs": [],
      "source": [
        "cv2 = 3.6*100/496\n",
        "cv2"
      ]
    }
  ],
  "metadata": {
    "colab": {
      "provenance": []
    },
    "kernelspec": {
      "display_name": "Python 3 (ipykernel)",
      "language": "python",
      "name": "python3"
    },
    "language_info": {
      "codemirror_mode": {
        "name": "ipython",
        "version": 3
      },
      "file_extension": ".py",
      "mimetype": "text/x-python",
      "name": "python",
      "nbconvert_exporter": "python",
      "pygments_lexer": "ipython3",
      "version": "3.11.4"
    }
  },
  "nbformat": 4,
  "nbformat_minor": 5
}
