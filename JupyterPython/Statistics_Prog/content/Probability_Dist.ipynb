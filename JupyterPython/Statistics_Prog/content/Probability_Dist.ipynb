{
  "cells": [
    {
      "cell_type": "markdown",
      "id": "3d2eeae5-4df2-47a0-8155-6af48aa687b1",
      "metadata": {
        "id": "3d2eeae5-4df2-47a0-8155-6af48aa687b1"
      },
      "source": [
        "# <font color='DE1509'>**การแจกแจงความน่าจะเป็น (Probability Distribution)**</font>"
      ]
    },
    {
      "cell_type": "markdown",
      "id": "b728e189-dfe0-4a07-b172-1cc580cececd",
      "metadata": {
        "id": "b728e189-dfe0-4a07-b172-1cc580cececd"
      },
      "source": [
        "---"
      ]
    },
    {
      "cell_type": "code",
      "execution_count": 1,
      "id": "4dd9a327-de24-44a8-85fd-4246442361a6",
      "metadata": {
        "id": "4dd9a327-de24-44a8-85fd-4246442361a6"
      },
      "outputs": [],
      "source": [
        "import numpy as np\n",
        "import pandas as pd\n",
        "import statistics\n",
        "from scipy import stats\n",
        "from math import perm, comb"
      ]
    },
    {
      "cell_type": "markdown",
      "id": "0defb266-40f6-4f3f-bc83-9bf96e634e35",
      "metadata": {
        "id": "0defb266-40f6-4f3f-bc83-9bf96e634e35",
        "tags": []
      },
      "source": [
        "####  \n",
        "####  5.4 มหาวิทยาลัยแห่งหนึ่งมี server สำหรับการ login ทั้งหมด 3 node เมื่อทำการวิเคราะห์ข้อมูลที่ได้จาก log พบว่า วันจันทร์ในช่วงเวลา 8:00 - 9:30 น. จะมีจำนวน login node ที่ยังสามารถทำการเชื่อมต่อกับ server หลักได้ คือ 0, 1, 2, 3 ด้วยความน่าจะเป็น 0.99, 0.05, 0.03 และ 0.01 ตามลำดับ จงหาจำนวน login node ที่ยังสามารถทำการเชื่อมต่อกับ server หลักได้โดยเฉลี่ย และความแปรปรวนของจำนวน login node ที่ยังสามารถทำการเชื่อมต่อกับ server หลักได้ในช่วงเวลาดังกล่าว"
      ]
    },
    {
      "cell_type": "markdown",
      "id": "3e130e87-5687-41ef-8ad9-836b2fbbf0fb",
      "metadata": {
        "id": "3e130e87-5687-41ef-8ad9-836b2fbbf0fb"
      },
      "source": [
        "P(X=x) \\\n",
        "จำนวน login node ที่ยังสามารถทำการเชื่อมต่อกับ server หลักได้โดยเฉลี่ย = ค่าความคาดหวัง E(X) **= Sum(X * p(x))**"
      ]
    },
    {
      "cell_type": "code",
      "execution_count": 2,
      "id": "a226fd65-6cd4-4d79-8170-945d89a8e129",
      "metadata": {
        "id": "a226fd65-6cd4-4d79-8170-945d89a8e129"
      },
      "outputs": [
        {
          "data": {
            "text/plain": [
              "0.14"
            ]
          },
          "execution_count": 2,
          "metadata": {},
          "output_type": "execute_result"
        }
      ],
      "source": [
        "X = np.array(range(4)) # all possible values of X\n",
        "PX = np.array([0.99, 0.05, 0.03, 0.01]) # probabilities of X\n",
        "EX = sum(X*PX)\n",
        "EX"
      ]
    },
    {
      "cell_type": "markdown",
      "id": "89d8a04d-661e-4aaa-997f-8643c118f487",
      "metadata": {
        "id": "89d8a04d-661e-4aaa-997f-8643c118f487"
      },
      "source": [
        "\\\n",
        "ความแปรปรวนของจำนวน login node ที่ยังสามารถทำการเชื่อมต่อกับ server หลักได้ \\\n",
        "- ค่าความแปรปรวน V(X) or (mu)^2 **= Sum((X<sup>2</sup> * PX) - Ex<sup>2</sup>)** 'ผลรวมของค่า'"
      ]
    },
    {
      "cell_type": "code",
      "execution_count": 3,
      "id": "b03a42d6-4108-47ff-be7c-a90502e1c3d4",
      "metadata": {
        "id": "b03a42d6-4108-47ff-be7c-a90502e1c3d4"
      },
      "outputs": [
        {
          "name": "stdout",
          "output_type": "stream",
          "text": [
            "0.26\n"
          ]
        },
        {
          "data": {
            "text/plain": [
              "0.2404"
            ]
          },
          "execution_count": 3,
          "metadata": {},
          "output_type": "execute_result"
        }
      ],
      "source": [
        "EX2 = sum(X**2*PX)\n",
        "print(EX2) # E(X^2)\n",
        "VX = EX2 - EX**2\n",
        "VX"
      ]
    },
    {
      "cell_type": "markdown",
      "id": "0893b132-970b-425d-8393-451bef9f63ce",
      "metadata": {
        "id": "0893b132-970b-425d-8393-451bef9f63ce"
      },
      "source": [
        "#### 5.6 สามีภรรยาวางแผนจะมีบุตร 4 คน ถ้าในการมีบุตรแต่ละครั้งจะได้บุตรชายหรือหญิงด้วยความเป็นไปได้เท่าเทียมกัน จงหาความน่าจะเป็นที่จะได้  \n",
        "-บุตรชาย 1 คน  \n",
        "-บุตรชาย 1 คนขึ้นไป  "
      ]
    },
    {
      "cell_type": "markdown",
      "id": "befaf41c-79bd-4601-b605-35073fe82cbb",
      "metadata": {
        "id": "befaf41c-79bd-4601-b605-35073fe82cbb"
      },
      "source": [
        "\\\n",
        "บุตรชาย 1 คน:"
      ]
    },
    {
      "cell_type": "code",
      "execution_count": 4,
      "id": "af46a17b-d703-4ac3-86db-b14b34766c36",
      "metadata": {
        "id": "af46a17b-d703-4ac3-86db-b14b34766c36"
      },
      "outputs": [
        {
          "data": {
            "text/plain": [
              "0.24999999999999994"
            ]
          },
          "execution_count": 4,
          "metadata": {},
          "output_type": "execute_result"
        }
      ],
      "source": [
        "stats.binom.pmf(p=0.5,\n",
        "                n=4,\n",
        "                k=1)"
      ]
    },
    {
      "cell_type": "markdown",
      "id": "90b82a72-76dd-4616-aa9e-5ca34ac29771",
      "metadata": {
        "id": "90b82a72-76dd-4616-aa9e-5ca34ac29771"
      },
      "source": [
        "\\\n",
        "บุตรชาย 1 คนขึ้นไป:"
      ]
    },
    {
      "cell_type": "code",
      "execution_count": 5,
      "id": "fcfb4827-b38f-4ef1-b9e9-100109c0e09b",
      "metadata": {
        "id": "fcfb4827-b38f-4ef1-b9e9-100109c0e09b"
      },
      "outputs": [
        {
          "data": {
            "text/plain": [
              "0.9375000000000001"
            ]
          },
          "execution_count": 5,
          "metadata": {},
          "output_type": "execute_result"
        }
      ],
      "source": [
        "sum([stats.binom.pmf(p=0.5, n=4, k=i) for i in range(1, 5)])"
      ]
    },
    {
      "cell_type": "markdown",
      "id": "4s8i0w42wNrw",
      "metadata": {
        "id": "4s8i0w42wNrw"
      },
      "source": [
        "หรือ"
      ]
    },
    {
      "cell_type": "code",
      "execution_count": 6,
      "id": "n8Hw2De9wNFo",
      "metadata": {
        "id": "n8Hw2De9wNFo"
      },
      "outputs": [
        {
          "data": {
            "text/plain": [
              "0.9375"
            ]
          },
          "execution_count": 6,
          "metadata": {},
          "output_type": "execute_result"
        }
      ],
      "source": [
        "1-stats.binom.pmf(p=0.5, n=4, k=0)"
      ]
    },
    {
      "cell_type": "markdown",
      "id": "fda87a1a-a330-4485-a59c-1c69b3f3bc94",
      "metadata": {
        "id": "fda87a1a-a330-4485-a59c-1c69b3f3bc94"
      },
      "source": [
        "####  \n",
        "#### 5.7 ในการส่งผลไม้ไปขายยังตลาดต่างประเทศ ผู้ส่งออกใช้การขนส่งทางอากาศเพื่อความรวดเร็วและทำให้ผลไม้ไม่เสียหายหรือสุกงอมก่อนเวลา จากประสบการณ์ในอดีตพบว่าการส่งออกมะม่วงสุกมีโอกาสที่มะม่วงจะเน่าเสีย 5% จากการสุ่มตัวอย่างมะม่วงที่ส่งไปขายที่ประเทศญี่ปุ่นจำนวน 8 กล่อง จงหาความน่าจะเป็นที่ มีมะม่วงเน่าเสียตั้งแต่ 1 ถึง 3 กล่อง"
      ]
    },
    {
      "cell_type": "code",
      "execution_count": 7,
      "id": "daf8ff2f-f8c1-406f-bcaf-d6a0af9432cd",
      "metadata": {
        "id": "daf8ff2f-f8c1-406f-bcaf-d6a0af9432cd"
      },
      "outputs": [
        {
          "data": {
            "text/plain": [
              "0.33620781734375"
            ]
          },
          "execution_count": 7,
          "metadata": {},
          "output_type": "execute_result"
        }
      ],
      "source": [
        "sum([stats.binom.pmf(p=0.05, n=8,k=i) for i in range(1, 4)])"
      ]
    },
    {
      "cell_type": "markdown",
      "id": "5035526d",
      "metadata": {},
      "source": [
        "## Possion Distribution"
      ]
    },
    {
      "cell_type": "markdown",
      "id": "vhjqL2nq4BLg",
      "metadata": {
        "id": "vhjqL2nq4BLg"
      },
      "source": [
        "####  \n",
        "#### 5.9 เมื่อทำการเก็บข้อมูลจากไฟล์ log ของ Server เครื่องหนึ่งพบว่าจะทำงานขัดข้องโดยเฉลี่ยเดือนละ 3 ครั้ง ในทุกๆเดือน จงหา  \n",
        "- ความน่าจะเป็นที่ server จะทำงานขัดข้อง 2 ครั้ง  \n",
        "- ความน่าจะเป็นที่ server จะทำงานขัดข้องไม่เกิน 2 ครั้ง\n"
      ]
    },
    {
      "cell_type": "markdown",
      "id": "_tft3bKZ4bIM",
      "metadata": {
        "id": "_tft3bKZ4bIM"
      },
      "source": [
        "ความน่าจะเป็นที่ server จะทำงานขัดข้อง 2 ครั้ง:  "
      ]
    },
    {
      "cell_type": "code",
      "execution_count": 8,
      "id": "0bd05a27-0eda-49bf-9067-d28c336441eb",
      "metadata": {
        "id": "0bd05a27-0eda-49bf-9067-d28c336441eb"
      },
      "outputs": [
        {
          "data": {
            "text/plain": [
              "0.22404180765538775"
            ]
          },
          "execution_count": 8,
          "metadata": {},
          "output_type": "execute_result"
        }
      ],
      "source": [
        "stats.poisson.pmf(k=2, mu=3) #k คือ x ในสูตร, mu คือ λ ในสูตร"
      ]
    },
    {
      "cell_type": "markdown",
      "id": "7Xvo9X4P7SgO",
      "metadata": {
        "id": "7Xvo9X4P7SgO"
      },
      "source": [
        "\\\n",
        "ความน่าจะเป็นที่ server จะทำงานขัดข้องไม่เกิน 2 ครั้ง:"
      ]
    },
    {
      "cell_type": "code",
      "execution_count": 9,
      "id": "274e8605-cc01-4fed-ad68-58457273ab3f",
      "metadata": {
        "id": "274e8605-cc01-4fed-ad68-58457273ab3f"
      },
      "outputs": [
        {
          "data": {
            "text/plain": [
              "0.42319008112684353"
            ]
          },
          "execution_count": 9,
          "metadata": {},
          "output_type": "execute_result"
        }
      ],
      "source": [
        "sum([stats.poisson.pmf(k=i, mu=3) for i in range(3)])"
      ]
    },
    {
      "cell_type": "markdown",
      "id": "wOsSKY5h8GXy",
      "metadata": {
        "id": "wOsSKY5h8GXy"
      },
      "source": [
        "####  \n",
        "#### 5.10 พนักงานรับโทรศัพท์ ณ สำนักงานแห่งหนึ่งจะรับโทรศัพท์โดยเฉลี่ยวันละ 14 ครั้ง  \n",
        "- จงหาความน่าจะเป็นที่พนักงานรับโทรศัพท์ไม่น้อยกว่า 10 ครั้งในวันพรุ่งนี้  \n",
        "- ถ้าในเดือนหน้า บริษัทดังกล่าวทำงาน 20 วันคาดว่าจะมีกี่วันที่พนักงานรับโทรศัพท์ไม่น้อยกว่า 10 ครั้ง  \n",
        "\n",
        "\n"
      ]
    },
    {
      "cell_type": "markdown",
      "id": "HMqqec468_YV",
      "metadata": {
        "id": "HMqqec468_YV"
      },
      "source": [
        "จงหาความน่าจะเป็นที่พนักงานรับโทรศัพท์ไม่น้อยกว่า 10 ครั้งในวันพรุ่งนี้:"
      ]
    },
    {
      "cell_type": "code",
      "execution_count": 10,
      "id": "eJjVvrq08Vf7",
      "metadata": {
        "id": "eJjVvrq08Vf7"
      },
      "outputs": [
        {
          "data": {
            "text/plain": [
              "0.8906006303572611"
            ]
          },
          "execution_count": 10,
          "metadata": {},
          "output_type": "execute_result"
        }
      ],
      "source": [
        "1 - sum([stats.poisson.pmf(k=i, mu=14) for i in range(10)])"
      ]
    },
    {
      "cell_type": "markdown",
      "id": "RTkw7sZ49esk",
      "metadata": {
        "id": "RTkw7sZ49esk"
      },
      "source": [
        "\\\n",
        "ถ้าในเดือนหน้า บริษัทดังกล่าวทำงาน 20 วันคาดว่าจะมีกี่วันที่พนักงานรับโทรศัพท์ไม่น้อยกว่า 10 ครั้ง"
      ]
    },
    {
      "cell_type": "code",
      "execution_count": 11,
      "id": "k30G33WM9Rwa",
      "metadata": {
        "id": "k30G33WM9Rwa"
      },
      "outputs": [
        {
          "data": {
            "text/plain": [
              "16.486375742358312"
            ]
          },
          "execution_count": 11,
          "metadata": {},
          "output_type": "execute_result"
        }
      ],
      "source": [
        "p_10plus = 1 - sum([stats.poisson.pmf(k=i, mu=14) for i in range(11)])\n",
        "p_10plus * 20"
      ]
    },
    {
      "cell_type": "markdown",
      "id": "b9a4a231",
      "metadata": {},
      "source": [
        "# Continuous Probability Distribution"
      ]
    },
    {
      "cell_type": "markdown",
      "id": "ce6a7066",
      "metadata": {},
      "source": [
        "> - Normal Distribution \\\n",
        "> - Exponential Distribution \\\n",
        "> - t-Distribution \\\n",
        "> - Uniform Distribution"
      ]
    },
    {
      "cell_type": "markdown",
      "id": "f8c0af8a",
      "metadata": {},
      "source": [
        "## Normal Distribution"
      ]
    },
    {
      "cell_type": "markdown",
      "id": "f5fd4bf9",
      "metadata": {},
      "source": [
        "**1. หาค่าตัวแปรสุ่มจากความน่าจะเป็นที่จะเกิดขึ้นได้**\\\n",
        "\n",
        "- ***P(Z = z) : Probability Density Function (PDF)**\n",
        "\n",
        "> **scipy.pdf(x, loc, scale)**\\\n",
        ">*x* : array_like quantiles\\\n",
        ">*loc* : array_like, optional location parameter (default=0)\\\n",
        ">*scale* : array_like, optional scale parameter (default=1)\\\n",
        "\n",
        "- ***P(Z <= z) : Cumulative Distribution Function (CDF)**\n",
        "> **scipy.cdf(x, loc, scale)**\\\n",
        ">*x* : array_like quantiles\\\n",
        ">*loc* : array_like, optional location parameter (default=0)\\\n",
        ">*scale* : array_like, optional scale parameter (default=1)\\"
      ]
    },
    {
      "cell_type": "code",
      "execution_count": 12,
      "id": "cb681e5a",
      "metadata": {},
      "outputs": [
        {
          "name": "stdout",
          "output_type": "stream",
          "text": [
            "- 0.3989422804014327\n",
            "- 0.5\n"
          ]
        }
      ],
      "source": [
        "pdf_vale = stats.norm.pdf(x=0)\n",
        "cdf_vale = stats.norm.cdf(x=0)\n",
        "\n",
        "print(\"-\",pdf_vale)\n",
        "print(\"-\",cdf_vale)"
      ]
    },
    {
      "cell_type": "markdown",
      "id": "964cf195",
      "metadata": {},
      "source": [
        "**2. หาค่าตัวแปรสุ่มจากความน่าจะเป็นสะสม**\n",
        "***P(Z = z) : Probability Density Function (PDF)**\n",
        "\n",
        "**scipy.norm.*ppf(p, loc, scale)***\n",
        "> *p* : lower tail probability\\\n",
        "> *loc* : array_like, optional location parameter (default=0)\\\n",
        "> *scale* : array_like, optional scale parameter (default=1)\n",
        "\n"
      ]
    },
    {
      "cell_type": "code",
      "execution_count": 13,
      "id": "27d01ae4",
      "metadata": {},
      "outputs": [
        {
          "name": "stdout",
          "output_type": "stream",
          "text": [
            "1.2815515655446004\n"
          ]
        }
      ],
      "source": [
        "'''\n",
        "P(Z < a) = 0.9\n",
        "a = ?\n",
        "'''\n",
        "ppf = stats.norm.ppf(q=0.9)\n",
        "print(ppf)"
      ]
    },
    {
      "cell_type": "markdown",
      "id": "b1388f7e",
      "metadata": {},
      "source": [
        "## t-Distribution"
      ]
    },
    {
      "cell_type": "markdown",
      "id": "0b82e9dd",
      "metadata": {},
      "source": [
        "##### 1. การใช้ scipy กับการแจกแจงแบบที"
      ]
    },
    {
      "cell_type": "markdown",
      "id": "4d1affa4",
      "metadata": {},
      "source": [
        "- ***P(T = t) : Probability Density Function (PDF)**\n",
        "\n",
        "> **scipy.t.pdf(x, loc, scale)**\\\n",
        ">*x* : array_like quantiles\\\n",
        ">*df* : array_like, optional degrees of freedom (default=1)\\\n",
        ">*loc* : array_like, optional location parameter (default=0)\\\n",
        ">*scale* : array_like, optional scale parameter (default=1)\\"
      ]
    },
    {
      "cell_type": "code",
      "execution_count": 14,
      "id": "93549818",
      "metadata": {},
      "outputs": [
        {
          "data": {
            "text/plain": [
              "0.3891083839660311"
            ]
          },
          "execution_count": 14,
          "metadata": {},
          "output_type": "execute_result"
        }
      ],
      "source": [
        "pdf_t = stats.t.pdf(0, df=10)\n",
        "pdf_t"
      ]
    },
    {
      "cell_type": "markdown",
      "id": "15ca42a3",
      "metadata": {},
      "source": [
        "- ***P(T < t) : Cumulative Distribution Function (CDF)**\n",
        "> **scipy.t.cdf(x, loc, scale)**\\\n",
        ">*x* : array_like quantiles\\\n",
        ">*df* : array_like, optional degrees of freedom (default=1)\\\n",
        ">*loc* : array_like, optional location parameter (default=0)\\\n",
        ">*scale* : array_like, optional scale parameter (default=1)\\"
      ]
    },
    {
      "cell_type": "code",
      "execution_count": 15,
      "id": "4ccc7b17",
      "metadata": {},
      "outputs": [
        {
          "data": {
            "text/plain": [
              "0.5"
            ]
          },
          "execution_count": 15,
          "metadata": {},
          "output_type": "execute_result"
        }
      ],
      "source": [
        "cdf_t = stats.t.df(0, df=10)\n",
        "cdf_t"
      ]
    },
    {
      "cell_type": "markdown",
      "id": "30936255",
      "metadata": {},
      "source": [
        "**2. หาค่าตัวแปรสุ่มจากความน่าจะเป็นสะสม**\n",
        "\n",
        "**scipy.norm.*ppf(p, df=1, ...)***\n",
        "> *p* : lower tail probability\\\n",
        "> *df* : array_like, optional degrees of freedom (default=1)\\\n",
        "> *loc* : array_like, optional location parameter (default=0)\\\n",
        "> *scale* : array_like, optional scale parameter (default=1)"
      ]
    }
  ],
  "metadata": {
    "colab": {
      "provenance": []
    },
    "kernelspec": {
      "display_name": "Python 3 (ipykernel)",
      "language": "python",
      "name": "python3"
    },
    "language_info": {
      "codemirror_mode": {
        "name": "ipython",
        "version": 3
      },
      "file_extension": ".py",
      "mimetype": "text/x-python",
      "name": "python",
      "nbconvert_exporter": "python",
      "pygments_lexer": "ipython3",
      "version": "3.11.4"
    }
  },
  "nbformat": 4,
  "nbformat_minor": 5
}
