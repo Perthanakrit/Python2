{
  "cells": [
    {
      "cell_type": "markdown",
      "metadata": {
        "id": "nt4VZUer3U3b"
      },
      "source": [
        "**จากแบบทดสอบ 9.4**"
      ]
    },
    {
      "cell_type": "markdown",
      "metadata": {},
      "source": [
        "![img](../imgs/example9_4.png)"
      ]
    },
    {
      "cell_type": "code",
      "execution_count": 1,
      "metadata": {
        "id": "UxdLE2-z24u3"
      },
      "outputs": [],
      "source": [
        "import numpy as np\n",
        "import pandas as pd\n",
        "from scipy import stats"
      ]
    },
    {
      "cell_type": "code",
      "execution_count": 2,
      "metadata": {
        "colab": {
          "base_uri": "https://localhost:8080/"
        },
        "id": "kRjsFWC32-dT",
        "outputId": "0ad029fa-ad29-4101-b385-bbaaebb00d59"
      },
      "outputs": [
        {
          "data": {
            "text/plain": [
              "array([ -inf, 45.95, 47.95, 49.95, 51.95, 53.95,   inf])"
            ]
          },
          "execution_count": 2,
          "metadata": {},
          "output_type": "execute_result"
        }
      ],
      "source": [
        "O = np.array([0,28,32,35,20,10,0])\n",
        "X_l = np.array([-np.inf,44.95,46.95,48.95,50.95,52.95,54.95])\n",
        "X_r = np.array([44.95,46.95,48.95,50.95,52.95,54.95,np.inf])\n",
        "x = (X_l+X_r)/2\n",
        "x"
      ]
    },
    {
      "cell_type": "markdown",
      "metadata": {
        "id": "XK5gPSnxEov6"
      },
      "source": [
        "\\\n",
        "***หาค่าเฉลี่ย x_bar:***"
      ]
    },
    {
      "cell_type": "code",
      "execution_count": 3,
      "metadata": {
        "colab": {
          "base_uri": "https://localhost:8080/"
        },
        "id": "Ex5mJn8ZEov6",
        "outputId": "4d2b082b-406f-4aed-fcd8-8a89d43b6b2b"
      },
      "outputs": [
        {
          "data": {
            "text/plain": [
              "49.182"
            ]
          },
          "execution_count": 3,
          "metadata": {},
          "output_type": "execute_result"
        }
      ],
      "source": [
        "x_bar = sum(O[1:-1]*x[1:-1])/125\n",
        "x_bar"
      ]
    },
    {
      "cell_type": "markdown",
      "metadata": {
        "id": "Wm9oRmQZE_Cx"
      },
      "source": [
        "ทำไมต้องใช้ index 1:-1 ?"
      ]
    },
    {
      "cell_type": "code",
      "execution_count": null,
      "metadata": {
        "colab": {
          "base_uri": "https://localhost:8080/"
        },
        "id": "v-FIMt43Eov7",
        "outputId": "d9a3f20e-bfba-4985-aa36-abf22975355a"
      },
      "outputs": [
        {
          "name": "stderr",
          "output_type": "stream",
          "text": [
            "<ipython-input-4-0541b337a504>:1: RuntimeWarning: invalid value encountered in multiply\n",
            "  sum(O*x)/125\n"
          ]
        },
        {
          "data": {
            "text/plain": [
              "nan"
            ]
          },
          "execution_count": 4,
          "metadata": {},
          "output_type": "execute_result"
        }
      ],
      "source": [
        "sum(O*x)/125"
      ]
    },
    {
      "cell_type": "code",
      "execution_count": null,
      "metadata": {
        "colab": {
          "base_uri": "https://localhost:8080/"
        },
        "id": "mVB43IFnEov7",
        "outputId": "3656feff-b4d7-45ff-c17e-28c104b93c18"
      },
      "outputs": [
        {
          "data": {
            "text/plain": [
              "nan"
            ]
          },
          "execution_count": 24,
          "metadata": {},
          "output_type": "execute_result"
        }
      ],
      "source": [
        "0*np.inf"
      ]
    },
    {
      "cell_type": "markdown",
      "metadata": {
        "id": "an9Med6wEz7V"
      },
      "source": [
        "\\\n",
        "***หาค่าส่วนเบี่ยงเบนมาตราฐาน s:***"
      ]
    },
    {
      "cell_type": "code",
      "execution_count": 4,
      "metadata": {
        "colab": {
          "base_uri": "https://localhost:8080/"
        },
        "id": "ZqD09z6DEz7V",
        "outputId": "29d15ff4-925f-4b28-848d-8ddbc292a9b2"
      },
      "outputs": [
        {
          "data": {
            "text/plain": [
              "2.4466435204436774"
            ]
          },
          "execution_count": 4,
          "metadata": {},
          "output_type": "execute_result"
        }
      ],
      "source": [
        "s = np.sqrt(sum(O[1:-1]*(x[1:-1]-x_bar)**2 )/(125-1))\n",
        "s"
      ]
    },
    {
      "cell_type": "markdown",
      "metadata": {},
      "source": [
        "![img](../imgs/table_9_4_2.png)"
      ]
    },
    {
      "cell_type": "markdown",
      "metadata": {
        "id": "B0HNVWwGE1PK"
      },
      "source": [
        "\\\n",
        "***หาค่า P(Z):***"
      ]
    },
    {
      "cell_type": "markdown",
      "metadata": {},
      "source": [
        "![img](../imgs/table_9_4_1.png)"
      ]
    },
    {
      "cell_type": "code",
      "execution_count": 5,
      "metadata": {
        "colab": {
          "base_uri": "https://localhost:8080/"
        },
        "id": "nkqJyap62-pV",
        "outputId": "a0579853-4325-4f92-e4df-dd91aeebd44f"
      },
      "outputs": [
        {
          "data": {
            "text/plain": [
              "array([0.04184046, 0.13897279, 0.28141415, 0.30281673, 0.17318412,\n",
              "       0.05257292, 0.00919884])"
            ]
          },
          "execution_count": 5,
          "metadata": {},
          "output_type": "execute_result"
        }
      ],
      "source": [
        "z_l = (X_l-x_bar)/s\n",
        "z_r = (X_r-x_bar)/s\n",
        "PZ = stats.norm.cdf(z_r)-stats.norm.cdf(z_l)\n",
        "PZ"
      ]
    },
    {
      "cell_type": "markdown",
      "metadata": {
        "id": "9aB-jJTD4Phf"
      },
      "source": [
        "\\\n",
        "***พิจารณา P(Z) ที่ชั้นแรก:***"
      ]
    },
    {
      "cell_type": "code",
      "execution_count": 6,
      "metadata": {
        "colab": {
          "base_uri": "https://localhost:8080/"
        },
        "id": "plTWQqNS34ab",
        "outputId": "b71c3ed2-05bb-418f-c109-bef90de7587c"
      },
      "outputs": [
        {
          "data": {
            "text/plain": [
              "0.041840457456473"
            ]
          },
          "execution_count": 6,
          "metadata": {},
          "output_type": "execute_result"
        }
      ],
      "source": [
        "PZ[0]"
      ]
    },
    {
      "cell_type": "code",
      "execution_count": 7,
      "metadata": {
        "colab": {
          "base_uri": "https://localhost:8080/"
        },
        "id": "kL0oON602-ux",
        "outputId": "97b67423-fe71-4d13-eb62-a9c3f0d0677f"
      },
      "outputs": [
        {
          "data": {
            "text/plain": [
              "(-1.729716636133638, -inf)"
            ]
          },
          "execution_count": 7,
          "metadata": {},
          "output_type": "execute_result"
        }
      ],
      "source": [
        "z_r[0], z_l[0]"
      ]
    },
    {
      "cell_type": "code",
      "execution_count": 8,
      "metadata": {
        "colab": {
          "base_uri": "https://localhost:8080/"
        },
        "id": "c0TarpLe40bX",
        "outputId": "17f4e687-b829-45f5-b938-741d6d98d90b"
      },
      "outputs": [
        {
          "data": {
            "text/plain": [
              "0.041840457456473"
            ]
          },
          "execution_count": 8,
          "metadata": {},
          "output_type": "execute_result"
        }
      ],
      "source": [
        "stats.norm.cdf(z_r[0])"
      ]
    },
    {
      "cell_type": "code",
      "execution_count": 9,
      "metadata": {
        "colab": {
          "base_uri": "https://localhost:8080/"
        },
        "id": "I9MDwLkY2-sl",
        "outputId": "3aa002be-35db-494b-887c-56dc7246918d"
      },
      "outputs": [
        {
          "data": {
            "text/plain": [
              "0.0"
            ]
          },
          "execution_count": 9,
          "metadata": {},
          "output_type": "execute_result"
        }
      ],
      "source": [
        "stats.norm.cdf(z_l[0])"
      ]
    },
    {
      "cell_type": "markdown",
      "metadata": {
        "id": "agBkEtnY5PjL"
      },
      "source": [
        "\\\n",
        "***พิจารณา หา P(Z) ที่ชั้นสุดท้าย:***"
      ]
    },
    {
      "cell_type": "code",
      "execution_count": 10,
      "metadata": {
        "colab": {
          "base_uri": "https://localhost:8080/"
        },
        "id": "Tf__Nwpk2-xu",
        "outputId": "d1b7b6c2-8bc5-48b4-c4cb-1cf8d93b9439"
      },
      "outputs": [
        {
          "data": {
            "text/plain": [
              "0.009198843844202442"
            ]
          },
          "execution_count": 10,
          "metadata": {},
          "output_type": "execute_result"
        }
      ],
      "source": [
        "PZ[-1]"
      ]
    },
    {
      "cell_type": "code",
      "execution_count": 11,
      "metadata": {
        "colab": {
          "base_uri": "https://localhost:8080/"
        },
        "id": "0zpD9gKR6Kjz",
        "outputId": "09cd0c4e-7de2-474f-9926-e8a3adbee3a7"
      },
      "outputs": [
        {
          "data": {
            "text/plain": [
              "(inf, 2.3575154908362066)"
            ]
          },
          "execution_count": 11,
          "metadata": {},
          "output_type": "execute_result"
        }
      ],
      "source": [
        "z_r[-1], z_l[-1]"
      ]
    },
    {
      "cell_type": "code",
      "execution_count": null,
      "metadata": {
        "colab": {
          "base_uri": "https://localhost:8080/"
        },
        "id": "uulLRn8V2-00",
        "outputId": "fc423e8b-ec51-4537-f9e5-0d67ca92336b"
      },
      "outputs": [
        {
          "data": {
            "text/plain": [
              "1.0"
            ]
          },
          "execution_count": 15,
          "metadata": {},
          "output_type": "execute_result"
        }
      ],
      "source": [
        "stats.norm.cdf(z_r[-1])"
      ]
    },
    {
      "cell_type": "code",
      "execution_count": null,
      "metadata": {
        "colab": {
          "base_uri": "https://localhost:8080/"
        },
        "id": "CWK1qgqT5WJA",
        "outputId": "6d53e69e-1a93-48db-8b55-924e1aefb820"
      },
      "outputs": [
        {
          "data": {
            "text/plain": [
              "0.9908011561557976"
            ]
          },
          "execution_count": 16,
          "metadata": {},
          "output_type": "execute_result"
        }
      ],
      "source": [
        "stats.norm.cdf(z_l[-1])"
      ]
    },
    {
      "cell_type": "markdown",
      "metadata": {
        "id": "RVUfdt4vFxs-"
      },
      "source": [
        "\\\n",
        "***หาค่า E:***"
      ]
    },
    {
      "cell_type": "markdown",
      "metadata": {},
      "source": [
        "![img](../imgs/table_9_4_3.png)"
      ]
    },
    {
      "cell_type": "code",
      "execution_count": 12,
      "metadata": {
        "colab": {
          "base_uri": "https://localhost:8080/"
        },
        "id": "wEl3OcbVERf0",
        "outputId": "b7f3c740-9a97-4f46-896b-2ffe079ed6ab"
      },
      "outputs": [
        {
          "data": {
            "text/plain": [
              "array([ 5.23005718, 17.37159856, 35.17676889, 37.85209069, 21.64801473,\n",
              "        6.57161447,  1.14985548])"
            ]
          },
          "execution_count": 12,
          "metadata": {},
          "output_type": "execute_result"
        }
      ],
      "source": [
        "E = 125*PZ\n",
        "E"
      ]
    },
    {
      "cell_type": "markdown",
      "metadata": {
        "id": "cq81wLcZGBP_"
      },
      "source": [
        "\\\n",
        "***รวมชั้นที่มีค่า E < 5 เข้ากับชั้นใกล้เคียง:***"
      ]
    },
    {
      "cell_type": "code",
      "execution_count": 13,
      "metadata": {
        "id": "bPRFuVl0FeLF"
      },
      "outputs": [],
      "source": [
        "E_adj = np.append(E[0:-2], E[-1]+E[-2])\n",
        "O_adj = np.append(O[0:-2], O[-1]+O[-2])"
      ]
    },
    {
      "cell_type": "code",
      "execution_count": 14,
      "metadata": {
        "colab": {
          "base_uri": "https://localhost:8080/"
        },
        "id": "MuSE9hjLFeOF",
        "outputId": "6cf4baf9-e12a-4acf-efc1-226c9eeae638"
      },
      "outputs": [
        {
          "data": {
            "text/plain": [
              "array([ 5.23005718, 17.37159856, 35.17676889, 37.85209069, 21.64801473,\n",
              "        7.72146995])"
            ]
          },
          "execution_count": 14,
          "metadata": {},
          "output_type": "execute_result"
        }
      ],
      "source": [
        "E_adj"
      ]
    },
    {
      "cell_type": "code",
      "execution_count": 15,
      "metadata": {
        "colab": {
          "base_uri": "https://localhost:8080/"
        },
        "id": "FX5voMgNGPiT",
        "outputId": "030d755c-a2b1-407a-a199-97c661266d12"
      },
      "outputs": [
        {
          "data": {
            "text/plain": [
              "array([ 0, 28, 32, 35, 20, 10])"
            ]
          },
          "execution_count": 15,
          "metadata": {},
          "output_type": "execute_result"
        }
      ],
      "source": [
        "O_adj"
      ]
    },
    {
      "cell_type": "markdown",
      "metadata": {
        "id": "3_fbt0L7Hatf"
      },
      "source": [
        "\\\n",
        "***หาค่า chi2_cal:***"
      ]
    },
    {
      "cell_type": "code",
      "execution_count": 16,
      "metadata": {
        "colab": {
          "base_uri": "https://localhost:8080/"
        },
        "id": "q23Gr5WjGRvL",
        "outputId": "c8be05a1-973c-44e1-f179-08bd7ecbd6c1"
      },
      "outputs": [
        {
          "data": {
            "text/plain": [
              "13.032414699934208"
            ]
          },
          "execution_count": 16,
          "metadata": {},
          "output_type": "execute_result"
        }
      ],
      "source": [
        "chi2_cal = sum((O_adj-E_adj)**2/E_adj)\n",
        "chi2_cal"
      ]
    },
    {
      "cell_type": "markdown",
      "metadata": {
        "id": "ICGJiSp8IhFS"
      },
      "source": [
        "\\\n",
        "***หาค่า chi2_crit:***"
      ]
    },
    {
      "cell_type": "code",
      "execution_count": 17,
      "metadata": {},
      "outputs": [
        {
          "data": {
            "text/plain": [
              "3"
            ]
          },
          "execution_count": 17,
          "metadata": {},
          "output_type": "execute_result"
        }
      ],
      "source": [
        "v = 6 - 2 - 1\n",
        "v"
      ]
    },
    {
      "cell_type": "code",
      "execution_count": 18,
      "metadata": {
        "colab": {
          "base_uri": "https://localhost:8080/"
        },
        "id": "ZZgn1iPQJA0U",
        "outputId": "c7cd9aa5-3bb5-46a1-ed6f-dbef79f031ba"
      },
      "outputs": [
        {
          "data": {
            "text/plain": [
              "7.814727903251178"
            ]
          },
          "execution_count": 18,
          "metadata": {},
          "output_type": "execute_result"
        }
      ],
      "source": [
        "chi2_crit = stats.chi2.isf(0.05,df=v)\n",
        "chi2_crit"
      ]
    },
    {
      "cell_type": "markdown",
      "metadata": {
        "id": "YrfbsNaYKLgH"
      },
      "source": [
        "chi2_cal อยู่ในบริเวณวิกฤต ดังนั้นจึงต้องปฏิเสธ H0 และยอมรับ H1 คือ ข้อมูลความยาวของทารกแรกเกิดไม่ได้มีการแจกแจงแบบปกติ"
      ]
    },
    {
      "cell_type": "markdown",
      "metadata": {
        "id": "kas5dOjbJMYk"
      },
      "source": [
        "\\\n",
        "***หาค่า p-value:***"
      ]
    },
    {
      "cell_type": "code",
      "execution_count": null,
      "metadata": {
        "colab": {
          "base_uri": "https://localhost:8080/"
        },
        "id": "fUmFCxrMGS2T",
        "outputId": "ff12d772-1f81-4b47-b9b3-6115f49b2664"
      },
      "outputs": [
        {
          "data": {
            "text/plain": [
              "0.004567028584983044"
            ]
          },
          "execution_count": 30,
          "metadata": {},
          "output_type": "execute_result"
        }
      ],
      "source": [
        "p_val = stats.chi2.sf(chi2_cal, df = 3)\n",
        "p_val"
      ]
    },
    {
      "cell_type": "markdown",
      "metadata": {
        "id": "eOwnDNkiKFLf"
      },
      "source": [
        "p-value < 0.05 จึง ต้องปฏิเสธ H0 และยอมรับ H1 คือ ข้อมูลความยาวของทารกแรกเกิดไม่ได้มีการแจกแจงแบบปกติ\n"
      ]
    },
    {
      "cell_type": "markdown",
      "metadata": {
        "id": "0GqTasYuLa4h"
      },
      "source": [
        "\\\n",
        "***ใช้ฟังก์ชันลัดจาก library scipy.chisquare:***"
      ]
    },
    {
      "cell_type": "code",
      "execution_count": null,
      "metadata": {
        "id": "vmiz44lIGSzh"
      },
      "outputs": [],
      "source": [
        "chi2_cal, p_val = stats.chisquare(f_obs=O_adj,\n",
        "                                  f_exp=E_adj,\n",
        "                                  ddof=2)"
      ]
    },
    {
      "cell_type": "code",
      "execution_count": null,
      "metadata": {
        "colab": {
          "base_uri": "https://localhost:8080/"
        },
        "id": "4wB56GQ1GSxX",
        "outputId": "3d333e97-de7c-4fd5-be3b-ab4748cf0bf0"
      },
      "outputs": [
        {
          "data": {
            "text/plain": [
              "(13.032414699934208, 0.004567028584983044)"
            ]
          },
          "execution_count": 33,
          "metadata": {},
          "output_type": "execute_result"
        }
      ],
      "source": [
        "chi2_cal, p_val"
      ]
    },
    {
      "cell_type": "code",
      "execution_count": null,
      "metadata": {
        "id": "psJTI9YSGSuK"
      },
      "outputs": [],
      "source": []
    },
    {
      "cell_type": "code",
      "execution_count": null,
      "metadata": {
        "id": "yM2SNa-5GSro"
      },
      "outputs": [],
      "source": []
    },
    {
      "cell_type": "code",
      "execution_count": null,
      "metadata": {
        "id": "p_YihTw9GSoy"
      },
      "outputs": [],
      "source": []
    },
    {
      "cell_type": "code",
      "execution_count": null,
      "metadata": {
        "id": "RVs5kwLpGSmT"
      },
      "outputs": [],
      "source": []
    },
    {
      "cell_type": "code",
      "execution_count": null,
      "metadata": {
        "id": "MuZZCR6wGSjr"
      },
      "outputs": [],
      "source": []
    },
    {
      "cell_type": "code",
      "execution_count": null,
      "metadata": {
        "id": "R7HjrFotGShB"
      },
      "outputs": [],
      "source": []
    }
  ],
  "metadata": {
    "colab": {
      "provenance": []
    },
    "kernelspec": {
      "display_name": "Python 3",
      "name": "python3"
    },
    "language_info": {
      "codemirror_mode": {
        "name": "ipython",
        "version": 3
      },
      "file_extension": ".py",
      "mimetype": "text/x-python",
      "name": "python",
      "nbconvert_exporter": "python",
      "pygments_lexer": "ipython3",
      "version": "3.11.4"
    }
  },
  "nbformat": 4,
  "nbformat_minor": 0
}
