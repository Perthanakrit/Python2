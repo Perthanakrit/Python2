{
 "cells": [
  {
   "cell_type": "markdown",
   "metadata": {},
   "source": [
    "# Chi-Square Test\n",
    "\n",
    "- เป็นวิธีใช้ในการวิเคาระห์ที่ข้อมูลเป็น qualitative variable or categorical variable\n",
    "\n",
    "1. goodness of fit test\n",
    "2. test of independendence"
   ]
  },
  {
   "cell_type": "markdown",
   "metadata": {},
   "source": [
    "$$\n",
    "    X^2 = \\sum{(O_i - E_i)^2\\over E_i} , v = k - 1\n",
    "$$\n",
    "\n",
    "$O_i$ = observed frequency, \n",
    "$E_i$ = expected frequency $E_i = n \\times p_i$\n",
    "$p_i$ = สัดส่วยจองแต่ละกลุ่มภายใต้ H<sub>0-</sub>\n",
    "n = ขนาดตัวอย่าง\n",
    "k = จำนววนกลุ่มของตัวแปรคุณภาพที่พิจารณา"
   ]
  },
  {
   "cell_type": "code",
   "execution_count": 2,
   "metadata": {},
   "outputs": [],
   "source": [
    "import numpy as np\n",
    "from scipy import stats"
   ]
  },
  {
   "cell_type": "markdown",
   "metadata": {},
   "source": [
    "### Ex 9.1\n",
    "![image](../imgs/example9_1.jpeg)"
   ]
  },
  {
   "cell_type": "markdown",
   "metadata": {},
   "source": [
    "**สมมติฐาน**\\\n",
    "$H_0$: อัตราการส่วน A, B, AB and $O = 2:2:1:3$\\\n",
    "$H_1$: อัตราการส่วน A, B, AB and O $\\ne 2:2:1:3$"
   ]
  },
  {
   "cell_type": "code",
   "execution_count": 7,
   "metadata": {},
   "outputs": [
    {
     "name": "stdout",
     "output_type": "stream",
     "text": [
      "E =  [25.  25.  12.5 37.5]\n",
      "chi2_cal = 3.0, v = 3\n",
      "chi2_crit =  6.2513886311703235\n"
     ]
    }
   ],
   "source": [
    "sigma = 0.1\n",
    "O = np.array([20, 25, 10, 45])\n",
    "p = np.array([2/8, 2/8, 1/8, 3/8])\n",
    "n = 100\n",
    "k = 4 #  มี 4 กลุ่มตัวอย่าง A, B, AB and O\n",
    "\n",
    "E = n * p\n",
    "print(\"E = \",E)\n",
    "\n",
    "chi2_cal = sum((O - E)**2/E)\n",
    "v = k - 1\n",
    "print(f\"chi2_cal = {chi2_cal}, v = {v}\")\n",
    "\n",
    "chi2_crit = stats.chi2.isf(sigma, df=v)\n",
    "print(\"chi2_crit = \", chi2_crit)"
   ]
  },
  {
   "cell_type": "code",
   "execution_count": 8,
   "metadata": {},
   "outputs": [
    {
     "name": "stdout",
     "output_type": "stream",
     "text": [
      "p-value = 0.3916251762710877\n"
     ]
    }
   ],
   "source": [
    "p_value = stats.chi2.sf(chi2_cal, df = v)\n",
    "print(f\"p-value = {p_value}\")"
   ]
  },
  {
   "cell_type": "markdown",
   "metadata": {},
   "source": [
    "$X_{cal}^2$ ไม่ได้อยู้ในบริเวณวิกฤต \n",
    "<p style=\"color:#0181FF;\">ดังนั้นต้องยอมรับสมมติฐาน H<sub>0</sub> คือ อัตราส่วนของคนที่มีอัตราการส่วน A, B, AB and O คือ 2:2:1:3</p>"
   ]
  },
  {
   "cell_type": "markdown",
   "metadata": {},
   "source": [
    "## Chi-Square Test of Independence\n",
    "**เป็นการทดสอบความสัมพันธ์ของตัวแปรคุณภาพ 2 ตัวแปร**"
   ]
  }
 ],
 "metadata": {
  "kernelspec": {
   "display_name": "base",
   "language": "python",
   "name": "python3"
  },
  "language_info": {
   "codemirror_mode": {
    "name": "ipython",
    "version": 3
   },
   "file_extension": ".py",
   "mimetype": "text/x-python",
   "name": "python",
   "nbconvert_exporter": "python",
   "pygments_lexer": "ipython3",
   "version": "3.11.4"
  }
 },
 "nbformat": 4,
 "nbformat_minor": 2
}
