{
 "cells": [
  {
   "cell_type": "code",
   "execution_count": null,
   "metadata": {},
   "outputs": [],
   "source": [
    "### =b"
   ]
  },
  {
   "cell_type": "markdown",
   "metadata": {},
   "source": [
    "### ชนิดสมมติฐาน\n",
    "1. สมมติฐานหบัก (null, H<sub>0</sub>) : ค่าพารามีเตอร์ มีค่าเท่ากับค่าใดค่าหนึ่ง (=, <=, >=)\n",
    "2. รอง (alternative, H<sub>1</sub> or H<sub>3</sub>) : ค่าพารามีเตอร์ มีค่าแตกต่างจากสมมติฐาน (!=, <, >)"
   ]
  },
  {
   "cell_type": "markdown",
   "metadata": {},
   "source": [
    "#### ขั้นตอนการทดวอบสมมติฐาน\n",
    "\n",
    "1. ตั้งสมมติฐาน H<sub>0</sub> และ H<sub>1</sub>\n",
    "2. กำหนดระดับนัยสำคัญ () lamda = 0.05, 0.01, 0.001\n",
    "3. คำนวณ Z<sub>cal</sub> หรือ t<sub>cal</sub> จากข้อมูลที่มี แล้วหาค่า p-value\n",
    "4. สรุปผลการทดสอบสมมติฐาน\n"
   ]
  },
  {
   "cell_type": "markdown",
   "metadata": {},
   "source": [
    ">$p-value <= α$ : **Deny** H<sub>0</sub>\\\n",
    " $p-value > α$ : **Accept** H<sub>0</sub>"
   ]
  },
  {
   "cell_type": "code",
   "execution_count": 2,
   "metadata": {},
   "outputs": [],
   "source": [
    "import numpy as np\n",
    "from scipy import stats\n",
    "#from statsmodels.stats.weightstats import ztest"
   ]
  },
  {
   "cell_type": "markdown",
   "metadata": {},
   "source": [
    "#### Ex 8.1 \n",
    "![image](../imgs/example8_3.png)"
   ]
  },
  {
   "cell_type": "markdown",
   "metadata": {},
   "source": [
    "กำหนด μ = คือ นำ้หนักเฉลี่ยของนผลไม้กระป๋อง\\\n",
    "\n",
    "μ<sub>0</sub> = 160\n",
    "1. ตั้งสมมติฐาน\\\n",
    "    H<sub>0</sub> : μ = μ<sub>0</sub>\\\n",
    "    H<sub>1</sub> : μ != μ<sub>0</sub>\n",
    "2. ระดัยนัยสำคัญ : \tα = 0.05\n",
    "3. ไม่มีความแปรปรวน ตัวอย่างขนาดเล็ก n < 30 => ใช้การทดสอบด้วย t\n",
    "$$ t_{cal} = \\frac{\\bar{x} - \\mu}{\\frac{s}{\\sqrt{n}}},    v = n - 1 $$"
   ]
  },
  {
   "cell_type": "code",
   "execution_count": 7,
   "metadata": {},
   "outputs": [
    {
     "name": "stdout",
     "output_type": "stream",
     "text": [
      "x_bar =  160.5\n",
      "t_cal =  0.260132990857236\n"
     ]
    }
   ],
   "source": [
    "# คำนวณหา tcal\n",
    "weight = [164, 161, 158, 170, 161, 152, 158, 169, 152, 160]\n",
    "x_bar = np.mean(weight)\n",
    "s = np.std(weight, ddof=1)\n",
    "alpha = 0.05\n",
    "mu_0 = 160\n",
    "print('x_bar = ', x_bar)\n",
    "\n",
    "t_cal = (x_bar - mu_0) / (s / np.sqrt(len(weight)))\n",
    "print('t_cal = ', t_cal)"
   ]
  },
  {
   "cell_type": "code",
   "execution_count": 8,
   "metadata": {},
   "outputs": [
    {
     "name": "stdout",
     "output_type": "stream",
     "text": [
      "t_crit_left =  -2.262157162740992\n",
      "t_crit_right =  2.262157162740992\n"
     ]
    }
   ],
   "source": [
    "v = len(weight) - 1\n",
    "t_crit_left = stats.t.ppf(alpha / 2, df=v)\n",
    "t_crit_right = stats.t.isf(alpha / 2 , df=v)\n",
    "\n",
    "print('t_crit_left = ', t_crit_left)\n",
    "print('t_crit_right = ', t_crit_right)"
   ]
  },
  {
   "cell_type": "code",
   "execution_count": 9,
   "metadata": {},
   "outputs": [
    {
     "data": {
      "text/plain": [
       "0.8006146644674419"
      ]
     },
     "execution_count": 9,
     "metadata": {},
     "output_type": "execute_result"
    }
   ],
   "source": [
    "p_value = 2 * stats.t.sf(np.abs(t_cal), df=v)\n",
    "p_value"
   ]
  },
  {
   "cell_type": "markdown",
   "metadata": {},
   "source": [
    "**ดังนั้น** p-value = 0.8006 > 0.05 (alpha) => ไม่ปฏิเสธสมมติฐาน H<sub>0</sub> ที่ μ = μ<sub>0</sub>"
   ]
  }
 ],
 "metadata": {
  "kernelspec": {
   "display_name": "base",
   "language": "python",
   "name": "python3"
  },
  "language_info": {
   "codemirror_mode": {
    "name": "ipython",
    "version": 3
   },
   "file_extension": ".py",
   "mimetype": "text/x-python",
   "name": "python",
   "nbconvert_exporter": "python",
   "pygments_lexer": "ipython3",
   "version": "3.11.4"
  }
 },
 "nbformat": 4,
 "nbformat_minor": 2
}
