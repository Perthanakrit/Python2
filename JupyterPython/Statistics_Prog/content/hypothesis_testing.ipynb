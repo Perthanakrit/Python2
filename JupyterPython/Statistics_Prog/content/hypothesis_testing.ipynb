{
 "cells": [
  {
   "cell_type": "code",
   "execution_count": null,
   "metadata": {},
   "outputs": [],
   "source": [
    "### =b"
   ]
  },
  {
   "cell_type": "markdown",
   "metadata": {},
   "source": [
    "### ชนิดสมมติฐาน\n",
    "1. สมมติฐานหบัก (null, H<sub>0</sub>) : ค่าพารามีเตอร์ มีค่าเท่ากับค่าใดค่าหนึ่ง (=, <=, >=)\n",
    "2. รอง (alternative, H<sub>1</sub> or H<sub>3</sub>) : ค่าพารามีเตอร์ มีค่าแตกต่างจากสมมติฐาน (!=, <, >)"
   ]
  },
  {
   "cell_type": "markdown",
   "metadata": {},
   "source": [
    "#### ขั้นตอนการทดวอบสมมติฐาน\n",
    "\n",
    "1. ตั้งสมมติฐาน H<sub>0</sub> และ H<sub>1</sub>\n",
    "2. กำหนดระดับนัยสำคัญ () lamda = 0.05, 0.01, 0.001\n",
    "3. คำนวณ Z<sub>cal</sub> หรือ t<sub>cal</sub> จากข้อมูลที่มี แล้วหาค่า p-value\n",
    "4. สรุปผลการทดสอบสมมติฐาน\n"
   ]
  },
  {
   "cell_type": "markdown",
   "metadata": {},
   "source": [
    ">$p-value <= α$ : **Deny** H<sub>0</sub>\\\n",
    " $p-value > α$ : **Accept** H<sub>0</sub>"
   ]
  },
  {
   "cell_type": "code",
   "execution_count": 2,
   "metadata": {},
   "outputs": [],
   "source": [
    "import numpy as np\n",
    "from scipy import stats\n",
    "#from statsmodels.stats.weightstats import ztest"
   ]
  },
  {
   "cell_type": "markdown",
   "metadata": {},
   "source": [
    "#### Ex 8.1 \n",
    "![image](../imgs/example8_3.png)"
   ]
  },
  {
   "cell_type": "markdown",
   "metadata": {},
   "source": [
    "กำหนด μ = คือ นำ้หนักเฉลี่ยของนผลไม้กระป๋อง\\\n",
    "\n",
    "μ<sub>0</sub> = 160\n",
    "1. ตั้งสมมติฐาน\\\n",
    "    H<sub>0</sub> : μ = μ<sub>0</sub>\\\n",
    "    H<sub>1</sub> : μ != μ<sub>0</sub>\n",
    "2. ระดัยนัยสำคัญ : \tα = 0.05\n",
    "3. ไม่มีความแปรปรวน ตัวอย่างขนาดเล็ก n < 30 => ใช้การทดสอบด้วย t\n",
    "$$ t_{cal} = \\frac{\\bar{x} - \\mu}{\\frac{s}{\\sqrt{n}}},    v = n - 1 $$"
   ]
  },
  {
   "cell_type": "code",
   "execution_count": 7,
   "metadata": {},
   "outputs": [
    {
     "name": "stdout",
     "output_type": "stream",
     "text": [
      "x_bar =  160.5\n",
      "t_cal =  0.260132990857236\n"
     ]
    }
   ],
   "source": [
    "# คำนวณหา tcal\n",
    "weight = [164, 161, 158, 170, 161, 152, 158, 169, 152, 160]\n",
    "x_bar = np.mean(weight)\n",
    "s = np.std(weight, ddof=1)\n",
    "alpha = 0.05\n",
    "mu_0 = 160\n",
    "print('x_bar = ', x_bar)\n",
    "\n",
    "t_cal = (x_bar - mu_0) / (s / np.sqrt(len(weight)))\n",
    "print('t_cal = ', t_cal)"
   ]
  },
  {
   "cell_type": "code",
   "execution_count": 8,
   "metadata": {},
   "outputs": [
    {
     "name": "stdout",
     "output_type": "stream",
     "text": [
      "t_crit_left =  -2.262157162740992\n",
      "t_crit_right =  2.262157162740992\n"
     ]
    }
   ],
   "source": [
    "v = len(weight) - 1\n",
    "t_crit_left = stats.t.ppf(alpha / 2, df=v)\n",
    "t_crit_right = stats.t.isf(alpha / 2 , df=v)\n",
    "\n",
    "print('t_crit_left = ', t_crit_left)\n",
    "print('t_crit_right = ', t_crit_right)"
   ]
  },
  {
   "cell_type": "code",
   "execution_count": 9,
   "metadata": {},
   "outputs": [
    {
     "data": {
      "text/plain": [
       "0.8006146644674419"
      ]
     },
     "execution_count": 9,
     "metadata": {},
     "output_type": "execute_result"
    }
   ],
   "source": [
    "p_value = 2 * stats.t.sf(np.abs(t_cal), df=v)\n",
    "p_value"
   ]
  },
  {
   "cell_type": "markdown",
   "metadata": {},
   "source": [
    "**ดังนั้น** p-value = 0.8006 > 0.05 (alpha) => ไม่ปฏิเสธสมมติฐาน H<sub>0</sub> ที่ μ = μ<sub>0</sub>"
   ]
  },
  {
   "cell_type": "markdown",
   "metadata": {},
   "source": [
    "#### Ex 8.2"
   ]
  },
  {
   "cell_type": "markdown",
   "metadata": {},
   "source": [
    "### ค่าเฉลี่ยของประชากร 2 กลุ่มอิสระต่อกัน"
   ]
  },
  {
   "cell_type": "markdown",
   "metadata": {},
   "source": [
    "มี $\\mu_1$ และ $\\mu_2$ คือค่าเฉลี่ยของกลุ่ม 1 และ 2 ตามลำดับ และ $\\mu_0 = 0$ เป็นพารามีเตอร์ที่ต้องการทดสอบ \n",
    "\n",
    "เมื่อ $\\mu_0 = 0$\n",
    "1. Two-tailed test:\\ \n",
    "$H_0: \\mu_1 - \\mu_2 = 0$  or  $H_0: \\mu_1 = \\mu_2$\\\n",
    "$H_1: \\mu_1 - \\mu_2 \\neq 0$ or $H_1: \\mu_1 \\neq \\mu_2$\n",
    "\n",
    "2. Left-tailed test:\\\n",
    "$H_0: \\mu_1 - \\mu_2 \\geq 0$  or  $H_0: \\mu_1 \\geq \\mu_2$\\\n",
    "$H_1: \\mu_1 - \\mu_2 < 0$ or $H_1: \\mu_1 < \\mu_2$\n",
    "\n",
    "3. Right-tailed test:\\\n",
    "$H_0: \\mu_1 - \\mu_2 \\leq 0$  or  $H_0: \\mu_1 \\leq \\mu_2$\\\n",
    "$H_1: \\mu_1 - \\mu_2 > 0$ or $H_1: \\mu_1 > \\mu_2$\n",
    "\n",
    "#### สถิตติกส์ที่ใช้ในการทดสอบสมมติฐาน\n",
    "1. ทราบ $\\sigma_1$ และ $\\sigma_2$ ของทั้ง 2 กลุ่ม\\\n",
    "    > $ Z = \\frac{(\\bar{x}_1 - \\bar{x}_2) - (\\mu_1 - \\mu_2)}{\\sqrt{\\frac{\\sigma_1^2}{n_1} + \\frac{\\sigma_2^2}{n_2}}} $\n",
    "\n",
    "2. ไม่ทราบ $\\sigma_1$ และ $\\sigma_2$ ของทั้ง 2 กลุ่ม และตัวอย่าง\\  $n_1, n_2 \\geq 30$\n",
    "    > $ z = \\frac{(\\bar{x}_1 - \\bar{x}_2) - (\\mu_1 - \\mu_2)}{\\sqrt{\\frac{s_1^2}{n_1} + \\frac{s_2^2}{n_2}}} $\n",
    "\n",
    "3. ไม่ทราบ $\\sigma_1$ และ $\\sigma_2$ ของทั้ง 2 กลุ่ม และตัวอย่าง\\  $n_1, n_2 < 30$ แต่ทราบว่า $\\sigma_1 = \\sigma_2$\n",
    "    > $ t = \\frac{(\\bar{x}_1 - \\bar{x}_2) - (\\mu_1 - \\mu_2)}{s^2_p \\sqrt{\\frac{1}{n_1} + \\frac{1}{n_2}}},   $ $d.f. = n_1 + n_2 - 2$\\\n",
    "    > $ s^2_p = \\sqrt{\\frac{(n_1 - 1)s_1^2 + (n_2 - 1)s_2^2}{n_1 + n_2 - 2}} $\n",
    "\n",
    "4. ไม่ทราบความแปรปรวนของประชากร $\\sigma^2_1$ และ $\\sigma^2_2$ ตัวอย่างมีขนาดเล็ก $n_1, n_2 < 30$ และ $\\sigma_1 \\neq \\sigma_2$\n",
    "    > $ t = \\frac{(\\bar{x}_1 - \\bar{x}_2) - (\\mu_1 - \\mu_2)}{\\sqrt{\\frac{s_1^2}{n_1} + \\frac{s_2^2}{n_2}}},   $ $d.f. = \\frac{(\\frac{s_1^2}{n_1} + \\frac{s_2^2}{n_2})^2}{\\frac{1}{n_1 - 1}(\\frac{s_1^2}{n_1})^2 + \\frac{1}{n_2 - 1}(\\frac{s_2^2}{n_2})^2}$"
   ]
  },
  {
   "cell_type": "markdown",
   "metadata": {},
   "source": [
    "### สัดส่วนประชากร 1 กลุ่ม"
   ]
  },
  {
   "cell_type": "markdown",
   "metadata": {},
   "source": [
    "$ \n",
    "    Z = p\\hat{p} \\sqrt{\\frac{1}{n_1} + \\frac{1}{n_2}}\n",
    "$"
   ]
  }
 ],
 "metadata": {
  "kernelspec": {
   "display_name": "base",
   "language": "python",
   "name": "python3"
  },
  "language_info": {
   "codemirror_mode": {
    "name": "ipython",
    "version": 3
   },
   "file_extension": ".py",
   "mimetype": "text/x-python",
   "name": "python",
   "nbconvert_exporter": "python",
   "pygments_lexer": "ipython3",
   "version": "3.11.4"
  }
 },
 "nbformat": 4,
 "nbformat_minor": 2
}
