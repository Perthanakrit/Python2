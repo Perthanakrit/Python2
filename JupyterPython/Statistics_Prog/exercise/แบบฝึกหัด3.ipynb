{
  "cells": [
    {
      "cell_type": "markdown",
      "metadata": {
        "id": "U3ArbMi8JHGD"
      },
      "source": [
        "# แบบฝึกหัด 3"
      ]
    },
    {
      "cell_type": "markdown",
      "metadata": {
        "id": "t9RQYuu-JUwP"
      },
      "source": [
        "---"
      ]
    },
    {
      "cell_type": "code",
      "execution_count": 3,
      "metadata": {
        "id": "5LcuhePsgM1w"
      },
      "outputs": [],
      "source": [
        "import numpy as np\n",
        "import pandas as pd\n",
        "import statistics"
      ]
    },
    {
      "cell_type": "markdown",
      "metadata": {
        "id": "uoKssbJRv2Xu"
      },
      "source": [
        "###  "
      ]
    },
    {
      "cell_type": "markdown",
      "metadata": {
        "id": "O-jANK7-JY2X"
      },
      "source": [
        "3.1 บริษัทให้บริการด้าน IT ครบวงจรแห่งหนึ่งได้เก็บรวบรวมข้อมูลค่าซ่อมบำรุงอุปกรณ์คอมพิวเตอร์แม่ข่ายและจำนวนลูกค้าของบริษัทในปีที่ผ่านมาเป็นดังไฟล์ ex3_1_itcost.csv  \n",
        "จงแสดงวิธีหาค่ามัธยฐานและฐานนิยมของค่าซ่อมบำรุงอุปกรณ์คอมพิวเตอร์แม่ข่าย"
      ]
    },
    {
      "cell_type": "code",
      "execution_count": 4,
      "metadata": {
        "colab": {
          "base_uri": "https://localhost:8080/",
          "height": 206
        },
        "id": "HVfgMVlcI_hm",
        "outputId": "a2676941-9a96-4bc5-f153-75a0da03a182"
      },
      "outputs": [
        {
          "data": {
            "text/html": [
              "<div>\n",
              "<style scoped>\n",
              "    .dataframe tbody tr th:only-of-type {\n",
              "        vertical-align: middle;\n",
              "    }\n",
              "\n",
              "    .dataframe tbody tr th {\n",
              "        vertical-align: top;\n",
              "    }\n",
              "\n",
              "    .dataframe thead th {\n",
              "        text-align: right;\n",
              "    }\n",
              "</style>\n",
              "<table border=\"1\" class=\"dataframe\">\n",
              "  <thead>\n",
              "    <tr style=\"text-align: right;\">\n",
              "      <th></th>\n",
              "      <th>maintenance_cost</th>\n",
              "      <th>num_customer</th>\n",
              "    </tr>\n",
              "  </thead>\n",
              "  <tbody>\n",
              "    <tr>\n",
              "      <th>0</th>\n",
              "      <td>&lt;=5000</td>\n",
              "      <td>33</td>\n",
              "    </tr>\n",
              "    <tr>\n",
              "      <th>1</th>\n",
              "      <td>5001-10000</td>\n",
              "      <td>41</td>\n",
              "    </tr>\n",
              "    <tr>\n",
              "      <th>2</th>\n",
              "      <td>10001-15000</td>\n",
              "      <td>20</td>\n",
              "    </tr>\n",
              "    <tr>\n",
              "      <th>3</th>\n",
              "      <td>15001-20000</td>\n",
              "      <td>17</td>\n",
              "    </tr>\n",
              "    <tr>\n",
              "      <th>4</th>\n",
              "      <td>20001-25000</td>\n",
              "      <td>10</td>\n",
              "    </tr>\n",
              "    <tr>\n",
              "      <th>5</th>\n",
              "      <td>25001-30000</td>\n",
              "      <td>16</td>\n",
              "    </tr>\n",
              "    <tr>\n",
              "      <th>6</th>\n",
              "      <td>&gt;=30001</td>\n",
              "      <td>5</td>\n",
              "    </tr>\n",
              "  </tbody>\n",
              "</table>\n",
              "</div>"
            ],
            "text/plain": [
              "  maintenance_cost  num_customer\n",
              "0           <=5000            33\n",
              "1       5001-10000            41\n",
              "2      10001-15000            20\n",
              "3      15001-20000            17\n",
              "4      20001-25000            10\n",
              "5      25001-30000            16\n",
              "6          >=30001             5"
            ]
          },
          "execution_count": 4,
          "metadata": {},
          "output_type": "execute_result"
        }
      ],
      "source": [
        "df_it = pd.read_csv('https://raw.githubusercontent.com/ThammakornS/ProgStat/main/dataset/asm3_1_itcost.csv')\n",
        "df_it"
      ]
    },
    {
      "cell_type": "code",
      "execution_count": 5,
      "metadata": {},
      "outputs": [
        {
          "data": {
            "text/html": [
              "<div>\n",
              "<style scoped>\n",
              "    .dataframe tbody tr th:only-of-type {\n",
              "        vertical-align: middle;\n",
              "    }\n",
              "\n",
              "    .dataframe tbody tr th {\n",
              "        vertical-align: top;\n",
              "    }\n",
              "\n",
              "    .dataframe thead th {\n",
              "        text-align: right;\n",
              "    }\n",
              "</style>\n",
              "<table border=\"1\" class=\"dataframe\">\n",
              "  <thead>\n",
              "    <tr style=\"text-align: right;\">\n",
              "      <th></th>\n",
              "      <th>maintenance_cost</th>\n",
              "      <th>num_customer</th>\n",
              "    </tr>\n",
              "  </thead>\n",
              "  <tbody>\n",
              "    <tr>\n",
              "      <th>0</th>\n",
              "      <td>1-5000</td>\n",
              "      <td>33</td>\n",
              "    </tr>\n",
              "    <tr>\n",
              "      <th>1</th>\n",
              "      <td>5001-10000</td>\n",
              "      <td>41</td>\n",
              "    </tr>\n",
              "    <tr>\n",
              "      <th>2</th>\n",
              "      <td>10001-15000</td>\n",
              "      <td>20</td>\n",
              "    </tr>\n",
              "    <tr>\n",
              "      <th>3</th>\n",
              "      <td>15001-20000</td>\n",
              "      <td>17</td>\n",
              "    </tr>\n",
              "    <tr>\n",
              "      <th>4</th>\n",
              "      <td>20001-25000</td>\n",
              "      <td>10</td>\n",
              "    </tr>\n",
              "    <tr>\n",
              "      <th>5</th>\n",
              "      <td>25001-30000</td>\n",
              "      <td>16</td>\n",
              "    </tr>\n",
              "    <tr>\n",
              "      <th>6</th>\n",
              "      <td>30001-35000</td>\n",
              "      <td>5</td>\n",
              "    </tr>\n",
              "  </tbody>\n",
              "</table>\n",
              "</div>"
            ],
            "text/plain": [
              "  maintenance_cost  num_customer\n",
              "0           1-5000            33\n",
              "1       5001-10000            41\n",
              "2      10001-15000            20\n",
              "3      15001-20000            17\n",
              "4      20001-25000            10\n",
              "5      25001-30000            16\n",
              "6      30001-35000             5"
            ]
          },
          "execution_count": 5,
          "metadata": {},
          "output_type": "execute_result"
        }
      ],
      "source": [
        "#your code\n",
        "new_ar = df_it.maintenance_cost.to_numpy()\n",
        "for i in range(len(new_ar)):\n",
        "    if (\">=\" in new_ar[i]):\n",
        "        new_ar[i] = new_ar[i].replace(f\"{new_ar[i]}\", f\"{new_ar[i].split('>=')[1]}-{int(new_ar[i-1].split('-')[1])+5000}\")\n",
        "    elif (\"<=\" in new_ar[i]):\n",
        "        new_ar[i] = new_ar[i].replace('<=', '1-')\n",
        "\n",
        "df_it.maintenance_cost = new_ar\n",
        "df_it"
      ]
    },
    {
      "cell_type": "code",
      "execution_count": 6,
      "metadata": {},
      "outputs": [
        {
          "data": {
            "text/html": [
              "<div>\n",
              "<style scoped>\n",
              "    .dataframe tbody tr th:only-of-type {\n",
              "        vertical-align: middle;\n",
              "    }\n",
              "\n",
              "    .dataframe tbody tr th {\n",
              "        vertical-align: top;\n",
              "    }\n",
              "\n",
              "    .dataframe thead th {\n",
              "        text-align: right;\n",
              "    }\n",
              "</style>\n",
              "<table border=\"1\" class=\"dataframe\">\n",
              "  <thead>\n",
              "    <tr style=\"text-align: right;\">\n",
              "      <th></th>\n",
              "      <th>maintenance_cost</th>\n",
              "      <th>num_customer</th>\n",
              "      <th>cost_from</th>\n",
              "      <th>cost_to</th>\n",
              "    </tr>\n",
              "  </thead>\n",
              "  <tbody>\n",
              "    <tr>\n",
              "      <th>0</th>\n",
              "      <td>1-5000</td>\n",
              "      <td>33</td>\n",
              "      <td>1</td>\n",
              "      <td>5000</td>\n",
              "    </tr>\n",
              "    <tr>\n",
              "      <th>1</th>\n",
              "      <td>5001-10000</td>\n",
              "      <td>41</td>\n",
              "      <td>5001</td>\n",
              "      <td>10000</td>\n",
              "    </tr>\n",
              "    <tr>\n",
              "      <th>2</th>\n",
              "      <td>10001-15000</td>\n",
              "      <td>20</td>\n",
              "      <td>10001</td>\n",
              "      <td>15000</td>\n",
              "    </tr>\n",
              "    <tr>\n",
              "      <th>3</th>\n",
              "      <td>15001-20000</td>\n",
              "      <td>17</td>\n",
              "      <td>15001</td>\n",
              "      <td>20000</td>\n",
              "    </tr>\n",
              "    <tr>\n",
              "      <th>4</th>\n",
              "      <td>20001-25000</td>\n",
              "      <td>10</td>\n",
              "      <td>20001</td>\n",
              "      <td>25000</td>\n",
              "    </tr>\n",
              "    <tr>\n",
              "      <th>5</th>\n",
              "      <td>25001-30000</td>\n",
              "      <td>16</td>\n",
              "      <td>25001</td>\n",
              "      <td>30000</td>\n",
              "    </tr>\n",
              "    <tr>\n",
              "      <th>6</th>\n",
              "      <td>30001-35000</td>\n",
              "      <td>5</td>\n",
              "      <td>30001</td>\n",
              "      <td>35000</td>\n",
              "    </tr>\n",
              "  </tbody>\n",
              "</table>\n",
              "</div>"
            ],
            "text/plain": [
              "  maintenance_cost  num_customer  cost_from  cost_to\n",
              "0           1-5000            33          1     5000\n",
              "1       5001-10000            41       5001    10000\n",
              "2      10001-15000            20      10001    15000\n",
              "3      15001-20000            17      15001    20000\n",
              "4      20001-25000            10      20001    25000\n",
              "5      25001-30000            16      25001    30000\n",
              "6      30001-35000             5      30001    35000"
            ]
          },
          "execution_count": 6,
          "metadata": {},
          "output_type": "execute_result"
        }
      ],
      "source": [
        "df_it[['cost_from','cost_to']] = df_it.maintenance_cost.str.split(\"-\",expand=True).astype(int)\n",
        "df_it"
      ]
    },
    {
      "cell_type": "code",
      "execution_count": 7,
      "metadata": {},
      "outputs": [
        {
          "data": {
            "text/html": [
              "<div>\n",
              "<style scoped>\n",
              "    .dataframe tbody tr th:only-of-type {\n",
              "        vertical-align: middle;\n",
              "    }\n",
              "\n",
              "    .dataframe tbody tr th {\n",
              "        vertical-align: top;\n",
              "    }\n",
              "\n",
              "    .dataframe thead th {\n",
              "        text-align: right;\n",
              "    }\n",
              "</style>\n",
              "<table border=\"1\" class=\"dataframe\">\n",
              "  <thead>\n",
              "    <tr style=\"text-align: right;\">\n",
              "      <th></th>\n",
              "      <th>maintenance_cost</th>\n",
              "      <th>num_customer</th>\n",
              "      <th>cost_from</th>\n",
              "      <th>cost_to</th>\n",
              "      <th>num_customer_count</th>\n",
              "    </tr>\n",
              "  </thead>\n",
              "  <tbody>\n",
              "    <tr>\n",
              "      <th>0</th>\n",
              "      <td>1-5000</td>\n",
              "      <td>33</td>\n",
              "      <td>1</td>\n",
              "      <td>5000</td>\n",
              "      <td>33</td>\n",
              "    </tr>\n",
              "    <tr>\n",
              "      <th>1</th>\n",
              "      <td>5001-10000</td>\n",
              "      <td>41</td>\n",
              "      <td>5001</td>\n",
              "      <td>10000</td>\n",
              "      <td>74</td>\n",
              "    </tr>\n",
              "    <tr>\n",
              "      <th>2</th>\n",
              "      <td>10001-15000</td>\n",
              "      <td>20</td>\n",
              "      <td>10001</td>\n",
              "      <td>15000</td>\n",
              "      <td>94</td>\n",
              "    </tr>\n",
              "    <tr>\n",
              "      <th>3</th>\n",
              "      <td>15001-20000</td>\n",
              "      <td>17</td>\n",
              "      <td>15001</td>\n",
              "      <td>20000</td>\n",
              "      <td>111</td>\n",
              "    </tr>\n",
              "    <tr>\n",
              "      <th>4</th>\n",
              "      <td>20001-25000</td>\n",
              "      <td>10</td>\n",
              "      <td>20001</td>\n",
              "      <td>25000</td>\n",
              "      <td>121</td>\n",
              "    </tr>\n",
              "    <tr>\n",
              "      <th>5</th>\n",
              "      <td>25001-30000</td>\n",
              "      <td>16</td>\n",
              "      <td>25001</td>\n",
              "      <td>30000</td>\n",
              "      <td>137</td>\n",
              "    </tr>\n",
              "    <tr>\n",
              "      <th>6</th>\n",
              "      <td>30001-35000</td>\n",
              "      <td>5</td>\n",
              "      <td>30001</td>\n",
              "      <td>35000</td>\n",
              "      <td>142</td>\n",
              "    </tr>\n",
              "  </tbody>\n",
              "</table>\n",
              "</div>"
            ],
            "text/plain": [
              "  maintenance_cost  num_customer  cost_from  cost_to  num_customer_count\n",
              "0           1-5000            33          1     5000                  33\n",
              "1       5001-10000            41       5001    10000                  74\n",
              "2      10001-15000            20      10001    15000                  94\n",
              "3      15001-20000            17      15001    20000                 111\n",
              "4      20001-25000            10      20001    25000                 121\n",
              "5      25001-30000            16      25001    30000                 137\n",
              "6      30001-35000             5      30001    35000                 142"
            ]
          },
          "execution_count": 7,
          "metadata": {},
          "output_type": "execute_result"
        }
      ],
      "source": [
        "df_it['num_customer_count'] = df_it.num_customer.cumsum()\n",
        "df_it"
      ]
    },
    {
      "cell_type": "code",
      "execution_count": 8,
      "metadata": {
        "id": "7TwxeuVW96Ma"
      },
      "outputs": [
        {
          "name": "stdout",
          "output_type": "stream",
          "text": [
            "Mode e: 1\n",
            "Median position: 71.0 e: 1\n"
          ]
        }
      ],
      "source": [
        "median_pos = df_it.num_customer.sum() / 2 # หาตำแหน่ง median df_it.num_customer_count[len(df_it)-1] / 2\n",
        "e = 0\n",
        "for  i in  df_it.index:\n",
        "    if df_it.num_customer_count[i] >= median_pos:\n",
        "        e = i\n",
        "        break\n",
        "\n",
        "# mode\n",
        "mode_e = np.argmax(df_it.num_customer)\n",
        "print(f\"Mode e: {mode_e}\")\n",
        "print(f\"Median position: {median_pos} e: {e}\")\n"
      ]
    },
    {
      "cell_type": "markdown",
      "metadata": {},
      "source": [
        "![Screen Shot 2565-12-21 at 14.01.59.png](data:image/png;base64,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)"
      ]
    },
    {
      "cell_type": "code",
      "execution_count": 11,
      "metadata": {},
      "outputs": [
        {
          "name": "stdout",
          "output_type": "stream",
          "text": [
            "5000.5 71.0 33 41\n",
            "Median: 9634.646341463415\n",
            "Mode: 6379.810344827586\n"
          ]
        }
      ],
      "source": [
        "# ขอบล่าง\n",
        "lower = df_it.cost_from[e] - 0.5\n",
        "mode_lower = df_it.cost_from[mode_e] - 0.5\n",
        "\n",
        "i = 5000\n",
        "print(f\"{lower} {median_pos} {df_it.num_customer_count[e-1]} {df_it.num_customer[e]}\")\n",
        "#result\n",
        "median_value = lower + ((median_pos - df_it.num_customer_count[e-1]) / df_it.num_customer[e]) * 5000\n",
        "\n",
        "# mode\n",
        "d1, d2 = np.abs(df_it.num_customer[mode_e] - df_it.num_customer[mode_e-1]), np.abs(df_it.num_customer[mode_e] - df_it.num_customer[mode_e+1])\n",
        "\n",
        "mode_value = mode_lower + i * ( d1 / (d1 + d2) )\n",
        "\n",
        "print(f\"Median: {median_value}\")\n",
        "print(f\"Mode: {mode_value}\")"
      ]
    },
    {
      "cell_type": "markdown",
      "metadata": {
        "id": "BxG0p9G9-qG2"
      },
      "source": [
        "###   "
      ]
    },
    {
      "cell_type": "markdown",
      "metadata": {
        "id": "JTDVG3rksTto"
      },
      "source": [
        "3.2 สุ่มตัวอย่างนักศึกษามาจำนวนหนึ่ง พบว่าคะแนนสอบวิชาสถิติ เป็นดังตาราง 'ex3_2_score.csv' จงหาค่า"
      ]
    },
    {
      "cell_type": "markdown",
      "metadata": {
        "id": "tGs8uJzvy7AY"
      },
      "source": [
        "**3.2.1 ค่าเฉลี่ย**\n",
        "# "
      ]
    },
    {
      "cell_type": "code",
      "execution_count": 12,
      "metadata": {
        "colab": {
          "base_uri": "https://localhost:8080/",
          "height": 206
        },
        "id": "xGfGFa4kvtyH",
        "outputId": "8b46bf09-ece7-4ca2-f464-c4ca3456baef"
      },
      "outputs": [
        {
          "data": {
            "text/html": [
              "<div>\n",
              "<style scoped>\n",
              "    .dataframe tbody tr th:only-of-type {\n",
              "        vertical-align: middle;\n",
              "    }\n",
              "\n",
              "    .dataframe tbody tr th {\n",
              "        vertical-align: top;\n",
              "    }\n",
              "\n",
              "    .dataframe thead th {\n",
              "        text-align: right;\n",
              "    }\n",
              "</style>\n",
              "<table border=\"1\" class=\"dataframe\">\n",
              "  <thead>\n",
              "    <tr style=\"text-align: right;\">\n",
              "      <th></th>\n",
              "      <th>score</th>\n",
              "      <th>num_student</th>\n",
              "    </tr>\n",
              "  </thead>\n",
              "  <tbody>\n",
              "    <tr>\n",
              "      <th>0</th>\n",
              "      <td>11-15</td>\n",
              "      <td>15</td>\n",
              "    </tr>\n",
              "    <tr>\n",
              "      <th>1</th>\n",
              "      <td>16-20</td>\n",
              "      <td>14</td>\n",
              "    </tr>\n",
              "    <tr>\n",
              "      <th>2</th>\n",
              "      <td>21-25</td>\n",
              "      <td>20</td>\n",
              "    </tr>\n",
              "    <tr>\n",
              "      <th>3</th>\n",
              "      <td>26-30</td>\n",
              "      <td>18</td>\n",
              "    </tr>\n",
              "    <tr>\n",
              "      <th>4</th>\n",
              "      <td>31-35</td>\n",
              "      <td>16</td>\n",
              "    </tr>\n",
              "  </tbody>\n",
              "</table>\n",
              "</div>"
            ],
            "text/plain": [
              "   score  num_student\n",
              "0  11-15           15\n",
              "1  16-20           14\n",
              "2  21-25           20\n",
              "3  26-30           18\n",
              "4  31-35           16"
            ]
          },
          "execution_count": 12,
          "metadata": {},
          "output_type": "execute_result"
        }
      ],
      "source": [
        "df_score = pd.read_csv('https://raw.githubusercontent.com/ThammakornS/ProgStat/main/dataset/asm3_2_score.csv')\n",
        "df_score.head()"
      ]
    },
    {
      "cell_type": "code",
      "execution_count": 10,
      "metadata": {
        "id": "pDFVQTNzykLc"
      },
      "outputs": [
        {
          "data": {
            "text/html": [
              "<div>\n",
              "<style scoped>\n",
              "    .dataframe tbody tr th:only-of-type {\n",
              "        vertical-align: middle;\n",
              "    }\n",
              "\n",
              "    .dataframe tbody tr th {\n",
              "        vertical-align: top;\n",
              "    }\n",
              "\n",
              "    .dataframe thead th {\n",
              "        text-align: right;\n",
              "    }\n",
              "</style>\n",
              "<table border=\"1\" class=\"dataframe\">\n",
              "  <thead>\n",
              "    <tr style=\"text-align: right;\">\n",
              "      <th></th>\n",
              "      <th>score</th>\n",
              "      <th>num_student</th>\n",
              "      <th>score_from</th>\n",
              "      <th>score_to</th>\n",
              "    </tr>\n",
              "  </thead>\n",
              "  <tbody>\n",
              "    <tr>\n",
              "      <th>0</th>\n",
              "      <td>11-15</td>\n",
              "      <td>15</td>\n",
              "      <td>11</td>\n",
              "      <td>15</td>\n",
              "    </tr>\n",
              "    <tr>\n",
              "      <th>1</th>\n",
              "      <td>16-20</td>\n",
              "      <td>14</td>\n",
              "      <td>16</td>\n",
              "      <td>20</td>\n",
              "    </tr>\n",
              "    <tr>\n",
              "      <th>2</th>\n",
              "      <td>21-25</td>\n",
              "      <td>20</td>\n",
              "      <td>21</td>\n",
              "      <td>25</td>\n",
              "    </tr>\n",
              "    <tr>\n",
              "      <th>3</th>\n",
              "      <td>26-30</td>\n",
              "      <td>18</td>\n",
              "      <td>26</td>\n",
              "      <td>30</td>\n",
              "    </tr>\n",
              "    <tr>\n",
              "      <th>4</th>\n",
              "      <td>31-35</td>\n",
              "      <td>16</td>\n",
              "      <td>31</td>\n",
              "      <td>35</td>\n",
              "    </tr>\n",
              "    <tr>\n",
              "      <th>5</th>\n",
              "      <td>36-40</td>\n",
              "      <td>17</td>\n",
              "      <td>36</td>\n",
              "      <td>40</td>\n",
              "    </tr>\n",
              "  </tbody>\n",
              "</table>\n",
              "</div>"
            ],
            "text/plain": [
              "   score  num_student  score_from  score_to\n",
              "0  11-15           15          11        15\n",
              "1  16-20           14          16        20\n",
              "2  21-25           20          21        25\n",
              "3  26-30           18          26        30\n",
              "4  31-35           16          31        35\n",
              "5  36-40           17          36        40"
            ]
          },
          "execution_count": 10,
          "metadata": {},
          "output_type": "execute_result"
        }
      ],
      "source": [
        "#your code\n",
        "# 1. หา ขอบล่าง และ ขอบบน\n",
        "df_score[['score_from','score_to']] = df_score.score.str.split(\"-\",expand=True).astype(int)\n",
        "df_score"
      ]
    },
    {
      "cell_type": "code",
      "execution_count": 11,
      "metadata": {},
      "outputs": [
        {
          "data": {
            "text/html": [
              "<div>\n",
              "<style scoped>\n",
              "    .dataframe tbody tr th:only-of-type {\n",
              "        vertical-align: middle;\n",
              "    }\n",
              "\n",
              "    .dataframe tbody tr th {\n",
              "        vertical-align: top;\n",
              "    }\n",
              "\n",
              "    .dataframe thead th {\n",
              "        text-align: right;\n",
              "    }\n",
              "</style>\n",
              "<table border=\"1\" class=\"dataframe\">\n",
              "  <thead>\n",
              "    <tr style=\"text-align: right;\">\n",
              "      <th></th>\n",
              "      <th>score</th>\n",
              "      <th>num_student</th>\n",
              "      <th>score_from</th>\n",
              "      <th>score_to</th>\n",
              "      <th>ค่ากึ่งกลาง (x)</th>\n",
              "      <th>ค่า fx</th>\n",
              "    </tr>\n",
              "  </thead>\n",
              "  <tbody>\n",
              "    <tr>\n",
              "      <th>0</th>\n",
              "      <td>11-15</td>\n",
              "      <td>15</td>\n",
              "      <td>11</td>\n",
              "      <td>15</td>\n",
              "      <td>13.0</td>\n",
              "      <td>195.0</td>\n",
              "    </tr>\n",
              "    <tr>\n",
              "      <th>1</th>\n",
              "      <td>16-20</td>\n",
              "      <td>14</td>\n",
              "      <td>16</td>\n",
              "      <td>20</td>\n",
              "      <td>18.0</td>\n",
              "      <td>252.0</td>\n",
              "    </tr>\n",
              "    <tr>\n",
              "      <th>2</th>\n",
              "      <td>21-25</td>\n",
              "      <td>20</td>\n",
              "      <td>21</td>\n",
              "      <td>25</td>\n",
              "      <td>23.0</td>\n",
              "      <td>460.0</td>\n",
              "    </tr>\n",
              "    <tr>\n",
              "      <th>3</th>\n",
              "      <td>26-30</td>\n",
              "      <td>18</td>\n",
              "      <td>26</td>\n",
              "      <td>30</td>\n",
              "      <td>28.0</td>\n",
              "      <td>504.0</td>\n",
              "    </tr>\n",
              "    <tr>\n",
              "      <th>4</th>\n",
              "      <td>31-35</td>\n",
              "      <td>16</td>\n",
              "      <td>31</td>\n",
              "      <td>35</td>\n",
              "      <td>33.0</td>\n",
              "      <td>528.0</td>\n",
              "    </tr>\n",
              "    <tr>\n",
              "      <th>5</th>\n",
              "      <td>36-40</td>\n",
              "      <td>17</td>\n",
              "      <td>36</td>\n",
              "      <td>40</td>\n",
              "      <td>38.0</td>\n",
              "      <td>646.0</td>\n",
              "    </tr>\n",
              "  </tbody>\n",
              "</table>\n",
              "</div>"
            ],
            "text/plain": [
              "   score  num_student  score_from  score_to  ค่ากึ่งกลาง (x)  ค่า fx\n",
              "0  11-15           15          11        15             13.0   195.0\n",
              "1  16-20           14          16        20             18.0   252.0\n",
              "2  21-25           20          21        25             23.0   460.0\n",
              "3  26-30           18          26        30             28.0   504.0\n",
              "4  31-35           16          31        35             33.0   528.0\n",
              "5  36-40           17          36        40             38.0   646.0"
            ]
          },
          "execution_count": 11,
          "metadata": {},
          "output_type": "execute_result"
        }
      ],
      "source": [
        "min_x = (df_score.score_from[0] + df_score.score_to[0]) /2\n",
        "max_x = (df_score.score_from[len(df_score)-1] + df_score.score_to[len(df_score)-1]) /2\n",
        "# ค่ากึ่งกลาง\n",
        "df_score['ค่ากึ่งกลาง (x)'] = np.arange(min_x, max_x+1, df_score.score_from[1] - df_score.score_from[0])\n",
        "\n",
        "df_score['ค่า fx'] = df_score['ค่ากึ่งกลาง (x)'] * df_score['num_student']\n",
        "\n",
        "df_score"
      ]
    },
    {
      "cell_type": "code",
      "execution_count": 12,
      "metadata": {},
      "outputs": [
        {
          "data": {
            "text/plain": [
              "25.85"
            ]
          },
          "execution_count": 12,
          "metadata": {},
          "output_type": "execute_result"
        }
      ],
      "source": [
        "#result\n",
        "mean = df_score['ค่า fx'].sum() / df_score['num_student'].sum()\n",
        "mean"
      ]
    },
    {
      "cell_type": "markdown",
      "metadata": {
        "id": "HyMa-rkR1ctY"
      },
      "source": [
        "**3.2.2 ค่ามัธยฐาน**\n",
        "# "
      ]
    },
    {
      "cell_type": "code",
      "execution_count": 13,
      "metadata": {},
      "outputs": [
        {
          "data": {
            "text/html": [
              "<div>\n",
              "<style scoped>\n",
              "    .dataframe tbody tr th:only-of-type {\n",
              "        vertical-align: middle;\n",
              "    }\n",
              "\n",
              "    .dataframe tbody tr th {\n",
              "        vertical-align: top;\n",
              "    }\n",
              "\n",
              "    .dataframe thead th {\n",
              "        text-align: right;\n",
              "    }\n",
              "</style>\n",
              "<table border=\"1\" class=\"dataframe\">\n",
              "  <thead>\n",
              "    <tr style=\"text-align: right;\">\n",
              "      <th></th>\n",
              "      <th>score</th>\n",
              "      <th>num_student</th>\n",
              "      <th>score_from</th>\n",
              "      <th>score_to</th>\n",
              "      <th>ค่ากึ่งกลาง (x)</th>\n",
              "      <th>ค่า fx</th>\n",
              "      <th>num_student_count</th>\n",
              "    </tr>\n",
              "  </thead>\n",
              "  <tbody>\n",
              "    <tr>\n",
              "      <th>0</th>\n",
              "      <td>11-15</td>\n",
              "      <td>15</td>\n",
              "      <td>11</td>\n",
              "      <td>15</td>\n",
              "      <td>13.0</td>\n",
              "      <td>195.0</td>\n",
              "      <td>15</td>\n",
              "    </tr>\n",
              "    <tr>\n",
              "      <th>1</th>\n",
              "      <td>16-20</td>\n",
              "      <td>14</td>\n",
              "      <td>16</td>\n",
              "      <td>20</td>\n",
              "      <td>18.0</td>\n",
              "      <td>252.0</td>\n",
              "      <td>29</td>\n",
              "    </tr>\n",
              "    <tr>\n",
              "      <th>2</th>\n",
              "      <td>21-25</td>\n",
              "      <td>20</td>\n",
              "      <td>21</td>\n",
              "      <td>25</td>\n",
              "      <td>23.0</td>\n",
              "      <td>460.0</td>\n",
              "      <td>49</td>\n",
              "    </tr>\n",
              "    <tr>\n",
              "      <th>3</th>\n",
              "      <td>26-30</td>\n",
              "      <td>18</td>\n",
              "      <td>26</td>\n",
              "      <td>30</td>\n",
              "      <td>28.0</td>\n",
              "      <td>504.0</td>\n",
              "      <td>67</td>\n",
              "    </tr>\n",
              "    <tr>\n",
              "      <th>4</th>\n",
              "      <td>31-35</td>\n",
              "      <td>16</td>\n",
              "      <td>31</td>\n",
              "      <td>35</td>\n",
              "      <td>33.0</td>\n",
              "      <td>528.0</td>\n",
              "      <td>83</td>\n",
              "    </tr>\n",
              "    <tr>\n",
              "      <th>5</th>\n",
              "      <td>36-40</td>\n",
              "      <td>17</td>\n",
              "      <td>36</td>\n",
              "      <td>40</td>\n",
              "      <td>38.0</td>\n",
              "      <td>646.0</td>\n",
              "      <td>100</td>\n",
              "    </tr>\n",
              "  </tbody>\n",
              "</table>\n",
              "</div>"
            ],
            "text/plain": [
              "   score  num_student  score_from  score_to  ค่ากึ่งกลาง (x)  ค่า fx  \\\n",
              "0  11-15           15          11        15             13.0   195.0   \n",
              "1  16-20           14          16        20             18.0   252.0   \n",
              "2  21-25           20          21        25             23.0   460.0   \n",
              "3  26-30           18          26        30             28.0   504.0   \n",
              "4  31-35           16          31        35             33.0   528.0   \n",
              "5  36-40           17          36        40             38.0   646.0   \n",
              "\n",
              "   num_student_count  \n",
              "0                 15  \n",
              "1                 29  \n",
              "2                 49  \n",
              "3                 67  \n",
              "4                 83  \n",
              "5                100  "
            ]
          },
          "execution_count": 13,
          "metadata": {},
          "output_type": "execute_result"
        }
      ],
      "source": [
        "df_score['num_student_count'] = df_score.num_student.cumsum()\n",
        "df_score"
      ]
    },
    {
      "cell_type": "code",
      "execution_count": 14,
      "metadata": {},
      "outputs": [
        {
          "name": "stdout",
          "output_type": "stream",
          "text": [
            "Median position: 50.0\n",
            "ความถี่สะสมก่อนหน้าชั้น e (Sum(fl)): 29\n",
            "ความถี่ของชั้น e: 20\n",
            "ขอบล่างของชั้น e: 20.5\n",
            "I: 5\n",
            "#####\n",
            "Mean: 25.75\n"
          ]
        }
      ],
      "source": [
        "# 1. หาตำแหน่ง median\n",
        "median_pos = df_score.num_student.sum() / 2\n",
        "print(f\"Median position: {median_pos}\")\n",
        "# 2. หาชั้นที่อยู่ตำแหน่ง median\n",
        "e = 2\n",
        "# 3. ความถี่สะสมก่อนหน้าชั้น e\n",
        "sum_f_e = df_score.num_student_count[e-1]\n",
        "print(f\"ความถี่สะสมก่อนหน้าชั้น e (Sum(fl)): {sum_f_e}\")\n",
        "# 4. ความถี่ของชั้น e\n",
        "f_e = df_score.num_student[e]\n",
        "print(f\"ความถี่ของชั้น e: {f_e}\")\n",
        "# 5.ขอบล่างของชั้น e\n",
        "lower =( df_score.score_from[e] + df_score.score_to[e-1]) / 2\n",
        "print(f\"ขอบล่างของชั้น e: {lower}\")\n",
        "# 6. I คือความกว้างของชั้น\n",
        "I = df_score.score_to[e] - df_score.score_to[e-1]\n",
        "print(f\"I: {I}\")\n",
        "#result\n",
        "mean = lower + I * ((median_pos - sum_f_e) / f_e)\n",
        "print(\"#####\")\n",
        "print(f\"Mean: {mean}\")\n"
      ]
    },
    {
      "cell_type": "markdown",
      "metadata": {
        "id": "zlLBVZ0HcXUZ"
      },
      "source": [
        "**3.2.3 ค่าฐานนิยม** \n",
        "# "
      ]
    },
    {
      "cell_type": "markdown",
      "metadata": {},
      "source": [
        ">   **mod = L+I(d1 / (d1 + d2))** \\\n",
        "    L: ขอบล่าง \\\n",
        "    I: ความกว้าง \\\n",
        "    d1: ผลต่างความถี่ชั้นบน เทียบกับชั้นที่ mode  \\\n",
        "    d2: ผลต่างความถี่ชั้นล่าง เทียบกับชั้นที่ mode \n"
      ]
    },
    {
      "cell_type": "code",
      "execution_count": 15,
      "metadata": {
        "id": "lNYzGH_g-mQT"
      },
      "outputs": [
        {
          "name": "stdout",
          "output_type": "stream",
          "text": [
            "Mode position: 2\n",
            "ขอบล่าง ของชั้น mode: 20.5\n",
            "#####\n",
            "Mode: 24.25\n"
          ]
        }
      ],
      "source": [
        "#your code\n",
        "# 1. Mode position\n",
        "mode_pos = np.argmax(df_score.num_student)\n",
        "print(f\"Mode position: {mode_pos}\")\n",
        "# 2. lower ของชั้น mode\n",
        "lower_mode = (df_score.score_from[mode_pos] + df_score.score_to[mode_pos-1]) / 2\n",
        "print(f\"ขอบล่าง ของชั้น mode: {lower_mode}\")\n",
        "# 3. d1 คือความถี่ของชั้นก่อนหน้า mode\n",
        "d1 = np.abs(df_score.num_student[mode_pos] - df_score.num_student[mode_pos-1])\n",
        "# 4. d2 คือความถี่ของชั้นถัดไปจาก mode\n",
        "d2 = np.abs(df_score.num_student[mode_pos] - df_score.num_student[mode_pos+1])\n",
        "\n",
        "# result\n",
        "mode = lower_mode + I * ( d1 / (d1 + d2) )\n",
        "print(\"#####\")\n",
        "print(f\"Mode: {mode}\")"
      ]
    },
    {
      "cell_type": "markdown",
      "metadata": {
        "id": "ONwLjc7wgtn4"
      },
      "source": [
        "**3.2.4 Q<sub>1</sub> และ Q<sub>3</sub>**\n",
        "# "
      ]
    },
    {
      "cell_type": "code",
      "execution_count": 16,
      "metadata": {
        "id": "vRq7lL88-xAP"
      },
      "outputs": [
        {
          "name": "stdout",
          "output_type": "stream",
          "text": [
            "Q1 position: 25.0\n",
            "Q3 position: 75.0\n"
          ]
        }
      ],
      "source": [
        "#your code\n",
        "# หาตำแหน่ง Q1 และ Q3\n",
        "n = df_score.num_student.sum()\n",
        "Q1_pos =  n*1 / 4\n",
        "Q3_pos = n*3 / 4\n",
        "print(f\"Q1 position: {Q1_pos}\\nQ3 position: {Q3_pos}\")"
      ]
    },
    {
      "cell_type": "code",
      "execution_count": 17,
      "metadata": {},
      "outputs": [
        {
          "name": "stdout",
          "output_type": "stream",
          "text": [
            "Q1: 19.071428571428573\n"
          ]
        }
      ],
      "source": [
        "# ค่าของ Q1\n",
        "e_q1 = 1\n",
        "lower_q1 = (df_score.score_from[e_q1] + df_score.score_to[e_q1-1]) / 2\n",
        "f_q1 = df_score.num_student[e_q1]\n",
        "sum_f_q1 = df_score.num_student_count[e_q1-1] # ความถี่สะสมก่อนหน้าชั้น e\n",
        "# result\n",
        "Q1_value = lower_q1 + ((Q1_pos - sum_f_q1) / f_q1) * I\n",
        "print(f\"Q1: {Q1_value}\")"
      ]
    },
    {
      "cell_type": "code",
      "execution_count": 18,
      "metadata": {},
      "outputs": [
        {
          "name": "stdout",
          "output_type": "stream",
          "text": [
            "Q3: 33.0\n"
          ]
        }
      ],
      "source": [
        "# ค่าของ Q3\n",
        "e_q3 = 4\n",
        "lower_q3 = (df_score.score_from[e_q3] + df_score.score_to[e_q3-1]) / 2\n",
        "f_q3 = df_score.num_student[e_q3]\n",
        "sum_f_q3 = df_score.num_student_count[e_q3-1]\n",
        "Q3_value = lower_q3 + ((Q3_pos - sum_f_q3) / f_q3) * I\n",
        "print(f\"Q3: {Q3_value}\")"
      ]
    },
    {
      "cell_type": "markdown",
      "metadata": {
        "id": "eauxI2MaguGC"
      },
      "source": [
        "**3.2.5 D<sub>7</sub>**\n",
        "# "
      ]
    },
    {
      "cell_type": "code",
      "execution_count": 19,
      "metadata": {
        "id": "IzmNQl-t-3BZ"
      },
      "outputs": [
        {
          "name": "stdout",
          "output_type": "stream",
          "text": [
            "D7 position: 70.0\n",
            "e_d7: 4\n"
          ]
        }
      ],
      "source": [
        "#your code\n",
        "# หาตำแหน่ง D7\n",
        "\n",
        "d7_pos = n*7 / 10\n",
        "e_d7 = 0\n",
        "for i in df_score.index:\n",
        "    if df_score.num_student_count[i] >= d7_pos:\n",
        "        e_d7 = i\n",
        "        break\n",
        "print(f\"D7 position: {d7_pos}\\ne_d7: {e_d7}\")"
      ]
    },
    {
      "cell_type": "code",
      "execution_count": 20,
      "metadata": {},
      "outputs": [
        {
          "name": "stdout",
          "output_type": "stream",
          "text": [
            "D7: 31.4375\n"
          ]
        }
      ],
      "source": [
        "# ความถี่สะสมก่อนหน้าชั้น e\n",
        "sum_f_d7 = df_score.num_student_count[e_d7-1]\n",
        "\n",
        "# ความถี่ของชั้น e\n",
        "f_d7 = df_score.num_student[e_d7]\n",
        "\n",
        "# ขอบล่างของชั้น e\n",
        "lower_d7 = (df_score.score_from[e_d7] + df_score.score_to[e_d7-1]) / 2\n",
        "\n",
        "#result\n",
        "d7_value = lower_d7 + I * ((d7_pos - sum_f_d7) / f_d7)\n",
        "print(f\"D7: {d7_value}\")"
      ]
    },
    {
      "cell_type": "markdown",
      "metadata": {
        "id": "ULdnf-dHguZj"
      },
      "source": [
        "**3.2.6 P<sub>75</sub>**\n",
        "#  "
      ]
    },
    {
      "cell_type": "code",
      "execution_count": 21,
      "metadata": {
        "id": "XkSuR48b-56W"
      },
      "outputs": [
        {
          "name": "stdout",
          "output_type": "stream",
          "text": [
            "p75 position: 75.0, e_p75: 4, sum_f_p75: 67, f_p75: 16, lower_p75: 30.5\n",
            "P75 = 33.0\n"
          ]
        }
      ],
      "source": [
        "#your code\n",
        "p75_pos = n*75 / 100\n",
        "e_p75 = 0\n",
        "for i in df_score.index:\n",
        "    if df_score.num_student_count[i] >= p75_pos:\n",
        "        e_p75 = i\n",
        "        break\n",
        "\n",
        "sum_f_p75 = df_score.num_student_count[e_p75-1]\n",
        "f_p75 = df_score.num_student[e_p75]\n",
        "\n",
        "lower_p75 = (df_score.score_from[e_p75] + df_score.score_to[e_p75-1]) / 2\n",
        "print(f\"p75 position: {p75_pos}, e_p75: {e_p75}, sum_f_p75: {sum_f_p75}, f_p75: {f_p75}, lower_p75: {lower_p75}\")\n",
        "#result\n",
        "p75_value = lower_p75 + I * ((p75_pos - sum_f_p75) / f_p75)\n",
        "print(f\"P75 = {p75_value}\")\n"
      ]
    },
    {
      "cell_type": "markdown",
      "metadata": {
        "id": "V8tD6c5Cgu8S"
      },
      "source": [
        "**3.2.7 พิสัย**\n",
        "# "
      ]
    },
    {
      "cell_type": "markdown",
      "metadata": {},
      "source": [
        "> range(พิสัย) = ขีดจำกัดmax - ขีดจำกัดmin"
      ]
    },
    {
      "cell_type": "code",
      "execution_count": 22,
      "metadata": {},
      "outputs": [
        {
          "data": {
            "text/html": [
              "<div>\n",
              "<style scoped>\n",
              "    .dataframe tbody tr th:only-of-type {\n",
              "        vertical-align: middle;\n",
              "    }\n",
              "\n",
              "    .dataframe tbody tr th {\n",
              "        vertical-align: top;\n",
              "    }\n",
              "\n",
              "    .dataframe thead th {\n",
              "        text-align: right;\n",
              "    }\n",
              "</style>\n",
              "<table border=\"1\" class=\"dataframe\">\n",
              "  <thead>\n",
              "    <tr style=\"text-align: right;\">\n",
              "      <th></th>\n",
              "      <th>score</th>\n",
              "      <th>num_student</th>\n",
              "      <th>score_from</th>\n",
              "      <th>score_to</th>\n",
              "      <th>ค่ากึ่งกลาง (x)</th>\n",
              "      <th>ค่า fx</th>\n",
              "      <th>num_student_count</th>\n",
              "    </tr>\n",
              "  </thead>\n",
              "  <tbody>\n",
              "    <tr>\n",
              "      <th>0</th>\n",
              "      <td>11-15</td>\n",
              "      <td>15</td>\n",
              "      <td>11</td>\n",
              "      <td>15</td>\n",
              "      <td>13.0</td>\n",
              "      <td>195.0</td>\n",
              "      <td>15</td>\n",
              "    </tr>\n",
              "    <tr>\n",
              "      <th>1</th>\n",
              "      <td>16-20</td>\n",
              "      <td>14</td>\n",
              "      <td>16</td>\n",
              "      <td>20</td>\n",
              "      <td>18.0</td>\n",
              "      <td>252.0</td>\n",
              "      <td>29</td>\n",
              "    </tr>\n",
              "    <tr>\n",
              "      <th>2</th>\n",
              "      <td>21-25</td>\n",
              "      <td>20</td>\n",
              "      <td>21</td>\n",
              "      <td>25</td>\n",
              "      <td>23.0</td>\n",
              "      <td>460.0</td>\n",
              "      <td>49</td>\n",
              "    </tr>\n",
              "    <tr>\n",
              "      <th>3</th>\n",
              "      <td>26-30</td>\n",
              "      <td>18</td>\n",
              "      <td>26</td>\n",
              "      <td>30</td>\n",
              "      <td>28.0</td>\n",
              "      <td>504.0</td>\n",
              "      <td>67</td>\n",
              "    </tr>\n",
              "    <tr>\n",
              "      <th>4</th>\n",
              "      <td>31-35</td>\n",
              "      <td>16</td>\n",
              "      <td>31</td>\n",
              "      <td>35</td>\n",
              "      <td>33.0</td>\n",
              "      <td>528.0</td>\n",
              "      <td>83</td>\n",
              "    </tr>\n",
              "    <tr>\n",
              "      <th>5</th>\n",
              "      <td>36-40</td>\n",
              "      <td>17</td>\n",
              "      <td>36</td>\n",
              "      <td>40</td>\n",
              "      <td>38.0</td>\n",
              "      <td>646.0</td>\n",
              "      <td>100</td>\n",
              "    </tr>\n",
              "  </tbody>\n",
              "</table>\n",
              "</div>"
            ],
            "text/plain": [
              "   score  num_student  score_from  score_to  ค่ากึ่งกลาง (x)  ค่า fx  \\\n",
              "0  11-15           15          11        15             13.0   195.0   \n",
              "1  16-20           14          16        20             18.0   252.0   \n",
              "2  21-25           20          21        25             23.0   460.0   \n",
              "3  26-30           18          26        30             28.0   504.0   \n",
              "4  31-35           16          31        35             33.0   528.0   \n",
              "5  36-40           17          36        40             38.0   646.0   \n",
              "\n",
              "   num_student_count  \n",
              "0                 15  \n",
              "1                 29  \n",
              "2                 49  \n",
              "3                 67  \n",
              "4                 83  \n",
              "5                100  "
            ]
          },
          "execution_count": 22,
          "metadata": {},
          "output_type": "execute_result"
        }
      ],
      "source": [
        "df_score"
      ]
    },
    {
      "cell_type": "code",
      "execution_count": 23,
      "metadata": {
        "id": "LTk6xNrm-7qZ"
      },
      "outputs": [
        {
          "name": "stdout",
          "output_type": "stream",
          "text": [
            "Range: 30.0\n"
          ]
        }
      ],
      "source": [
        "#your code\n",
        "range_score = (df_score.score_to[len(df_score)-1] + 0.5) - (df_score.score_from[0] - 0.5)\n",
        "print(f\"Range: {range_score}\")"
      ]
    },
    {
      "cell_type": "markdown",
      "metadata": {
        "id": "9MkVinDAgvJx"
      },
      "source": [
        "**3.2.8 ส่วนเบี่ยงเบนควอร์ไทล์**\n",
        "# "
      ]
    },
    {
      "cell_type": "markdown",
      "metadata": {},
      "source": [
        "> **Q.D. = (Q3 - Q1)/2**"
      ]
    },
    {
      "cell_type": "code",
      "execution_count": 24,
      "metadata": {
        "id": "iG85sDHu-9eP"
      },
      "outputs": [
        {
          "name": "stdout",
          "output_type": "stream",
          "text": [
            "QD: 6.964\n"
          ]
        }
      ],
      "source": [
        "#your code\n",
        "qd = (Q3_value - Q1_value) / 2\n",
        "print(f\"QD: {qd:.3f}\")"
      ]
    },
    {
      "cell_type": "markdown",
      "metadata": {
        "id": "iQ82vURdgvXp"
      },
      "source": [
        "**3.2.9 ส่วนเบี่ยงเบนมาตราฐานและความแปรปรวน**\n",
        "# "
      ]
    },
    {
      "cell_type": "code",
      "execution_count": 25,
      "metadata": {
        "id": "3XKKNhKE-_iZ"
      },
      "outputs": [
        {
          "data": {
            "text/html": [
              "<div>\n",
              "<style scoped>\n",
              "    .dataframe tbody tr th:only-of-type {\n",
              "        vertical-align: middle;\n",
              "    }\n",
              "\n",
              "    .dataframe tbody tr th {\n",
              "        vertical-align: top;\n",
              "    }\n",
              "\n",
              "    .dataframe thead th {\n",
              "        text-align: right;\n",
              "    }\n",
              "</style>\n",
              "<table border=\"1\" class=\"dataframe\">\n",
              "  <thead>\n",
              "    <tr style=\"text-align: right;\">\n",
              "      <th></th>\n",
              "      <th>score</th>\n",
              "      <th>num_student</th>\n",
              "      <th>score_from</th>\n",
              "      <th>score_to</th>\n",
              "      <th>ค่ากึ่งกลาง (x)</th>\n",
              "      <th>ค่า fx</th>\n",
              "      <th>num_student_count</th>\n",
              "    </tr>\n",
              "  </thead>\n",
              "  <tbody>\n",
              "    <tr>\n",
              "      <th>0</th>\n",
              "      <td>11-15</td>\n",
              "      <td>15</td>\n",
              "      <td>11</td>\n",
              "      <td>15</td>\n",
              "      <td>13.0</td>\n",
              "      <td>195.0</td>\n",
              "      <td>15</td>\n",
              "    </tr>\n",
              "    <tr>\n",
              "      <th>1</th>\n",
              "      <td>16-20</td>\n",
              "      <td>14</td>\n",
              "      <td>16</td>\n",
              "      <td>20</td>\n",
              "      <td>18.0</td>\n",
              "      <td>252.0</td>\n",
              "      <td>29</td>\n",
              "    </tr>\n",
              "    <tr>\n",
              "      <th>2</th>\n",
              "      <td>21-25</td>\n",
              "      <td>20</td>\n",
              "      <td>21</td>\n",
              "      <td>25</td>\n",
              "      <td>23.0</td>\n",
              "      <td>460.0</td>\n",
              "      <td>49</td>\n",
              "    </tr>\n",
              "    <tr>\n",
              "      <th>3</th>\n",
              "      <td>26-30</td>\n",
              "      <td>18</td>\n",
              "      <td>26</td>\n",
              "      <td>30</td>\n",
              "      <td>28.0</td>\n",
              "      <td>504.0</td>\n",
              "      <td>67</td>\n",
              "    </tr>\n",
              "    <tr>\n",
              "      <th>4</th>\n",
              "      <td>31-35</td>\n",
              "      <td>16</td>\n",
              "      <td>31</td>\n",
              "      <td>35</td>\n",
              "      <td>33.0</td>\n",
              "      <td>528.0</td>\n",
              "      <td>83</td>\n",
              "    </tr>\n",
              "    <tr>\n",
              "      <th>5</th>\n",
              "      <td>36-40</td>\n",
              "      <td>17</td>\n",
              "      <td>36</td>\n",
              "      <td>40</td>\n",
              "      <td>38.0</td>\n",
              "      <td>646.0</td>\n",
              "      <td>100</td>\n",
              "    </tr>\n",
              "  </tbody>\n",
              "</table>\n",
              "</div>"
            ],
            "text/plain": [
              "   score  num_student  score_from  score_to  ค่ากึ่งกลาง (x)  ค่า fx  \\\n",
              "0  11-15           15          11        15             13.0   195.0   \n",
              "1  16-20           14          16        20             18.0   252.0   \n",
              "2  21-25           20          21        25             23.0   460.0   \n",
              "3  26-30           18          26        30             28.0   504.0   \n",
              "4  31-35           16          31        35             33.0   528.0   \n",
              "5  36-40           17          36        40             38.0   646.0   \n",
              "\n",
              "   num_student_count  \n",
              "0                 15  \n",
              "1                 29  \n",
              "2                 49  \n",
              "3                 67  \n",
              "4                 83  \n",
              "5                100  "
            ]
          },
          "execution_count": 25,
          "metadata": {},
          "output_type": "execute_result"
        }
      ],
      "source": [
        "#your code\n",
        "df_score\n"
      ]
    },
    {
      "cell_type": "code",
      "execution_count": 26,
      "metadata": {},
      "outputs": [
        {
          "name": "stdout",
          "output_type": "stream",
          "text": [
            "79.01892114544401\n"
          ]
        }
      ],
      "source": [
        "sum_center = 0\n",
        "for i in df_score.index:\n",
        "    sum_center += (df_score['ค่ากึ่งกลาง (x)'][i] - mean)**2 * df_score.num_student[i]\n",
        "# print(type(sum_center))\n",
        "# print(type(mean))\n",
        "# print(type(n))\n",
        "\n",
        "std_value = np.sqrt(sum_center - np.divide(np.multiply(n, np.power(mean, 2)), n-1))\n",
        "\n",
        "print(std_value)"
      ]
    },
    {
      "cell_type": "markdown",
      "metadata": {
        "id": "34_0j7kTgvlZ"
      },
      "source": [
        "**3.2.10 สัมประสิทธิ์ของการแปรผัน**"
      ]
    },
    {
      "cell_type": "code",
      "execution_count": 27,
      "metadata": {
        "id": "Av4_wtGo_E_P"
      },
      "outputs": [],
      "source": [
        "#your code"
      ]
    },
    {
      "cell_type": "markdown",
      "metadata": {
        "id": "UOIZ8YfAT1yH"
      },
      "source": [
        "###   "
      ]
    },
    {
      "cell_type": "markdown",
      "metadata": {
        "id": "yRFqnZpMUMow"
      },
      "source": [
        "3.3 บริษัทเกมแห่งหนึ่งได้ทำการทดสอบ game engine รุ่นใหม่ ในคอมพิวเตอร์ที่มีส่วนประกอบของฮารด์แวร์ต่างๆกัน (เช่น cpu, gpu, ram, ฯลฯ) จำนวน 30 เครื่อง และทำการวัดค่า frames per second (FPS) ได้ผลดังนี้  \n",
        "60.0, 30.2, 33.4, 59.9, 40.1, 25.5, 17.4, 28.6, 45.5, 57.8,  \n",
        "22.5, 50.2, 30.8, 43.1, 50.5, 35.5, 27.4, 29.2, 55.5, 10.2,   \n",
        "32.2, 27.8, 33.8, 53.4, 25.5, 30.4, 36.1, 49.3, 18.6, 50.0   \n",
        "จงคำนวณหาค่าเฉลี่ย, ส่วนเบี่ยงเบนมาตราฐาน, ฐานนิยม, Q<sub>1</sub>, D<sub>3</sub>, P<sub>45</sub> ของค่า FPS ที่ได้จากการทดสอบ"
      ]
    },
    {
      "cell_type": "markdown",
      "metadata": {
        "id": "RrpgMvIVZMAO"
      },
      "source": [
        "ค่าเฉลี่ย:"
      ]
    },
    {
      "cell_type": "code",
      "execution_count": 13,
      "metadata": {
        "id": "nNZsstOK2kWT"
      },
      "outputs": [],
      "source": [
        "fps = [60.0, 30.2, 33.4, 59.9, 40.1, 25.5, 17.4, 28.6, 45.5, 57.8,\n",
        "       22.5, 50.2, 30.8, 43.1, 50.5, 35.5, 27.4, 29.2, 55.5, 10.2,\n",
        "       32.2, 27.8, 33.8, 53.4, 25.5, 30.4, 36.1, 49.3, 18.6, 50.0]"
      ]
    },
    {
      "cell_type": "code",
      "execution_count": 14,
      "metadata": {
        "id": "WNGFpJJZ_Ne_"
      },
      "outputs": [
        {
          "data": {
            "text/plain": [
              "37.013333333333335"
            ]
          },
          "execution_count": 14,
          "metadata": {},
          "output_type": "execute_result"
        }
      ],
      "source": [
        "#your \n",
        "mean = statistics.mean(fps)\n",
        "mean"
      ]
    },
    {
      "cell_type": "markdown",
      "metadata": {
        "id": "9rKC0-TGZ1Jn"
      },
      "source": [
        "ส่วนเบี่ยงเบนมาตราฐาน:"
      ]
    },
    {
      "cell_type": "code",
      "execution_count": 16,
      "metadata": {
        "id": "7c5z5X4n_P-J"
      },
      "outputs": [
        {
          "data": {
            "text/plain": [
              "13.284771565802536"
            ]
          },
          "execution_count": 16,
          "metadata": {},
          "output_type": "execute_result"
        }
      ],
      "source": [
        "#your code\n",
        "np.std(fps, ddof=0)"
      ]
    },
    {
      "cell_type": "markdown",
      "metadata": {
        "id": "XuKipkyhaKVO"
      },
      "source": [
        "ฐานนิยม:"
      ]
    },
    {
      "cell_type": "code",
      "execution_count": 17,
      "metadata": {
        "id": "epv26Wo-_RRn"
      },
      "outputs": [
        {
          "data": {
            "text/plain": [
              "[25.5]"
            ]
          },
          "execution_count": 17,
          "metadata": {},
          "output_type": "execute_result"
        }
      ],
      "source": [
        "#your code\n",
        "statistics.multimode(fps)"
      ]
    },
    {
      "cell_type": "markdown",
      "metadata": {
        "id": "jeBwd1pdaa-T"
      },
      "source": [
        "Q<sub>1</sub>, D<sub>3</sub> และ P<sub>45</sub>:  \n",
        "#"
      ]
    },
    {
      "cell_type": "markdown",
      "metadata": {},
      "source": [
        "> Qr = r(n+1)/4 \\\n",
        "> Dr = r(n+1)/10 \\\n",
        "> Pr = r(n+1)/100"
      ]
    },
    {
      "cell_type": "code",
      "execution_count": 18,
      "metadata": {
        "id": "z2iA5ocP_neI"
      },
      "outputs": [
        {
          "name": "stdout",
          "output_type": "stream",
          "text": [
            "Q1: 28.0\n",
            "D3: 29.02\n",
            "P45: 32.260000000000005\n"
          ]
        }
      ],
      "source": [
        "#your code\n",
        "q1 = np.percentile(fps, 25)\n",
        "d3 = np.percentile(fps, 30)\n",
        "p45 = np.percentile(fps, 45)\n",
        "\n",
        "print(f\"Q1: {q1}\")\n",
        "print(f\"D3: {d3}\")\n",
        "print(f\"P45: {p45}\")"
      ]
    },
    {
      "cell_type": "markdown",
      "metadata": {
        "id": "m97H7Z-bmBn5"
      },
      "source": [
        "3.4 หน่วยงานวิจัยแห่งหนึ่งได้รับมอบหมายจากทางรัฐบาลให้ทำการเปรียบเทียบระบบที่ใช้ในการผลิตพลังงานกระแสไฟฟ้าสำหรับนิคมอุตสาหกรรมแห่งหนึ่ง ระบบแรกมีกำลังการผลิตสูงสุด 10,000 เมกะวัตต์ โดยมีค่าเฉลี่ยและส่วนเบี่ยงเบนมาตราฐานของกำลังการผลิตอยู่ที่ 9,000±320 เมกะวัตต์ ระบบที่สองมีกำลังการผลิตสูงสุด 15,000 เมกะวัตต์ โดยมีค่าเฉลี่ยและส่วนเบี่ยงเบนมาตราฐานของกำลังการผลิตอยู่ที่ 14,000±900 เมกะวัตต์ จากข้อมูลนี้ทางสถาบันวิจัยจะสามารถสรุปว่าระบบใดมีกำลังการผลิตที่เที่ยงตรงกว่า\n",
        "\n"
      ]
    },
    {
      "cell_type": "markdown",
      "metadata": {},
      "source": [
        ">   C.V = **$\\frac{S}{\\bar{x}}$** x 100\\\n",
        "    S = ส่วนเบี่ยงเบนมาตราฐาน\\\n",
        "    $\\bar{x}$ = ค่าเฉลี่ย"
      ]
    },
    {
      "cell_type": "code",
      "execution_count": 43,
      "metadata": {
        "id": "sikR8p5n_uTl"
      },
      "outputs": [
        {
          "name": "stdout",
          "output_type": "stream",
          "text": [
            "CV1: 3.5555555555555554\n",
            "CV2: 6.428571428571428\n"
          ]
        }
      ],
      "source": [
        "#your code\n",
        "cv1 = 320 / 9000 * 100\n",
        "cv2 = 900 / 14000 * 100\n",
        "\n",
        "print(f\"CV1: {cv1}\")\n",
        "print(f\"CV2: {cv2}\")"
      ]
    }
  ],
  "metadata": {
    "colab": {
      "provenance": []
    },
    "kernelspec": {
      "display_name": "Python 3",
      "name": "python3"
    },
    "language_info": {
      "codemirror_mode": {
        "name": "ipython",
        "version": 3
      },
      "file_extension": ".py",
      "mimetype": "text/x-python",
      "name": "python",
      "nbconvert_exporter": "python",
      "pygments_lexer": "ipython3",
      "version": "3.11.4"
    }
  },
  "nbformat": 4,
  "nbformat_minor": 0
}
