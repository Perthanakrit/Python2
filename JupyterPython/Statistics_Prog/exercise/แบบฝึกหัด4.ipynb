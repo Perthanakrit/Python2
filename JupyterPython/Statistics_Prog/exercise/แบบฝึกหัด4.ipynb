{
  "cells": [
    {
      "cell_type": "markdown",
      "metadata": {
        "id": "U3ArbMi8JHGD"
      },
      "source": [
        "# แบบฝึกหัด 4"
      ]
    },
    {
      "cell_type": "markdown",
      "metadata": {
        "id": "t9RQYuu-JUwP"
      },
      "source": [
        "---"
      ]
    },
    {
      "cell_type": "code",
      "execution_count": 2,
      "metadata": {
        "id": "5LcuhePsgM1w"
      },
      "outputs": [],
      "source": [
        "import numpy as np\n",
        "import pandas as pd\n",
        "from scipy import stats\n",
        "import statistics\n",
        "from math import perm, comb"
      ]
    },
    {
      "cell_type": "markdown",
      "metadata": {
        "id": "uoKssbJRv2Xu"
      },
      "source": [
        "###  "
      ]
    },
    {
      "cell_type": "markdown",
      "metadata": {
        "id": "ag3TNOoapF2I"
      },
      "source": [
        "5.1 จากการวิจัยพบว่า 10% ของผู้สูบบุหรี่มากกว่า 2 มวนต่อวันจะพบความผิดปกติของปอด หากทำการสุ่มตัวอย่างผู้ที่สูบบุหรี่มากกว่า 2 มวนต่อวันจำนวน 10 คน จงหาความน่าจะเป็นของกรณีดังต่อไปนี้  \n",
        "- พบผู้ที่มีความผิดปกติของปอด 3 คน  "
      ]
    },
    {
      "cell_type": "markdown",
      "metadata": {},
      "source": [
        "X = {0,1,2,3,4,5,6,7,8,9,10}\n",
        "\n",
        "X~b(x;n=10,p=0.1)"
      ]
    },
    {
      "cell_type": "code",
      "execution_count": 3,
      "metadata": {
        "id": "eGMlvK2UXrtE"
      },
      "outputs": [
        {
          "name": "stdout",
          "output_type": "stream",
          "text": [
            "0.05739562800000002\n"
          ]
        }
      ],
      "source": [
        "#แสดงวิธีทำ\n",
        "p = 0.1\n",
        "n = 10\n",
        "\n",
        "probility_3 = stats.binom.pmf(p=p, n=n, k=3)\n",
        "print(probility_3)"
      ]
    },
    {
      "cell_type": "markdown",
      "metadata": {
        "id": "SOtKXJZ0Yhby"
      },
      "source": [
        "- ไม่มีผู้ที่ปอดมีความผิดปกติเลย"
      ]
    },
    {
      "cell_type": "code",
      "execution_count": 4,
      "metadata": {
        "id": "-h3uR0QVYlFA"
      },
      "outputs": [
        {
          "name": "stdout",
          "output_type": "stream",
          "text": [
            "0.3486784401000001\n"
          ]
        }
      ],
      "source": [
        "#แสดงวิธีทำ\n",
        "probility_0 = stats.binom.pmf(p=p, n=n, k=0)\n",
        "print(probility_0)"
      ]
    },
    {
      "cell_type": "markdown",
      "metadata": {
        "id": "gvjrsGthYycb"
      },
      "source": [
        "- พบผู้ที่มีความผิดปกติของปอดอย่างน้อย 1 คน"
      ]
    },
    {
      "cell_type": "code",
      "execution_count": 5,
      "metadata": {
        "id": "NXgJ3SXgYmIC"
      },
      "outputs": [
        {
          "name": "stdout",
          "output_type": "stream",
          "text": [
            "0.6513215599\n"
          ]
        }
      ],
      "source": [
        "#แสดงวิธีทำ\n",
        "probility_least_one = 1 - stats.binom.pmf(p=p, n=n, k=0)  #sum(stats.binom.pmf(p=p, n=n, k=[1,2,3,4,5,6,7,8,9,10])) = 0.6513215599000001 \n",
        "print(probility_least_one)"
      ]
    },
    {
      "cell_type": "markdown",
      "metadata": {
        "id": "sbZ2sthm9YOB"
      },
      "source": [
        "###  "
      ]
    },
    {
      "cell_type": "markdown",
      "metadata": {
        "id": "t7i3BrqK9YOB"
      },
      "source": [
        "5.2 ในพื้นที่สัมปทานเหมืองแร่ทองคำแห่งหนี่ง พบว่าในการออกพื้นที่สำรวจจะมีโอกาสพบสายแร่ทองคำ 15% หากบริษัท A ได้กำหนดพื้นที่เพื่อทำการสำรวจทั้งหมด 12 จุด จงหาความน่าจะเป็นของเหตุการณ์ต่อไปนี้\n",
        "- พบสายแร่ทองคำทั้ง 12 จุด    "
      ]
    },
    {
      "cell_type": "markdown",
      "metadata": {},
      "source": [
        "ใช้ทวินาม \n",
        "X = {0,1,2,3,4,5,6,7,8,9,10,11,12}\n",
        "\n",
        "X ~ b(x;n=12,p=0.15)"
      ]
    },
    {
      "cell_type": "code",
      "execution_count": 6,
      "metadata": {
        "id": "iqE8-wJaYvtI"
      },
      "outputs": [
        {
          "data": {
            "text/plain": [
              "1.2974633789062494e-10"
            ]
          },
          "execution_count": 6,
          "metadata": {},
          "output_type": "execute_result"
        }
      ],
      "source": [
        "#แสดงวิธีทำ\n",
        "p_discovery = 0.15\n",
        "n = 12\n",
        "\n",
        "result_p = stats.binom.pmf(p=p_discovery, n=n, k=12)\n",
        "result_p"
      ]
    },
    {
      "cell_type": "markdown",
      "metadata": {
        "id": "H4G_eeDQ9TSd"
      },
      "source": [
        "- ไม่พบสายแร่ทองคำทั้ง 12 จุด"
      ]
    },
    {
      "cell_type": "code",
      "execution_count": 7,
      "metadata": {
        "id": "QZX4Vti1Yw3j"
      },
      "outputs": [
        {
          "data": {
            "text/plain": [
              "0.14224175713617207"
            ]
          },
          "execution_count": 7,
          "metadata": {},
          "output_type": "execute_result"
        }
      ],
      "source": [
        "#แสดงวิธีทำ\n",
        "result_p = stats.binom.pmf(p=p_discovery, n=n, k=0)\n",
        "result_p"
      ]
    },
    {
      "cell_type": "markdown",
      "metadata": {
        "id": "hcYW6v-qAJDw"
      },
      "source": [
        "- พบสายแร่ทองคำ 1 จุดเท่านั้น"
      ]
    },
    {
      "cell_type": "code",
      "execution_count": 8,
      "metadata": {
        "id": "hSdEoTSqYyjh"
      },
      "outputs": [
        {
          "data": {
            "text/plain": [
              "0.3012178386413056"
            ]
          },
          "execution_count": 8,
          "metadata": {},
          "output_type": "execute_result"
        }
      ],
      "source": [
        "#แสดงวิธีทำ\n",
        "result_p = stats.binom.pmf(p=p_discovery, n=n, k=1)\n",
        "result_p"
      ]
    },
    {
      "cell_type": "markdown",
      "metadata": {
        "id": "tjBxzS5IAezo"
      },
      "source": [
        "- พบสายแร่ทองคำอย่างน้อย 3 จุด"
      ]
    },
    {
      "cell_type": "code",
      "execution_count": 9,
      "metadata": {
        "id": "qDwjL7utYzeA"
      },
      "outputs": [
        {
          "data": {
            "text/plain": [
              "0.5565404042225224"
            ]
          },
          "execution_count": 9,
          "metadata": {},
          "output_type": "execute_result"
        }
      ],
      "source": [
        "#แสดงวิธีทำ\n",
        "\n",
        "discoveried_zero_to_two = sum([stats.binom.pmf(p=p_discovery, n=n, k=i) for i in range(0, 2)])\n",
        "result_p = 1 - discoveried_zero_to_two\n",
        "result_p"
      ]
    },
    {
      "cell_type": "markdown",
      "metadata": {
        "id": "yif8FzhRBNSq"
      },
      "source": [
        "###  "
      ]
    },
    {
      "cell_type": "markdown",
      "metadata": {
        "id": "FgWhB3I9BNSq"
      },
      "source": [
        "5.3 จากการเก็บข้อมูลการเล่นเกมส์ออนไลน์เกมส์หนึ่งพบว่า ผู้เล่นที่มีเลเวล 50 ขึ้นไป 10 คน จะมีผู้เล่นที่ซื้อแพ็กเกจ VIP จำนวน 3 คนโดยประมาณ หากสุ่มตัวอย่างผู้เล่นที่มีเลเวล 50 ขึ้นไปจำนวน 15 คน จงหาค่าความน่าจะเป็นของเหตุการณ์ต่อไปนี้  \n",
        "  \n",
        "- มีผู้เล่นอย่างน้อย 1 คนซื้อแพ็กเกจ VIP    "
      ]
    },
    {
      "cell_type": "markdown",
      "metadata": {},
      "source": [
        "Binomial Distribution\n",
        "\n",
        "X = {0,1,2,3,4,5,6,7,8,9,10,11,12,13,14,15}\n",
        "\n",
        "X ~ b(x;n=15,p=3/10)"
      ]
    },
    {
      "cell_type": "code",
      "execution_count": 10,
      "metadata": {
        "id": "RqvCLlbzY1lq"
      },
      "outputs": [
        {
          "data": {
            "text/plain": [
              "0.995252438490057"
            ]
          },
          "execution_count": 10,
          "metadata": {},
          "output_type": "execute_result"
        }
      ],
      "source": [
        "#แสดงวิธีทำ\n",
        "n = 15\n",
        "p = 0.3\n",
        "\n",
        "result_p = 1 - stats.binom.pmf(p=p, n=n, k=0)\n",
        "result_p"
      ]
    },
    {
      "cell_type": "markdown",
      "metadata": {
        "id": "WhCBSP4mGDDk"
      },
      "source": [
        "- ไม่มีผู้เล่นซื้อแพ็กเกจ VIP เลย"
      ]
    },
    {
      "cell_type": "code",
      "execution_count": 11,
      "metadata": {
        "id": "w6t6uwHrY4Dv"
      },
      "outputs": [
        {
          "data": {
            "text/plain": [
              "0.004747561509942996"
            ]
          },
          "execution_count": 11,
          "metadata": {},
          "output_type": "execute_result"
        }
      ],
      "source": [
        "#แสดงวิธีทำ\n",
        "result_p = stats.binom.pmf(p=p, n=n, k=0)\n",
        "result_p"
      ]
    },
    {
      "cell_type": "markdown",
      "metadata": {
        "id": "KDo2aR-0GewE"
      },
      "source": [
        "- มีผู้เล่นน้อยกว่า 4 คนซื้อแพ็กเกจ VIP"
      ]
    },
    {
      "cell_type": "code",
      "execution_count": 12,
      "metadata": {
        "id": "uOJJMG3MY4-w"
      },
      "outputs": [
        {
          "data": {
            "text/plain": [
              "0.873172285377237"
            ]
          },
          "execution_count": 12,
          "metadata": {},
          "output_type": "execute_result"
        }
      ],
      "source": [
        "#แสดงวิธีทำ\n",
        "\n",
        "result_p = 1 - sum([stats.binom.pmf(p=p, n=n, k=i) for i in range(0, 3)])\n",
        "result_p\n"
      ]
    },
    {
      "cell_type": "markdown",
      "metadata": {
        "id": "nwSlXUPSHkQL"
      },
      "source": [
        "###  "
      ]
    },
    {
      "cell_type": "markdown",
      "metadata": {
        "id": "v04rtFN2HkQL"
      },
      "source": [
        "5.4 จำนวนอุบัติเหตุอันเนื่องมาจากการจราจรที่สี่แยกแห่งหนึ่งโดยเฉลี่ยมี 3 รายต่อสัปดาห์ จงหาความ\n",
        "น่าจะเป็นที่จะมีอุบัติเหตุ 5 รายที่แยกแห่งนี้ในสัปดาห์หนึ่ง        "
      ]
    },
    {
      "cell_type": "markdown",
      "metadata": {},
      "source": [
        "> Poisson Distribution\\\n",
        "    X~Pois(x;lamda=3)"
      ]
    },
    {
      "cell_type": "code",
      "execution_count": 13,
      "metadata": {
        "id": "5RsjQd4AY_TX"
      },
      "outputs": [
        {
          "data": {
            "text/plain": [
              "0.10081881344492458"
            ]
          },
          "execution_count": 13,
          "metadata": {},
          "output_type": "execute_result"
        }
      ],
      "source": [
        "#แสดงวิธีทำ\n",
        "mean = 3\n",
        "p_result = stats.poisson.pmf(k=5, mu=mean)\n",
        "p_result"
      ]
    },
    {
      "cell_type": "markdown",
      "metadata": {
        "id": "LeBrVUJUKdo9"
      },
      "source": [
        "###  "
      ]
    },
    {
      "cell_type": "markdown",
      "metadata": {
        "id": "LoAlPE5XKdo9"
      },
      "source": [
        "5.5 จากการเก็บข้อมูลพบว่า server ของทางภาควิชาฯ จะถูกโจมตีจากผู้ไม่หวังดีโดยเฉลี่ย 6 ครั้งใน 1 วันจงหาความน่าจะเป็นที่ใน 1 วัน server ของทางภาควิชาฯ จะถูกโจมตี 6 - 8 ครั้ง        "
      ]
    },
    {
      "cell_type": "code",
      "execution_count": 14,
      "metadata": {
        "id": "TeGeHVgMZDfr"
      },
      "outputs": [
        {
          "data": {
            "text/plain": [
              "0.40155785261995003"
            ]
          },
          "execution_count": 14,
          "metadata": {},
          "output_type": "execute_result"
        }
      ],
      "source": [
        "#แสดงวิธีทำ\n",
        "mean =  6\n",
        "p_result = sum([stats.poisson.pmf(k=i, mu=mean) for i in range(6, 9)])\n",
        "p_result"
      ]
    },
    {
      "cell_type": "markdown",
      "metadata": {
        "id": "r_ZjNP1PL2uu"
      },
      "source": [
        "###  "
      ]
    },
    {
      "cell_type": "markdown",
      "metadata": {
        "id": "STASxmjEL2uu"
      },
      "source": [
        "5.6 จากการเก็บข้อมูลอายุของเด็กที่ติดเกมส์มือถือพบว่ามีการแจกแจงของอายุเป็นแบบปกติ และมีค่าเฉลี่ยเท่ากับ 11.5 ปี\n",
        "และค่าเบี่ยงเบนมาตรฐานเท่ากับ 3 ปี   \n",
        "หากพบเด็กคนหนึ่งติดเกมส์ จงหาความน่าจะเป็นที่เด็กผู้นี้  \n",
        "- มีอายุอยู่ระหว่าง 8.5 และ 14.5 ปี  "
      ]
    },
    {
      "cell_type": "markdown",
      "metadata": {},
      "source": [
        "Z~N(z;mu=11.5, sigma=3)"
      ]
    },
    {
      "cell_type": "code",
      "execution_count": 15,
      "metadata": {
        "id": "rVbSeQ9-ZGf9"
      },
      "outputs": [
        {
          "name": "stdout",
          "output_type": "stream",
          "text": [
            "0.6826894921370859\n",
            "68.26894921370858\n"
          ]
        }
      ],
      "source": [
        "#แสดงวิธีทำ\n",
        "a = (8.5 - 11.5) / 3\n",
        "b = (14.5 - 11.5) / 3\n",
        "\n",
        "p_result = stats.norm.cdf(b) - stats.norm.cdf(a)\n",
        "print(p_result)\n",
        "print(p_result * 100)"
      ]
    },
    {
      "cell_type": "markdown",
      "metadata": {
        "id": "7S4XGGO5P4tI"
      },
      "source": [
        "- มีอายุต่ำกว่า 12 ปี"
      ]
    },
    {
      "cell_type": "code",
      "execution_count": 16,
      "metadata": {
        "id": "AWfLt0NZZHqY"
      },
      "outputs": [
        {
          "name": "stdout",
          "output_type": "stream",
          "text": [
            "0.5661838326109037\n"
          ]
        }
      ],
      "source": [
        "#แสดงวิธีทำ\n",
        "z = (12 - 11.5) / 3 # (x - mean) / std\n",
        "\n",
        "result = stats.norm.cdf(z)\n",
        "print(result)"
      ]
    },
    {
      "cell_type": "markdown",
      "metadata": {
        "id": "2g0qLDviQY8b"
      },
      "source": [
        "- มีอายุเกินกว่า 10 ปีขึ้นไป"
      ]
    },
    {
      "cell_type": "code",
      "execution_count": 17,
      "metadata": {
        "id": "U1H1mx2ZZI6I"
      },
      "outputs": [
        {
          "name": "stdout",
          "output_type": "stream",
          "text": [
            "0.43381616738909634\n"
          ]
        }
      ],
      "source": [
        "#แสดงวิธีทำ\n",
        "result = stats.norm.sf(z)\n",
        "print(result)"
      ]
    },
    {
      "cell_type": "markdown",
      "metadata": {
        "id": "floehrzxQp4u"
      },
      "source": [
        "###  "
      ]
    },
    {
      "cell_type": "markdown",
      "metadata": {
        "id": "xMohIA7jQp4u"
      },
      "source": [
        "5.7 ถ้าระดับค่าคลอเรสเตอรอลในประชากรกลุ่มหนึ่งมีการแจกแจงแบบปกติ มีค่าเฉลี่ยเท่ากับ 200 mg/\n",
        "100 ml และค่าเบี่ยงเบนมาตรฐานเท่ากับ 20 mg/100 ml จงหาความน่าจะเป็นที่จะเลือกได้บุคคลหนึ่ง\n",
        "จากประชากรกลุ่มนี้ แล้วพบว่าระดับคอเรสเตอรอลมีค่า  \n",
        "- ระหว่าง 180 และ 200 mg/100 ml  "
      ]
    },
    {
      "cell_type": "markdown",
      "metadata": {},
      "source": [
        "Z~N(z;mu=200/100, sigma=20/100)"
      ]
    },
    {
      "cell_type": "code",
      "execution_count": 22,
      "metadata": {
        "id": "-A17QfPuZM77"
      },
      "outputs": [
        {
          "data": {
            "text/plain": [
              "0.15542174161032413"
            ]
          },
          "execution_count": 22,
          "metadata": {},
          "output_type": "execute_result"
        }
      ],
      "source": [
        "#แสดงวิธีทำ\n",
        "\n",
        "def z_value(x):\n",
        "    return (x - 2) / 0.5\n",
        "\n",
        "z_1 = z_value(1.8)\n",
        "z_2 = z_value(2)\n",
        "\n",
        "result = stats.norm.cdf(z_2) - stats.norm.cdf(z_1)\n",
        "result"
      ]
    },
    {
      "cell_type": "markdown",
      "metadata": {
        "id": "VrDTcamkTDlO"
      },
      "source": [
        "- เกินกว่า 225 mg/100 ml"
      ]
    },
    {
      "cell_type": "code",
      "execution_count": 20,
      "metadata": {
        "id": "vKuF704LZOX_"
      },
      "outputs": [
        {
          "data": {
            "text/plain": [
              "0.15865525393145707"
            ]
          },
          "execution_count": 20,
          "metadata": {},
          "output_type": "execute_result"
        }
      ],
      "source": [
        "#แสดงวิธีทำ\n",
        "z = z_value(2.5)\n",
        "\n",
        "result = stats.norm.sf(z)\n",
        "result"
      ]
    },
    {
      "cell_type": "markdown",
      "metadata": {
        "id": "wnACIhNsTEdT"
      },
      "source": [
        "- ระหว่าง 190 และ 210 mg/100 ml"
      ]
    },
    {
      "cell_type": "code",
      "execution_count": 23,
      "metadata": {
        "id": "8N-XVkZTZP9S"
      },
      "outputs": [
        {
          "data": {
            "text/plain": [
              "0.1585194188782062"
            ]
          },
          "execution_count": 23,
          "metadata": {},
          "output_type": "execute_result"
        }
      ],
      "source": [
        "#แสดงวิธีทำ\n",
        "z_1 = z_value(1.9)\n",
        "z_2 = z_value(2.1)\n",
        "\n",
        "result = stats.norm.cdf(z_2) - stats.norm.cdf(z_1)\n",
        "result"
      ]
    },
    {
      "cell_type": "markdown",
      "metadata": {
        "id": "00fXCreGTFAM"
      },
      "source": [
        "- น้อยกว่า 150 mg/100 ml"
      ]
    },
    {
      "cell_type": "code",
      "execution_count": 25,
      "metadata": {
        "id": "mZZ7T_QdZRQb"
      },
      "outputs": [
        {
          "data": {
            "text/plain": [
              "0.15865525393145707"
            ]
          },
          "execution_count": 25,
          "metadata": {},
          "output_type": "execute_result"
        }
      ],
      "source": [
        "#แสดงวิธีทำ\n",
        "z = z_value(1.5)\n",
        "result = stats.norm.cdf(z)\n",
        "result"
      ]
    },
    {
      "cell_type": "markdown",
      "metadata": {
        "id": "Mu4lT_CApF2I"
      },
      "source": [
        "###  "
      ]
    }
  ],
  "metadata": {
    "colab": {
      "provenance": []
    },
    "kernelspec": {
      "display_name": "Python 3",
      "name": "python3"
    },
    "language_info": {
      "codemirror_mode": {
        "name": "ipython",
        "version": 3
      },
      "file_extension": ".py",
      "mimetype": "text/x-python",
      "name": "python",
      "nbconvert_exporter": "python",
      "pygments_lexer": "ipython3",
      "version": "3.11.4"
    }
  },
  "nbformat": 4,
  "nbformat_minor": 0
}
