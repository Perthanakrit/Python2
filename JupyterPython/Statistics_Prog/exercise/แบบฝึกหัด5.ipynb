{
  "cells": [
    {
      "cell_type": "code",
      "execution_count": 1,
      "metadata": {},
      "outputs": [],
      "source": [
        "import numpy as np\n",
        "import pandas as pd\n",
        "import statistics\n",
        "from scipy import stats"
      ]
    },
    {
      "cell_type": "markdown",
      "metadata": {
        "id": "U3ArbMi8JHGD"
      },
      "source": [
        "# แบบฝึกหัด 5"
      ]
    },
    {
      "cell_type": "markdown",
      "metadata": {},
      "source": [
        "###"
      ]
    },
    {
      "cell_type": "markdown",
      "metadata": {
        "id": "ag3TNOoapF2I"
      },
      "source": [
        "5.1 จากการเก็บข้อมูลของบูธร้านค้าร้านหนึ่งในงานเกษตรแฟร์โดยสุ่มตัวอย่างลูกค้ามาทั้งหมด 200 คน พบว่ามีอายุเฉลี่ย 42.8 ปี ส่วนเบี่ยงเบนมาตราฐาน 6.89 ปี ผู้ประกอบการร้านแห่งนี้จึงตั้งสมมุติฐานว่า ลูกค้าของทางร้านมีอายุเฉลี่ยสูงกว่า 40 ปี ที่ระดับนัยสำคัญ 0.01 สมมุติฐานนี้ถูกต้องหรือไม่ หากกำหนดให้การแจกแจงของอายุเป็นแบบปกติ  "
      ]
    },
    {
      "cell_type": "markdown",
      "metadata": {},
      "source": [
        "H<sub>0</sub> : µ <= 40\\\n",
        "H<sub>1</sub> : µ > 40\\\n",
        "ระดับนัยสำคัญ (α) = 0.01"
      ]
    },
    {
      "cell_type": "code",
      "execution_count": 13,
      "metadata": {
        "id": "eGMlvK2UXrtE"
      },
      "outputs": [
        {
          "data": {
            "text/plain": [
              "5.747166871762936"
            ]
          },
          "execution_count": 13,
          "metadata": {},
          "output_type": "execute_result"
        }
      ],
      "source": [
        "#แสดงวิธีทำ\n",
        "# ไม่ทราบค่าแปรปวนของประชากร\n",
        "s = 6.89\n",
        "n = 200\n",
        "x_bar = 42.8\n",
        "u_0 = 40\n",
        "\n",
        "# คำนวณค่า z\n",
        "z_cal = (x_bar - u_0) / (s / np.sqrt(n) )\n",
        "z_cal"
      ]
    },
    {
      "cell_type": "code",
      "execution_count": 16,
      "metadata": {},
      "outputs": [
        {
          "data": {
            "text/plain": [
              "2.3263478740408408"
            ]
          },
          "execution_count": 16,
          "metadata": {},
          "output_type": "execute_result"
        }
      ],
      "source": [
        "z_critical = stats.norm.isf(0.01) # \n",
        "z_critical"
      ]
    },
    {
      "cell_type": "code",
      "execution_count": 21,
      "metadata": {},
      "outputs": [
        {
          "data": {
            "text/plain": [
              "0.4537557863298819"
            ]
          },
          "execution_count": 21,
          "metadata": {},
          "output_type": "execute_result"
        }
      ],
      "source": [
        "p_value = (stats.norm.sf(z_cal)) * np.math.pow(10, 8)\n",
        "p_value "
      ]
    },
    {
      "cell_type": "markdown",
      "metadata": {},
      "source": [
        "p-vale = $4.537557863298819 \\times 10 ^ -9 $ \n",
        "\\\n",
        "p-value < $\\alpha$  -> จึงปฏิเสธ $H_0$ และยอมรับ $H_1$\n",
        "<p>ดังนั้น <span style=\"color:#0181FF;\">อายุเฉลี่ยของลูกค้าของทางร้านมีค่ามากกว่า 40 ปี ซึ่งเป็นความจริง</span></p>"
      ]
    },
    {
      "cell_type": "markdown",
      "metadata": {
        "id": "IzcoD0hL8AQB"
      },
      "source": [
        "###   "
      ]
    },
    {
      "cell_type": "markdown",
      "metadata": {
        "id": "QIrBZzg28EEi"
      },
      "source": [
        "5.2 สุ่มตัวอย่างผลิตภัณฑ์ซักล้างยี่ห้อหนึ่งมาจำนวน 8 ชิ้นเพื่อวัดปริมาณสารพิษ พบว่าได้ปริมาณดังนี้ (10<sup>6</sup>ppm) 15, 8, 10, 13, 6, 16, 11, 18 จงทดสอบว่าปริมาณสารพิษของผลิตภัณฑ์ซักล้างยี่ห้อนี้มากกว่าหรือเท่ากับ (≥) 18x10<sup>6</sup>ppm ที่ระดับนัยสำคัญ 0.05 หรือไม่ หากกำหนดให้ปริมาณสารพิษชนิดนี้มีการแจกแจงแบบปกติ      "
      ]
    },
    {
      "cell_type": "markdown",
      "metadata": {},
      "source": [
        "- H<sub>0</sub> : µ >= 18\\\n",
        "    H<sub>1</sub> : µ < 18\\\n",
        "- ระดับนัยสำคัญ ($\\alpha$) = 0.05\n",
        "- ไม่ทราบค่าแปรปรวน และตัวอย่างมีขนาดเล็ก n < 30  จึงทดสอบด้วย t"
      ]
    },
    {
      "cell_type": "code",
      "execution_count": 10,
      "metadata": {
        "id": "z7-tVncsuMB2"
      },
      "outputs": [
        {
          "name": "stdout",
          "output_type": "stream",
          "text": [
            "-4.032335130364934 -1.8945786050613054\n"
          ]
        }
      ],
      "source": [
        "#แสดงวิธีทำ\n",
        "values = [15, 8, 10, 13, 6, 16,11,18]\n",
        "mu_0 = 18\n",
        "alpha = 0.05\n",
        "x_bar = np.mean(values)\n",
        "s = np.std(values,ddof=1)\n",
        "\n",
        "t_cal = (x_bar - mu_0) / (s / np.sqrt(len(values)))\n",
        "\n",
        "t_critical = stats.t.ppf(alpha, len(values)-1)\n",
        "\n",
        "print(t_cal, t_critical)"
      ]
    },
    {
      "cell_type": "code",
      "execution_count": 8,
      "metadata": {},
      "outputs": [
        {
          "name": "stdout",
          "output_type": "stream",
          "text": [
            "-4.032335130364934 0.0024905124764684925\n"
          ]
        }
      ],
      "source": [
        "# or\n",
        "t_cal, p_value = stats.ttest_1samp(a=values, popmean=mu_0, alternative='less')\n",
        "print(t_cal, p_value)"
      ]
    },
    {
      "cell_type": "markdown",
      "metadata": {},
      "source": [
        "็้H<sub>1</sub> : µ < 18 จึงเป็นการทดสอบทางเดียวด้านซ้าย\\\n",
        "$t_cal$ ที่ได้อยู่บริเวณวิกฤต\\\n",
        "ดัังนั้น ต้้องปฏิเสธ $H_0$ และยอมรับ $H_1$ \n",
        "<p>นั่นคือ <span style=\"color:#0181FF;\">ปริมาณสารพิษของผลิตภัณฑ์ซักล้างยี่ห้อนี้มีค่าน้อยกว่า 18x10<sup>6</sup>ppm ซึ่งเป็นความจริง</span> </p>"
      ]
    },
    {
      "cell_type": "markdown",
      "metadata": {
        "id": "NfuOc0DEX-mV"
      },
      "source": [
        "###   "
      ]
    },
    {
      "cell_type": "markdown",
      "metadata": {
        "id": "LRa6VC8dX-mc"
      },
      "source": [
        "5.3 ทำการ ping 158.108.216.5 จำนวน 10 ครั้ง ได้ระยะเวลาในหน่วย ms (milliseconds) ดังนี้ 28.2, 26.5, 30.7, 24.1, 25.3, 29.2, 21.6, 26.7, 23.4, 27.3 จงทดสอบว่าระยะเวลาที่ใช้ในการ ping โดยเฉลี่ยมีค่าเท่ากับ 26 ms หรือไม่ที่ระดับนัยสำคัญ 0.05 หากทราบมาว่าระยะเวลาที่ใช้ในการ ping มีการแจกแจงแบบปกติ"
      ]
    },
    {
      "cell_type": "markdown",
      "metadata": {},
      "source": [
        "- $H_0 : µ = 26$\\\n",
        " $H_1 : µ \\neq 26$\\\n",
        "- $\\alpha = 0.05$\n",
        "- ไม่ทราบค่าแปรปรวน และตัวอย่างมีขนาดเล็ก n < 30  **จึงทดสอบด้วย t**"
      ]
    },
    {
      "cell_type": "code",
      "execution_count": 5,
      "metadata": {
        "id": "4SyUkxgouNU4"
      },
      "outputs": [
        {
          "name": "stdout",
          "output_type": "stream",
          "text": [
            "t_cal = 0.34282294000695074\n",
            "t_critical_left = -2.262157162740992\n",
            "t_critical_right = 2.262157162740992\n"
          ]
        }
      ],
      "source": [
        "#แสดงวิธีทำ\n",
        "pings = [28.2, 26.5, 30.7, 24.1, 25.3, 29.2, 21.6, 26.7, 23.4, 27.3]\n",
        "mu_0 = 26\n",
        "alpha = 0.05\n",
        "\n",
        "x_bar = np.mean(pings)\n",
        "s = np.std(pings, ddof=1)\n",
        "\n",
        "t_cal = (x_bar - mu_0) / (s / np.sqrt(len(pings)))\n",
        "df = len(pings) - 1\n",
        "\n",
        "t_critical_left = stats.t.ppf(alpha/2, df=df)\n",
        "t_critical_right = stats.t.isf(alpha/2, df=df)\n",
        "\n",
        "print(f\"t_cal = {t_cal}\\nt_critical_left = {t_critical_left}\\nt_critical_right = {t_critical_right}\")"
      ]
    },
    {
      "cell_type": "markdown",
      "metadata": {},
      "source": [
        "จากค่า $t_{cal}$ ที่ได้ อยู่นอกบริเวณวิกฤต\\\n",
        " <p style=\"color:#0181FF;\">ดังนั้น ยอมรับ H<sub>0</sub> และไม่ยอมรับ H<sub>1</sub> นั่นคือระยะเวลาที่ใช้ในการ ping โดยเฉลี่ยมีค่าเท่ากับ 26 ms ซึ่งเป็นความจริง</p>\n"
      ]
    },
    {
      "cell_type": "markdown",
      "metadata": {
        "id": "2L30gP1ae_Du"
      },
      "source": [
        "###   "
      ]
    },
    {
      "cell_type": "markdown",
      "metadata": {
        "id": "jb1NBlWke_D2"
      },
      "source": [
        "5.4 ห้องปฏิบัติการ 2 แห่ง สุ่มตรวจสอบปริมาณนิโคตินในบุหรี่ยี่ห้อหนึ่งด้ผลการวิเคราะห์ปริมาณนิโคติน (มิลลิกรัม) ดังนี้  \n",
        "ห้องปฏิบัติการ1: 56, 37, 61, 56, 65, 41, 63, 50, 42   \n",
        "ห้องปฏิบัติการ2: 46, 25, 46, 64, 34, 56   \n",
        "จงทดสอบสมมติฐานว่าปริมาณนิโคตินที่วิเคราะห์ได้โดยห้องปฏิบัติการสองแห่งนี้ไม่แตกต่างกัน\n",
        "ที่ระดับนัยสำคัญ 0.10 หากกำหนดให้ปริมาณนิโคตินในบุหรี่ที่วิเคราะห์ได้โดยห้องปฏิบัติการทั้งสองมีการ\n",
        "แจกแจงแบบปกติที่มีค่าความแปรปรวนเท่ากัน  "
      ]
    },
    {
      "cell_type": "markdown",
      "metadata": {},
      "source": [
        "- $H_0: \\mu_{1} = \\mu_2$\\\n",
        " $H_1: \\mu_{1} \\neq \\mu_2$\n",
        "\n",
        "- $\\alpha = 0.10$\n",
        "- ไม่ทราบค่าแปรปรวน และตัวอย่างมีขนาดเล็ก n < 30 *และมีค่าแปรปรวนเท่ากัน* -> **จึงทดสอบด้วย t**"
      ]
    },
    {
      "cell_type": "code",
      "execution_count": 8,
      "metadata": {
        "id": "r4oVfpk9uTVG"
      },
      "outputs": [
        {
          "name": "stdout",
          "output_type": "stream",
          "text": [
            "t_cal = 1.1609472941892394\n",
            "t_crit_left = -2.160368656461013\n",
            "t_crit_right = 2.160368656461013\n",
            "p-value =  0.2665381923966871\n"
          ]
        }
      ],
      "source": [
        "#แสดงวิธีทำ\n",
        "lab_1 = [56, 37, 61, 56, 65, 41, 63, 50, 42]\n",
        "n_1 = len(lab_1)\n",
        "lab_2 = [46, 25, 46, 64, 34, 56 ]\n",
        "n_2 = len(lab_2)\n",
        "alpha = 0.05\n",
        "diff_mu_0 = 0\n",
        "\n",
        "x_bar_1 = np.mean(lab_1)\n",
        "x_bar_2 = np.mean(lab_2)\n",
        "\n",
        "s2_1 = np.var(lab_1, ddof=1) # คำนวณค่าความแปรปวนของตัวอย่าง\n",
        "s2_2 = np.var(lab_2, ddof=1)\n",
        "\n",
        "s2p = ((n_1 - 1) * s2_1 + len(lab_2) * s2_2) / (len(lab_1) + len(lab_2))\n",
        "\n",
        "t_cal = ((x_bar_1 - x_bar_2) - diff_mu_0)/ np.sqrt(s2p * (1/len(lab_1) + 1/len(lab_2)))\n",
        "df = len(lab_1) + len(lab_2) - 2\n",
        "\n",
        "t_crit_left = stats.t.ppf(alpha/2, df=df)\n",
        "t_crit_right = stats.t.isf(alpha/2, df=df)\n",
        "\n",
        "print(f\"t_cal = {t_cal}\\nt_crit_left = {t_crit_left}\\nt_crit_right = {t_crit_right}\")\n",
        "\n",
        "p_value = 2 * stats.t.sf(np.abs(t_cal), df=df)\n",
        "print(\"p-value = \", p_value)"
      ]
    },
    {
      "cell_type": "markdown",
      "metadata": {},
      "source": [
        "จากค่า $t_{cal}$ ที่ได้ **อยู่นอกบริเวณวิกฤต**\n",
        " <p style=\"color:#0181FF;\">ดังนั้น ยอมรับ H<sub>0</sub> และไม่ยอมรับ H<sub>1</sub> นั่นคือปริมาณนิโคตินที่วิเคราะห์ได้โดยห้องปฏิบัติการทั้งสองมีค่าเท่ากัน</p>"
      ]
    },
    {
      "cell_type": "markdown",
      "metadata": {
        "id": "HV7pSFLVjP8J"
      },
      "source": [
        "###   "
      ]
    },
    {
      "cell_type": "markdown",
      "metadata": {
        "id": "9IshON3wjP8J"
      },
      "source": [
        "5.5 เครื่องใช้พลาสติกชนิดหนึ่ง ผลิตโดยกระบวนการผลิตแตกต่างกัน 2 วิธี คือ A และ B ต้องการตรวจสอบความ\n",
        "เหนียวของพลาสติกที่ผลิตได้โดยทั้งสองกระบวนการนี้ว่าแตกต่างกันหรือไม่ จึงสุ่มตัวอย่าง\n",
        "ผลิตภัณฑ์จากกระบวนการผลิต A มา 30 ชิ้น ทดสอบและคำนวณค่าความเหนียวเฉลี่ยได้เป็น\n",
        "28.3 ส่วนเบี่ยงเบนมาตรฐาน 3.3 เมื่อสุ่มผลิตภัณฑ์จากกระบวนการผลิต B 40 ชิ้น คำนวณค่าความเหนียวเฉลี่ยได้เป็น 26.7 ส่วนเบี่ยงเบนมาตรฐานเป็น 4.9 หากการทดสอบโดยใช้ระดับนัยสำคัญ 0.05  "
      ]
    },
    {
      "cell_type": "markdown",
      "metadata": {},
      "source": [
        "- $H_0: \\mu_{1} = \\mu_2$\\\n",
        " $H_1: \\mu_{1} \\neq \\mu_2$\n",
        "- $\\alpha = 0.05$\n",
        "- ทราบค่าแปรปรวนของประชากร A และ B"
      ]
    },
    {
      "cell_type": "code",
      "execution_count": 15,
      "metadata": {
        "id": "HA_rpEPNuUdd"
      },
      "outputs": [
        {
          "name": "stdout",
          "output_type": "stream",
          "text": [
            "z_cal = 1.6302359794089838\n",
            "z_crit_left = -1.9599639845400545\n",
            "z_crit_right = 1.9599639845400545\n"
          ]
        }
      ],
      "source": [
        "#แสดงวิธีทำ\n",
        "x_bar_1 =  28.3\n",
        "n_1 = 30\n",
        "x_bar_2 = 26.7\n",
        "n_2 = 40\n",
        "alpha = 0.05\n",
        "\n",
        "var_1 = 3.3**2\n",
        "var_2 = 4.9**2\n",
        "\n",
        "z_cal = ((x_bar_1 - x_bar_2) - 0) / np.sqrt(var_1/n_1 + var_2/n_2)\n",
        "\n",
        "z_crit_left = stats.norm.ppf(alpha/2)\n",
        "z_crit_right = stats.norm.isf(alpha/2)\n",
        "\n",
        "print(f\"z_cal = {z_cal}\")\n",
        "print(f\"z_crit_left = {z_crit_left}\\nz_crit_right = {z_crit_right}\")"
      ]
    },
    {
      "cell_type": "markdown",
      "metadata": {},
      "source": [
        "จากค่า $z_{cal}$ อยู่นอกบริเวณวิกฤต\\\n",
        "<p style=\"color:#0181FF;\">ดังนั้น ยอมรับ H<sub>0</sub> และไม่ยอมรับ H<sub>1</sub> นั่นคือความเหนียวของพลาสติกที่ผลิตได้โดยทั้งสองกระบวนการนี้ไม่แตกต่างกัน</p>"
      ]
    }
  ],
  "metadata": {
    "colab": {
      "authorship_tag": "ABX9TyPRAOT6LtaW5SjkKlgaIzv1",
      "provenance": []
    },
    "kernelspec": {
      "display_name": "Python 3",
      "name": "python3"
    },
    "language_info": {
      "codemirror_mode": {
        "name": "ipython",
        "version": 3
      },
      "file_extension": ".py",
      "mimetype": "text/x-python",
      "name": "python",
      "nbconvert_exporter": "python",
      "pygments_lexer": "ipython3",
      "version": "3.11.4"
    }
  },
  "nbformat": 4,
  "nbformat_minor": 0
}
