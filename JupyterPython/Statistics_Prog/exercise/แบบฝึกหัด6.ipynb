{
  "cells": [
    {
      "cell_type": "markdown",
      "metadata": {
        "id": "U3ArbMi8JHGD"
      },
      "source": [
        "# แบบฝึกหัด 6"
      ]
    },
    {
      "cell_type": "markdown",
      "metadata": {
        "id": "t9RQYuu-JUwP"
      },
      "source": [
        "---"
      ]
    },
    {
      "cell_type": "code",
      "execution_count": 2,
      "metadata": {
        "id": "YY-EeJDrQn80"
      },
      "outputs": [],
      "source": [
        "import numpy as np\n",
        "import pandas as pd\n",
        "from scipy import stats\n",
        "from statsmodels.stats.proportion import proportions_ztest"
      ]
    },
    {
      "cell_type": "markdown",
      "metadata": {
        "id": "QHjwP-tnOuU5"
      },
      "source": [
        "8.1 ร้านค้าออนไลน์ขายเมล็ดพืชหายากชนิดหนึ่ง อ้างว่าเมล็ดที่ขายมีเปอร์เซ็นต์การงอกสูงกว่า 90% จากการทดลองของลูกค้ารายหนึ่งได้สั่งซื้อเมล็ดมาทั้งหมด 100 เมล็ดและพบว่ามี 14 เมล็ดที่ไม่งอก จงทดสอบคำกล่าวอ้างของร้านค้าว่าเป็นจริงหรือไม่ที่ระดับนัยสำคัญ 0.05 หากถือว่าอัตราการงอกของเมล็ดพืชดังกล่าวมีการแจกแจงแบบปกติ"
      ]
    },
    {
      "cell_type": "code",
      "execution_count": null,
      "metadata": {
        "id": "eGMlvK2UXrtE"
      },
      "outputs": [],
      "source": [
        "#แสดงสมมติฐาน พร้อมวิธีหาค่าcal ค่าp-value และการสรุปผล"
      ]
    },
    {
      "cell_type": "markdown",
      "metadata": {},
      "source": [
        "$\\alpha$ = 0.05,  $n$ = 100,  $p\\hat{}$ = 0.86,  $p$ = 0.9\n",
        "- ตั้งสมมติฐาน \n",
        "\\\n",
        "  $H_0: P \\leq$ 0.9\\\n",
        "  $H_1: P > 0.9$"
      ]
    },
    {
      "cell_type": "code",
      "execution_count": 7,
      "metadata": {},
      "outputs": [],
      "source": [
        "n = 100\n",
        "p = 0.86\n",
        "p_0 = 0.9\n",
        "sigma = 0.05"
      ]
    },
    {
      "cell_type": "code",
      "execution_count": 8,
      "metadata": {},
      "outputs": [
        {
          "data": {
            "text/plain": [
              "'5.e-02'"
            ]
          },
          "execution_count": 8,
          "metadata": {},
          "output_type": "execute_result"
        }
      ],
      "source": [
        "np.format_float_scientific(sigma, exp_digits=2)"
      ]
    },
    {
      "cell_type": "code",
      "execution_count": 8,
      "metadata": {},
      "outputs": [
        {
          "name": "stdout",
          "output_type": "stream",
          "text": [
            "z_cal = -1.33\n",
            "z_crit = 1.64\n",
            "p_value = 0.9088\n"
          ]
        }
      ],
      "source": [
        "z_cal = (p-p_0)/np.sqrt((p_0*(1-p_0))/n)\n",
        "\n",
        "z_crit = stats.norm.isf(sigma)\n",
        "\n",
        "p_value = stats.norm.sf(z_cal)\n",
        "\n",
        "print('z_cal = {:.2f}'.format(z_cal))\n",
        "print('z_crit = {:.2f}'.format(z_crit))\n",
        "print('p_value = {:.4f}'.format(p_value))"
      ]
    },
    {
      "cell_type": "code",
      "execution_count": 20,
      "metadata": {},
      "outputs": [
        {
          "name": "stdout",
          "output_type": "stream",
          "text": [
            "z_cal = -1.15\n",
            "p_value = 0.8755\n"
          ]
        }
      ],
      "source": [
        "z_cal, p_val = proportions_ztest(count=86, nobs=n, value=p_0, alternative='larger')\n",
        "print('z_cal = {:.2f}'.format(z_cal))\n",
        "print('p_value = {:.4f}'.format(p_val))"
      ]
    },
    {
      "cell_type": "markdown",
      "metadata": {},
      "source": [
        "- z_cal อยู่ในบริเวณยอมรับ H0   \n",
        "- p_val > 0.05  \n",
        "\n",
        "จึงยอมรับ H0 คำกล่าวอ้างของร้านค้าว่า เมล็ดที่ขายมีเปอร์เซ็นต์การงอกสูงกว่า 90% จึงไม่เป็นความจริง  \n",
        "  \n"
      ]
    },
    {
      "cell_type": "markdown",
      "metadata": {
        "id": "Tl6eIfL9R7Qx"
      },
      "source": [
        "8.2 สืบเนื่องจากข้อ 8.1 พบว่ามีร้านค้าออนไลน์อีกเจ้าซึ่งขายเมล็ดพืชหายากชนิดเดียวกันนี้ อ้างว่าเมล็ดที่ขายมีเปอร์เซนต์การงอกสูงกว่า 95% จึงสั่งซื้อมา 50 เมล็ดพบว่ามี 4 เมล็ดที่ไม่งอก จงทดสอบว่าร้านค้านี้ขายเมล็ดซึ่งมีเปอร์เซ็นต์การงอกสูงกว่าร้านค้าแรกมากกว่าหรือเท่ากับ 5% หรือไม่ ที่ระดับนัยสำคัญ 0.05"
      ]
    },
    {
      "cell_type": "code",
      "execution_count": null,
      "metadata": {
        "id": "IMLPHscAgi5K"
      },
      "outputs": [],
      "source": [
        "#แสดงสมมติฐาน พร้อมวิธีหาค่าcal ค่าp-value และการสรุปผล"
      ]
    },
    {
      "cell_type": "markdown",
      "metadata": {},
      "source": [
        "- จากโจทย์ $n_1 = 100, n_2 = 50, x_1 = 86, x_2 = 46 P_0 = 0.05$\n",
        "- ตั้งสมมติฐาน\n",
        "\\\n",
        "  $H_0: P_1 - P_2 \\geq P_O = 0.05$\\\n",
        "  $H_1: P_1 - P_2 < P_O = 0.05$\n",
        "\n",
        "- $\\alpha = 0.1$"
      ]
    },
    {
      "cell_type": "code",
      "execution_count": 10,
      "metadata": {},
      "outputs": [
        {
          "name": "stdout",
          "output_type": "stream",
          "text": [
            "z_cal = 0.01\n",
            "p_value = 0.5022\n"
          ]
        }
      ],
      "source": [
        "x1,x2 = 46, 86\n",
        "n1,n2 = 50, 100\n",
        "p0 = 0.05\n",
        "alpha = 0.05\n",
        "\n",
        "p_hat = (x1+x2)/(n1+n2)\n",
        "q_hat = 1-p_hat\n",
        "\n",
        "p_hat1 = x1/n1\n",
        "p_hat2 = x2/n2\n",
        "\n",
        "z_cal =  (p_hat1 - p_hat2) / np.sqrt(p_hat * q_hat) * (1 / n1 + 1 / n2)\n",
        "p_val = stats.norm.cdf(z_cal)\n",
        "\n",
        "print('z_cal = {:.2f}'.format(z_cal))\n",
        "print('p_value = {:.4f}'.format(p_val))"
      ]
    },
    {
      "cell_type": "code",
      "execution_count": 15,
      "metadata": {},
      "outputs": [
        {
          "name": "stdout",
          "output_type": "stream",
          "text": [
            "z_cal = 0.26\n",
            "p_value = 0.6045\n"
          ]
        }
      ],
      "source": [
        "z_cal, p_val = proportions_ztest(count=[x1, x2], \n",
        "                                    nobs=[n1, n2], \n",
        "                                    value=p0, \n",
        "                                    alternative=\"smaller\", prop_var=alpha)\n",
        "\n",
        "print('z_cal = {:.2f}'.format(z_cal))\n",
        "print('p_value = {:.4f}'.format(p_val))"
      ]
    },
    {
      "cell_type": "markdown",
      "metadata": {},
      "source": [
        "**p-value > $\\alpha$**\n",
        "<p>ปฎิเสธ H<sub>0</sub></p>"
      ]
    },
    {
      "cell_type": "markdown",
      "metadata": {
        "id": "JAxlkGQCXR2L"
      },
      "source": [
        "8.3 จากชุดข้อมูล \"titanic.csv\" จงทดสอบว่าส่วนเบี่ยงเบนมาตราฐานข้อมูลอายุผู้โดยสารมีค่าน้อยกว่า 10 ปีหรือไม่ที่ระดับความเชื่อมั่น 99% หากกำหนดให้ข้อมูลอายุผู้โดยสารมีการแจกแจงแบบปกติ"
      ]
    },
    {
      "cell_type": "code",
      "execution_count": null,
      "metadata": {
        "id": "eE0UT708g4d_"
      },
      "outputs": [],
      "source": [
        "#แสดงสมมติฐาน พร้อมวิธีหาค่าcal ค่าp-value และการสรุปผล"
      ]
    },
    {
      "cell_type": "markdown",
      "metadata": {},
      "source": [
        "- $\\sigma_0$ = 10\n",
        "- ตั้งสมมติฐาน\n",
        "\\\n",
        "  $H_0: \\sigma \\geq 10$\\\n",
        "  $H_1: \\sigma < 10$\n",
        "- $\\alpha = 0.01$"
      ]
    },
    {
      "cell_type": "code",
      "execution_count": 17,
      "metadata": {},
      "outputs": [
        {
          "data": {
            "text/html": [
              "<div>\n",
              "<style scoped>\n",
              "    .dataframe tbody tr th:only-of-type {\n",
              "        vertical-align: middle;\n",
              "    }\n",
              "\n",
              "    .dataframe tbody tr th {\n",
              "        vertical-align: top;\n",
              "    }\n",
              "\n",
              "    .dataframe thead th {\n",
              "        text-align: right;\n",
              "    }\n",
              "</style>\n",
              "<table border=\"1\" class=\"dataframe\">\n",
              "  <thead>\n",
              "    <tr style=\"text-align: right;\">\n",
              "      <th></th>\n",
              "      <th>PassengerId</th>\n",
              "      <th>Survived</th>\n",
              "      <th>Pclass</th>\n",
              "      <th>Name</th>\n",
              "      <th>Sex</th>\n",
              "      <th>Age</th>\n",
              "      <th>SibSp</th>\n",
              "      <th>Parch</th>\n",
              "      <th>Ticket</th>\n",
              "      <th>Fare</th>\n",
              "      <th>Cabin</th>\n",
              "      <th>Embarked</th>\n",
              "    </tr>\n",
              "  </thead>\n",
              "  <tbody>\n",
              "    <tr>\n",
              "      <th>0</th>\n",
              "      <td>1</td>\n",
              "      <td>0</td>\n",
              "      <td>3</td>\n",
              "      <td>Braund, Mr. Owen Harris</td>\n",
              "      <td>male</td>\n",
              "      <td>22.0</td>\n",
              "      <td>1</td>\n",
              "      <td>0</td>\n",
              "      <td>A/5 21171</td>\n",
              "      <td>7.2500</td>\n",
              "      <td>NaN</td>\n",
              "      <td>S</td>\n",
              "    </tr>\n",
              "    <tr>\n",
              "      <th>1</th>\n",
              "      <td>2</td>\n",
              "      <td>1</td>\n",
              "      <td>1</td>\n",
              "      <td>Cumings, Mrs. John Bradley (Florence Briggs Th...</td>\n",
              "      <td>female</td>\n",
              "      <td>38.0</td>\n",
              "      <td>1</td>\n",
              "      <td>0</td>\n",
              "      <td>PC 17599</td>\n",
              "      <td>71.2833</td>\n",
              "      <td>C85</td>\n",
              "      <td>C</td>\n",
              "    </tr>\n",
              "    <tr>\n",
              "      <th>2</th>\n",
              "      <td>3</td>\n",
              "      <td>1</td>\n",
              "      <td>3</td>\n",
              "      <td>Heikkinen, Miss. Laina</td>\n",
              "      <td>female</td>\n",
              "      <td>26.0</td>\n",
              "      <td>0</td>\n",
              "      <td>0</td>\n",
              "      <td>STON/O2. 3101282</td>\n",
              "      <td>7.9250</td>\n",
              "      <td>NaN</td>\n",
              "      <td>S</td>\n",
              "    </tr>\n",
              "    <tr>\n",
              "      <th>3</th>\n",
              "      <td>4</td>\n",
              "      <td>1</td>\n",
              "      <td>1</td>\n",
              "      <td>Futrelle, Mrs. Jacques Heath (Lily May Peel)</td>\n",
              "      <td>female</td>\n",
              "      <td>35.0</td>\n",
              "      <td>1</td>\n",
              "      <td>0</td>\n",
              "      <td>113803</td>\n",
              "      <td>53.1000</td>\n",
              "      <td>C123</td>\n",
              "      <td>S</td>\n",
              "    </tr>\n",
              "    <tr>\n",
              "      <th>4</th>\n",
              "      <td>5</td>\n",
              "      <td>0</td>\n",
              "      <td>3</td>\n",
              "      <td>Allen, Mr. William Henry</td>\n",
              "      <td>male</td>\n",
              "      <td>35.0</td>\n",
              "      <td>0</td>\n",
              "      <td>0</td>\n",
              "      <td>373450</td>\n",
              "      <td>8.0500</td>\n",
              "      <td>NaN</td>\n",
              "      <td>S</td>\n",
              "    </tr>\n",
              "  </tbody>\n",
              "</table>\n",
              "</div>"
            ],
            "text/plain": [
              "   PassengerId  Survived  Pclass  \\\n",
              "0            1         0       3   \n",
              "1            2         1       1   \n",
              "2            3         1       3   \n",
              "3            4         1       1   \n",
              "4            5         0       3   \n",
              "\n",
              "                                                Name     Sex   Age  SibSp  \\\n",
              "0                            Braund, Mr. Owen Harris    male  22.0      1   \n",
              "1  Cumings, Mrs. John Bradley (Florence Briggs Th...  female  38.0      1   \n",
              "2                             Heikkinen, Miss. Laina  female  26.0      0   \n",
              "3       Futrelle, Mrs. Jacques Heath (Lily May Peel)  female  35.0      1   \n",
              "4                           Allen, Mr. William Henry    male  35.0      0   \n",
              "\n",
              "   Parch            Ticket     Fare Cabin Embarked  \n",
              "0      0         A/5 21171   7.2500   NaN        S  \n",
              "1      0          PC 17599  71.2833   C85        C  \n",
              "2      0  STON/O2. 3101282   7.9250   NaN        S  \n",
              "3      0            113803  53.1000  C123        S  \n",
              "4      0            373450   8.0500   NaN        S  "
            ]
          },
          "execution_count": 17,
          "metadata": {},
          "output_type": "execute_result"
        }
      ],
      "source": [
        "df = pd.read_csv(\"https://raw.githubusercontent.com/ThammakornS/ProgStat/main/dataset/titanic.csv\")\n",
        "df.head()"
      ]
    },
    {
      "cell_type": "code",
      "execution_count": 18,
      "metadata": {},
      "outputs": [
        {
          "data": {
            "text/plain": [
              "14.526497332334044"
            ]
          },
          "execution_count": 18,
          "metadata": {},
          "output_type": "execute_result"
        }
      ],
      "source": [
        "std = np.std(df['Age'], ddof=1)\n",
        "std"
      ]
    },
    {
      "cell_type": "code",
      "execution_count": 21,
      "metadata": {},
      "outputs": [
        {
          "name": "stdout",
          "output_type": "stream",
          "text": [
            "chi2_cal = 1504.57\n",
            "chi2_crit = 628.10\n",
            "p_value = 1.00000000000000000000\n"
          ]
        }
      ],
      "source": [
        "n = df['Age'].notnull().sum()\n",
        "sigma_0 = 10\n",
        "alpha = 0.01\n",
        "\n",
        "chi2_cal = ((n - 1) * std ** 2) / (sigma_0 ** 2)\n",
        "chi2_crit = stats.chi2.ppf(alpha, df=n-1) # h1 : sigma < sigma_0\n",
        "p_value = stats.chi2.cdf(chi2_cal, df=n-1)\n",
        "\n",
        "print('chi2_cal = {:.2f}'.format(chi2_cal))\n",
        "print('chi2_crit = {:.2f}'.format(chi2_crit))\n",
        "print('p_value = {:.20f}'.format(p_value))"
      ]
    },
    {
      "cell_type": "markdown",
      "metadata": {},
      "source": [
        "**p-value < $\\alpha$**\n",
        "\n",
        " <p style=\"color:#0181FF;\">ดังนั้น ยอมรับ H<sub>0</sub> และไม่ยอมรับ H<sub>1</sub> นั่นคือส่วนเบี่ยงเบนมาตราฐานข้อมูลอายุผู้โดยสารมีค่ามากกว่าหรือเท่ากัับ 10 ปี</p>\n"
      ]
    },
    {
      "cell_type": "markdown",
      "metadata": {
        "id": "rZ8GvZovcRmI"
      },
      "source": [
        "8.4 จากข้อ 8.3 จงทดสอบว่ากลุ่มผู้โดยสารชั้น Pclass = 1 มีความแปรปรวนของอายุเท่ากับ กลุ่มผู้โดยสารชั้น Pclass = 2 หรือไม่ที่ระดับนัยสำคัญ 0.05"
      ]
    },
    {
      "cell_type": "markdown",
      "metadata": {},
      "source": [
        "**สมมติฐาน:**  \n",
        "H0: $𝜎^2_1/𝜎^2_2 = 1$   \n",
        "H1: $𝜎^2_1/𝜎^2_2 \\ne 1$   "
      ]
    },
    {
      "cell_type": "code",
      "execution_count": 22,
      "metadata": {
        "id": "ebjm535ag6tE"
      },
      "outputs": [
        {
          "name": "stdout",
          "output_type": "stream",
          "text": [
            "f_cal = 1.12\n",
            "f_critical_left = 0.75\n",
            "f_critical_right = 1.34\n",
            "p_value = 0.4593\n"
          ]
        }
      ],
      "source": [
        "#แสดงสมมติฐาน พร้อมวิธีหาค่าcal ค่าp-value และการสรุปผล\n",
        "Pclass1 = np.var(df.Age[df.Pclass==1], ddof=1)\n",
        "Pclass2 = np.var(df.Age[df.Pclass==2], ddof=1)\n",
        "f_cal = Pclass1/Pclass2\n",
        "\n",
        "dfn = sum( df.Age[df.Pclass==1].notnull()) - 1\n",
        "dfd = sum( df.Age[df.Pclass==2].notnull()) - 1\n",
        "f_critical_left = stats.f.ppf(0.05/2, dfn=dfn, dfd=dfd)\n",
        "f_critical_right = stats.f.isf(0.05/2, dfn=dfn, dfd=dfd)\n",
        "\n",
        "p_val = 2*min(stats.f.sf(f_cal, dfn=dfn, dfd=dfd), stats.f.cdf(f_cal, dfn=dfn, dfd=dfd))\n",
        "\n",
        "print('f_cal = {:.2f}'.format(f_cal))\n",
        "print('f_critical_left = {:.2f}'.format(f_critical_left))\n",
        "print('f_critical_right = {:.2f}'.format(f_critical_right))\n",
        "print('p_value = {:.4f}'.format(p_val))"
      ]
    },
    {
      "cell_type": "markdown",
      "metadata": {},
      "source": [
        "<p style=\"color:#0181FF;\">ดังนั้น ยอมรับ H<sub>0</sub> และไม่ยอมรับ H<sub>1</sub> นั่นคือกลุ่มผู้โดยสารชั้น Pclass = 1 มีความแปรปรวนของอายุเท่ากับ กลุ่มผู้โดยสารชั้น Pclass = 2 </p>"
      ]
    }
  ],
  "metadata": {
    "colab": {
      "provenance": []
    },
    "kernelspec": {
      "display_name": "Python 3",
      "name": "python3"
    },
    "language_info": {
      "codemirror_mode": {
        "name": "ipython",
        "version": 3
      },
      "file_extension": ".py",
      "mimetype": "text/x-python",
      "name": "python",
      "nbconvert_exporter": "python",
      "pygments_lexer": "ipython3",
      "version": "3.11.4"
    }
  },
  "nbformat": 4,
  "nbformat_minor": 0
}
