{
 "cells": [
  {
   "cell_type": "markdown",
   "metadata": {},
   "source": [
    "# Final"
   ]
  },
  {
   "cell_type": "code",
   "execution_count": 9,
   "metadata": {},
   "outputs": [],
   "source": [
    "import pandas as pd\n",
    "import numpy as np\n",
    "from scipy import stats\n",
    "import statsmodels.api as sm\n",
    "from statsmodels.stats.weightstats import ztest\n",
    "from statsmodels.stats.proportion import proportions_ztest  \n"
   ]
  },
  {
   "cell_type": "markdown",
   "metadata": {},
   "source": [
    "## การประมาณค่าพารามิเตอร์"
   ]
  },
  {
   "cell_type": "markdown",
   "metadata": {},
   "source": [
    "### ค่าเฉลี่ย"
   ]
  },
  {
   "cell_type": "markdown",
   "metadata": {},
   "source": [
    "![problme](../imgs/mock_test/exam-1.png)"
   ]
  },
  {
   "cell_type": "markdown",
   "metadata": {},
   "source": [
    "**กำหนดตัวแปรและอธิบายความหมายของตัสแปรที่ใช้ในการคำนวณ**\n",
    "\n",
    "**คำสั่งที่ใช้**"
   ]
  },
  {
   "cell_type": "code",
   "execution_count": null,
   "metadata": {},
   "outputs": [],
   "source": []
  },
  {
   "cell_type": "markdown",
   "metadata": {},
   "source": [
    "**ช่วงที่คำนวณได้**:\n"
   ]
  },
  {
   "cell_type": "markdown",
   "metadata": {},
   "source": []
  },
  {
   "cell_type": "markdown",
   "metadata": {},
   "source": [
    "### สัดส่วน\n"
   ]
  },
  {
   "cell_type": "markdown",
   "metadata": {},
   "source": [
    "![img](../imgs//mock_test/exam-proportion.png)"
   ]
  },
  {
   "cell_type": "markdown",
   "metadata": {},
   "source": [
    "### ความแปรปรวนของประชากรแบบจุด"
   ]
  },
  {
   "cell_type": "markdown",
   "metadata": {},
   "source": [
    "![img](../imgs//mock_test/ex_varrine.png)"
   ]
  },
  {
   "cell_type": "code",
   "execution_count": null,
   "metadata": {},
   "outputs": [],
   "source": []
  },
  {
   "cell_type": "markdown",
   "metadata": {},
   "source": [
    "## การทดสอบสมมติฐาน"
   ]
  },
  {
   "cell_type": "markdown",
   "metadata": {},
   "source": [
    "### ค่าเฉลี่ยของประชากร 1 กลุ่ม"
   ]
  },
  {
   "cell_type": "markdown",
   "metadata": {},
   "source": [
    "`ztest`(x1 = ข้อมูล,\\\n",
    "        value = ค่าเฉลี่ยที่โจทย์บอก,\\\n",
    "            alternative='')"
   ]
  },
  {
   "cell_type": "markdown",
   "metadata": {},
   "source": [
    "![img](../imgs/mock_test/ex_mean_test1.png)"
   ]
  },
  {
   "cell_type": "markdown",
   "metadata": {},
   "source": [
    "- **นิยามตัวแปร**\\\n",
    "    $\\mu_0 = 5.85$\n",
    "\n",
    "- **สมมติฐาน**\\\n",
    "    $H_0 : \\mu \\leq \\mu_0$ \\\n",
    "    $H_1 : \\mu > \\mu_0$"
   ]
  },
  {
   "cell_type": "code",
   "execution_count": 11,
   "metadata": {},
   "outputs": [],
   "source": [
    "blulb_lifi = [4.17,5.72,6.23,5.65,6.59,6.47,4.67,6.25,3.85,7.02,5.24,4.69, 5.75,5.05,5.33,5.45,6.32,4.7,5.63,6.22,6.73,4.81,\n",
    "4.29,4.68,6.13,5.44,6.06,7.54,7.28,5.18]\n",
    "u_0 = 5.85\n",
    "alpha = 0.05"
   ]
  },
  {
   "cell_type": "code",
   "execution_count": 12,
   "metadata": {},
   "outputs": [
    {
     "name": "stdout",
     "output_type": "stream",
     "text": [
      "-1.2418471165676772 0.8928535125403201\n",
      "1.6448536269514729\n"
     ]
    }
   ],
   "source": [
    "z_cal, p_value = ztest(x1=blulb_lifi, value=u_0, alternative='larger')\n",
    "print(z_cal, p_value)\n",
    "\n",
    "z_crit = stats.norm.isf(alpha)\n",
    "print(z_crit)"
   ]
  },
  {
   "cell_type": "markdown",
   "metadata": {},
   "source": [
    "p-value > 0.05 and z_cal ตกอยู่นอกบริเวณวิกฤต\n",
    "**สรุปผลการทดสอบ**\\\n",
    "ยอมรับ $H_0$ ที่ กล่าวคือ ค่าเฉลี่ยของประชากรมีค่าน้อยกว่าหรือเท่ากับ 5.85"
   ]
  },
  {
   "cell_type": "markdown",
   "metadata": {},
   "source": [
    "### ทดสอบสมมติฐานค่าเฉลี่ยของประชากร 2 กลุ่ม ที่เป็นอิสระต่อกัน  "
   ]
  },
  {
   "cell_type": "markdown",
   "metadata": {},
   "source": [
    "![img](../imgs/mock_test/exam_mean2_1.png)"
   ]
  },
  {
   "cell_type": "markdown",
   "metadata": {},
   "source": []
  },
  {
   "cell_type": "markdown",
   "metadata": {},
   "source": [
    "### ทดสอบสมมติฐานค่าสัดส่วน 1  ประชากร"
   ]
  },
  {
   "cell_type": "markdown",
   "metadata": {},
   "source": [
    "![img](../imgs/mock_test/exam_proportion_test.png)"
   ]
  },
  {
   "cell_type": "markdown",
   "metadata": {},
   "source": [
    "### ทดสอบสมมติฐานค่าสัดส่วน 2 ประชากร"
   ]
  },
  {
   "cell_type": "markdown",
   "metadata": {},
   "source": [
    "![img](../imgs/mock_test/exam_proportion_test2.png)"
   ]
  },
  {
   "cell_type": "markdown",
   "metadata": {},
   "source": [
    "### การทดสอบค่าความแปรปรวนของประชากร 1 กลุ่ม"
   ]
  },
  {
   "cell_type": "markdown",
   "metadata": {},
   "source": [
    "![img](../imgs/mock_test/exam_variance.png)"
   ]
  },
  {
   "cell_type": "markdown",
   "metadata": {},
   "source": [
    "### การทดสอบค่าความแปรปรวนของประชากร 2 กลุ่ม"
   ]
  },
  {
   "cell_type": "markdown",
   "metadata": {},
   "source": [
    "### $\\mu$ ของประชากรมีลักษณะเป็นคู่ (ไม่เป็นอิสระต่อกัน)"
   ]
  },
  {
   "cell_type": "markdown",
   "metadata": {},
   "source": [
    "![img](../imgs/mock_test/exam_both_mu.png)"
   ]
  },
  {
   "cell_type": "markdown",
   "metadata": {},
   "source": [
    "## Chi-square test"
   ]
  },
  {
   "cell_type": "markdown",
   "metadata": {},
   "source": [
    "###\n",
    "![img](/Users/thanakrittrakanjan/Documents/Coding/Python/JupyterPython/Statistics_Prog/imgs/mmorpgGame.png)"
   ]
  },
  {
   "cell_type": "markdown",
   "metadata": {},
   "source": [
    "- #### สมมติฐาน\n",
    "    - $H_0 : knight : wizard : rogue : necromancer = 1:1:1:1$\n",
    "    - $H_1 : knight : wizard : rogue : necromancer \\neq 1:1:1:1$\n",
    "- $\\alpha = 0.01$\n",
    "<p style=\"color:blue\">ใช้ chisquare ในการหา</p>"
   ]
  },
  {
   "cell_type": "code",
   "execution_count": 19,
   "metadata": {},
   "outputs": [
    {
     "data": {
      "text/plain": [
       "('8.0e-02', '9.94e-01')"
      ]
     },
     "execution_count": 19,
     "metadata": {},
     "output_type": "execute_result"
    }
   ],
   "source": [
    "alpha = 0.01\n",
    "O = np.array([25,26, 24, 25]) #\n",
    "p = np.array([1/4, 1/4, 1/4, 1/4 ])\n",
    "E = np.round(100 * p)\n",
    "\n",
    "chi2_cal, p_val = stats.chisquare(f_obs=O, f_exp=E)\n",
    "np.format_float_scientific(chi2_cal, 2, trim='0'), np.format_float_scientific(p_val, 2)\n"
   ]
  },
  {
   "cell_type": "code",
   "execution_count": 21,
   "metadata": {},
   "outputs": [
    {
     "data": {
      "text/plain": [
       "'1.13e+01'"
      ]
     },
     "execution_count": 21,
     "metadata": {},
     "output_type": "execute_result"
    }
   ],
   "source": [
    "chi2_crit = stats.chi2.isf(alpha, df=O.size -1)\n",
    "np.format_float_scientific(chi2_crit, precision=2)"
   ]
  },
  {
   "cell_type": "markdown",
   "metadata": {},
   "source": [
    "**สรุปผลการทดสอบ**\\\n",
    "p-value < 0.01 และ chi2_cal ตกอยู่นอกบริเวณวิกฤต\\\n",
    "<p style=\"color:#0181FF;\">ดังนั้น ยอมรับ H<sub>0</sub> คือ ผู้สายอาชีพเป็นไปตามอัตราส่วน 1:1:1:1</p>"
   ]
  }
 ],
 "metadata": {
  "kernelspec": {
   "display_name": "base",
   "language": "python",
   "name": "python3"
  },
  "language_info": {
   "codemirror_mode": {
    "name": "ipython",
    "version": 3
   },
   "file_extension": ".py",
   "mimetype": "text/x-python",
   "name": "python",
   "nbconvert_exporter": "python",
   "pygments_lexer": "ipython3",
   "version": "3.11.4"
  }
 },
 "nbformat": 4,
 "nbformat_minor": 2
}
