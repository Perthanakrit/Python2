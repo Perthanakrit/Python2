{
 "cells": [
  {
   "cell_type": "markdown",
   "metadata": {},
   "source": [
    "# Final"
   ]
  },
  {
   "cell_type": "code",
   "execution_count": 9,
   "metadata": {},
   "outputs": [],
   "source": [
    "import pandas as pd\n",
    "import numpy as np\n",
    "from scipy import stats\n",
    "import statsmodels.api as sm\n",
    "from statsmodels.stats.weightstats import ztest\n",
    "from statsmodels.stats.proportion import proportions_ztest  \n"
   ]
  },
  {
   "cell_type": "markdown",
   "metadata": {},
   "source": [
    "## การประมาณค่าพารามิเตอร์"
   ]
  },
  {
   "cell_type": "markdown",
   "metadata": {},
   "source": [
    "### ค่าเฉลี่ย"
   ]
  },
  {
   "cell_type": "markdown",
   "metadata": {},
   "source": [
    "![problme](../imgs/mock_test/exam-1.png)"
   ]
  },
  {
   "cell_type": "markdown",
   "metadata": {},
   "source": [
    "**กำหนดตัวแปรและอธิบายความหมายของตัสแปรที่ใช้ในการคำนวณ**\n",
    "\n",
    "**คำสั่งที่ใช้**"
   ]
  },
  {
   "cell_type": "code",
   "execution_count": null,
   "metadata": {},
   "outputs": [],
   "source": []
  },
  {
   "cell_type": "markdown",
   "metadata": {},
   "source": [
    "**ช่วงที่คำนวณได้**:\n"
   ]
  },
  {
   "cell_type": "markdown",
   "metadata": {},
   "source": []
  },
  {
   "cell_type": "markdown",
   "metadata": {},
   "source": [
    "### สัดส่วน\n"
   ]
  },
  {
   "cell_type": "markdown",
   "metadata": {},
   "source": [
    "![img](../imgs//mock_test/exam-proportion.png)"
   ]
  },
  {
   "cell_type": "markdown",
   "metadata": {},
   "source": [
    "### ความแปรปรวนของประชากรแบบจุด"
   ]
  },
  {
   "cell_type": "markdown",
   "metadata": {},
   "source": [
    "![img](../imgs//mock_test/ex_varrine.png)"
   ]
  },
  {
   "cell_type": "code",
   "execution_count": null,
   "metadata": {},
   "outputs": [],
   "source": []
  },
  {
   "cell_type": "markdown",
   "metadata": {},
   "source": [
    "## การทดสอบสมมติฐาน"
   ]
  },
  {
   "cell_type": "markdown",
   "metadata": {},
   "source": [
    "### ค่าเฉลี่ยของประชากร 1 กลุ่ม"
   ]
  },
  {
   "cell_type": "markdown",
   "metadata": {},
   "source": [
    "`ztest`(x1 = ข้อมูล,\\\n",
    "        value = ค่าเฉลี่ยที่โจทย์บอก,\\\n",
    "            alternative='')"
   ]
  },
  {
   "cell_type": "markdown",
   "metadata": {},
   "source": [
    "![img](../imgs/mock_test/ex_mean_test1.png)"
   ]
  },
  {
   "cell_type": "markdown",
   "metadata": {},
   "source": [
    "- **นิยามตัวแปร**\\\n",
    "    $\\mu_0 = 5.85$\n",
    "\n",
    "- **สมมติฐาน**\\\n",
    "    $H_0 : \\mu \\leq \\mu_0$ \\\n",
    "    $H_1 : \\mu > \\mu_0$"
   ]
  },
  {
   "cell_type": "code",
   "execution_count": 11,
   "metadata": {},
   "outputs": [],
   "source": [
    "blulb_lifi = [4.17,5.72,6.23,5.65,6.59,6.47,4.67,6.25,3.85,7.02,5.24,4.69, 5.75,5.05,5.33,5.45,6.32,4.7,5.63,6.22,6.73,4.81,\n",
    "4.29,4.68,6.13,5.44,6.06,7.54,7.28,5.18]\n",
    "u_0 = 5.85\n",
    "alpha = 0.05"
   ]
  },
  {
   "cell_type": "code",
   "execution_count": 12,
   "metadata": {},
   "outputs": [
    {
     "name": "stdout",
     "output_type": "stream",
     "text": [
      "-1.2418471165676772 0.8928535125403201\n",
      "1.6448536269514729\n"
     ]
    }
   ],
   "source": [
    "z_cal, p_value = ztest(x1=blulb_lifi, value=u_0, alternative='larger')\n",
    "print(z_cal, p_value)\n",
    "\n",
    "z_crit = stats.norm.isf(alpha)\n",
    "print(z_crit)"
   ]
  },
  {
   "cell_type": "markdown",
   "metadata": {},
   "source": [
    "p-value > 0.05 and z_cal ตกอยู่นอกบริเวณวิกฤต\n",
    "**สรุปผลการทดสอบ**\\\n",
    "ยอมรับ $H_0$ ที่ กล่าวคือ ค่าเฉลี่ยของประชากรมีค่าน้อยกว่าหรือเท่ากับ 5.85"
   ]
  },
  {
   "cell_type": "markdown",
   "metadata": {},
   "source": [
    "### ทดสอบสมมติฐานค่าเฉลี่ยของประชากร 2 กลุ่ม ที่เป็นอิสระต่อกัน  "
   ]
  },
  {
   "cell_type": "markdown",
   "metadata": {},
   "source": [
    "![img](../imgs/mock_test/exam_mean2_1.png)"
   ]
  },
  {
   "cell_type": "markdown",
   "metadata": {},
   "source": []
  },
  {
   "cell_type": "markdown",
   "metadata": {},
   "source": [
    "### ทดสอบสมมติฐานค่าสัดส่วน 1  ประชากร"
   ]
  },
  {
   "cell_type": "markdown",
   "metadata": {},
   "source": [
    "![img](../imgs/mock_test/exam_proportion_test.png)"
   ]
  },
  {
   "cell_type": "markdown",
   "metadata": {},
   "source": [
    "### ทดสอบสมมติฐานค่าสัดส่วน 2 ประชากร"
   ]
  },
  {
   "cell_type": "markdown",
   "metadata": {},
   "source": [
    "![img](../imgs/mock_test/exam_proportion_test2.png)"
   ]
  },
  {
   "cell_type": "markdown",
   "metadata": {},
   "source": [
    "### การทดสอบค่าความแปรปรวนของประชากร 1 กลุ่ม"
   ]
  },
  {
   "cell_type": "markdown",
   "metadata": {},
   "source": [
    "![img](../imgs/mock_test/exam_variance.png)"
   ]
  },
  {
   "cell_type": "markdown",
   "metadata": {},
   "source": [
    "### การทดสอบค่าความแปรปรวนของประชากร 2 กลุ่ม"
   ]
  },
  {
   "cell_type": "markdown",
   "metadata": {},
   "source": [
    "### $\\mu$ ของประชากรมีลักษณะเป็นคู่ (ไม่เป็นอิสระต่อกัน)"
   ]
  },
  {
   "cell_type": "markdown",
   "metadata": {},
   "source": [
    "![img](../imgs/mock_test/exam_both_mu.png)"
   ]
  },
  {
   "cell_type": "markdown",
   "metadata": {},
   "source": [
    "## Chi-square test"
   ]
  },
  {
   "cell_type": "markdown",
   "metadata": {},
   "source": [
    "### ทดสอบอัตราส่วน"
   ]
  },
  {
   "cell_type": "markdown",
   "metadata": {},
   "source": [
    "###\n",
    "![img](/Users/thanakrittrakanjan/Documents/Coding/Python/JupyterPython/Statistics_Prog/imgs/mmorpgGame.png)"
   ]
  },
  {
   "cell_type": "markdown",
   "metadata": {},
   "source": [
    "- #### สมมติฐาน\n",
    "    - $H_0 : knight : wizard : rogue : necromancer = 1:1:1:1$\n",
    "    - $H_1 : knight : wizard : rogue : necromancer \\neq 1:1:1:1$\n",
    "- $\\alpha = 0.01$\n",
    "<p style=\"color:blue\">ใช้ chisquare ในการหา</p>"
   ]
  },
  {
   "cell_type": "code",
   "execution_count": 19,
   "metadata": {},
   "outputs": [
    {
     "data": {
      "text/plain": [
       "('8.0e-02', '9.94e-01')"
      ]
     },
     "execution_count": 19,
     "metadata": {},
     "output_type": "execute_result"
    }
   ],
   "source": [
    "alpha = 0.01\n",
    "O = np.array([25,26, 24, 25]) #\n",
    "p = np.array([1/4, 1/4, 1/4, 1/4 ])\n",
    "E = np.round(100 * p)\n",
    "\n",
    "chi2_cal, p_val = stats.chisquare(f_obs=O, f_exp=E)\n",
    "np.format_float_scientific(chi2_cal, 2, trim='0'), np.format_float_scientific(p_val, 2)\n"
   ]
  },
  {
   "cell_type": "code",
   "execution_count": 21,
   "metadata": {},
   "outputs": [
    {
     "data": {
      "text/plain": [
       "'1.13e+01'"
      ]
     },
     "execution_count": 21,
     "metadata": {},
     "output_type": "execute_result"
    }
   ],
   "source": [
    "chi2_crit = stats.chi2.isf(alpha, df=O.size -1)\n",
    "np.format_float_scientific(chi2_crit, precision=2)"
   ]
  },
  {
   "cell_type": "markdown",
   "metadata": {},
   "source": [
    "**สรุปผลการทดสอบ**\\\n",
    "p-value < 0.01 และ chi2_cal ตกอยู่นอกบริเวณวิกฤต\\\n",
    "<p style=\"color:#0181FF;\">ดังนั้น ยอมรับ H<sub>0</sub> คือ ผู้สายอาชีพเป็นไปตามอัตราส่วน 1:1:1:1</p>"
   ]
  },
  {
   "cell_type": "markdown",
   "metadata": {},
   "source": [
    "### แจกแจงแบบปกติหรือไม่"
   ]
  },
  {
   "cell_type": "markdown",
   "metadata": {},
   "source": [
    "### ทดสอบความเป็นอิสระ"
   ]
  },
  {
   "cell_type": "markdown",
   "metadata": {},
   "source": [
    "![img](../imgs/mock_test/exam_chi2_independence.png)"
   ]
  },
  {
   "cell_type": "markdown",
   "metadata": {},
   "source": [
    "> **ขนาดความสัมพันธ์**\\\n",
    "\\\n",
    "> $V = \\sqrt{\\frac{\\chi^2}{N * min(r-1, c-1)}} $"
   ]
  },
  {
   "cell_type": "markdown",
   "metadata": {},
   "source": [
    "## Regressing & Correlation Analysis"
   ]
  },
  {
   "cell_type": "markdown",
   "metadata": {},
   "source": [
    "### สัมประสิทธิ์สหสัมพันธ์อย่างง่าย"
   ]
  },
  {
   "cell_type": "markdown",
   "metadata": {},
   "source": [
    "![img](../imgs/mock_test/exam_regressino1.png)"
   ]
  },
  {
   "cell_type": "code",
   "execution_count": 24,
   "metadata": {},
   "outputs": [],
   "source": [
    "sale_df = pd.read_csv('../data/sale.csv')\n",
    "\n",
    "X = sale_df.ad_cost\n",
    "y = sale_df.sale"
   ]
  },
  {
   "cell_type": "code",
   "execution_count": 26,
   "metadata": {},
   "outputs": [
    {
     "data": {
      "text/plain": [
       "(0.8410425833995456, 0.0006081181882655813)"
      ]
     },
     "execution_count": 26,
     "metadata": {},
     "output_type": "execute_result"
    }
   ],
   "source": [
    "r, p_val = stats.pearsonr(X, y)\n",
    "r, p_val"
   ]
  },
  {
   "cell_type": "markdown",
   "metadata": {},
   "source": [
    "### การทดสอบเกี่ยวกับสัมประสิทธิ์สหสัมพันธ์"
   ]
  },
  {
   "cell_type": "markdown",
   "metadata": {},
   "source": [
    "![img](../imgs/mock_test/exam_regression_test.png)\n",
    "![img](../imgs/mock_test/exam_regression_testA.png)"
   ]
  },
  {
   "cell_type": "code",
   "execution_count": 28,
   "metadata": {},
   "outputs": [
    {
     "data": {
      "text/html": [
       "<div>\n",
       "<style scoped>\n",
       "    .dataframe tbody tr th:only-of-type {\n",
       "        vertical-align: middle;\n",
       "    }\n",
       "\n",
       "    .dataframe tbody tr th {\n",
       "        vertical-align: top;\n",
       "    }\n",
       "\n",
       "    .dataframe thead th {\n",
       "        text-align: right;\n",
       "    }\n",
       "</style>\n",
       "<table border=\"1\" class=\"dataframe\">\n",
       "  <thead>\n",
       "    <tr style=\"text-align: right;\">\n",
       "      <th></th>\n",
       "      <th>mk_share</th>\n",
       "      <th>payback_customer</th>\n",
       "    </tr>\n",
       "  </thead>\n",
       "  <tbody>\n",
       "    <tr>\n",
       "      <th>0</th>\n",
       "      <td>15</td>\n",
       "      <td>24</td>\n",
       "    </tr>\n",
       "    <tr>\n",
       "      <th>1</th>\n",
       "      <td>14</td>\n",
       "      <td>20</td>\n",
       "    </tr>\n",
       "    <tr>\n",
       "      <th>2</th>\n",
       "      <td>18</td>\n",
       "      <td>25</td>\n",
       "    </tr>\n",
       "    <tr>\n",
       "      <th>3</th>\n",
       "      <td>20</td>\n",
       "      <td>28</td>\n",
       "    </tr>\n",
       "    <tr>\n",
       "      <th>4</th>\n",
       "      <td>10</td>\n",
       "      <td>15</td>\n",
       "    </tr>\n",
       "  </tbody>\n",
       "</table>\n",
       "</div>"
      ],
      "text/plain": [
       "   mk_share  payback_customer\n",
       "0        15                24\n",
       "1        14                20\n",
       "2        18                25\n",
       "3        20                28\n",
       "4        10                15"
      ]
     },
     "execution_count": 28,
     "metadata": {},
     "output_type": "execute_result"
    }
   ],
   "source": [
    "cosmetics_df = pd.read_csv('https://raw.githubusercontent.com/ThammakornS/ProgStat/main/dataset/cosmetic.csv')\n",
    "# cosmetics_df.head()\n",
    "\n"
   ]
  },
  {
   "cell_type": "code",
   "execution_count": 37,
   "metadata": {},
   "outputs": [
    {
     "name": "stdout",
     "output_type": "stream",
     "text": [
      "\n",
      "t_cal = 6.794e-05\n",
      "p_val = 6.794e-05\n",
      "t_crit_l = -2.179e+00\n",
      "t_crit_r = 2.179e+00\n"
     ]
    }
   ],
   "source": [
    "# หาสัมประสิทธิ์สหสัมพันธ์\n",
    "x = cosmetics_df['mk_share']\n",
    "y = cosmetics_df['payback_customer']\n",
    "n = cosmetics_df.shape[0]\n",
    "alpha = 0.05\n",
    "\n",
    "r, p_val = stats.pearsonr(x, y)\n",
    "\n",
    "t_crit_l = stats.t.ppf(alpha/2, df=n-2)\n",
    "t_crit_r = stats.t.ppf(1-alpha/2, df=n-2)\n",
    "\n",
    "print(f'''\n",
    "t_cal = {np.format_float_scientific(p_val, precision=3, trim='0')}\n",
    "p_val = {np.format_float_scientific(p_val, precision=3, trim='0')}\n",
    "t_crit_l = {np.format_float_scientific(t_crit_l, precision=3, trim='0')}\n",
    "t_crit_r = {np.format_float_scientific(t_crit_r, precision=3,trim='0')}''')"
   ]
  },
  {
   "cell_type": "markdown",
   "metadata": {},
   "source": [
    "**สรุปผลการทดสอบ**\\\n",
    "p-value < 0.05 และ t_cal ตกอยู่นอกบริเวณวิกฤต\\\n",
    "<p style=\"color:#0181FF;\">ดังนั้น ยอมรับ H<sub>1</sub> คือ สัดส่วนการครองตลาดและกำไรจ่ายคืนลูกค้ามีความสัมพันธ์เชิงเส้น</p>"
   ]
  },
  {
   "cell_type": "markdown",
   "metadata": {},
   "source": [
    "### การวิเคราะห์การถดถอย"
   ]
  },
  {
   "cell_type": "markdown",
   "metadata": {},
   "source": [
    "![img](../imgs/mock_test/exam_regression_analysis.png)"
   ]
  },
  {
   "cell_type": "code",
   "execution_count": 42,
   "metadata": {},
   "outputs": [
    {
     "name": "stdout",
     "output_type": "stream",
     "text": [
      "                            OLS Regression Results                            \n",
      "==============================================================================\n",
      "Dep. Variable:                   sale   R-squared:                       0.707\n",
      "Model:                            OLS   Adj. R-squared:                  0.678\n",
      "Method:                 Least Squares   F-statistic:                     24.17\n",
      "Date:                Fri, 22 Mar 2024   Prob (F-statistic):           0.000608\n",
      "Time:                        15:52:59   Log-Likelihood:                -31.561\n",
      "No. Observations:                  12   AIC:                             67.12\n",
      "Df Residuals:                      10   BIC:                             68.09\n",
      "Df Model:                           1                                         \n",
      "Covariance Type:            nonrobust                                         \n",
      "==============================================================================\n",
      "                 coef    std err          t      P>|t|      [0.025      0.975]\n",
      "------------------------------------------------------------------------------\n",
      "const         25.4655      4.170      6.107      0.000      16.174      34.757\n",
      "ad_cost        5.1946      1.057      4.916      0.001       2.840       7.549\n",
      "==============================================================================\n",
      "Omnibus:                        0.237   Durbin-Watson:                   2.071\n",
      "Prob(Omnibus):                  0.888   Jarque-Bera (JB):                0.144\n",
      "Skew:                           0.191   Prob(JB):                        0.930\n",
      "Kurtosis:                       2.622   Cond. No.                         16.4\n",
      "==============================================================================\n",
      "\n",
      "Notes:\n",
      "[1] Standard Errors assume that the covariance matrix of the errors is correctly specified.\n"
     ]
    },
    {
     "name": "stderr",
     "output_type": "stream",
     "text": [
      "/Users/thanakrittrakanjan/anaconda3/lib/python3.11/site-packages/scipy/stats/_stats_py.py:1736: UserWarning: kurtosistest only valid for n>=20 ... continuing anyway, n=12\n",
      "  warnings.warn(\"kurtosistest only valid for n>=20 ... continuing \"\n"
     ]
    }
   ],
   "source": [
    "x = sale_df['ad_cost']\n",
    "y = sale_df['sale']\n",
    "\n",
    "x_wcont = sm.add_constant(x) # สร้างคอลัมน์คงที่ 1 ให้ x *สามารถหาค่า b0 ได้\n",
    "lr = sm.OLS(y, x_wcont).fit() # สร้างโมเดล linear regression และ fit ข้อมูล y กับ x ด้วยโมเดล\n",
    "y_hat = lr.predict(x_wcont) # ทำนายค่า y จาก x ที่ได้จากโมเดล\n",
    "print(lr.summary())\n"
   ]
  },
  {
   "cell_type": "markdown",
   "metadata": {},
   "source": [
    "### ทดสอบสมมติฐานค่า  $\\beta_1$ โดยการวิเคราะห์ความแปรปรวน"
   ]
  },
  {
   "cell_type": "markdown",
   "metadata": {},
   "source": [
    "![img](../imgs/mock_test/exam_regression_analysis.png)"
   ]
  },
  {
   "cell_type": "code",
   "execution_count": 44,
   "metadata": {},
   "outputs": [
    {
     "name": "stdout",
     "output_type": "stream",
     "text": [
      "                            OLS Regression Results                            \n",
      "==============================================================================\n",
      "Dep. Variable:                   sale   R-squared:                       0.707\n",
      "Model:                            OLS   Adj. R-squared:                  0.678\n",
      "Method:                 Least Squares   F-statistic:                     24.17\n",
      "Date:                Fri, 22 Mar 2024   Prob (F-statistic):           0.000608\n",
      "Time:                        16:04:57   Log-Likelihood:                -31.561\n",
      "No. Observations:                  12   AIC:                             67.12\n",
      "Df Residuals:                      10   BIC:                             68.09\n",
      "Df Model:                           1                                         \n",
      "Covariance Type:            nonrobust                                         \n",
      "==============================================================================\n",
      "                 coef    std err          t      P>|t|      [0.025      0.975]\n",
      "------------------------------------------------------------------------------\n",
      "const         25.4655      4.170      6.107      0.000      16.174      34.757\n",
      "ad_cost        5.1946      1.057      4.916      0.001       2.840       7.549\n",
      "==============================================================================\n",
      "Omnibus:                        0.237   Durbin-Watson:                   2.071\n",
      "Prob(Omnibus):                  0.888   Jarque-Bera (JB):                0.144\n",
      "Skew:                           0.191   Prob(JB):                        0.930\n",
      "Kurtosis:                       2.622   Cond. No.                         16.4\n",
      "==============================================================================\n",
      "\n",
      "Notes:\n",
      "[1] Standard Errors assume that the covariance matrix of the errors is correctly specified.\n"
     ]
    },
    {
     "name": "stderr",
     "output_type": "stream",
     "text": [
      "/Users/thanakrittrakanjan/anaconda3/lib/python3.11/site-packages/scipy/stats/_stats_py.py:1736: UserWarning: kurtosistest only valid for n>=20 ... continuing anyway, n=12\n",
      "  warnings.warn(\"kurtosistest only valid for n>=20 ... continuing \"\n"
     ]
    }
   ],
   "source": [
    "print(lr.summary()) "
   ]
  },
  {
   "cell_type": "markdown",
   "metadata": {},
   "source": [
    "#### Example\n",
    "data 'cosmetic.csv' สัดส่วนการครองตลาดและกำไรจ่ายคืนลูกค้ามีความสัมพันธ์ในทิศทางเดียวกัน และมีแนวโน้มเป็นเส้นตรง\n",
    "- สร้างสมการถดถอย หาค่า b0 และ b1\n",
    "- หากมีค่าสัดส่วนการครองตลาดเท่ากับ 50% จะได้กำไรจ่ายคืนลูกค้าเท่าไหร่\n",
    "-  ทดสอบว่าสัดส่วนการครองตลาดและกำไรจ่ายคืนลูกค้ามีความสัมพันธ์เชิงเส้นตรงที่ระดับนัยสำคัญ 0.o5 พร้อมแสดงค่าสัมประสิทธิ์การตัดสินใจ"
   ]
  },
  {
   "cell_type": "code",
   "execution_count": 45,
   "metadata": {},
   "outputs": [
    {
     "data": {
      "text/html": [
       "<div>\n",
       "<style scoped>\n",
       "    .dataframe tbody tr th:only-of-type {\n",
       "        vertical-align: middle;\n",
       "    }\n",
       "\n",
       "    .dataframe tbody tr th {\n",
       "        vertical-align: top;\n",
       "    }\n",
       "\n",
       "    .dataframe thead th {\n",
       "        text-align: right;\n",
       "    }\n",
       "</style>\n",
       "<table border=\"1\" class=\"dataframe\">\n",
       "  <thead>\n",
       "    <tr style=\"text-align: right;\">\n",
       "      <th></th>\n",
       "      <th>mk_share</th>\n",
       "      <th>payback_customer</th>\n",
       "    </tr>\n",
       "  </thead>\n",
       "  <tbody>\n",
       "    <tr>\n",
       "      <th>0</th>\n",
       "      <td>15</td>\n",
       "      <td>24</td>\n",
       "    </tr>\n",
       "    <tr>\n",
       "      <th>1</th>\n",
       "      <td>14</td>\n",
       "      <td>20</td>\n",
       "    </tr>\n",
       "    <tr>\n",
       "      <th>2</th>\n",
       "      <td>18</td>\n",
       "      <td>25</td>\n",
       "    </tr>\n",
       "    <tr>\n",
       "      <th>3</th>\n",
       "      <td>20</td>\n",
       "      <td>28</td>\n",
       "    </tr>\n",
       "    <tr>\n",
       "      <th>4</th>\n",
       "      <td>10</td>\n",
       "      <td>15</td>\n",
       "    </tr>\n",
       "  </tbody>\n",
       "</table>\n",
       "</div>"
      ],
      "text/plain": [
       "   mk_share  payback_customer\n",
       "0        15                24\n",
       "1        14                20\n",
       "2        18                25\n",
       "3        20                28\n",
       "4        10                15"
      ]
     },
     "execution_count": 45,
     "metadata": {},
     "output_type": "execute_result"
    }
   ],
   "source": [
    "cosmetics_df.head()"
   ]
  },
  {
   "cell_type": "code",
   "execution_count": 46,
   "metadata": {},
   "outputs": [
    {
     "data": {
      "text/plain": [
       "(0.8639212004186299, 6.793657739462264e-05)"
      ]
     },
     "execution_count": 46,
     "metadata": {},
     "output_type": "execute_result"
    }
   ],
   "source": [
    "# สัมประสิทธิ์สหสัมพันธ์\n",
    "x_cos = cosmetics_df['mk_share']\n",
    "y_cos = cosmetics_df['payback_customer']\n",
    "r, p_val = stats.pearsonr(x_cos, y_cos)\n",
    "r, p_val"
   ]
  },
  {
   "cell_type": "code",
   "execution_count": 48,
   "metadata": {},
   "outputs": [
    {
     "data": {
      "text/plain": [
       "5.942316039704829"
      ]
     },
     "execution_count": 48,
     "metadata": {},
     "output_type": "execute_result"
    }
   ],
   "source": [
    "t_cal = r * np.sqrt(n-2) / np.sqrt(1 - r**2)\n",
    "t_cal"
   ]
  },
  {
   "cell_type": "code",
   "execution_count": 50,
   "metadata": {},
   "outputs": [
    {
     "name": "stdout",
     "output_type": "stream",
     "text": [
      "                            OLS Regression Results                            \n",
      "==============================================================================\n",
      "Dep. Variable:       payback_customer   R-squared:                       0.746\n",
      "Model:                            OLS   Adj. R-squared:                  0.725\n",
      "Method:                 Least Squares   F-statistic:                     35.31\n",
      "Date:                Fri, 22 Mar 2024   Prob (F-statistic):           6.79e-05\n",
      "Time:                        16:22:05   Log-Likelihood:                -34.603\n",
      "No. Observations:                  14   AIC:                             73.21\n",
      "Df Residuals:                      12   BIC:                             74.48\n",
      "Df Model:                           1                                         \n",
      "Covariance Type:            nonrobust                                         \n",
      "==============================================================================\n",
      "                 coef    std err          t      P>|t|      [0.025      0.975]\n",
      "------------------------------------------------------------------------------\n",
      "const         -1.1905      3.555     -0.335      0.744      -8.937       6.556\n",
      "mk_share       1.3569      0.228      5.942      0.000       0.859       1.854\n",
      "==============================================================================\n",
      "Omnibus:                        0.988   Durbin-Watson:                   0.824\n",
      "Prob(Omnibus):                  0.610   Jarque-Bera (JB):                0.778\n",
      "Skew:                          -0.509   Prob(JB):                        0.678\n",
      "Kurtosis:                       2.455   Cond. No.                         67.2\n",
      "==============================================================================\n",
      "\n",
      "Notes:\n",
      "[1] Standard Errors assume that the covariance matrix of the errors is correctly specified.\n"
     ]
    },
    {
     "name": "stderr",
     "output_type": "stream",
     "text": [
      "/Users/thanakrittrakanjan/anaconda3/lib/python3.11/site-packages/scipy/stats/_stats_py.py:1736: UserWarning: kurtosistest only valid for n>=20 ... continuing anyway, n=14\n",
      "  warnings.warn(\"kurtosistest only valid for n>=20 ... continuing \"\n"
     ]
    }
   ],
   "source": [
    "x_wcont = sm.add_constant(x_cos)\n",
    "lr = sm.OLS(y_cos, x_wcont).fit()\n",
    "y_hat = lr.predict(x_wcont)\n",
    "\n",
    "print(lr.summary())"
   ]
  }
 ],
 "metadata": {
  "kernelspec": {
   "display_name": "base",
   "language": "python",
   "name": "python3"
  },
  "language_info": {
   "codemirror_mode": {
    "name": "ipython",
    "version": 3
   },
   "file_extension": ".py",
   "mimetype": "text/x-python",
   "name": "python",
   "nbconvert_exporter": "python",
   "pygments_lexer": "ipython3",
   "version": "3.11.4"
  }
 },
 "nbformat": 4,
 "nbformat_minor": 2
}
