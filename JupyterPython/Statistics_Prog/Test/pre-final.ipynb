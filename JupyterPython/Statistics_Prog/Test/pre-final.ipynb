{
 "cells": [
  {
   "cell_type": "markdown",
   "metadata": {},
   "source": [
    "# Final"
   ]
  },
  {
   "cell_type": "code",
   "execution_count": 2,
   "metadata": {},
   "outputs": [],
   "source": [
    "import pandas as pd\n",
    "import numpy as np\n",
    "from scipy import stats\n",
    "import statsmodels.api as sm\n",
    "from statsmodels.stats.weightstats import ztest\n",
    "from statsmodels.stats.proportion import proportions_ztest  \n"
   ]
  },
  {
   "cell_type": "markdown",
   "metadata": {},
   "source": [
    "## การประมาณค่าพารามิเตอร์"
   ]
  },
  {
   "cell_type": "markdown",
   "metadata": {},
   "source": [
    "### ค่าเฉลี่ย"
   ]
  },
  {
   "cell_type": "markdown",
   "metadata": {},
   "source": [
    "![problme](../imgs/mock_test/exam-1.png)"
   ]
  },
  {
   "cell_type": "markdown",
   "metadata": {},
   "source": [
    "**กำหนดตัวแปรและอธิบายความหมายของตัสแปรที่ใช้ในการคำนวณ**\n",
    "\n",
    "**คำสั่งที่ใช้**"
   ]
  },
  {
   "cell_type": "code",
   "execution_count": null,
   "metadata": {},
   "outputs": [],
   "source": []
  },
  {
   "cell_type": "markdown",
   "metadata": {},
   "source": [
    "**ช่วงที่คำนวณได้**:\n"
   ]
  },
  {
   "cell_type": "markdown",
   "metadata": {},
   "source": []
  },
  {
   "cell_type": "markdown",
   "metadata": {},
   "source": [
    "### สัดส่วน\n"
   ]
  },
  {
   "cell_type": "markdown",
   "metadata": {},
   "source": [
    "![img](../imgs//mock_test/exam-proportion.png)"
   ]
  },
  {
   "cell_type": "markdown",
   "metadata": {},
   "source": [
    "### ความแปรปรวนของประชากรแบบจุด"
   ]
  },
  {
   "cell_type": "markdown",
   "metadata": {},
   "source": [
    "![img](../imgs//mock_test/ex_varrine.png)"
   ]
  },
  {
   "cell_type": "code",
   "execution_count": null,
   "metadata": {},
   "outputs": [],
   "source": []
  },
  {
   "cell_type": "markdown",
   "metadata": {},
   "source": [
    "## ประมาณค่าแบบช่วง"
   ]
  },
  {
   "cell_type": "markdown",
   "metadata": {},
   "source": [
    "สุ่มกาแฟกระป๋องยี่ห้อหนึ่งมา 8 กระป๋อง พบว่า มีปริมาณคาเฟอีนเฉลี่ย 18.6 มิลลิกรัม ส่วนเบี่ยงเบนมาตรฐาน 2.4 มิลลิกรัม จงหาช่วง\n",
    "ความเชื่อมั่น 95% ของความแปรปรวนของปริมาณคาเฟอีนของกาแฟยี่ห้อนี้ หากปริมาณคาเฟอีนมีการแจกแจงแบบปกติ"
   ]
  },
  {
   "cell_type": "code",
   "execution_count": 23,
   "metadata": {},
   "outputs": [
    {
     "data": {
      "text/plain": [
       "(2.517991229277205, 23.859835105009978)"
      ]
     },
     "execution_count": 23,
     "metadata": {},
     "output_type": "execute_result"
    }
   ],
   "source": [
    "s = 2.4\n",
    "s_pow2 = s**2\n",
    "n = 8\n",
    "alpha = 0.05\n",
    "df = n-1\n",
    "\n",
    "\n",
    "(n-1) * s_pow2 / (stats.chi2.isf(alpha/2, df=df)), (n-1) * s_pow2 / (stats.chi2.ppf(alpha/2, df=df))\n"
   ]
  },
  {
   "cell_type": "code",
   "execution_count": 8,
   "metadata": {},
   "outputs": [
    {
     "name": "stdout",
     "output_type": "stream",
     "text": [
      "Help on function var in module numpy:\n",
      "\n",
      "var(a, axis=None, dtype=None, out=None, ddof=0, keepdims=<no value>, *, where=<no value>)\n",
      "    Compute the variance along the specified axis.\n",
      "    \n",
      "    Returns the variance of the array elements, a measure of the spread of a\n",
      "    distribution.  The variance is computed for the flattened array by\n",
      "    default, otherwise over the specified axis.\n",
      "    \n",
      "    Parameters\n",
      "    ----------\n",
      "    a : array_like\n",
      "        Array containing numbers whose variance is desired.  If `a` is not an\n",
      "        array, a conversion is attempted.\n",
      "    axis : None or int or tuple of ints, optional\n",
      "        Axis or axes along which the variance is computed.  The default is to\n",
      "        compute the variance of the flattened array.\n",
      "    \n",
      "        .. versionadded:: 1.7.0\n",
      "    \n",
      "        If this is a tuple of ints, a variance is performed over multiple axes,\n",
      "        instead of a single axis or all the axes as before.\n",
      "    dtype : data-type, optional\n",
      "        Type to use in computing the variance.  For arrays of integer type\n",
      "        the default is `float64`; for arrays of float types it is the same as\n",
      "        the array type.\n",
      "    out : ndarray, optional\n",
      "        Alternate output array in which to place the result.  It must have\n",
      "        the same shape as the expected output, but the type is cast if\n",
      "        necessary.\n",
      "    ddof : int, optional\n",
      "        \"Delta Degrees of Freedom\": the divisor used in the calculation is\n",
      "        ``N - ddof``, where ``N`` represents the number of elements. By\n",
      "        default `ddof` is zero.\n",
      "    keepdims : bool, optional\n",
      "        If this is set to True, the axes which are reduced are left\n",
      "        in the result as dimensions with size one. With this option,\n",
      "        the result will broadcast correctly against the input array.\n",
      "    \n",
      "        If the default value is passed, then `keepdims` will not be\n",
      "        passed through to the `var` method of sub-classes of\n",
      "        `ndarray`, however any non-default value will be.  If the\n",
      "        sub-class' method does not implement `keepdims` any\n",
      "        exceptions will be raised.\n",
      "    \n",
      "    where : array_like of bool, optional\n",
      "        Elements to include in the variance. See `~numpy.ufunc.reduce` for\n",
      "        details.\n",
      "    \n",
      "        .. versionadded:: 1.20.0\n",
      "    \n",
      "    Returns\n",
      "    -------\n",
      "    variance : ndarray, see dtype parameter above\n",
      "        If ``out=None``, returns a new array containing the variance;\n",
      "        otherwise, a reference to the output array is returned.\n",
      "    \n",
      "    See Also\n",
      "    --------\n",
      "    std, mean, nanmean, nanstd, nanvar\n",
      "    :ref:`ufuncs-output-type`\n",
      "    \n",
      "    Notes\n",
      "    -----\n",
      "    The variance is the average of the squared deviations from the mean,\n",
      "    i.e.,  ``var = mean(x)``, where ``x = abs(a - a.mean())**2``.\n",
      "    \n",
      "    The mean is typically calculated as ``x.sum() / N``, where ``N = len(x)``.\n",
      "    If, however, `ddof` is specified, the divisor ``N - ddof`` is used\n",
      "    instead.  In standard statistical practice, ``ddof=1`` provides an\n",
      "    unbiased estimator of the variance of a hypothetical infinite population.\n",
      "    ``ddof=0`` provides a maximum likelihood estimate of the variance for\n",
      "    normally distributed variables.\n",
      "    \n",
      "    Note that for complex numbers, the absolute value is taken before\n",
      "    squaring, so that the result is always real and nonnegative.\n",
      "    \n",
      "    For floating-point input, the variance is computed using the same\n",
      "    precision the input has.  Depending on the input data, this can cause\n",
      "    the results to be inaccurate, especially for `float32` (see example\n",
      "    below).  Specifying a higher-accuracy accumulator using the ``dtype``\n",
      "    keyword can alleviate this issue.\n",
      "    \n",
      "    Examples\n",
      "    --------\n",
      "    >>> a = np.array([[1, 2], [3, 4]])\n",
      "    >>> np.var(a)\n",
      "    1.25\n",
      "    >>> np.var(a, axis=0)\n",
      "    array([1.,  1.])\n",
      "    >>> np.var(a, axis=1)\n",
      "    array([0.25,  0.25])\n",
      "    \n",
      "    In single precision, var() can be inaccurate:\n",
      "    \n",
      "    >>> a = np.zeros((2, 512*512), dtype=np.float32)\n",
      "    >>> a[0, :] = 1.0\n",
      "    >>> a[1, :] = 0.1\n",
      "    >>> np.var(a)\n",
      "    0.20250003\n",
      "    \n",
      "    Computing the variance in float64 is more accurate:\n",
      "    \n",
      "    >>> np.var(a, dtype=np.float64)\n",
      "    0.20249999932944759 # may vary\n",
      "    >>> ((1-0.55)**2 + (0.1-0.55)**2)/2\n",
      "    0.2025\n",
      "    \n",
      "    Specifying a where argument:\n",
      "    \n",
      "    >>> a = np.array([[14, 8, 11, 10], [7, 9, 10, 11], [10, 15, 5, 10]])\n",
      "    >>> np.var(a)\n",
      "    6.833333333333333 # may vary\n",
      "    >>> np.var(a, where=[[True], [True], [False]])\n",
      "    4.0\n",
      "\n"
     ]
    }
   ],
   "source": []
  },
  {
   "cell_type": "code",
   "execution_count": null,
   "metadata": {},
   "outputs": [],
   "source": [
    "help(np.var)"
   ]
  },
  {
   "cell_type": "markdown",
   "metadata": {},
   "source": [
    "## การทดสอบสมมติฐาน"
   ]
  },
  {
   "cell_type": "markdown",
   "metadata": {},
   "source": [
    "### ค่าเฉลี่ยของประชากร 1 กลุ่ม"
   ]
  },
  {
   "cell_type": "markdown",
   "metadata": {},
   "source": [
    "`ztest`(x1 = ข้อมูล,\\\n",
    "        value = ค่าเฉลี่ยที่โจทย์บอก,\\\n",
    "            alternative='')"
   ]
  },
  {
   "cell_type": "code",
   "execution_count": 26,
   "metadata": {},
   "outputs": [
    {
     "name": "stdout",
     "output_type": "stream",
     "text": [
      "Help on function ztest in module statsmodels.stats.weightstats:\n",
      "\n",
      "ztest(x1, x2=None, value=0, alternative='two-sided', usevar='pooled', ddof=1.0)\n",
      "    test for mean based on normal distribution, one or two samples\n",
      "    \n",
      "    In the case of two samples, the samples are assumed to be independent.\n",
      "    \n",
      "    Parameters\n",
      "    ----------\n",
      "    x1 : array_like, 1-D or 2-D\n",
      "        first of the two independent samples\n",
      "    x2 : array_like, 1-D or 2-D\n",
      "        second of the two independent samples\n",
      "    value : float\n",
      "        In the one sample case, value is the mean of x1 under the Null\n",
      "        hypothesis.\n",
      "        In the two sample case, value is the difference between mean of x1 and\n",
      "        mean of x2 under the Null hypothesis. The test statistic is\n",
      "        `x1_mean - x2_mean - value`.\n",
      "    alternative : str\n",
      "        The alternative hypothesis, H1, has to be one of the following\n",
      "    \n",
      "           'two-sided': H1: difference in means not equal to value (default)\n",
      "           'larger' :   H1: difference in means larger than value\n",
      "           'smaller' :  H1: difference in means smaller than value\n",
      "    \n",
      "    usevar : str, 'pooled'\n",
      "        Currently, only 'pooled' is implemented.\n",
      "        If ``pooled``, then the standard deviation of the samples is assumed to be\n",
      "        the same. see CompareMeans.ztest_ind for different options.\n",
      "    ddof : int\n",
      "        Degrees of freedom use in the calculation of the variance of the mean\n",
      "        estimate. In the case of comparing means this is one, however it can\n",
      "        be adjusted for testing other statistics (proportion, correlation)\n",
      "    \n",
      "    Returns\n",
      "    -------\n",
      "    tstat : float\n",
      "        test statistic\n",
      "    pvalue : float\n",
      "        pvalue of the t-test\n",
      "    \n",
      "    Notes\n",
      "    -----\n",
      "    usevar not implemented, is always pooled in two sample case\n",
      "    use CompareMeans instead.\n",
      "\n"
     ]
    }
   ],
   "source": [
    "help(ztest)"
   ]
  },
  {
   "cell_type": "markdown",
   "metadata": {},
   "source": [
    "![img](../imgs/mock_test/ex_mean_test1.png)"
   ]
  },
  {
   "cell_type": "markdown",
   "metadata": {},
   "source": [
    "- **นิยามตัวแปร**\\\n",
    "    $\\mu_0 = 5.85$\n",
    "\n",
    "- **สมมติฐาน**\\\n",
    "    $H_0 : \\mu \\leq \\mu_0$ \\\n",
    "    $H_1 : \\mu > \\mu_0$"
   ]
  },
  {
   "cell_type": "code",
   "execution_count": 29,
   "metadata": {},
   "outputs": [],
   "source": [
    "blulb_lifi = [4.17,5.72,6.23,5.65,6.59,6.47,4.67,6.25,3.85,7.02,5.24,4.69, 5.75,5.05,5.33,5.45,6.32,4.7,5.63,6.22,6.73,4.81,\n",
    "4.29,4.68,6.13,5.44,6.06,7.54,7.28,5.18]\n",
    "u_0 = 5.85\n",
    "alpha = 0.05"
   ]
  },
  {
   "cell_type": "code",
   "execution_count": 30,
   "metadata": {},
   "outputs": [
    {
     "name": "stdout",
     "output_type": "stream",
     "text": [
      "-1.2418471165676772 0.8928535125403201\n",
      "1.6448536269514729\n"
     ]
    }
   ],
   "source": [
    "z_cal, p_value = ztest(x1=blulb_lifi, value=u_0, alternative='larger')\n",
    "print(z_cal, p_value)\n",
    "\n",
    "z_crit = stats.norm.isf(alpha)\n",
    "print(z_crit)"
   ]
  },
  {
   "cell_type": "markdown",
   "metadata": {},
   "source": [
    "p-value > 0.05 and z_cal ตกอยู่นอกบริเวณวิกฤต\n",
    "**สรุปผลการทดสอบ**\\\n",
    "ยอมรับ $H_0$ ที่ กล่าวคือ ค่าเฉลี่ยของประชากรมีค่าน้อยกว่าหรือเท่ากับ 5.85"
   ]
  },
  {
   "cell_type": "markdown",
   "metadata": {},
   "source": [
    "### ทดสอบสมมติฐานค่าเฉลี่ยของประชากร 2 กลุ่ม ที่เป็นอิสระต่อกัน  "
   ]
  },
  {
   "cell_type": "markdown",
   "metadata": {},
   "source": [
    "![img](../imgs/mock_test/exam_mean2_1.png)"
   ]
  },
  {
   "cell_type": "markdown",
   "metadata": {},
   "source": [
    "- **นิยามตัวแปร**\\\n",
    "    $\\mu_1 คือคะแนนเฉลี่ยที่ได้จากข้อสอบชุดที่ 1 และชุดที 2  ตามลำดับ$\n",
    "\n",
    "- **สมมติฐาน**\\\n",
    "    $H_0 : \\mu_1 - \\mu_2 = 0$ \\\n",
    "    $H_1 : \\mu_1 - \\mu_2 \\neq 0$"
   ]
  },
  {
   "cell_type": "code",
   "execution_count": 35,
   "metadata": {},
   "outputs": [
    {
     "name": "stdout",
     "output_type": "stream",
     "text": [
      "-2.746e+00\n",
      "3.02e-03\n",
      "-1.645e+00\n"
     ]
    }
   ],
   "source": [
    "var1 = 15\n",
    "n1= 50\n",
    "var2 = 10\n",
    "n2 = 50\n",
    "\n",
    "z_cal = (55-62)/np.sqrt(15**2/50 + 10**2/50)\n",
    "print(np.format_float_scientific(z_cal, 3))\n",
    "\n",
    "p_val = stats.norm.cdf(z_cal)\n",
    "print(np.format_float_scientific(p_val, 3))\n",
    "\n",
    "z_crit = stats.norm.ppf(0.05)\n",
    "print(np.format_float_scientific(z_crit, 3))"
   ]
  },
  {
   "cell_type": "code",
   "execution_count": null,
   "metadata": {},
   "outputs": [],
   "source": []
  },
  {
   "cell_type": "markdown",
   "metadata": {},
   "source": [
    "### ทดสอบสมมติฐานค่าสัดส่วน 1  ประชากร"
   ]
  },
  {
   "cell_type": "markdown",
   "metadata": {},
   "source": [
    "![img](../imgs/mock_test/exam_proportion_test.png)"
   ]
  },
  {
   "cell_type": "markdown",
   "metadata": {},
   "source": [
    "### ทดสอบสมมติฐานค่าสัดส่วน 2 ประชากร"
   ]
  },
  {
   "cell_type": "markdown",
   "metadata": {},
   "source": [
    "![img](../imgs/mock_test/exam_proportion_test2.png)"
   ]
  },
  {
   "cell_type": "markdown",
   "metadata": {},
   "source": [
    "- **นิยามตัวแปร**\\\n",
    "    $n_1 = 380, x_1 = 50, n_2 = 300, x_2 = 45, P_0 = 0$\n",
    "\n",
    "- **สมมติฐาน**\\\n",
    "    $H_0 : p_1 - p_2 = 0$ \\\n",
    "    $H_1 :p_1 - p_2 \\neq 0$"
   ]
  },
  {
   "cell_type": "code",
   "execution_count": 44,
   "metadata": {},
   "outputs": [],
   "source": [
    "n = [380, 300]\n",
    "x = [50, 45]\n",
    "p_0 = 0\n",
    "alpha = 0.05"
   ]
  },
  {
   "cell_type": "code",
   "execution_count": 46,
   "metadata": {},
   "outputs": [
    {
     "name": "stdout",
     "output_type": "stream",
     "text": [
      "-0.6879891508352597 0.49145961344336286\n",
      "z_crit_r: 1.9599639845400545, z_crit_l: -1.9599639845400545\n"
     ]
    }
   ],
   "source": [
    "z_cal, p_value = proportions_ztest(\n",
    "    count=x, nobs=n, value=p_0, alternative='two-sided')\n",
    "\n",
    "z_crit_r = stats.norm.isf(alpha/2)\n",
    "z_crit_l = stats.norm.ppf(alpha/2)\n",
    "\n",
    "print(z_cal, p_value)\n",
    "print(f\"z_crit_r: {z_crit_r}, z_crit_l: {z_crit_l}\")"
   ]
  },
  {
   "cell_type": "markdown",
   "metadata": {},
   "source": [
    "### การทดสอบค่าความแปรปรวนของประชากร 1 กลุ่ม"
   ]
  },
  {
   "cell_type": "markdown",
   "metadata": {},
   "source": [
    "![img](../imgs/mock_test/exam_variance.png)"
   ]
  },
  {
   "cell_type": "markdown",
   "metadata": {},
   "source": [
    "- **นิยามตัวแปร**\\\n",
    "    $n = 22,\\  s^2 = 1.44,\\  \\sigma^2 = 1$ \n",
    "\n",
    "- **สมมติฐาน**\\\n",
    "    $H_0 : \\sigma^2 =  \\sigma_0^2  $ \\\n",
    "    $H_1 : \\sigma^2 \\neq  \\sigma_0^2$"
   ]
  },
  {
   "cell_type": "code",
   "execution_count": 56,
   "metadata": {},
   "outputs": [
    {
     "name": "stdout",
     "output_type": "stream",
     "text": [
      "30.24 11.591305208820733 32.670573340917315 0.17454058719517151\n"
     ]
    }
   ],
   "source": [
    "n = 22\n",
    "s_pow = 1.44\n",
    "sigma_0 = 1\n",
    "alpha = 0.1\n",
    "\n",
    "v = n - 1\n",
    "x_pow2 = (n-1) * s_pow / sigma_0\n",
    "\n",
    "#crit - ใช้ chi2\n",
    "chi2_crit_l = stats.chi2.ppf(alpha/2, df=v)\n",
    "chi2_crit_r = stats.chi2.isf(alpha/2, df=v)\n",
    "p_val = 2 * min(stats.chi2.cdf(x_pow2, df=v), 1 - stats.chi2.cdf(x_pow2, df=v)) # 2-tail : 2 * min(cdf, 1-cdf)\n",
    "\n",
    "print(x_pow2, chi2_crit_l, chi2_crit_r, p_val)"
   ]
  },
  {
   "cell_type": "markdown",
   "metadata": {},
   "source": [
    "**สรุปผลการทดสอบ**\\\n",
    "p-value > 0.1 และ x^2cal ตกอยู่นอกบริเวณวิกฤต\\\n",
    "<p style=\"color:#0181FF;\">ดังนั้น ยอมรับ H<sub>1</sub> คือ ไม่แตกต่างจาก 1</p>"
   ]
  },
  {
   "cell_type": "markdown",
   "metadata": {},
   "source": [
    "### การทดสอบค่าความแปรปรวนของประชากร 2 กลุ่ม"
   ]
  },
  {
   "cell_type": "markdown",
   "metadata": {},
   "source": [
    "![img](../imgs/mock_test/exam_variance_test2.png)"
   ]
  },
  {
   "cell_type": "markdown",
   "metadata": {},
   "source": [
    "- **นิยามตัวแปร**\\\n",
    "    $ให้ \\sigma_1 และ \\sigma คือความแปรปรวนของผลผลิตถั่วเหลือง\n",
    "    $n_1 = 8,\\   n_2 = 10$\n",
    "\n",
    "- **สมมติฐาน**\\\n",
    "    $H_0 : \\sigma_1^2 / \\sigma_1^2 = 1$ \\\n",
    "    $H_1 : \\sigma_1^2 / \\sigma_1^2 \\neq 1$"
   ]
  },
  {
   "cell_type": "code",
   "execution_count": 27,
   "metadata": {},
   "outputs": [
    {
     "name": "stdout",
     "output_type": "stream",
     "text": [
      "5.714285714285715 0.11932710110986695 6.302486892120596 0.014308668305940353\n"
     ]
    }
   ],
   "source": [
    "x1 = [36, 34, 32, 35, 50, 46, 45, 38]\n",
    "x2 = [35, 39, 37, 38, 35, 42, 43, 36, 39, 40]\n",
    "alpha = 0.01\n",
    "\n",
    "vari1 = np.var(x1, ddof=1)\n",
    "vari2 = np.var(x2, ddof=1)\n",
    "\n",
    "f_cal = vari1 / vari2\n",
    "\n",
    "dfn = len(x1) - 1 # dfn คือ จำนวนกลุ่ม - 1\n",
    "dfd = len(x2)\n",
    "\n",
    "f_crit_l = stats.f.ppf(alpha/2, dfn=dfn, dfd=dfd)\n",
    "f_crit_r = stats.f.isf(alpha/2, dfn=dfn, dfd=dfd)\n",
    "\n",
    "p_val = 2 * min(stats.f.cdf(f_cal, dfn=dfn, dfd=dfd), 1 - stats.f.cdf(f_cal, dfn=dfn, dfd=dfd))\n",
    "\n",
    "print(f_cal, f_crit_l, f_crit_r, p_val)"
   ]
  },
  {
   "cell_type": "markdown",
   "metadata": {},
   "source": [
    "### $\\mu$ ของประชากรมีลักษณะเป็นคู่ (ไม่เป็นอิสระต่อกัน)"
   ]
  },
  {
   "cell_type": "markdown",
   "metadata": {},
   "source": [
    "![img](../imgs/mock_test/exam_both_mu.png)"
   ]
  },
  {
   "cell_type": "markdown",
   "metadata": {},
   "source": [
    "- **นิยามตัวแปร**\\\n",
    "    $ให้ \\mu_1 และ \\mu_2 คือค่าเฉลี่ยที่วัดก่อนและหลังการฉีดยา\n",
    "    $n_1 = 8,\\   n_2 = 10$\n",
    "\n",
    "- **สมมติฐาน**\\\n",
    "    $H_0 : \\sigma_1^2 / \\sigma_1^2 = d_0 = 0$ \\\n",
    "    $H_1 : \\sigma_1^2 / \\sigma_1^2 \\neq d_0 = 0$"
   ]
  },
  {
   "cell_type": "code",
   "execution_count": 42,
   "metadata": {},
   "outputs": [
    {
     "name": "stdout",
     "output_type": "stream",
     "text": [
      "-4.69041575982343 0.0033593914959056015\n"
     ]
    }
   ],
   "source": [
    "before = np.array([135, 150, 132, 140, 120, 142, 148])\n",
    "after = np.array([139, 155, 135, 140, 125, 145, 150])\n",
    "\n",
    "t_cal, p_val = stats.ttest_rel(a=before, b=after, alternative='two-sided')\n",
    "\n",
    "df=6\n",
    "\n",
    "print(t_cal, p_val)"
   ]
  },
  {
   "cell_type": "markdown",
   "metadata": {},
   "source": [
    "## Chi-square test"
   ]
  },
  {
   "cell_type": "markdown",
   "metadata": {},
   "source": [
    "### ทดสอบอัตราส่วน"
   ]
  },
  {
   "cell_type": "markdown",
   "metadata": {},
   "source": [
    "###\n",
    "![img](/Users/thanakrittrakanjan/Documents/Coding/Python/JupyterPython/Statistics_Prog/imgs/mmorpgGame.png)"
   ]
  },
  {
   "cell_type": "markdown",
   "metadata": {},
   "source": [
    "- #### สมมติฐาน\n",
    "    - $H_0 : knight : wizard : rogue : necromancer = 1:1:1:1$\n",
    "    - $H_1 : knight : wizard : rogue : necromancer \\neq 1:1:1:1$\n",
    "- $\\alpha = 0.01$\n",
    "<p style=\"color:blue\">ใช้ chisquare ในการหา</p>"
   ]
  },
  {
   "cell_type": "code",
   "execution_count": 19,
   "metadata": {},
   "outputs": [
    {
     "data": {
      "text/plain": [
       "('8.0e-02', '9.94e-01')"
      ]
     },
     "execution_count": 19,
     "metadata": {},
     "output_type": "execute_result"
    }
   ],
   "source": [
    "alpha = 0.01\n",
    "O = np.array([25,26, 24, 25]) #\n",
    "p = np.array([1/4, 1/4, 1/4, 1/4 ])\n",
    "E = np.round(100 * p)\n",
    "\n",
    "chi2_cal, p_val = stats.chisquare(f_obs=O, f_exp=E)\n",
    "np.format_float_scientific(chi2_cal, 2, trim='0'), np.format_float_scientific(p_val, 2)\n"
   ]
  },
  {
   "cell_type": "code",
   "execution_count": 21,
   "metadata": {},
   "outputs": [
    {
     "data": {
      "text/plain": [
       "'1.13e+01'"
      ]
     },
     "execution_count": 21,
     "metadata": {},
     "output_type": "execute_result"
    }
   ],
   "source": [
    "chi2_crit = stats.chi2.isf(alpha, df=O.size -1)\n",
    "np.format_float_scientific(chi2_crit, precision=2)"
   ]
  },
  {
   "cell_type": "markdown",
   "metadata": {},
   "source": [
    "**สรุปผลการทดสอบ**\\\n",
    "p-value < 0.01 และ chi2_cal ตกอยู่นอกบริเวณวิกฤต\\\n",
    "<p style=\"color:#0181FF;\">ดังนั้น ยอมรับ H<sub>0</sub> คือ ผู้สายอาชีพเป็นไปตามอัตราส่วน 1:1:1:1</p>"
   ]
  },
  {
   "cell_type": "markdown",
   "metadata": {},
   "source": [
    "### แจกแจงแบบปกติหรือไม่"
   ]
  },
  {
   "cell_type": "markdown",
   "metadata": {},
   "source": [
    "![img](../imgs/mock_test/exam_chi2_norm_check.png)"
   ]
  },
  {
   "cell_type": "markdown",
   "metadata": {},
   "source": [
    "- **นิยามตัวแปร**\\\n",
    "    $X คือ ความบาวของทารกแรกเกิด$\n",
    "    $X~N(\\mu, \\sigma^2)$\n",
    "\n",
    "- **สมมติฐาน**\\\n",
    "    $H_0 :$ มีการแจกแจงปกติ\n",
    "    $H_1 :$ ไม่ได้มีการแจกแจงปกติ"
   ]
  },
  {
   "cell_type": "code",
   "execution_count": 3,
   "metadata": {},
   "outputs": [],
   "source": [
    "O = np.array([0,28,32,35,20,10,0])\n",
    "\n",
    "X_l = np.array([-np.inf,44.95,46.95,48.95,50.95,52.95,54.95]) \n",
    "X_r = np.array([44.95,46.95,48.95,50.95,52.95,54.95,np.inf])\n",
    "x = (X_l + X_r) / 2\n",
    "\n",
    "x_bar = sum(O[1:-1]*x[1:-1])/125\n",
    "s = np.sqrt(sum(O[1:-1]*(x[1:-1]-x_bar)**2 )/(125-1))\n",
    "\n",
    "z_l = (X_l - x_bar) / s\n",
    "z_r = (X_r - x_bar) / s\n",
    "PZ = stats.norm.cdf(z_r) - stats.norm.cdf(z_l)"
   ]
  },
  {
   "cell_type": "code",
   "execution_count": 8,
   "metadata": {},
   "outputs": [],
   "source": [
    "E = 125 * PZ # ค่าคาดหวัง\n",
    "E_adj = np.append(E[0:-2], E[-1]+E[-2])\n",
    "O_adj = np.append(O[0:-2], O[-1]+O[-2])"
   ]
  },
  {
   "cell_type": "code",
   "execution_count": 9,
   "metadata": {},
   "outputs": [
    {
     "data": {
      "text/plain": [
       "Power_divergenceResult(statistic=13.032414699934208, pvalue=0.004567028584983044)"
      ]
     },
     "execution_count": 9,
     "metadata": {},
     "output_type": "execute_result"
    }
   ],
   "source": [
    "stats.chisquare(f_obs=O_adj, f_exp=E_adj, ddof=2)"
   ]
  },
  {
   "cell_type": "markdown",
   "metadata": {},
   "source": [
    "### ทดสอบความเป็นอิสระ"
   ]
  },
  {
   "cell_type": "markdown",
   "metadata": {},
   "source": [
    "![img](../imgs/mock_test/exam_chi2_independence.png)"
   ]
  },
  {
   "cell_type": "markdown",
   "metadata": {},
   "source": []
  },
  {
   "cell_type": "code",
   "execution_count": 50,
   "metadata": {},
   "outputs": [
    {
     "data": {
      "text/plain": [
       "(79.16666666666666,\n",
       " 4.6320524991183165e-17,\n",
       " 3,\n",
       " array([[25., 30., 25., 20.],\n",
       "        [25., 30., 25., 20.]]))"
      ]
     },
     "execution_count": 50,
     "metadata": {},
     "output_type": "execute_result"
    }
   ],
   "source": [
    "A = np.array([45, 40, 10, 5])\n",
    "B = np.array([5, 20, 40, 35])\n",
    "O = np.array([A, B])\n",
    "alpha = 0.05\n",
    "chi2_cal, p_val, dof, E = stats.chi2_contingency(O, correction=False)\n",
    "chi2_cal, p_val, dof, E"
   ]
  },
  {
   "cell_type": "code",
   "execution_count": 52,
   "metadata": {},
   "outputs": [
    {
     "data": {
      "text/plain": [
       "7.814727903251178"
      ]
     },
     "execution_count": 52,
     "metadata": {},
     "output_type": "execute_result"
    }
   ],
   "source": [
    "chi2_crit = stats.chi2.isf(alpha, df=dof)\n",
    "chi2_crit"
   ]
  },
  {
   "cell_type": "markdown",
   "metadata": {},
   "source": [
    "> **ขนาดความสัมพันธ์**\\\n",
    "\\\n",
    "> $V = \\sqrt{\\frac{\\chi^2}{N * min(r-1, c-1)}} $"
   ]
  },
  {
   "cell_type": "markdown",
   "metadata": {},
   "source": [
    "## Regressing & Correlation Analysis"
   ]
  },
  {
   "cell_type": "markdown",
   "metadata": {},
   "source": [
    "### สัมประสิทธิ์สหสัมพันธ์อย่างง่าย"
   ]
  },
  {
   "cell_type": "markdown",
   "metadata": {},
   "source": [
    "![img](../imgs/mock_test/exam_regressino1.png)"
   ]
  },
  {
   "cell_type": "code",
   "execution_count": 24,
   "metadata": {},
   "outputs": [],
   "source": [
    "sale_df = pd.read_csv('../data/sale.csv')\n",
    "\n",
    "X = sale_df.ad_cost\n",
    "y = sale_df.sale"
   ]
  },
  {
   "cell_type": "code",
   "execution_count": 26,
   "metadata": {},
   "outputs": [
    {
     "data": {
      "text/plain": [
       "(0.8410425833995456, 0.0006081181882655813)"
      ]
     },
     "execution_count": 26,
     "metadata": {},
     "output_type": "execute_result"
    }
   ],
   "source": [
    "r, p_val = stats.pearsonr(X, y)\n",
    "r, p_val"
   ]
  },
  {
   "cell_type": "markdown",
   "metadata": {},
   "source": [
    "### การทดสอบเกี่ยวกับสัมประสิทธิ์สหสัมพันธ์"
   ]
  },
  {
   "cell_type": "markdown",
   "metadata": {},
   "source": [
    "![img](../imgs/mock_test/exam_regression_test.png)\n",
    "![img](../imgs/mock_test/exam_regression_testA.png)"
   ]
  },
  {
   "cell_type": "code",
   "execution_count": 13,
   "metadata": {},
   "outputs": [],
   "source": [
    "cosmetics_df = pd.read_csv('https://raw.githubusercontent.com/ThammakornS/ProgStat/main/dataset/cosmetic.csv')\n",
    "# cosmetics_df.head()"
   ]
  },
  {
   "cell_type": "code",
   "execution_count": 19,
   "metadata": {},
   "outputs": [
    {
     "name": "stdout",
     "output_type": "stream",
     "text": [
      "\n",
      "t_cal = 5.942e+00\n",
      "p_val = 6.794e-05\n",
      "t_crit_l = -2.179e+00\n",
      "t_crit_r = 2.179e+00\n"
     ]
    }
   ],
   "source": [
    "# หาสัมประสิทธิ์สหสัมพันธ์\n",
    "x = cosmetics_df['mk_share']\n",
    "y = cosmetics_df['payback_customer']\n",
    "n = cosmetics_df.shape[0]\n",
    "alpha = 0.05\n",
    "\n",
    "r, p_val = stats.pearsonr(x, y)\n",
    "S_r = np.sqrt((1 - r**2)/(n-2))\n",
    "\n",
    "t_cal = r / S_r\n",
    "t_crit_l = stats.t.ppf(alpha/2, df=n-2)\n",
    "t_crit_r = stats.t.isf(alpha/2, df=n-2)\n",
    "\n",
    "print(f'''\n",
    "t_cal = {np.format_float_scientific(t_cal, precision=3, trim='0')}\n",
    "p_val = {np.format_float_scientific(p_val, precision=3, trim='0')}\n",
    "t_crit_l = {np.format_float_scientific(t_crit_l, precision=3, trim='0')}\n",
    "t_crit_r = {np.format_float_scientific(t_crit_r, precision=3,trim='0')}''')"
   ]
  },
  {
   "cell_type": "markdown",
   "metadata": {},
   "source": [
    "**สรุปผลการทดสอบ**\\\n",
    "p-value < 0.05 และ t_cal ตกอยู่นอกบริเวณวิกฤต\\\n",
    "<p style=\"color:#0181FF;\">ดังนั้น ยอมรับ H<sub>1</sub> คือ สัดส่วนการครองตลาดและกำไรจ่ายคืนลูกค้ามีความสัมพันธ์เชิงเส้น</p>"
   ]
  },
  {
   "cell_type": "markdown",
   "metadata": {},
   "source": [
    "### การวิเคราะห์การถดถอย"
   ]
  },
  {
   "cell_type": "markdown",
   "metadata": {},
   "source": [
    "![img](../imgs/mock_test/exam_regression_analysis.png)"
   ]
  },
  {
   "cell_type": "code",
   "execution_count": 42,
   "metadata": {},
   "outputs": [
    {
     "name": "stdout",
     "output_type": "stream",
     "text": [
      "                            OLS Regression Results                            \n",
      "==============================================================================\n",
      "Dep. Variable:                   sale   R-squared:                       0.707\n",
      "Model:                            OLS   Adj. R-squared:                  0.678\n",
      "Method:                 Least Squares   F-statistic:                     24.17\n",
      "Date:                Fri, 22 Mar 2024   Prob (F-statistic):           0.000608\n",
      "Time:                        15:52:59   Log-Likelihood:                -31.561\n",
      "No. Observations:                  12   AIC:                             67.12\n",
      "Df Residuals:                      10   BIC:                             68.09\n",
      "Df Model:                           1                                         \n",
      "Covariance Type:            nonrobust                                         \n",
      "==============================================================================\n",
      "                 coef    std err          t      P>|t|      [0.025      0.975]\n",
      "------------------------------------------------------------------------------\n",
      "const         25.4655      4.170      6.107      0.000      16.174      34.757\n",
      "ad_cost        5.1946      1.057      4.916      0.001       2.840       7.549\n",
      "==============================================================================\n",
      "Omnibus:                        0.237   Durbin-Watson:                   2.071\n",
      "Prob(Omnibus):                  0.888   Jarque-Bera (JB):                0.144\n",
      "Skew:                           0.191   Prob(JB):                        0.930\n",
      "Kurtosis:                       2.622   Cond. No.                         16.4\n",
      "==============================================================================\n",
      "\n",
      "Notes:\n",
      "[1] Standard Errors assume that the covariance matrix of the errors is correctly specified.\n"
     ]
    },
    {
     "name": "stderr",
     "output_type": "stream",
     "text": [
      "/Users/thanakrittrakanjan/anaconda3/lib/python3.11/site-packages/scipy/stats/_stats_py.py:1736: UserWarning: kurtosistest only valid for n>=20 ... continuing anyway, n=12\n",
      "  warnings.warn(\"kurtosistest only valid for n>=20 ... continuing \"\n"
     ]
    }
   ],
   "source": [
    "x = sale_df['ad_cost']\n",
    "y = sale_df['sale']\n",
    "\n",
    "x_wcont = sm.add_constant(x) # สร้างคอลัมน์คงที่ 1 ให้ x *สามารถหาค่า b0 ได้\n",
    "lr = sm.OLS(y, x_wcont).fit() # สร้างโมเดล linear regression และ fit ข้อมูล y กับ x ด้วยโมเดล\n",
    "y_hat = lr.predict(x_wcont) # ทำนายค่า y จาก x ที่ได้จากโมเดล\n",
    "print(lr.summary())\n"
   ]
  },
  {
   "cell_type": "markdown",
   "metadata": {},
   "source": [
    "### ทดสอบสมมติฐานค่า  $\\beta_1$ โดยการวิเคราะห์ความแปรปรวน"
   ]
  },
  {
   "cell_type": "markdown",
   "metadata": {},
   "source": [
    "![img](../imgs/mock_test/exam_regression_analysis.png)"
   ]
  },
  {
   "cell_type": "code",
   "execution_count": 44,
   "metadata": {},
   "outputs": [
    {
     "name": "stdout",
     "output_type": "stream",
     "text": [
      "                            OLS Regression Results                            \n",
      "==============================================================================\n",
      "Dep. Variable:                   sale   R-squared:                       0.707\n",
      "Model:                            OLS   Adj. R-squared:                  0.678\n",
      "Method:                 Least Squares   F-statistic:                     24.17\n",
      "Date:                Fri, 22 Mar 2024   Prob (F-statistic):           0.000608\n",
      "Time:                        16:04:57   Log-Likelihood:                -31.561\n",
      "No. Observations:                  12   AIC:                             67.12\n",
      "Df Residuals:                      10   BIC:                             68.09\n",
      "Df Model:                           1                                         \n",
      "Covariance Type:            nonrobust                                         \n",
      "==============================================================================\n",
      "                 coef    std err          t      P>|t|      [0.025      0.975]\n",
      "------------------------------------------------------------------------------\n",
      "const         25.4655      4.170      6.107      0.000      16.174      34.757\n",
      "ad_cost        5.1946      1.057      4.916      0.001       2.840       7.549\n",
      "==============================================================================\n",
      "Omnibus:                        0.237   Durbin-Watson:                   2.071\n",
      "Prob(Omnibus):                  0.888   Jarque-Bera (JB):                0.144\n",
      "Skew:                           0.191   Prob(JB):                        0.930\n",
      "Kurtosis:                       2.622   Cond. No.                         16.4\n",
      "==============================================================================\n",
      "\n",
      "Notes:\n",
      "[1] Standard Errors assume that the covariance matrix of the errors is correctly specified.\n"
     ]
    },
    {
     "name": "stderr",
     "output_type": "stream",
     "text": [
      "/Users/thanakrittrakanjan/anaconda3/lib/python3.11/site-packages/scipy/stats/_stats_py.py:1736: UserWarning: kurtosistest only valid for n>=20 ... continuing anyway, n=12\n",
      "  warnings.warn(\"kurtosistest only valid for n>=20 ... continuing \"\n"
     ]
    }
   ],
   "source": [
    "print(lr.summary()) "
   ]
  },
  {
   "cell_type": "code",
   "execution_count": 66,
   "metadata": {},
   "outputs": [
    {
     "data": {
      "text/plain": [
       "4.9646027437307145"
      ]
     },
     "execution_count": 66,
     "metadata": {},
     "output_type": "execute_result"
    }
   ],
   "source": [
    "f_crit = stats.f.isf(0.05, dfn=1, dfd=10)\n",
    "f_crit"
   ]
  },
  {
   "cell_type": "markdown",
   "metadata": {},
   "source": [
    "#### Example\n",
    "data 'cosmetic.csv' สัดส่วนการครองตลาดและกำไรจ่ายคืนลูกค้ามีความสัมพันธ์ในทิศทางเดียวกัน และมีแนวโน้มเป็นเส้นตรง\n",
    "- สร้างสมการถดถอย หาค่า b0 และ b1\n",
    "- หากมีค่าสัดส่วนการครองตลาดเท่ากับ 50% จะได้กำไรจ่ายคืนลูกค้าเท่าไหร่\n",
    "-  ทดสอบว่าสัดส่วนการครองตลาดและกำไรจ่ายคืนลูกค้ามีความสัมพันธ์เชิงเส้นตรงที่ระดับนัยสำคัญ 0.o5 พร้อมแสดงค่าสัมประสิทธิ์การตัดสินใจ"
   ]
  },
  {
   "cell_type": "code",
   "execution_count": 48,
   "metadata": {},
   "outputs": [
    {
     "data": {
      "text/html": [
       "<div>\n",
       "<style scoped>\n",
       "    .dataframe tbody tr th:only-of-type {\n",
       "        vertical-align: middle;\n",
       "    }\n",
       "\n",
       "    .dataframe tbody tr th {\n",
       "        vertical-align: top;\n",
       "    }\n",
       "\n",
       "    .dataframe thead th {\n",
       "        text-align: right;\n",
       "    }\n",
       "</style>\n",
       "<table border=\"1\" class=\"dataframe\">\n",
       "  <thead>\n",
       "    <tr style=\"text-align: right;\">\n",
       "      <th></th>\n",
       "      <th>mk_share</th>\n",
       "      <th>payback_customer</th>\n",
       "    </tr>\n",
       "  </thead>\n",
       "  <tbody>\n",
       "    <tr>\n",
       "      <th>0</th>\n",
       "      <td>15</td>\n",
       "      <td>24</td>\n",
       "    </tr>\n",
       "    <tr>\n",
       "      <th>1</th>\n",
       "      <td>14</td>\n",
       "      <td>20</td>\n",
       "    </tr>\n",
       "    <tr>\n",
       "      <th>2</th>\n",
       "      <td>18</td>\n",
       "      <td>25</td>\n",
       "    </tr>\n",
       "    <tr>\n",
       "      <th>3</th>\n",
       "      <td>20</td>\n",
       "      <td>28</td>\n",
       "    </tr>\n",
       "    <tr>\n",
       "      <th>4</th>\n",
       "      <td>10</td>\n",
       "      <td>15</td>\n",
       "    </tr>\n",
       "  </tbody>\n",
       "</table>\n",
       "</div>"
      ],
      "text/plain": [
       "   mk_share  payback_customer\n",
       "0        15                24\n",
       "1        14                20\n",
       "2        18                25\n",
       "3        20                28\n",
       "4        10                15"
      ]
     },
     "execution_count": 48,
     "metadata": {},
     "output_type": "execute_result"
    }
   ],
   "source": [
    "cosmetics_df.head()"
   ]
  },
  {
   "cell_type": "code",
   "execution_count": 15,
   "metadata": {},
   "outputs": [
    {
     "data": {
      "text/plain": [
       "(0.8639212004186299, 6.793657739462264e-05)"
      ]
     },
     "execution_count": 15,
     "metadata": {},
     "output_type": "execute_result"
    }
   ],
   "source": [
    "# สัมประสิทธิ์สหสัมพันธ์\n",
    "x_cos = cosmetics_df['mk_share']\n",
    "y_cos = cosmetics_df['payback_customer']\n",
    "r, p_val = stats.pearsonr(x_cos, y_cos)\n",
    "r, p_val"
   ]
  },
  {
   "cell_type": "code",
   "execution_count": 20,
   "metadata": {},
   "outputs": [
    {
     "data": {
      "text/plain": [
       "5.942316039704829"
      ]
     },
     "execution_count": 20,
     "metadata": {},
     "output_type": "execute_result"
    }
   ],
   "source": [
    "# ทดสอบสัมประสิทธิ์สหสัมพันธ์\n",
    "t_cal = r * np.sqrt(n-2) / np.sqrt(1 - r**2)\n",
    "t_cal"
   ]
  },
  {
   "cell_type": "code",
   "execution_count": 35,
   "metadata": {},
   "outputs": [
    {
     "name": "stdout",
     "output_type": "stream",
     "text": [
      "                            OLS Regression Results                            \n",
      "==============================================================================\n",
      "Dep. Variable:       payback_customer   R-squared:                       0.746\n",
      "Model:                            OLS   Adj. R-squared:                  0.725\n",
      "Method:                 Least Squares   F-statistic:                     35.31\n",
      "Date:                Sat, 23 Mar 2024   Prob (F-statistic):           6.79e-05\n",
      "Time:                        07:17:50   Log-Likelihood:                -34.603\n",
      "No. Observations:                  14   AIC:                             73.21\n",
      "Df Residuals:                      12   BIC:                             74.48\n",
      "Df Model:                           1                                         \n",
      "Covariance Type:            nonrobust                                         \n",
      "==============================================================================\n",
      "                 coef    std err          t      P>|t|      [0.025      0.975]\n",
      "------------------------------------------------------------------------------\n",
      "const         -1.1905      3.555     -0.335      0.744      -8.937       6.556\n",
      "mk_share       1.3569      0.228      5.942      0.000       0.859       1.854\n",
      "==============================================================================\n",
      "Omnibus:                        0.988   Durbin-Watson:                   0.824\n",
      "Prob(Omnibus):                  0.610   Jarque-Bera (JB):                0.778\n",
      "Skew:                          -0.509   Prob(JB):                        0.678\n",
      "Kurtosis:                       2.455   Cond. No.                         67.2\n",
      "==============================================================================\n",
      "\n",
      "Notes:\n",
      "[1] Standard Errors assume that the covariance matrix of the errors is correctly specified.\n"
     ]
    },
    {
     "name": "stderr",
     "output_type": "stream",
     "text": [
      "/Users/thanakrittrakanjan/anaconda3/lib/python3.11/site-packages/scipy/stats/_stats_py.py:1736: UserWarning: kurtosistest only valid for n>=20 ... continuing anyway, n=14\n",
      "  warnings.warn(\"kurtosistest only valid for n>=20 ... continuing \"\n"
     ]
    }
   ],
   "source": [
    "# วิเคราะห์สการถอดถอยอย่างง่าย\n",
    "x_wcont = sm.add_constant(x_cos)\n",
    "lr = sm.OLS(y_cos, x_wcont).fit() # สร้างโมเดล linear regression และ fit ข้อมูล y กับ x ด้วยโมเดล\n",
    "y_hat_2 = lr.predict(x_wcont) # ทำนายค่า y จาก x ที่ได้จากโมเดล สมการถอดถอย\n",
    "print(lr.summary())"
   ]
  },
  {
   "cell_type": "markdown",
   "metadata": {},
   "source": [
    "$b_0 = -1.1905$\\\n",
    "$b_1 = 1.3569$\\\n",
    "$\\hat{y} = -1.1905 + 1.3569x$"
   ]
  },
  {
   "cell_type": "code",
   "execution_count": 64,
   "metadata": {},
   "outputs": [],
   "source": [
    "dfd = lr.df_resid\n",
    "dfn = lr.df_model\n",
    "p_val = lr.f_pvalue"
   ]
  },
  {
   "cell_type": "code",
   "execution_count": 65,
   "metadata": {},
   "outputs": [
    {
     "data": {
      "text/plain": [
       "(0.004099939493891601, 4.747225346722511, 6.793657739462223e-05)"
      ]
     },
     "execution_count": 65,
     "metadata": {},
     "output_type": "execute_result"
    }
   ],
   "source": [
    "# critical value\n",
    "alpha = 0.05\n",
    "f_crit_l = stats.f.ppf(alpha, dfn=dfn, dfd=dfd)\n",
    "f_crit_r = stats.f.isf(alpha, dfn=1, dfd=dfd)\n",
    "f_crit_l, f_crit_r, p_val"
   ]
  },
  {
   "cell_type": "code",
   "execution_count": 42,
   "metadata": {},
   "outputs": [
    {
     "data": {
      "text/plain": [
       "array([-1.19051322, 66.655521  ])"
      ]
     },
     "execution_count": 42,
     "metadata": {},
     "output_type": "execute_result"
    }
   ],
   "source": [
    "x = sm.add_constant(np.array([0,50]))\n",
    "lr.predict(x)"
   ]
  }
 ],
 "metadata": {
  "kernelspec": {
   "display_name": "base",
   "language": "python",
   "name": "python3"
  },
  "language_info": {
   "codemirror_mode": {
    "name": "ipython",
    "version": 3
   },
   "file_extension": ".py",
   "mimetype": "text/x-python",
   "name": "python",
   "nbconvert_exporter": "python",
   "pygments_lexer": "ipython3",
   "version": "3.11.4"
  }
 },
 "nbformat": 4,
 "nbformat_minor": 2
}
